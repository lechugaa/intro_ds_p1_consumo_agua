{
 "cells": [
  {
   "cell_type": "markdown",
   "metadata": {},
   "source": [
    "# Análisis Exploratorio Gráfico de los Datos del Consumo de Agua en la CDMX. "
   ]
  },
  {
   "cell_type": "markdown",
   "metadata": {},
   "source": [
    "## 1. Análisis del consumo. "
   ]
  },
  {
   "cell_type": "markdown",
   "metadata": {},
   "source": [
    "### 1.1. Análisis del consumo promedio doméstico y no doméstico"
   ]
  },
  {
   "cell_type": "markdown",
   "metadata": {},
   "source": [
    "Los datos nos brindan información acerca del consumo promedio de agua en el sector doméstico y en el no doméstico. En esta sección exploraremos brevemente cómo se distribuyen estos datos y cuáles son sus características."
   ]
  },
  {
   "cell_type": "markdown",
   "metadata": {},
   "source": [
    "### Consumo promedio doméstico. \n",
    "\n",
    "La siguiente gráfica nos permite ver la diferencia por colonia en su consumo de agua. Podemos ver que existen colonias con un nivel relativamente bajo de consumo de agua, como Milpa Alta, Tláhuac e Iztapalapa y otras con un nivel relativamente alto, como Álvaro Obregón, Miguel Hidalgo y Magdalena Contreras. El promedio es aproximadamente 30 unidades. "
   ]
  },
  {
   "cell_type": "markdown",
   "metadata": {},
   "source": [
    "![Consumo Promedio Doméstico](plots/consumo_promedio/consumo_promedio_domestico.png)"
   ]
  },
  {
   "cell_type": "markdown",
   "metadata": {},
   "source": [
    "Si analizamos la evolución de este consumo por bimestre, podemos notar que hubo una disminución general del primer al segundo bimestre en la mayoría de las colonias y que después, del segundo al tercer bimestre, los cambios fueron de menor magnitud. "
   ]
  },
  {
   "cell_type": "markdown",
   "metadata": {
    "ExecuteTime": {
     "end_time": "2020-10-04T13:10:19.237458Z",
     "start_time": "2020-10-04T13:10:19.098349Z"
    }
   },
   "source": [
    "![Consumo Promedio Doméstico](plots/consumo_promedio/Domestico_Timeline.png)"
   ]
  },
  {
   "cell_type": "markdown",
   "metadata": {},
   "source": [
    "### Consumo promedio no doméstico. \n",
    "\n",
    "Si realizamos el mismo análisis para el consumo de agua en el sector no doméstico, podemos ver que la gráfica toma un patrón distinto. Este es el consumo promedio en el sector no doméstico para los tres bimestres, segmentado por colonia. "
   ]
  },
  {
   "cell_type": "markdown",
   "metadata": {
    "ExecuteTime": {
     "end_time": "2020-10-04T13:12:19.986656Z",
     "start_time": "2020-10-04T13:12:19.808868Z"
    }
   },
   "source": [
    "![Consumo Promedio No Doméstico](plots/consumo_promedio/consumo_promedio_no_domestico.png)"
   ]
  },
  {
   "cell_type": "markdown",
   "metadata": {},
   "source": [
    "Si realizamos el análisis por bimestre, podemos notar que el consumo cambia menos a lo largo del tiempo por colonia. "
   ]
  },
  {
   "cell_type": "markdown",
   "metadata": {
    "ExecuteTime": {
     "end_time": "2020-10-04T13:13:58.618315Z",
     "start_time": "2020-10-04T13:13:58.471763Z"
    }
   },
   "source": [
    "![Consumo Promedio Doméstico](plots/consumo_promedio/NO_domestico_Timeline.png)"
   ]
  },
  {
   "cell_type": "markdown",
   "metadata": {},
   "source": [
    "### Comparación entre los dos sectores. \n",
    "\n",
    "Las gráficas anteriores no permiten percibir un hecho importante: el consumo en el sector no doméstico es considerablemente mayor al del consumo en el sector doméstico (como es de esperarse). "
   ]
  },
  {
   "cell_type": "markdown",
   "metadata": {
    "ExecuteTime": {
     "end_time": "2020-10-04T13:15:26.386150Z",
     "start_time": "2020-10-04T13:15:26.234198Z"
    }
   },
   "source": [
    "![Consumo Promedio Doméstico](plots/consumo_promedio/comparacion_bar_chart.png)"
   ]
  },
  {
   "cell_type": "markdown",
   "metadata": {},
   "source": [
    "Asimismo, es posible observar que la varianza en el consumo en el sector no doméstico es considerablemente mayor que la del sector doméstico. El consumo mínimo en el sector doméstico, por ejemplo, es alrededor de 15 unidades, mientras que el máximo está en 43. En cambio, en el sector no doméstico el mínimo es alrededor de 39, mientras que el máximo es casi 300 unidades."
   ]
  },
  {
   "cell_type": "markdown",
   "metadata": {
    "ExecuteTime": {
     "end_time": "2020-10-04T13:16:00.304441Z",
     "start_time": "2020-10-04T13:16:00.168494Z"
    }
   },
   "source": [
    "![Consumo Promedio Doméstico](plots/consumo_promedio/comparacion_BOX_PLOT.png)"
   ]
  },
  {
   "cell_type": "markdown",
   "metadata": {},
   "source": [
    "## 2. Análisis de variables predictivas del índice de desarrollo. \n",
    "\n",
    "El propósito de esta sección es encontrar variables que nos ayuden a predecir con certidumbre el índice de desarrollo de una colonia a partir de sus otras características."
   ]
  },
  {
   "cell_type": "markdown",
   "metadata": {},
   "source": [
    "### 2.1. Consumo promedio doméstico y no doméstico y el índice de desarrollo. \n",
    "\n",
    "A pesar de que la mediana en el consumo de agua en el sector doméstico es relativamente similar para cada nivel de desarrollo, podemos notar que el sector popular tiene significativamente mayor varianza. "
   ]
  },
  {
   "cell_type": "markdown",
   "metadata": {
    "ExecuteTime": {
     "end_time": "2020-10-04T13:24:36.934827Z",
     "start_time": "2020-10-04T13:24:36.784527Z"
    }
   },
   "source": [
    "![Consumo Promedio Doméstico](plots/consumo_promedio/Domestico_DES_boxplot.png)"
   ]
  },
  {
   "cell_type": "markdown",
   "metadata": {},
   "source": [
    "Podemos realizar este mismo análisis en el sector no doméstico. Podemos notar que el sector bajo y medio están contenidos en un rango menor que el sector alto y el popular, aunque la mediana de los cuatro índices es  similar. El sector con alto índice de desarrollo tiene una mediana mayor de consumo de agua, lo cual hace sentido. "
   ]
  },
  {
   "cell_type": "markdown",
   "metadata": {},
   "source": [
    "![Consumo Promedio Doméstico](plots/consumo_promedio/NO_Dom_DES_BoxPlot.png)"
   ]
  },
  {
   "cell_type": "code",
   "execution_count": null,
   "metadata": {},
   "outputs": [],
   "source": []
  }
 ],
 "metadata": {
  "kernelspec": {
   "display_name": "itam_intro_to_ds",
   "language": "python",
   "name": "itam_intro_to_ds"
  },
  "language_info": {
   "codemirror_mode": {
    "name": "ipython",
    "version": 3
   },
   "file_extension": ".py",
   "mimetype": "text/x-python",
   "name": "python",
   "nbconvert_exporter": "python",
   "pygments_lexer": "ipython3",
   "version": "3.7.4"
  }
 },
 "nbformat": 4,
 "nbformat_minor": 4
}
