{
 "cells": [
  {
   "cell_type": "markdown",
   "metadata": {},
   "source": [
    "# Análisis exploratorio de datos del suministro de agua de la CDMX"
   ]
  },
  {
   "cell_type": "markdown",
   "metadata": {},
   "source": [
    "Análisis exploratorio de datos del suministro de agua de la Ciudad de México a septiembre de 2020. Este análisis fue efectuado empleando la información bimestral por el concepto de suministro de agua a nivel manzana, considerando la facturación por servicio de consumo medido y promedio otorgada por el Gobierno de la Ciudad de México y disponible [en el portal de Datos Abiertos Ciudad de México](https://datos.cdmx.gob.mx/explore/dataset/consumo-agua/information/). \n",
    "\n",
    "Este análisis fue efecutado por el equipo de Ciencia de Datos conformado por:\n",
    "* Carlos Bautista (125761)\n",
    "* Enrique Ortiz (150644)\n",
    "* Mario Heredia (197863)\n",
    "* José Antonio Lechuga (192610)"
   ]
  },
  {
   "cell_type": "markdown",
   "metadata": {},
   "source": [
    "## Contenido"
   ]
  },
  {
   "cell_type": "markdown",
   "metadata": {},
   "source": [
    "En el presente reporte se abordan las siguientes preguntas y actividades:\n",
    "* Exploración inicial\n",
    "    * Generación de código exploratorio\n",
    "    * ¿Cuántas variables existen?\n",
    "    * ¿Cuántas observaciones existen?\n",
    "    * ¿Cuántas observaciones únicas se tienen por variable?\n",
    "    * ¿Cuántas variables numéricas existen?\n",
    "    * ¿Cuántas variables de fecha existen?\n",
    "    * ¿Cuántas variables categóricas existen?\n",
    "    * ¿Cuántas variables de texto hay?\n",
    "    * Generación del profiling de cada variable.\n",
    "    * ¿Qué se conoce hasta ahora de este set de datos por variable?\n",
    "    * ¿Cuántas alcadías hay? ¿Cuántos `nomgeo` existen? ¿Se identifica algún error?\n",
    "* Limpieza y manipulación de datos\n",
    "    * Generación de código de limpieza y manipulación\n",
    "    * Transformación del nombre de las columnas a formato estándar: minúsculas, sin espacios en blanco (cambiar por guiones bajos) y sin signos de puntuación.\n",
    "    * Agregar la variable `latitud` y `longitud` generadas a partir de la columna `geo_point`.\n",
    "    * Transformar la variable latitud y longitud a numérica.\n",
    "    * Eliminar la columna `geo_point`.\n",
    "    * Eliminar la columna `geo_shape`.\n",
    "    * Cambiar a minúsculas las columnas `alcaldia`, `colonia` e `indice_des`.\n",
    "    * Efectuar nuevamente el proceso de identificación de variables numéricas, categóricas, texto y fechas.\n",
    "    * Generación del profiling de cada variable."
   ]
  },
  {
   "cell_type": "markdown",
   "metadata": {},
   "source": [
    "## Exploración inicial"
   ]
  },
  {
   "cell_type": "markdown",
   "metadata": {},
   "source": [
    "### Generación de código exploratorio"
   ]
  },
  {
   "cell_type": "code",
<<<<<<< HEAD
   "execution_count": 6,
=======
   "execution_count": 1,
>>>>>>> 6863ee9826c5e4f1cdcef1e11e76f2775a419339
   "metadata": {
    "ExecuteTime": {
     "end_time": "2020-09-26T14:48:41.888489Z",
     "start_time": "2020-09-26T14:48:41.878902Z"
    }
   },
   "outputs": [
    {
     "data": {
      "text/plain": [
       "'3.7.4 (default, Sep 21 2020, 18:15:00) \\n[GCC 9.3.0]'"
      ]
     },
<<<<<<< HEAD
     "execution_count": 6,
=======
     "execution_count": 1,
>>>>>>> 6863ee9826c5e4f1cdcef1e11e76f2775a419339
     "metadata": {},
     "output_type": "execute_result"
    }
   ],
   "source": [
    "# verificando versiones\n",
    "import datetime\n",
    "import pandas as pd\n",
    "import seaborn as sns\n",
    "import sys\n",
    "import matplotlib.pyplot as plt\n",
    "import matplotlib.ticker as tkr\n",
    "import warnings\n",
    "\n",
    "warnings.filterwarnings('ignore')\n",
    "\n",
    "from pandas_profiling import ProfileReport\n",
    "sys.version"
   ]
  },
  {
   "cell_type": "code",
   "execution_count": 7,
   "metadata": {},
   "outputs": [],
   "source": [
    "def numero_variables_observaciones(data):\n",
    "    observaciones, variables = data.shape\n",
    "    print(f\"Tenemos {observaciones} observaciones para {variables} variables.\")\n",
    "    \n",
    "def contar_variables_numericas(data):\n",
    "    # con 'data.dtypes' podemos ver todos los tipos de variables \n",
    "    numeric = [e for e in data.dtypes.values if e == \"float64\" or e == \"int64\"]\n",
    "    print(f\"Tenemos {len(numeric)} variables numéricas.\")\n",
    "    \n",
    "def contar_variables_fecha(data):   \n",
    "    date_variables = [e for e in data.dtypes.values if type(e) is datetime.date]\n",
    "    print(f\"Tenemos {len(date_variables)} variables de fecha.\")\n",
    "    \n",
    "def generar_data_profiling(title, path):\n",
    "    profile = ProfileReport(data, title=title)\n",
    "    profile.to_file(output_file=path)\n",
    "    return profile\n",
    "\n",
    "def numero_valores_unicos(data, column):\n",
    "    if column not in data.columns:\n",
    "        print(\"Nombre de columna invalido\")\n",
    "    else:\n",
    "        return len(data[column].unique())"
   ]
  },
  {
   "cell_type": "code",
   "execution_count": 8,
   "metadata": {},
   "outputs": [],
   "source": [
    "# cambiar a donde se encuentre el archivo csv con los datos requeridos\n",
    "data_path = 'datos/consumo-agua.csv'"
   ]
  },
  {
   "cell_type": "code",
   "execution_count": 9,
   "metadata": {
    "ExecuteTime": {
     "end_time": "2020-09-26T14:48:45.149469Z",
     "start_time": "2020-09-26T14:48:42.594881Z"
    }
   },
   "outputs": [],
   "source": [
    "data = pd.read_csv(data_path)\n",
    "pd.set_option('display.max_columns', 20)\n",
    "pd.set_option('display.max_rows', 20)"
   ]
  },
  {
   "cell_type": "markdown",
   "metadata": {},
   "source": [
    "### ¿Cuántas variables existen? ¿Cuántas observaciones existen?"
   ]
  },
  {
   "cell_type": "code",
   "execution_count": 5,
   "metadata": {
    "ExecuteTime": {
     "end_time": "2020-09-26T14:48:45.199341Z",
     "start_time": "2020-09-26T14:48:45.153638Z"
    }
   },
   "outputs": [
    {
     "name": "stdout",
     "output_type": "stream",
     "text": [
      "Tenemos 71102 observaciones para 17 variables.\n"
     ]
    }
   ],
   "source": [
    "numero_variables_observaciones(data)"
   ]
  },
  {
   "cell_type": "code",
   "execution_count": 6,
   "metadata": {
    "ExecuteTime": {
     "end_time": "2020-09-26T14:48:46.493140Z",
     "start_time": "2020-09-26T14:48:46.463271Z"
    }
   },
   "outputs": [
    {
     "data": {
      "text/html": [
       "<div>\n",
       "<style scoped>\n",
       "    .dataframe tbody tr th:only-of-type {\n",
       "        vertical-align: middle;\n",
       "    }\n",
       "\n",
       "    .dataframe tbody tr th {\n",
       "        vertical-align: top;\n",
       "    }\n",
       "\n",
       "    .dataframe thead th {\n",
       "        text-align: right;\n",
       "    }\n",
       "</style>\n",
       "<table border=\"1\" class=\"dataframe\">\n",
       "  <thead>\n",
       "    <tr style=\"text-align: right;\">\n",
       "      <th></th>\n",
       "      <th>Geo Point</th>\n",
       "      <th>Geo Shape</th>\n",
       "      <th>consumo_total_mixto</th>\n",
       "      <th>anio</th>\n",
       "      <th>nomgeo</th>\n",
       "      <th>consumo_prom_dom</th>\n",
       "      <th>consumo_total_dom</th>\n",
       "      <th>alcaldia</th>\n",
       "      <th>colonia</th>\n",
       "      <th>consumo_prom_mixto</th>\n",
       "      <th>consumo_total</th>\n",
       "      <th>consumo_prom</th>\n",
       "      <th>consumo_prom_no_dom</th>\n",
       "      <th>bimestre</th>\n",
       "      <th>consumo_total_no_dom</th>\n",
       "      <th>gid</th>\n",
       "      <th>indice_des</th>\n",
       "    </tr>\n",
       "  </thead>\n",
       "  <tbody>\n",
       "    <tr>\n",
       "      <th>0</th>\n",
       "      <td>19.4552601937,-99.1126617526</td>\n",
       "      <td>{\"type\": \"MultiPolygon\", \"coordinates\": [[[[-9...</td>\n",
       "      <td>159.72</td>\n",
       "      <td>2019</td>\n",
       "      <td>Gustavo A. Madero</td>\n",
       "      <td>42.566364</td>\n",
       "      <td>468.23</td>\n",
       "      <td>GUSTAVO A. MADERO</td>\n",
       "      <td>7 DE NOVIEMBRE</td>\n",
       "      <td>53.24</td>\n",
       "      <td>631.00</td>\n",
       "      <td>42.066667</td>\n",
       "      <td>3.05</td>\n",
       "      <td>3</td>\n",
       "      <td>3.05</td>\n",
       "      <td>57250</td>\n",
       "      <td>ALTO</td>\n",
       "    </tr>\n",
       "    <tr>\n",
       "      <th>1</th>\n",
       "      <td>19.4552601937,-99.1126617526</td>\n",
       "      <td>{\"type\": \"MultiPolygon\", \"coordinates\": [[[[-9...</td>\n",
       "      <td>0.00</td>\n",
       "      <td>2019</td>\n",
       "      <td>Gustavo A. Madero</td>\n",
       "      <td>35.936667</td>\n",
       "      <td>107.81</td>\n",
       "      <td>GUSTAVO A. MADERO</td>\n",
       "      <td>7 DE NOVIEMBRE</td>\n",
       "      <td>0.00</td>\n",
       "      <td>115.13</td>\n",
       "      <td>28.782500</td>\n",
       "      <td>7.32</td>\n",
       "      <td>3</td>\n",
       "      <td>7.32</td>\n",
       "      <td>57253</td>\n",
       "      <td>MEDIO</td>\n",
       "    </tr>\n",
       "    <tr>\n",
       "      <th>2</th>\n",
       "      <td>19.4557195871,-99.1135822797</td>\n",
       "      <td>{\"type\": \"MultiPolygon\", \"coordinates\": [[[[-9...</td>\n",
       "      <td>0.00</td>\n",
       "      <td>2019</td>\n",
       "      <td>Gustavo A. Madero</td>\n",
       "      <td>24.586000</td>\n",
       "      <td>122.93</td>\n",
       "      <td>GUSTAVO A. MADERO</td>\n",
       "      <td>7 DE NOVIEMBRE</td>\n",
       "      <td>0.00</td>\n",
       "      <td>197.96</td>\n",
       "      <td>32.993333</td>\n",
       "      <td>75.03</td>\n",
       "      <td>3</td>\n",
       "      <td>75.03</td>\n",
       "      <td>57255</td>\n",
       "      <td>POPULAR</td>\n",
       "    </tr>\n",
       "    <tr>\n",
       "      <th>3</th>\n",
       "      <td>19.4596467168,-99.1044693641</td>\n",
       "      <td>{\"type\": \"MultiPolygon\", \"coordinates\": [[[[-9...</td>\n",
       "      <td>0.00</td>\n",
       "      <td>2019</td>\n",
       "      <td>Gustavo A. Madero</td>\n",
       "      <td>0.000000</td>\n",
       "      <td>0.00</td>\n",
       "      <td>GUSTAVO A. MADERO</td>\n",
       "      <td>NUEVA TENOCHTITLAN</td>\n",
       "      <td>0.00</td>\n",
       "      <td>253.53</td>\n",
       "      <td>84.510000</td>\n",
       "      <td>84.51</td>\n",
       "      <td>3</td>\n",
       "      <td>253.53</td>\n",
       "      <td>57267</td>\n",
       "      <td>BAJO</td>\n",
       "    </tr>\n",
       "    <tr>\n",
       "      <th>4</th>\n",
       "      <td>19.4741606185,-99.1467497317</td>\n",
       "      <td>{\"type\": \"MultiPolygon\", \"coordinates\": [[[[-9...</td>\n",
       "      <td>56.72</td>\n",
       "      <td>2019</td>\n",
       "      <td>Azcapotzalco</td>\n",
       "      <td>67.436250</td>\n",
       "      <td>539.49</td>\n",
       "      <td>AZCAPOTZALCO</td>\n",
       "      <td>PROHOGAR</td>\n",
       "      <td>56.72</td>\n",
       "      <td>839.35</td>\n",
       "      <td>76.304545</td>\n",
       "      <td>121.57</td>\n",
       "      <td>3</td>\n",
       "      <td>243.14</td>\n",
       "      <td>57330</td>\n",
       "      <td>BAJO</td>\n",
       "    </tr>\n",
       "  </tbody>\n",
       "</table>\n",
       "</div>"
      ],
      "text/plain": [
       "                      Geo Point  \\\n",
       "0  19.4552601937,-99.1126617526   \n",
       "1  19.4552601937,-99.1126617526   \n",
       "2  19.4557195871,-99.1135822797   \n",
       "3  19.4596467168,-99.1044693641   \n",
       "4  19.4741606185,-99.1467497317   \n",
       "\n",
       "                                           Geo Shape  consumo_total_mixto  \\\n",
       "0  {\"type\": \"MultiPolygon\", \"coordinates\": [[[[-9...               159.72   \n",
       "1  {\"type\": \"MultiPolygon\", \"coordinates\": [[[[-9...                 0.00   \n",
       "2  {\"type\": \"MultiPolygon\", \"coordinates\": [[[[-9...                 0.00   \n",
       "3  {\"type\": \"MultiPolygon\", \"coordinates\": [[[[-9...                 0.00   \n",
       "4  {\"type\": \"MultiPolygon\", \"coordinates\": [[[[-9...                56.72   \n",
       "\n",
       "   anio             nomgeo  consumo_prom_dom  consumo_total_dom  \\\n",
       "0  2019  Gustavo A. Madero         42.566364             468.23   \n",
       "1  2019  Gustavo A. Madero         35.936667             107.81   \n",
       "2  2019  Gustavo A. Madero         24.586000             122.93   \n",
       "3  2019  Gustavo A. Madero          0.000000               0.00   \n",
       "4  2019       Azcapotzalco         67.436250             539.49   \n",
       "\n",
       "            alcaldia             colonia  consumo_prom_mixto  consumo_total  \\\n",
       "0  GUSTAVO A. MADERO      7 DE NOVIEMBRE               53.24         631.00   \n",
       "1  GUSTAVO A. MADERO      7 DE NOVIEMBRE                0.00         115.13   \n",
       "2  GUSTAVO A. MADERO      7 DE NOVIEMBRE                0.00         197.96   \n",
       "3  GUSTAVO A. MADERO  NUEVA TENOCHTITLAN                0.00         253.53   \n",
       "4       AZCAPOTZALCO            PROHOGAR               56.72         839.35   \n",
       "\n",
       "   consumo_prom  consumo_prom_no_dom  bimestre  consumo_total_no_dom    gid  \\\n",
       "0     42.066667                 3.05         3                  3.05  57250   \n",
       "1     28.782500                 7.32         3                  7.32  57253   \n",
       "2     32.993333                75.03         3                 75.03  57255   \n",
       "3     84.510000                84.51         3                253.53  57267   \n",
       "4     76.304545               121.57         3                243.14  57330   \n",
       "\n",
       "  indice_des  \n",
       "0       ALTO  \n",
       "1      MEDIO  \n",
       "2    POPULAR  \n",
       "3       BAJO  \n",
       "4       BAJO  "
      ]
     },
     "execution_count": 6,
     "metadata": {},
     "output_type": "execute_result"
    }
   ],
   "source": [
    "data.head()"
   ]
  },
  {
   "cell_type": "markdown",
   "metadata": {
    "ExecuteTime": {
     "end_time": "2020-09-23T00:10:41.521339Z",
     "start_time": "2020-09-23T00:10:41.247035Z"
    }
   },
   "source": [
    "### ¿Cuántas observaciones únicas se tienen por variables? \n"
   ]
  },
  {
   "cell_type": "code",
   "execution_count": 7,
   "metadata": {
    "ExecuteTime": {
     "end_time": "2020-09-26T14:48:54.740543Z",
     "start_time": "2020-09-26T14:48:54.515951Z"
    }
   },
   "outputs": [
    {
     "data": {
      "text/plain": [
       "Geo Point               22930\n",
       "Geo Shape               22922\n",
       "consumo_total_mixto     24339\n",
       "anio                        1\n",
       "nomgeo                     17\n",
       "consumo_prom_dom        52060\n",
       "consumo_total_dom       47051\n",
       "alcaldia                   16\n",
       "colonia                  1340\n",
       "consumo_prom_mixto      31911\n",
       "consumo_total           56015\n",
       "consumo_prom            62214\n",
       "consumo_prom_no_dom     37440\n",
       "bimestre                    3\n",
       "consumo_total_no_dom    27336\n",
       "gid                     71102\n",
       "indice_des                  4\n",
       "dtype: int64"
      ]
     },
     "execution_count": 7,
     "metadata": {},
     "output_type": "execute_result"
    }
   ],
   "source": [
    "data.nunique()"
   ]
  },
  {
   "cell_type": "markdown",
   "metadata": {
    "ExecuteTime": {
     "end_time": "2020-09-26T14:07:23.736161Z",
     "start_time": "2020-09-26T14:07:23.730022Z"
    }
   },
   "source": [
    "### ¿Cuántas variables numéricas existen? "
   ]
  },
  {
   "cell_type": "code",
   "execution_count": 8,
   "metadata": {
    "ExecuteTime": {
     "end_time": "2020-09-26T14:48:56.318064Z",
     "start_time": "2020-09-26T14:48:56.307448Z"
    }
   },
   "outputs": [
    {
     "data": {
      "text/plain": [
       "Geo Point                object\n",
       "Geo Shape                object\n",
       "consumo_total_mixto     float64\n",
       "anio                      int64\n",
       "nomgeo                   object\n",
       "consumo_prom_dom        float64\n",
       "consumo_total_dom       float64\n",
       "alcaldia                 object\n",
       "colonia                  object\n",
       "consumo_prom_mixto      float64\n",
       "consumo_total           float64\n",
       "consumo_prom            float64\n",
       "consumo_prom_no_dom     float64\n",
       "bimestre                  int64\n",
       "consumo_total_no_dom    float64\n",
       "gid                       int64\n",
       "indice_des               object\n",
       "dtype: object"
      ]
     },
     "execution_count": 8,
     "metadata": {},
     "output_type": "execute_result"
    }
   ],
   "source": [
    "# podemos ver todos los tipos de variables\n",
    "data.dtypes"
   ]
  },
  {
   "cell_type": "code",
   "execution_count": 9,
   "metadata": {
    "ExecuteTime": {
     "end_time": "2020-09-26T14:48:57.130535Z",
     "start_time": "2020-09-26T14:48:57.110401Z"
    }
   },
   "outputs": [
    {
     "name": "stdout",
     "output_type": "stream",
     "text": [
      "Tenemos 11 variables numéricas.\n"
     ]
    }
   ],
   "source": [
    "contar_variables_numericas(data)"
   ]
  },
  {
   "cell_type": "markdown",
   "metadata": {
    "ExecuteTime": {
     "end_time": "2020-09-23T00:14:02.970915Z",
     "start_time": "2020-09-23T00:14:02.959823Z"
    }
   },
   "source": [
    "### ¿Cuántas variables de fecha tenemos? \n",
    "\n",
    "Ninguna. Se puede ver en la impresión de dtypes. La variable `anio` indica el año, pero eso no es suficiente para ser una fecha (no califica como date, time o datetime). "
   ]
  },
  {
   "cell_type": "code",
   "execution_count": 10,
   "metadata": {},
   "outputs": [
    {
     "name": "stdout",
     "output_type": "stream",
     "text": [
      "Tenemos 0 variables de fecha.\n"
     ]
    }
   ],
   "source": [
    "contar_variables_fecha(data)"
   ]
  },
  {
   "cell_type": "markdown",
   "metadata": {},
   "source": [
    "### ¿Cuántas variables categóricas existen? \n",
    "\n",
    "Las siguientes pueden ser consideradas variables categóricas: `nomgeo`, `alcaldia`, `colonia`, e `indice_des`. `bimestre` fue contada como numérica, pero es cierto que puede ser analizada como categórica, al igual que año (dado que solo hay cifras para 2019). Por lo tanto, tenemos entre 4 y 6 variables categóricas, dependiendo de si tomamos a bimestre y año como categórica o no.  "
   ]
  },
  {
   "cell_type": "markdown",
   "metadata": {
    "ExecuteTime": {
     "end_time": "2020-09-26T14:11:24.508617Z",
     "start_time": "2020-09-26T14:11:24.476394Z"
    }
   },
   "source": [
    "### ¿Cuántas variables de texto hay? \n",
    "\n",
    "Aunque `nomgeo`, `alcaldia`, `colonia` e `indice_des` son texto, no contienen como tal texto a analizar (como palabras u oraciones). Diríamos que son categóricas."
   ]
  },
  {
   "cell_type": "markdown",
   "metadata": {},
   "source": [
    "### Generación del profiling de cada variable"
   ]
  },
  {
   "cell_type": "code",
   "execution_count": 11,
   "metadata": {},
   "outputs": [
    {
     "data": {
      "application/vnd.jupyter.widget-view+json": {
       "model_id": "3a4c5e1098b043ffa2fd261da7ecd114",
       "version_major": 2,
       "version_minor": 0
      },
      "text/plain": [
       "HBox(children=(FloatProgress(value=0.0, description='Summarize dataset', max=31.0, style=ProgressStyle(descrip…"
      ]
     },
     "metadata": {},
     "output_type": "display_data"
    },
    {
     "name": "stdout",
     "output_type": "stream",
     "text": [
      "\n"
     ]
    },
    {
     "data": {
      "application/vnd.jupyter.widget-view+json": {
       "model_id": "63e7530c203b4c6ca57be6586440a60d",
       "version_major": 2,
       "version_minor": 0
      },
      "text/plain": [
       "HBox(children=(FloatProgress(value=0.0, description='Generate report structure', max=1.0, style=ProgressStyle(…"
      ]
     },
     "metadata": {},
     "output_type": "display_data"
    },
    {
     "name": "stdout",
     "output_type": "stream",
     "text": [
      "\n"
     ]
    },
    {
     "data": {
      "application/vnd.jupyter.widget-view+json": {
       "model_id": "91fb1824b5a74122b28f53ceed7fa9f6",
       "version_major": 2,
       "version_minor": 0
      },
      "text/plain": [
       "HBox(children=(FloatProgress(value=0.0, description='Render HTML', max=1.0, style=ProgressStyle(description_wi…"
      ]
     },
     "metadata": {},
     "output_type": "display_data"
    },
    {
     "name": "stdout",
     "output_type": "stream",
     "text": [
      "\n"
     ]
    },
    {
     "data": {
      "application/vnd.jupyter.widget-view+json": {
       "model_id": "e7e1d04670e54dc092c5d861950be3cb",
       "version_major": 2,
       "version_minor": 0
      },
      "text/plain": [
       "HBox(children=(FloatProgress(value=0.0, description='Export report to file', max=1.0, style=ProgressStyle(desc…"
      ]
     },
     "metadata": {},
     "output_type": "display_data"
    },
    {
     "name": "stdout",
     "output_type": "stream",
     "text": [
      "\n"
     ]
    }
   ],
   "source": [
    "initial_profile = generar_data_profiling('Profiling inicial de consumo de agua', 'reportes/profiling_inicial.html')"
   ]
  },
  {
   "cell_type": "markdown",
   "metadata": {},
   "source": [
    "### ¿Qué se conoce hasta ahora de este set de datos por variable?"
   ]
  },
  {
   "cell_type": "markdown",
   "metadata": {},
   "source": [
    "* `Geo Point` indica la latitud y longitud de la colonia. \n",
    "* `Geo Shape` es un diccionario con información geográfica. \n",
    "* `nomgeo` y `alcaldia` son equivalentes (e indican el nombre de la alcaldía). Hay 16 distintos. \n",
    "* `colonia` indica el nombre de la colonia.\n",
    "* `anio` indica el año, y solo hay datos para 2019.\n",
    "* `bimestre` indica el bimestre del año, y solo hay datos para el bimestre 1, 2 y 3. "
   ]
  },
  {
   "cell_type": "markdown",
   "metadata": {
    "ExecuteTime": {
     "end_time": "2020-09-26T14:14:39.398975Z",
     "start_time": "2020-09-26T14:14:39.396187Z"
    }
   },
   "source": [
    "### ¿Cuántas alcaldías hay? ¿Cuántos `nomgeo` existen? ¿Se identifica algún error? "
   ]
  },
  {
   "cell_type": "code",
   "execution_count": 12,
   "metadata": {
    "ExecuteTime": {
     "end_time": "2020-09-26T14:49:01.737544Z",
     "start_time": "2020-09-26T14:49:01.709930Z"
    }
   },
   "outputs": [
    {
     "name": "stdout",
     "output_type": "stream",
     "text": [
      "Se tiene 16 alcaldías únicas y 17 nomgeo únicos.\n"
     ]
    }
   ],
   "source": [
    "no_alcaldias = numero_valores_unicos(data, 'alcaldia')\n",
    "no_nomgeo = numero_valores_unicos(data, 'nomgeo')\n",
    "print(f'Se tiene {no_alcaldias} alcaldías únicas y {no_nomgeo} nomgeo únicos.')"
   ]
  },
  {
   "cell_type": "markdown",
   "metadata": {
    "ExecuteTime": {
     "end_time": "2020-09-23T00:21:31.057913Z",
     "start_time": "2020-09-23T00:21:31.029327Z"
    }
   },
   "source": [
    "Sí el error está en la variable nomgeo: se registró \"Talpan\" en vez de \"Tlalpan\". "
   ]
  },
  {
   "cell_type": "code",
   "execution_count": 13,
   "metadata": {
    "ExecuteTime": {
     "end_time": "2020-09-26T14:49:03.005512Z",
     "start_time": "2020-09-26T14:49:02.968747Z"
    }
   },
   "outputs": [
    {
     "data": {
      "text/plain": [
       "['Talpan', 'Tlalpan']"
      ]
     },
     "execution_count": 13,
     "metadata": {},
     "output_type": "execute_result"
    }
   ],
   "source": [
    "[e for e in data.nomgeo.unique() if e.endswith('pan')]"
   ]
  },
  {
   "cell_type": "markdown",
   "metadata": {},
   "source": [
    "## Limpieza y manipulación de datos"
   ]
  },
  {
   "cell_type": "markdown",
   "metadata": {},
   "source": [
    "### Generación de código de limpieza y manipulación"
   ]
  },
  {
   "cell_type": "code",
   "execution_count": 10,
   "metadata": {},
   "outputs": [],
   "source": [
    "def standarize_column_names(data, excluded_punctuation=\".,-*¿?¡!\"):\n",
    "    data.columns = data.columns.str.lower().str.replace(\" \", \"_\")\n",
    "    for ch in excluded_punctuation:\n",
    "        data.columns = data.columns.str.replace(ch, \"\")\n",
    "        \n",
    "        \n",
    "def standarize_column_strings(data, columns, excluded_punctuation=\".,-*¿?¡!\"):\n",
    "    for col in columns:\n",
    "        data[col] = data[col].apply(lambda x: x.lower().replace(\" \", \"_\"))\n",
    "        data[col] = data[col].apply(lambda x: x.lower().replace(\"á\", \"a\"))\n",
    "        data[col] = data[col].apply(lambda x: x.lower().replace(\"é\", \"e\"))\n",
    "        data[col] = data[col].apply(lambda x: x.lower().replace(\"í\", \"i\"))\n",
    "        data[col] = data[col].apply(lambda x: x.lower().replace(\"ó\", \"o\"))\n",
    "        data[col] = data[col].apply(lambda x: x.lower().replace(\"ú\", \"u\"))\n",
    "        data[col] = data[col].apply(lambda x: x.lower().replace(\"ü\", \"u\"))\n",
    "        for ch in excluded_punctuation:\n",
    "            data[col] = data[col].apply(lambda x: x.replace(ch, \"\"))\n",
    "    \n",
    "def replace_column_value(data, column, search_string, replace_string):\n",
    "    data[column] = data[column].apply(lambda x: x.replace(search_string, replace_string))\n",
    "    \n",
    "    \n",
    "def clean_data_from(path):\n",
    "    \"\"\"\n",
    "    Función para realizar todas las transformaciones necesarias requeridas al \n",
    "    dataset del consumo de agua. \n",
    "    \n",
    "    Inputs:\n",
    "    -------\n",
    "    \n",
    "    path: str\n",
    "          El path en tu compu donde está el archivo csv. (\"/Users/etc/etc..\")\n",
    "    \n",
    "    Returns:\n",
    "    --------\n",
    "    \n",
    "    data: pandas dataframe\n",
    "          Un dataframe en el formato correcto\n",
    "    \n",
    "    \"\"\"\n",
    "    #1. cargar la info y arreglar nombres de columnas\n",
    "    data = pd.read_csv(path)\n",
    "    standarize_column_names(data)\n",
    "    \n",
    "    #2. Transformar alcaldia, colonia, indice_des y nomgeo\n",
    "    col_text = [\"alcaldia\", \"colonia\", \"indice_des\", \"nomgeo\"]\n",
    "    standarize_column_strings(data, col_text)\n",
    "    \n",
    "    #3. Agregar latitud y longitud en formato numérico\n",
    "    latitud = [float(e.split(\",\")[0]) for e in data[\"geo_point\"]] \n",
    "    longitud = [float(e.split(\",\")[1]) for e in data[\"geo_point\"]]\n",
    "    data[\"latitud\"] = latitud \n",
    "    data[\"longitud\"] = longitud\n",
    "    \n",
    "    #4. Tirar variables irrelevantes\n",
    "    data.drop(columns = [\"geo_point\", \"geo_shape\"], inplace = True)\n",
    "    \n",
    "    #5. Quitar el error de Talpan\n",
    "    replace_column_value(data, 'nomgeo', 'talpan', 'tlalpan')\n",
    "    \n",
    "    #6. Homologar nombres entre nomgeo y alcaldia\n",
    "    replace_column_value(data, 'nomgeo', 'cuajimalpa_de_morelos', 'cuajimalpa')\n",
    "    replace_column_value(data, 'nomgeo', 'la_magdalena_contreras', 'magdalena_contreras')\n",
    "    \n",
    "    return data"
   ]
  },
  {
   "cell_type": "markdown",
   "metadata": {},
   "source": [
    "### Transformación del nombre de las columnas a formato estándar"
   ]
  },
  {
   "cell_type": "code",
   "execution_count": 11,
   "metadata": {
    "ExecuteTime": {
     "end_time": "2020-09-26T14:50:04.647754Z",
     "start_time": "2020-09-26T14:50:04.573048Z"
    }
   },
   "outputs": [
    {
     "data": {
      "text/html": [
       "<div>\n",
       "<style scoped>\n",
       "    .dataframe tbody tr th:only-of-type {\n",
       "        vertical-align: middle;\n",
       "    }\n",
       "\n",
       "    .dataframe tbody tr th {\n",
       "        vertical-align: top;\n",
       "    }\n",
       "\n",
       "    .dataframe thead th {\n",
       "        text-align: right;\n",
       "    }\n",
       "</style>\n",
       "<table border=\"1\" class=\"dataframe\">\n",
       "  <thead>\n",
       "    <tr style=\"text-align: right;\">\n",
       "      <th></th>\n",
       "      <th>geo_point</th>\n",
       "      <th>geo_shape</th>\n",
       "      <th>consumo_total_mixto</th>\n",
       "      <th>anio</th>\n",
       "      <th>nomgeo</th>\n",
       "      <th>consumo_prom_dom</th>\n",
       "      <th>consumo_total_dom</th>\n",
       "      <th>alcaldia</th>\n",
       "      <th>colonia</th>\n",
       "      <th>consumo_prom_mixto</th>\n",
       "      <th>consumo_total</th>\n",
       "      <th>consumo_prom</th>\n",
       "      <th>consumo_prom_no_dom</th>\n",
       "      <th>bimestre</th>\n",
       "      <th>consumo_total_no_dom</th>\n",
       "      <th>gid</th>\n",
       "      <th>indice_des</th>\n",
       "    </tr>\n",
       "  </thead>\n",
       "  <tbody>\n",
       "    <tr>\n",
       "      <th>0</th>\n",
       "      <td>19.4552601937,-99.1126617526</td>\n",
       "      <td>{\"type\": \"MultiPolygon\", \"coordinates\": [[[[-9...</td>\n",
       "      <td>159.72</td>\n",
       "      <td>2019</td>\n",
       "      <td>Gustavo A. Madero</td>\n",
       "      <td>42.566364</td>\n",
       "      <td>468.23</td>\n",
       "      <td>GUSTAVO A. MADERO</td>\n",
       "      <td>7 DE NOVIEMBRE</td>\n",
       "      <td>53.24</td>\n",
       "      <td>631.00</td>\n",
       "      <td>42.066667</td>\n",
       "      <td>3.05</td>\n",
       "      <td>3</td>\n",
       "      <td>3.05</td>\n",
       "      <td>57250</td>\n",
       "      <td>ALTO</td>\n",
       "    </tr>\n",
       "    <tr>\n",
       "      <th>1</th>\n",
       "      <td>19.4552601937,-99.1126617526</td>\n",
       "      <td>{\"type\": \"MultiPolygon\", \"coordinates\": [[[[-9...</td>\n",
       "      <td>0.00</td>\n",
       "      <td>2019</td>\n",
       "      <td>Gustavo A. Madero</td>\n",
       "      <td>35.936667</td>\n",
       "      <td>107.81</td>\n",
       "      <td>GUSTAVO A. MADERO</td>\n",
       "      <td>7 DE NOVIEMBRE</td>\n",
       "      <td>0.00</td>\n",
       "      <td>115.13</td>\n",
       "      <td>28.782500</td>\n",
       "      <td>7.32</td>\n",
       "      <td>3</td>\n",
       "      <td>7.32</td>\n",
       "      <td>57253</td>\n",
       "      <td>MEDIO</td>\n",
       "    </tr>\n",
       "    <tr>\n",
       "      <th>2</th>\n",
       "      <td>19.4557195871,-99.1135822797</td>\n",
       "      <td>{\"type\": \"MultiPolygon\", \"coordinates\": [[[[-9...</td>\n",
       "      <td>0.00</td>\n",
       "      <td>2019</td>\n",
       "      <td>Gustavo A. Madero</td>\n",
       "      <td>24.586000</td>\n",
       "      <td>122.93</td>\n",
       "      <td>GUSTAVO A. MADERO</td>\n",
       "      <td>7 DE NOVIEMBRE</td>\n",
       "      <td>0.00</td>\n",
       "      <td>197.96</td>\n",
       "      <td>32.993333</td>\n",
       "      <td>75.03</td>\n",
       "      <td>3</td>\n",
       "      <td>75.03</td>\n",
       "      <td>57255</td>\n",
       "      <td>POPULAR</td>\n",
       "    </tr>\n",
       "    <tr>\n",
       "      <th>3</th>\n",
       "      <td>19.4596467168,-99.1044693641</td>\n",
       "      <td>{\"type\": \"MultiPolygon\", \"coordinates\": [[[[-9...</td>\n",
       "      <td>0.00</td>\n",
       "      <td>2019</td>\n",
       "      <td>Gustavo A. Madero</td>\n",
       "      <td>0.000000</td>\n",
       "      <td>0.00</td>\n",
       "      <td>GUSTAVO A. MADERO</td>\n",
       "      <td>NUEVA TENOCHTITLAN</td>\n",
       "      <td>0.00</td>\n",
       "      <td>253.53</td>\n",
       "      <td>84.510000</td>\n",
       "      <td>84.51</td>\n",
       "      <td>3</td>\n",
       "      <td>253.53</td>\n",
       "      <td>57267</td>\n",
       "      <td>BAJO</td>\n",
       "    </tr>\n",
       "    <tr>\n",
       "      <th>4</th>\n",
       "      <td>19.4741606185,-99.1467497317</td>\n",
       "      <td>{\"type\": \"MultiPolygon\", \"coordinates\": [[[[-9...</td>\n",
       "      <td>56.72</td>\n",
       "      <td>2019</td>\n",
       "      <td>Azcapotzalco</td>\n",
       "      <td>67.436250</td>\n",
       "      <td>539.49</td>\n",
       "      <td>AZCAPOTZALCO</td>\n",
       "      <td>PROHOGAR</td>\n",
       "      <td>56.72</td>\n",
       "      <td>839.35</td>\n",
       "      <td>76.304545</td>\n",
       "      <td>121.57</td>\n",
       "      <td>3</td>\n",
       "      <td>243.14</td>\n",
       "      <td>57330</td>\n",
       "      <td>BAJO</td>\n",
       "    </tr>\n",
       "  </tbody>\n",
       "</table>\n",
       "</div>"
      ],
      "text/plain": [
       "                      geo_point  \\\n",
       "0  19.4552601937,-99.1126617526   \n",
       "1  19.4552601937,-99.1126617526   \n",
       "2  19.4557195871,-99.1135822797   \n",
       "3  19.4596467168,-99.1044693641   \n",
       "4  19.4741606185,-99.1467497317   \n",
       "\n",
       "                                           geo_shape  consumo_total_mixto  \\\n",
       "0  {\"type\": \"MultiPolygon\", \"coordinates\": [[[[-9...               159.72   \n",
       "1  {\"type\": \"MultiPolygon\", \"coordinates\": [[[[-9...                 0.00   \n",
       "2  {\"type\": \"MultiPolygon\", \"coordinates\": [[[[-9...                 0.00   \n",
       "3  {\"type\": \"MultiPolygon\", \"coordinates\": [[[[-9...                 0.00   \n",
       "4  {\"type\": \"MultiPolygon\", \"coordinates\": [[[[-9...                56.72   \n",
       "\n",
       "   anio             nomgeo  consumo_prom_dom  consumo_total_dom  \\\n",
       "0  2019  Gustavo A. Madero         42.566364             468.23   \n",
       "1  2019  Gustavo A. Madero         35.936667             107.81   \n",
       "2  2019  Gustavo A. Madero         24.586000             122.93   \n",
       "3  2019  Gustavo A. Madero          0.000000               0.00   \n",
       "4  2019       Azcapotzalco         67.436250             539.49   \n",
       "\n",
       "            alcaldia             colonia  consumo_prom_mixto  consumo_total  \\\n",
       "0  GUSTAVO A. MADERO      7 DE NOVIEMBRE               53.24         631.00   \n",
       "1  GUSTAVO A. MADERO      7 DE NOVIEMBRE                0.00         115.13   \n",
       "2  GUSTAVO A. MADERO      7 DE NOVIEMBRE                0.00         197.96   \n",
       "3  GUSTAVO A. MADERO  NUEVA TENOCHTITLAN                0.00         253.53   \n",
       "4       AZCAPOTZALCO            PROHOGAR               56.72         839.35   \n",
       "\n",
       "   consumo_prom  consumo_prom_no_dom  bimestre  consumo_total_no_dom    gid  \\\n",
       "0     42.066667                 3.05         3                  3.05  57250   \n",
       "1     28.782500                 7.32         3                  7.32  57253   \n",
       "2     32.993333                75.03         3                 75.03  57255   \n",
       "3     84.510000                84.51         3                253.53  57267   \n",
       "4     76.304545               121.57         3                243.14  57330   \n",
       "\n",
       "  indice_des  \n",
       "0       ALTO  \n",
       "1      MEDIO  \n",
       "2    POPULAR  \n",
       "3       BAJO  \n",
       "4       BAJO  "
      ]
     },
     "execution_count": 11,
     "metadata": {},
     "output_type": "execute_result"
    }
   ],
   "source": [
    "standarize_column_names(data)\n",
    "data.head()"
   ]
  },
  {
   "cell_type": "markdown",
   "metadata": {},
   "source": [
    "### Agregar la variable latitud y longitud generadas a partir de `geopoint`. Transformar la variable latitud y longitud a numérica."
   ]
  },
  {
   "cell_type": "code",
   "execution_count": 12,
   "metadata": {
    "ExecuteTime": {
     "end_time": "2020-09-26T14:26:22.124185Z",
     "start_time": "2020-09-26T14:26:21.987530Z"
    }
   },
   "outputs": [
    {
     "data": {
      "text/plain": [
       "geo_point                object\n",
       "geo_shape                object\n",
       "consumo_total_mixto     float64\n",
       "anio                      int64\n",
       "nomgeo                   object\n",
       "consumo_prom_dom        float64\n",
       "consumo_total_dom       float64\n",
       "alcaldia                 object\n",
       "colonia                  object\n",
       "consumo_prom_mixto      float64\n",
       "consumo_total           float64\n",
       "consumo_prom            float64\n",
       "consumo_prom_no_dom     float64\n",
       "bimestre                  int64\n",
       "consumo_total_no_dom    float64\n",
       "gid                       int64\n",
       "indice_des               object\n",
       "latitud                 float64\n",
       "longitud                float64\n",
       "dtype: object"
      ]
     },
     "execution_count": 12,
     "metadata": {},
     "output_type": "execute_result"
    }
   ],
   "source": [
    "# sin lo de \"float\" lo toma como \"object\"\n",
    "latitud = [float(e.split(\",\")[0]) for e in data[\"geo_point\"]] \n",
    "longitud = [float(e.split(\",\")[1]) for e in data[\"geo_point\"]]\n",
    " \n",
    "data[\"latitud\"] = latitud \n",
    "data[\"longitud\"] = longitud\n",
    "\n",
    "data.dtypes"
   ]
  },
  {
   "cell_type": "markdown",
   "metadata": {},
   "source": [
    "### Eliminar la columna `geo_point` y `geo_shape`"
   ]
  },
  {
   "cell_type": "code",
   "execution_count": 13,
   "metadata": {
    "ExecuteTime": {
     "end_time": "2020-09-26T14:26:57.332954Z",
     "start_time": "2020-09-26T14:26:57.273171Z"
    }
   },
   "outputs": [
    {
     "data": {
      "text/html": [
       "<div>\n",
       "<style scoped>\n",
       "    .dataframe tbody tr th:only-of-type {\n",
       "        vertical-align: middle;\n",
       "    }\n",
       "\n",
       "    .dataframe tbody tr th {\n",
       "        vertical-align: top;\n",
       "    }\n",
       "\n",
       "    .dataframe thead th {\n",
       "        text-align: right;\n",
       "    }\n",
       "</style>\n",
       "<table border=\"1\" class=\"dataframe\">\n",
       "  <thead>\n",
       "    <tr style=\"text-align: right;\">\n",
       "      <th></th>\n",
       "      <th>consumo_total_mixto</th>\n",
       "      <th>anio</th>\n",
       "      <th>nomgeo</th>\n",
       "      <th>consumo_prom_dom</th>\n",
       "      <th>consumo_total_dom</th>\n",
       "      <th>alcaldia</th>\n",
       "      <th>colonia</th>\n",
       "      <th>consumo_prom_mixto</th>\n",
       "      <th>consumo_total</th>\n",
       "      <th>consumo_prom</th>\n",
       "      <th>consumo_prom_no_dom</th>\n",
       "      <th>bimestre</th>\n",
       "      <th>consumo_total_no_dom</th>\n",
       "      <th>gid</th>\n",
       "      <th>indice_des</th>\n",
       "      <th>latitud</th>\n",
       "      <th>longitud</th>\n",
       "    </tr>\n",
       "  </thead>\n",
       "  <tbody>\n",
       "    <tr>\n",
       "      <th>0</th>\n",
       "      <td>159.72</td>\n",
       "      <td>2019</td>\n",
       "      <td>Gustavo A. Madero</td>\n",
       "      <td>42.566364</td>\n",
       "      <td>468.23</td>\n",
       "      <td>GUSTAVO A. MADERO</td>\n",
       "      <td>7 DE NOVIEMBRE</td>\n",
       "      <td>53.24</td>\n",
       "      <td>631.00</td>\n",
       "      <td>42.066667</td>\n",
       "      <td>3.05</td>\n",
       "      <td>3</td>\n",
       "      <td>3.05</td>\n",
       "      <td>57250</td>\n",
       "      <td>ALTO</td>\n",
       "      <td>19.455260</td>\n",
       "      <td>-99.112662</td>\n",
       "    </tr>\n",
       "    <tr>\n",
       "      <th>1</th>\n",
       "      <td>0.00</td>\n",
       "      <td>2019</td>\n",
       "      <td>Gustavo A. Madero</td>\n",
       "      <td>35.936667</td>\n",
       "      <td>107.81</td>\n",
       "      <td>GUSTAVO A. MADERO</td>\n",
       "      <td>7 DE NOVIEMBRE</td>\n",
       "      <td>0.00</td>\n",
       "      <td>115.13</td>\n",
       "      <td>28.782500</td>\n",
       "      <td>7.32</td>\n",
       "      <td>3</td>\n",
       "      <td>7.32</td>\n",
       "      <td>57253</td>\n",
       "      <td>MEDIO</td>\n",
       "      <td>19.455260</td>\n",
       "      <td>-99.112662</td>\n",
       "    </tr>\n",
       "    <tr>\n",
       "      <th>2</th>\n",
       "      <td>0.00</td>\n",
       "      <td>2019</td>\n",
       "      <td>Gustavo A. Madero</td>\n",
       "      <td>24.586000</td>\n",
       "      <td>122.93</td>\n",
       "      <td>GUSTAVO A. MADERO</td>\n",
       "      <td>7 DE NOVIEMBRE</td>\n",
       "      <td>0.00</td>\n",
       "      <td>197.96</td>\n",
       "      <td>32.993333</td>\n",
       "      <td>75.03</td>\n",
       "      <td>3</td>\n",
       "      <td>75.03</td>\n",
       "      <td>57255</td>\n",
       "      <td>POPULAR</td>\n",
       "      <td>19.455720</td>\n",
       "      <td>-99.113582</td>\n",
       "    </tr>\n",
       "    <tr>\n",
       "      <th>3</th>\n",
       "      <td>0.00</td>\n",
       "      <td>2019</td>\n",
       "      <td>Gustavo A. Madero</td>\n",
       "      <td>0.000000</td>\n",
       "      <td>0.00</td>\n",
       "      <td>GUSTAVO A. MADERO</td>\n",
       "      <td>NUEVA TENOCHTITLAN</td>\n",
       "      <td>0.00</td>\n",
       "      <td>253.53</td>\n",
       "      <td>84.510000</td>\n",
       "      <td>84.51</td>\n",
       "      <td>3</td>\n",
       "      <td>253.53</td>\n",
       "      <td>57267</td>\n",
       "      <td>BAJO</td>\n",
       "      <td>19.459647</td>\n",
       "      <td>-99.104469</td>\n",
       "    </tr>\n",
       "    <tr>\n",
       "      <th>4</th>\n",
       "      <td>56.72</td>\n",
       "      <td>2019</td>\n",
       "      <td>Azcapotzalco</td>\n",
       "      <td>67.436250</td>\n",
       "      <td>539.49</td>\n",
       "      <td>AZCAPOTZALCO</td>\n",
       "      <td>PROHOGAR</td>\n",
       "      <td>56.72</td>\n",
       "      <td>839.35</td>\n",
       "      <td>76.304545</td>\n",
       "      <td>121.57</td>\n",
       "      <td>3</td>\n",
       "      <td>243.14</td>\n",
       "      <td>57330</td>\n",
       "      <td>BAJO</td>\n",
       "      <td>19.474161</td>\n",
       "      <td>-99.146750</td>\n",
       "    </tr>\n",
       "  </tbody>\n",
       "</table>\n",
       "</div>"
      ],
      "text/plain": [
       "   consumo_total_mixto  anio             nomgeo  consumo_prom_dom  \\\n",
       "0               159.72  2019  Gustavo A. Madero         42.566364   \n",
       "1                 0.00  2019  Gustavo A. Madero         35.936667   \n",
       "2                 0.00  2019  Gustavo A. Madero         24.586000   \n",
       "3                 0.00  2019  Gustavo A. Madero          0.000000   \n",
       "4                56.72  2019       Azcapotzalco         67.436250   \n",
       "\n",
       "   consumo_total_dom           alcaldia             colonia  \\\n",
       "0             468.23  GUSTAVO A. MADERO      7 DE NOVIEMBRE   \n",
       "1             107.81  GUSTAVO A. MADERO      7 DE NOVIEMBRE   \n",
       "2             122.93  GUSTAVO A. MADERO      7 DE NOVIEMBRE   \n",
       "3               0.00  GUSTAVO A. MADERO  NUEVA TENOCHTITLAN   \n",
       "4             539.49       AZCAPOTZALCO            PROHOGAR   \n",
       "\n",
       "   consumo_prom_mixto  consumo_total  consumo_prom  consumo_prom_no_dom  \\\n",
       "0               53.24         631.00     42.066667                 3.05   \n",
       "1                0.00         115.13     28.782500                 7.32   \n",
       "2                0.00         197.96     32.993333                75.03   \n",
       "3                0.00         253.53     84.510000                84.51   \n",
       "4               56.72         839.35     76.304545               121.57   \n",
       "\n",
       "   bimestre  consumo_total_no_dom    gid indice_des    latitud   longitud  \n",
       "0         3                  3.05  57250       ALTO  19.455260 -99.112662  \n",
       "1         3                  7.32  57253      MEDIO  19.455260 -99.112662  \n",
       "2         3                 75.03  57255    POPULAR  19.455720 -99.113582  \n",
       "3         3                253.53  57267       BAJO  19.459647 -99.104469  \n",
       "4         3                243.14  57330       BAJO  19.474161 -99.146750  "
      ]
     },
     "execution_count": 13,
     "metadata": {},
     "output_type": "execute_result"
    }
   ],
   "source": [
    "data.drop(columns = [\"geo_point\", \"geo_shape\"], inplace = True)\n",
    "data.head()"
   ]
  },
  {
   "cell_type": "markdown",
   "metadata": {},
   "source": [
    "### Cambiar a minúsculas las columnas alcaldía, colonia e indice_des."
   ]
  },
  {
   "cell_type": "code",
   "execution_count": 14,
   "metadata": {
    "ExecuteTime": {
     "end_time": "2020-09-26T14:52:25.811640Z",
     "start_time": "2020-09-26T14:52:25.641502Z"
    }
   },
   "outputs": [
    {
     "data": {
      "text/html": [
       "<div>\n",
       "<style scoped>\n",
       "    .dataframe tbody tr th:only-of-type {\n",
       "        vertical-align: middle;\n",
       "    }\n",
       "\n",
       "    .dataframe tbody tr th {\n",
       "        vertical-align: top;\n",
       "    }\n",
       "\n",
       "    .dataframe thead th {\n",
       "        text-align: right;\n",
       "    }\n",
       "</style>\n",
       "<table border=\"1\" class=\"dataframe\">\n",
       "  <thead>\n",
       "    <tr style=\"text-align: right;\">\n",
       "      <th></th>\n",
       "      <th>consumo_total_mixto</th>\n",
       "      <th>anio</th>\n",
       "      <th>nomgeo</th>\n",
       "      <th>consumo_prom_dom</th>\n",
       "      <th>consumo_total_dom</th>\n",
       "      <th>alcaldia</th>\n",
       "      <th>colonia</th>\n",
       "      <th>consumo_prom_mixto</th>\n",
       "      <th>consumo_total</th>\n",
       "      <th>consumo_prom</th>\n",
       "      <th>consumo_prom_no_dom</th>\n",
       "      <th>bimestre</th>\n",
       "      <th>consumo_total_no_dom</th>\n",
       "      <th>gid</th>\n",
       "      <th>indice_des</th>\n",
       "      <th>latitud</th>\n",
       "      <th>longitud</th>\n",
       "    </tr>\n",
       "  </thead>\n",
       "  <tbody>\n",
       "    <tr>\n",
       "      <th>0</th>\n",
       "      <td>159.72</td>\n",
       "      <td>2019</td>\n",
       "      <td>Gustavo A. Madero</td>\n",
       "      <td>42.566364</td>\n",
       "      <td>468.23</td>\n",
       "      <td>gustavo_a_madero</td>\n",
       "      <td>7_de_noviembre</td>\n",
       "      <td>53.24</td>\n",
       "      <td>631.00</td>\n",
       "      <td>42.066667</td>\n",
       "      <td>3.05</td>\n",
       "      <td>3</td>\n",
       "      <td>3.05</td>\n",
       "      <td>57250</td>\n",
       "      <td>alto</td>\n",
       "      <td>19.455260</td>\n",
       "      <td>-99.112662</td>\n",
       "    </tr>\n",
       "    <tr>\n",
       "      <th>1</th>\n",
       "      <td>0.00</td>\n",
       "      <td>2019</td>\n",
       "      <td>Gustavo A. Madero</td>\n",
       "      <td>35.936667</td>\n",
       "      <td>107.81</td>\n",
       "      <td>gustavo_a_madero</td>\n",
       "      <td>7_de_noviembre</td>\n",
       "      <td>0.00</td>\n",
       "      <td>115.13</td>\n",
       "      <td>28.782500</td>\n",
       "      <td>7.32</td>\n",
       "      <td>3</td>\n",
       "      <td>7.32</td>\n",
       "      <td>57253</td>\n",
       "      <td>medio</td>\n",
       "      <td>19.455260</td>\n",
       "      <td>-99.112662</td>\n",
       "    </tr>\n",
       "    <tr>\n",
       "      <th>2</th>\n",
       "      <td>0.00</td>\n",
       "      <td>2019</td>\n",
       "      <td>Gustavo A. Madero</td>\n",
       "      <td>24.586000</td>\n",
       "      <td>122.93</td>\n",
       "      <td>gustavo_a_madero</td>\n",
       "      <td>7_de_noviembre</td>\n",
       "      <td>0.00</td>\n",
       "      <td>197.96</td>\n",
       "      <td>32.993333</td>\n",
       "      <td>75.03</td>\n",
       "      <td>3</td>\n",
       "      <td>75.03</td>\n",
       "      <td>57255</td>\n",
       "      <td>popular</td>\n",
       "      <td>19.455720</td>\n",
       "      <td>-99.113582</td>\n",
       "    </tr>\n",
       "    <tr>\n",
       "      <th>3</th>\n",
       "      <td>0.00</td>\n",
       "      <td>2019</td>\n",
       "      <td>Gustavo A. Madero</td>\n",
       "      <td>0.000000</td>\n",
       "      <td>0.00</td>\n",
       "      <td>gustavo_a_madero</td>\n",
       "      <td>nueva_tenochtitlan</td>\n",
       "      <td>0.00</td>\n",
       "      <td>253.53</td>\n",
       "      <td>84.510000</td>\n",
       "      <td>84.51</td>\n",
       "      <td>3</td>\n",
       "      <td>253.53</td>\n",
       "      <td>57267</td>\n",
       "      <td>bajo</td>\n",
       "      <td>19.459647</td>\n",
       "      <td>-99.104469</td>\n",
       "    </tr>\n",
       "    <tr>\n",
       "      <th>4</th>\n",
       "      <td>56.72</td>\n",
       "      <td>2019</td>\n",
       "      <td>Azcapotzalco</td>\n",
       "      <td>67.436250</td>\n",
       "      <td>539.49</td>\n",
       "      <td>azcapotzalco</td>\n",
       "      <td>prohogar</td>\n",
       "      <td>56.72</td>\n",
       "      <td>839.35</td>\n",
       "      <td>76.304545</td>\n",
       "      <td>121.57</td>\n",
       "      <td>3</td>\n",
       "      <td>243.14</td>\n",
       "      <td>57330</td>\n",
       "      <td>bajo</td>\n",
       "      <td>19.474161</td>\n",
       "      <td>-99.146750</td>\n",
       "    </tr>\n",
       "  </tbody>\n",
       "</table>\n",
       "</div>"
      ],
      "text/plain": [
       "   consumo_total_mixto  anio             nomgeo  consumo_prom_dom  \\\n",
       "0               159.72  2019  Gustavo A. Madero         42.566364   \n",
       "1                 0.00  2019  Gustavo A. Madero         35.936667   \n",
       "2                 0.00  2019  Gustavo A. Madero         24.586000   \n",
       "3                 0.00  2019  Gustavo A. Madero          0.000000   \n",
       "4                56.72  2019       Azcapotzalco         67.436250   \n",
       "\n",
       "   consumo_total_dom          alcaldia             colonia  \\\n",
       "0             468.23  gustavo_a_madero      7_de_noviembre   \n",
       "1             107.81  gustavo_a_madero      7_de_noviembre   \n",
       "2             122.93  gustavo_a_madero      7_de_noviembre   \n",
       "3               0.00  gustavo_a_madero  nueva_tenochtitlan   \n",
       "4             539.49      azcapotzalco            prohogar   \n",
       "\n",
       "   consumo_prom_mixto  consumo_total  consumo_prom  consumo_prom_no_dom  \\\n",
       "0               53.24         631.00     42.066667                 3.05   \n",
       "1                0.00         115.13     28.782500                 7.32   \n",
       "2                0.00         197.96     32.993333                75.03   \n",
       "3                0.00         253.53     84.510000                84.51   \n",
       "4               56.72         839.35     76.304545               121.57   \n",
       "\n",
       "   bimestre  consumo_total_no_dom    gid indice_des    latitud   longitud  \n",
       "0         3                  3.05  57250       alto  19.455260 -99.112662  \n",
       "1         3                  7.32  57253      medio  19.455260 -99.112662  \n",
       "2         3                 75.03  57255    popular  19.455720 -99.113582  \n",
       "3         3                253.53  57267       bajo  19.459647 -99.104469  \n",
       "4         3                243.14  57330       bajo  19.474161 -99.146750  "
      ]
     },
     "execution_count": 14,
     "metadata": {},
     "output_type": "execute_result"
    }
   ],
   "source": [
    "col_text = [\"alcaldia\", \"colonia\", \"indice_des\"]\n",
    "standarize_column_strings(data, col_text)\n",
    "data.head()"
   ]
  },
  {
   "cell_type": "markdown",
   "metadata": {},
   "source": [
    "### Efectuar nuevamente el proceso de identificación de variables numéricas, categóricas, texto y fechas\n",
    "\n",
    "* **Variables numéricas:** \n",
    "    * `consumo_total_mixto`\n",
    "    * `anio` (de nuevo, que puede ser contada como categórica)\n",
    "    * `consumo_promo_dom`\n",
    "    * `consumo_total_dom`\n",
    "    * `consumo_prom_mixto`\n",
    "    * `consumo_total`\n",
    "    * `consumo_prom`\n",
    "    * `consumo_prom_no_dom`\n",
    "    * `consumo_total_no_dom`\n",
    "    * `gid`\n",
    "    * `bimestre` (una vez mas) puede ser o no contada como numérica\n",
    "\n",
    "* **Variables de fecha:** ninguna. \n",
    "\n",
    "* **Variables de texto:** \n",
    "    * `latitud` y `longitud` son texto para pandas, aunque en realidad son coordenadas\n",
    "    * No hay variables que contengan texto a analizar\n",
    "\n",
    "* **Variables categóricas:** \n",
    "    * `nomgeo`\n",
    "    * `alcaldia`\n",
    "    * `colonia`\n",
    "    * `indices_des`\n",
    "    * `bimestre`"
   ]
  },
  {
   "cell_type": "code",
   "execution_count": 19,
   "metadata": {},
   "outputs": [
    {
     "name": "stdout",
     "output_type": "stream",
     "text": [
      "Tenemos 13 variables numéricas.\n",
      "Tenemos 0 variables de fecha.\n"
     ]
    }
   ],
   "source": [
    "contar_variables_numericas(data)\n",
    "contar_variables_fecha(data)"
   ]
  },
  {
   "cell_type": "code",
   "execution_count": 20,
   "metadata": {},
   "outputs": [
    {
     "data": {
      "text/plain": [
       "array(['Gustavo A. Madero', 'Azcapotzalco', 'Coyoacán', 'Tlalpan',\n",
       "       'Milpa Alta', 'Álvaro Obregón', 'Cuajimalpa de Morelos', 'Tláhuac',\n",
       "       'La Magdalena Contreras', 'Xochimilco', 'Iztapalapa', 'Iztacalco',\n",
       "       'Benito Juárez', 'Miguel Hidalgo', 'Cuauhtémoc',\n",
       "       'Venustiano Carranza'], dtype=object)"
      ]
     },
     "execution_count": 20,
     "metadata": {},
     "output_type": "execute_result"
    }
   ],
   "source": [
    "replace_column_value(data, 'nomgeo', 'Talpan', 'Tlalpan')\n",
    "data.nomgeo.unique()"
   ]
  },
  {
   "cell_type": "code",
   "execution_count": 21,
   "metadata": {},
   "outputs": [
    {
     "data": {
      "text/plain": [
       "16"
      ]
     },
     "execution_count": 21,
     "metadata": {},
     "output_type": "execute_result"
    }
   ],
   "source": [
    "data.nomgeo.nunique()"
   ]
  },
  {
   "cell_type": "markdown",
   "metadata": {},
   "source": [
    "### Genera el data profiling por variable. "
   ]
  },
  {
   "cell_type": "code",
   "execution_count": 22,
   "metadata": {},
   "outputs": [
    {
     "data": {
      "application/vnd.jupyter.widget-view+json": {
       "model_id": "fae0cabdba3e4735b70f81b4083ff8d3",
       "version_major": 2,
       "version_minor": 0
      },
      "text/plain": [
       "HBox(children=(FloatProgress(value=0.0, description='Summarize dataset', max=31.0, style=ProgressStyle(descrip…"
      ]
     },
     "metadata": {},
     "output_type": "display_data"
    },
    {
     "name": "stdout",
     "output_type": "stream",
     "text": [
      "\n"
     ]
    },
    {
     "data": {
      "application/vnd.jupyter.widget-view+json": {
       "model_id": "f32520d0894b4b31a48a23ec8ea8d49f",
       "version_major": 2,
       "version_minor": 0
      },
      "text/plain": [
       "HBox(children=(FloatProgress(value=0.0, description='Generate report structure', max=1.0, style=ProgressStyle(…"
      ]
     },
     "metadata": {},
     "output_type": "display_data"
    },
    {
     "name": "stdout",
     "output_type": "stream",
     "text": [
      "\n"
     ]
    },
    {
     "data": {
      "application/vnd.jupyter.widget-view+json": {
       "model_id": "7c8b72e5023d4f69ab3735ed3d444767",
       "version_major": 2,
       "version_minor": 0
      },
      "text/plain": [
       "HBox(children=(FloatProgress(value=0.0, description='Render HTML', max=1.0, style=ProgressStyle(description_wi…"
      ]
     },
     "metadata": {},
     "output_type": "display_data"
    },
    {
     "name": "stdout",
     "output_type": "stream",
     "text": [
      "\n"
     ]
    },
    {
     "data": {
      "application/vnd.jupyter.widget-view+json": {
       "model_id": "ea2b322c852246b28001f754d28f4aaf",
       "version_major": 2,
       "version_minor": 0
      },
      "text/plain": [
       "HBox(children=(FloatProgress(value=0.0, description='Export report to file', max=1.0, style=ProgressStyle(desc…"
      ]
     },
     "metadata": {},
     "output_type": "display_data"
    },
    {
     "name": "stdout",
     "output_type": "stream",
     "text": [
      "\n"
     ]
    }
   ],
   "source": [
    "final_profile = generar_data_profiling('Profiling final de consumo de agua', 'reportes/profiling_final.html')"
   ]
  },
  {
   "cell_type": "code",
   "execution_count": 15,
   "metadata": {
    "scrolled": true
   },
   "outputs": [
    {
     "data": {
      "text/html": [
       "<div>\n",
       "<style scoped>\n",
       "    .dataframe tbody tr th:only-of-type {\n",
       "        vertical-align: middle;\n",
       "    }\n",
       "\n",
       "    .dataframe tbody tr th {\n",
       "        vertical-align: top;\n",
       "    }\n",
       "\n",
       "    .dataframe thead th {\n",
       "        text-align: right;\n",
       "    }\n",
       "</style>\n",
       "<table border=\"1\" class=\"dataframe\">\n",
       "  <thead>\n",
       "    <tr style=\"text-align: right;\">\n",
       "      <th></th>\n",
       "      <th>consumo_total_mixto</th>\n",
       "      <th>anio</th>\n",
       "      <th>nomgeo</th>\n",
       "      <th>consumo_prom_dom</th>\n",
       "      <th>consumo_total_dom</th>\n",
       "      <th>alcaldia</th>\n",
       "      <th>colonia</th>\n",
       "      <th>consumo_prom_mixto</th>\n",
       "      <th>consumo_total</th>\n",
       "      <th>consumo_prom</th>\n",
       "      <th>consumo_prom_no_dom</th>\n",
       "      <th>bimestre</th>\n",
       "      <th>consumo_total_no_dom</th>\n",
       "      <th>gid</th>\n",
       "      <th>indice_des</th>\n",
       "      <th>latitud</th>\n",
       "      <th>longitud</th>\n",
       "    </tr>\n",
       "  </thead>\n",
       "  <tbody>\n",
       "    <tr>\n",
       "      <th>0</th>\n",
       "      <td>159.72</td>\n",
       "      <td>2019</td>\n",
       "      <td>gustavo_a_madero</td>\n",
       "      <td>42.566364</td>\n",
       "      <td>468.23</td>\n",
       "      <td>gustavo_a_madero</td>\n",
       "      <td>7_de_noviembre</td>\n",
       "      <td>53.24</td>\n",
       "      <td>631.00</td>\n",
       "      <td>42.066667</td>\n",
       "      <td>3.05</td>\n",
       "      <td>3</td>\n",
       "      <td>3.05</td>\n",
       "      <td>57250</td>\n",
       "      <td>alto</td>\n",
       "      <td>19.455260</td>\n",
       "      <td>-99.112662</td>\n",
       "    </tr>\n",
       "    <tr>\n",
       "      <th>1</th>\n",
       "      <td>0.00</td>\n",
       "      <td>2019</td>\n",
       "      <td>gustavo_a_madero</td>\n",
       "      <td>35.936667</td>\n",
       "      <td>107.81</td>\n",
       "      <td>gustavo_a_madero</td>\n",
       "      <td>7_de_noviembre</td>\n",
       "      <td>0.00</td>\n",
       "      <td>115.13</td>\n",
       "      <td>28.782500</td>\n",
       "      <td>7.32</td>\n",
       "      <td>3</td>\n",
       "      <td>7.32</td>\n",
       "      <td>57253</td>\n",
       "      <td>medio</td>\n",
       "      <td>19.455260</td>\n",
       "      <td>-99.112662</td>\n",
       "    </tr>\n",
       "    <tr>\n",
       "      <th>2</th>\n",
       "      <td>0.00</td>\n",
       "      <td>2019</td>\n",
       "      <td>gustavo_a_madero</td>\n",
       "      <td>24.586000</td>\n",
       "      <td>122.93</td>\n",
       "      <td>gustavo_a_madero</td>\n",
       "      <td>7_de_noviembre</td>\n",
       "      <td>0.00</td>\n",
       "      <td>197.96</td>\n",
       "      <td>32.993333</td>\n",
       "      <td>75.03</td>\n",
       "      <td>3</td>\n",
       "      <td>75.03</td>\n",
       "      <td>57255</td>\n",
       "      <td>popular</td>\n",
       "      <td>19.455720</td>\n",
       "      <td>-99.113582</td>\n",
       "    </tr>\n",
       "    <tr>\n",
       "      <th>3</th>\n",
       "      <td>0.00</td>\n",
       "      <td>2019</td>\n",
       "      <td>gustavo_a_madero</td>\n",
       "      <td>0.000000</td>\n",
       "      <td>0.00</td>\n",
       "      <td>gustavo_a_madero</td>\n",
       "      <td>nueva_tenochtitlan</td>\n",
       "      <td>0.00</td>\n",
       "      <td>253.53</td>\n",
       "      <td>84.510000</td>\n",
       "      <td>84.51</td>\n",
       "      <td>3</td>\n",
       "      <td>253.53</td>\n",
       "      <td>57267</td>\n",
       "      <td>bajo</td>\n",
       "      <td>19.459647</td>\n",
       "      <td>-99.104469</td>\n",
       "    </tr>\n",
       "    <tr>\n",
       "      <th>4</th>\n",
       "      <td>56.72</td>\n",
       "      <td>2019</td>\n",
       "      <td>azcapotzalco</td>\n",
       "      <td>67.436250</td>\n",
       "      <td>539.49</td>\n",
       "      <td>azcapotzalco</td>\n",
       "      <td>prohogar</td>\n",
       "      <td>56.72</td>\n",
       "      <td>839.35</td>\n",
       "      <td>76.304545</td>\n",
       "      <td>121.57</td>\n",
       "      <td>3</td>\n",
       "      <td>243.14</td>\n",
       "      <td>57330</td>\n",
       "      <td>bajo</td>\n",
       "      <td>19.474161</td>\n",
       "      <td>-99.146750</td>\n",
       "    </tr>\n",
       "  </tbody>\n",
       "</table>\n",
       "</div>"
      ],
      "text/plain": [
       "   consumo_total_mixto  anio            nomgeo  consumo_prom_dom  \\\n",
       "0               159.72  2019  gustavo_a_madero         42.566364   \n",
       "1                 0.00  2019  gustavo_a_madero         35.936667   \n",
       "2                 0.00  2019  gustavo_a_madero         24.586000   \n",
       "3                 0.00  2019  gustavo_a_madero          0.000000   \n",
       "4                56.72  2019      azcapotzalco         67.436250   \n",
       "\n",
       "   consumo_total_dom          alcaldia             colonia  \\\n",
       "0             468.23  gustavo_a_madero      7_de_noviembre   \n",
       "1             107.81  gustavo_a_madero      7_de_noviembre   \n",
       "2             122.93  gustavo_a_madero      7_de_noviembre   \n",
       "3               0.00  gustavo_a_madero  nueva_tenochtitlan   \n",
       "4             539.49      azcapotzalco            prohogar   \n",
       "\n",
       "   consumo_prom_mixto  consumo_total  consumo_prom  consumo_prom_no_dom  \\\n",
       "0               53.24         631.00     42.066667                 3.05   \n",
       "1                0.00         115.13     28.782500                 7.32   \n",
       "2                0.00         197.96     32.993333                75.03   \n",
       "3                0.00         253.53     84.510000                84.51   \n",
       "4               56.72         839.35     76.304545               121.57   \n",
       "\n",
       "   bimestre  consumo_total_no_dom    gid indice_des    latitud   longitud  \n",
       "0         3                  3.05  57250       alto  19.455260 -99.112662  \n",
       "1         3                  7.32  57253      medio  19.455260 -99.112662  \n",
       "2         3                 75.03  57255    popular  19.455720 -99.113582  \n",
       "3         3                253.53  57267       bajo  19.459647 -99.104469  \n",
       "4         3                243.14  57330       bajo  19.474161 -99.146750  "
      ]
     },
     "execution_count": 15,
     "metadata": {},
     "output_type": "execute_result"
    }
   ],
   "source": [
    "# prueba de funcion de limpieza global\n",
    "data = clean_data_from(data_path)\n",
    "data.head()"
   ]
  },
  {
   "cell_type": "markdown",
   "metadata": {},
   "source": [
    "# EXPOSICIÓN\n",
    "\n",
    "# Data Profiling"
   ]
  },
  {
   "cell_type": "markdown",
   "metadata": {},
   "source": [
    "## Errores en  los datos\n",
    "\n",
    "Con el objetivo de detectar posibles en los datos, se contestaron las siguientes preguntas:\n",
    "* ¿Existen consumos negativos?\n",
    "* ¿Existen valores igual a cero para el consumo?\n",
    "* ¿Existen observaciones donde la suma de los consumos no equivalga al consumo total?\n",
    "* ¿Existen observaciones donde el total de manzanas no sea la suma de los 3 tipos de manzana?\n",
    "* ¿En cuántas observaciones no coinciden los valores de `alcaldia` y `nomgeo`?"
   ]
  },
  {
   "cell_type": "markdown",
   "metadata": {},
   "source": [
    "## ¿Existen consumos negativos?"
   ]
  },
  {
   "cell_type": "code",
   "execution_count": 24,
   "metadata": {},
   "outputs": [
    {
     "name": "stdout",
     "output_type": "stream",
     "text": [
      "número de datos con valores negativos\n",
      "consumo_total_mixto: 0\n",
      "consumo_prom_mixto: 0\n",
      "consumo_total_dom: 0\n",
      "consumo_prom_dom: 0\n",
      "consumo_total_no_dom: 0\n",
      "consumo_prom_no_dom: 0\n",
      "consumo_total: 0\n",
      "consumo_prom: 0\n"
     ]
    }
   ],
   "source": [
    "consumos = ['consumo_total_mixto', 'consumo_prom_mixto', \n",
    "            'consumo_total_dom', 'consumo_prom_dom',\n",
    "            'consumo_total_no_dom', 'consumo_prom_no_dom',\n",
    "            'consumo_total', 'consumo_prom']\n",
    "\n",
    "print(\"número de datos con valores negativos\")\n",
    "for consumo in consumos:\n",
    "    print(f\"{consumo}: {len(data[data[consumo] < 0])}\")"
   ]
  },
  {
   "cell_type": "markdown",
   "metadata": {},
   "source": [
    "| Tipo de consumo               | Porcentaje |\n",
    "|-------------------------------|------------|\n",
    "| Consumo total mixto           | 0          |\n",
    "| Consumo promedio mixto        | 0          |\n",
    "| Consumo total domestico       | 0          |\n",
    "| Consumo promedio domestico    | 0          |\n",
    "| Consumo total no domestico    | 0          |\n",
    "| Consumo promedio no domestico | 0          |\n",
    "| Consumo total                 | 0          |\n",
    "| Consumo total promedio        | 0          |"
   ]
  },
  {
   "cell_type": "markdown",
   "metadata": {},
   "source": [
    "## ¿Existen valores igual a cero para el consumo?"
   ]
  },
  {
   "cell_type": "code",
   "execution_count": 25,
   "metadata": {},
   "outputs": [
    {
     "name": "stdout",
     "output_type": "stream",
     "text": [
      "porcentaje de datos con valores igual a cero\n",
      "consumo_total_mixto: 24.9\n",
      "consumo_prom_mixto: 24.9\n",
      "consumo_total_dom: 13.9\n",
      "consumo_prom_dom: 13.9\n",
      "consumo_total_no_dom: 11.4\n",
      "consumo_prom_no_dom: 11.4\n",
      "consumo_total: 3.4\n",
      "consumo_prom: 3.4\n"
     ]
    }
   ],
   "source": [
    "print(\"porcentaje de datos con valores igual a cero\")\n",
    "for consumo in consumos:\n",
    "    print(f\"{consumo}: {round(len(data[data[consumo] == 0]) / len(data[consumo]) * 100, 1)}\")"
   ]
  },
  {
   "cell_type": "markdown",
   "metadata": {},
   "source": [
    "| Tipo de consumo               | Porcentaje |\n",
    "|-------------------------------|------------|\n",
    "| Consumo total mixto           | 24.9       |\n",
    "| Consumo promedio mixto        | 24.9       |\n",
    "| Consumo total domestico       | 13.9       |\n",
    "| Consumo promedio domestico    | 13.9       |\n",
    "| Consumo total no domestico    | 11.4       |\n",
    "| Consumo promedio no domestico | 11.4       |\n",
    "| Consumo total                 | 3.4        |\n",
    "| Consumo total promedio        | 3.4        |"
   ]
  },
  {
   "cell_type": "markdown",
   "metadata": {},
   "source": [
    "Es posible verificar que para cada tipo de consumo, el número de observaciones faltantes es el mismo tanto para el dato de total como para el promedio."
   ]
  },
  {
   "cell_type": "markdown",
   "metadata": {},
   "source": [
    "## ¿Existen observaciones donde la suma de los consumos no equivalga al consumo total?\n",
    "\n",
    "Debido a que el consumo total (i.e. `consumo_total`) se calcula de la siguiente manera:\n",
    "\n",
    "$$consumo\\_total = consumo\\_total\\_domestico + consumo\\_total\\_no\\_domestico + consumo\\_total\\_mixto$$ \n",
    "\n",
    "se comprobó el número de observaciones que divergían de dicho cálculo obteniendo los siguientes resultados:"
   ]
  },
  {
   "cell_type": "code",
   "execution_count": 26,
   "metadata": {},
   "outputs": [],
   "source": [
    "data_sin_na = data[data.consumo_total_mixto.notna() & data.consumo_prom_mixto.notna()\n",
    "                   & data.consumo_total_dom.notna() & data.consumo_prom_dom.notna()\n",
    "                   & data.consumo_total_no_dom.notna() & data.consumo_prom_no_dom.notna()\n",
    "                   & data.consumo_total.notna() & data.consumo_prom.notna()\n",
    "                  ]"
   ]
  },
  {
   "cell_type": "markdown",
   "metadata": {},
   "source": [
    "### ¿Cúantos valores divergen al nivel de unidades?"
   ]
  },
  {
   "cell_type": "code",
   "execution_count": 27,
   "metadata": {},
   "outputs": [
    {
     "data": {
      "text/plain": [
       "0"
      ]
     },
     "execution_count": 27,
     "metadata": {},
     "output_type": "execute_result"
    }
   ],
   "source": [
    "len(data_sin_na[\n",
    "    data_sin_na.consumo_total - \n",
    "    (data_sin_na.consumo_total_dom \n",
    "     + data_sin_na.consumo_total_mixto\n",
    "     + data_sin_na.consumo_total_no_dom) > 1])"
   ]
  },
  {
   "cell_type": "markdown",
   "metadata": {},
   "source": [
    "### ¿Cúantos valores divergen al nivel de décimas?"
   ]
  },
  {
   "cell_type": "code",
   "execution_count": 28,
   "metadata": {},
   "outputs": [
    {
     "data": {
      "text/plain": [
       "6"
      ]
     },
     "execution_count": 28,
     "metadata": {},
     "output_type": "execute_result"
    }
   ],
   "source": [
    "len(data_sin_na[\n",
    "    data_sin_na.consumo_total - \n",
    "    (data_sin_na.consumo_total_dom \n",
    "     + data_sin_na.consumo_total_mixto\n",
    "     + data_sin_na.consumo_total_no_dom) > 0.1])"
   ]
  },
  {
   "cell_type": "markdown",
   "metadata": {},
   "source": [
    "### ¿Cúantos valores divergen al nivel de centésimas?"
   ]
  },
  {
   "cell_type": "code",
   "execution_count": 29,
   "metadata": {},
   "outputs": [
    {
     "data": {
      "text/plain": [
       "149"
      ]
     },
     "execution_count": 29,
     "metadata": {},
     "output_type": "execute_result"
    }
   ],
   "source": [
    "len(data_sin_na[\n",
    "    data_sin_na.consumo_total - \n",
    "    (data_sin_na.consumo_total_dom \n",
    "     + data_sin_na.consumo_total_mixto\n",
    "     + data_sin_na.consumo_total_no_dom) > 0.01])"
   ]
  },
  {
   "cell_type": "markdown",
   "metadata": {},
   "source": [
    "## ¿Existen observaciones donde el total de manzanas no sea la suma de los 3 tipos de manzana?\n",
    "\n",
    "Considerando a los consumos promedios como:\n",
    "\n",
    "$$ consumo\\_promedio = \\frac{consumo\\_total}{no\\_manzanas} $$\n",
    "\n",
    "Se comprobó que el número total de manzanas equivalga a la suma de las manzanas domésticas, no domésticas y mixtas obteniendo los siguientes resultados:"
   ]
  },
  {
   "cell_type": "code",
   "execution_count": 30,
   "metadata": {},
   "outputs": [],
   "source": [
    "manzanas = round(data_sin_na.consumo_total / data_sin_na.consumo_prom)\n",
    "manzanas_dom = round(data_sin_na.consumo_total_dom / data_sin_na.consumo_prom_dom)\n",
    "manzanas_no_dom = round(data_sin_na.consumo_total_no_dom / data_sin_na.consumo_prom_no_dom)\n",
    "manzanas_mixto = round(data_sin_na.consumo_total_mixto / data_sin_na.consumo_prom_mixto)\n",
    "\n",
    "manzanas.fillna(0, inplace=True)\n",
    "manzanas_dom.fillna(0, inplace=True)\n",
    "manzanas_no_dom.fillna(0, inplace=True)\n",
    "manzanas_mixto.fillna(0, inplace=True)"
   ]
  },
  {
   "cell_type": "code",
   "execution_count": 31,
   "metadata": {},
   "outputs": [],
   "source": [
    "manzanas_df = pd.DataFrame(data={\n",
    "    'tot': manzanas,\n",
    "    'dom': manzanas_dom,\n",
    "    'no_dom': manzanas_no_dom,\n",
    "    'mixto': manzanas_mixto\n",
    "})"
   ]
  },
  {
   "cell_type": "code",
   "execution_count": 32,
   "metadata": {},
   "outputs": [],
   "source": [
    "manzanas_df['delta'] = manzanas_df.tot - (manzanas_df.dom + manzanas_df.no_dom + manzanas_df.mixto)"
   ]
  },
  {
   "cell_type": "markdown",
   "metadata": {},
   "source": [
    "### ¿En cuántas observaciones el número de manzanas no cuadra?"
   ]
  },
  {
   "cell_type": "code",
   "execution_count": 33,
   "metadata": {},
   "outputs": [
    {
     "data": {
      "text/plain": [
       "5650"
      ]
     },
     "execution_count": 33,
     "metadata": {},
     "output_type": "execute_result"
    }
   ],
   "source": [
    "len(manzanas_df[manzanas_df.delta != 0])"
   ]
  },
  {
   "cell_type": "markdown",
   "metadata": {},
   "source": [
    "### ¿Qué porcentaje representa?"
   ]
  },
  {
   "cell_type": "code",
   "execution_count": 34,
   "metadata": {},
   "outputs": [
    {
     "name": "stdout",
     "output_type": "stream",
     "text": [
      "9.1%\n"
     ]
    }
   ],
   "source": [
    "print(f\"{round(len(manzanas_df[manzanas_df.delta != 0]) / len(manzanas_df), 3) * 100}%\")"
   ]
  },
  {
   "cell_type": "markdown",
   "metadata": {},
   "source": [
    "### ¿Cómo se distribuyen?"
   ]
  },
  {
   "cell_type": "code",
   "execution_count": 35,
   "metadata": {},
   "outputs": [
    {
     "data": {
      "text/html": [
       "<div>\n",
       "<style scoped>\n",
       "    .dataframe tbody tr th:only-of-type {\n",
       "        vertical-align: middle;\n",
       "    }\n",
       "\n",
       "    .dataframe tbody tr th {\n",
       "        vertical-align: top;\n",
       "    }\n",
       "\n",
       "    .dataframe thead th {\n",
       "        text-align: right;\n",
       "    }\n",
       "</style>\n",
       "<table border=\"1\" class=\"dataframe\">\n",
       "  <thead>\n",
       "    <tr style=\"text-align: right;\">\n",
       "      <th></th>\n",
       "      <th>diferencia</th>\n",
       "      <th>observaciones</th>\n",
       "      <th>fraccion</th>\n",
       "    </tr>\n",
       "  </thead>\n",
       "  <tbody>\n",
       "    <tr>\n",
       "      <th>0</th>\n",
       "      <td>0.0</td>\n",
       "      <td>56564</td>\n",
       "      <td>90.9</td>\n",
       "    </tr>\n",
       "    <tr>\n",
       "      <th>1</th>\n",
       "      <td>1.0</td>\n",
       "      <td>4742</td>\n",
       "      <td>7.6</td>\n",
       "    </tr>\n",
       "    <tr>\n",
       "      <th>2</th>\n",
       "      <td>2.0</td>\n",
       "      <td>707</td>\n",
       "      <td>1.1</td>\n",
       "    </tr>\n",
       "    <tr>\n",
       "      <th>3</th>\n",
       "      <td>3.0</td>\n",
       "      <td>139</td>\n",
       "      <td>0.2</td>\n",
       "    </tr>\n",
       "    <tr>\n",
       "      <th>4</th>\n",
       "      <td>4.0</td>\n",
       "      <td>34</td>\n",
       "      <td>0.1</td>\n",
       "    </tr>\n",
       "    <tr>\n",
       "      <th>5</th>\n",
       "      <td>5.0</td>\n",
       "      <td>16</td>\n",
       "      <td>0.0</td>\n",
       "    </tr>\n",
       "    <tr>\n",
       "      <th>9</th>\n",
       "      <td>6.0</td>\n",
       "      <td>1</td>\n",
       "      <td>0.0</td>\n",
       "    </tr>\n",
       "    <tr>\n",
       "      <th>6</th>\n",
       "      <td>7.0</td>\n",
       "      <td>6</td>\n",
       "      <td>0.0</td>\n",
       "    </tr>\n",
       "    <tr>\n",
       "      <th>7</th>\n",
       "      <td>8.0</td>\n",
       "      <td>3</td>\n",
       "      <td>0.0</td>\n",
       "    </tr>\n",
       "    <tr>\n",
       "      <th>8</th>\n",
       "      <td>16.0</td>\n",
       "      <td>2</td>\n",
       "      <td>0.0</td>\n",
       "    </tr>\n",
       "  </tbody>\n",
       "</table>\n",
       "</div>"
      ],
      "text/plain": [
       "   diferencia  observaciones  fraccion\n",
       "0         0.0          56564      90.9\n",
       "1         1.0           4742       7.6\n",
       "2         2.0            707       1.1\n",
       "3         3.0            139       0.2\n",
       "4         4.0             34       0.1\n",
       "5         5.0             16       0.0\n",
       "9         6.0              1       0.0\n",
       "6         7.0              6       0.0\n",
       "7         8.0              3       0.0\n",
       "8        16.0              2       0.0"
      ]
     },
     "execution_count": 35,
     "metadata": {},
     "output_type": "execute_result"
    }
   ],
   "source": [
    "conteo_deltas = manzanas_df.delta.value_counts()\n",
    "deltas_df = pd.DataFrame(data={\n",
    "    'diferencia': conteo_deltas.index,\n",
    "    'observaciones': conteo_deltas.values})\n",
    "\n",
    "deltas_df[\"fraccion\"] = round(deltas_df.observaciones / sum(deltas_df.observaciones), 3) * 100\n",
    "\n",
    "deltas_df.sort_values([\"diferencia\"])"
   ]
  },
  {
   "cell_type": "markdown",
   "metadata": {},
   "source": [
    "## Datos faltantes\n",
    "\n",
    "Con base en los resultados obtenidos del Data Profiling, generamos un cuadro que condense la información sobre las variables que contienen *missing values*. Podemos observar que estas variables se refieren a algún tipo de consumo, en específico las de consumo mixto y consumo doméstico:"
   ]
  },
  {
   "cell_type": "code",
   "execution_count": 36,
   "metadata": {
    "scrolled": true
   },
   "outputs": [
    {
     "data": {
      "text/plain": [
       "consumo_total_mixto     8327\n",
       "anio                       0\n",
       "nomgeo                     0\n",
       "consumo_prom_dom        4820\n",
       "consumo_total_dom       4820\n",
       "alcaldia                   0\n",
       "colonia                    0\n",
       "consumo_prom_mixto      8327\n",
       "consumo_total              0\n",
       "consumo_prom               0\n",
       "consumo_prom_no_dom        0\n",
       "bimestre                   0\n",
       "consumo_total_no_dom       0\n",
       "gid                        0\n",
       "indice_des                 0\n",
       "latitud                    0\n",
       "longitud                   0\n",
       "dtype: int64"
      ]
     },
     "execution_count": 36,
     "metadata": {},
     "output_type": "execute_result"
    }
   ],
   "source": [
    "data.isna().sum()"
   ]
  },
  {
   "cell_type": "markdown",
   "metadata": {},
   "source": [
    "Dado que el resto de variables tienen información completa para el total de las observaciones, podríamos sospechar que los missing values se expliquen por manzanas donde no existe ese tipo de consumo particular."
   ]
  },
  {
   "cell_type": "code",
   "execution_count": 37,
   "metadata": {},
   "outputs": [
    {
     "data": {
      "text/html": [
       "<div>\n",
       "<style scoped>\n",
       "    .dataframe tbody tr th:only-of-type {\n",
       "        vertical-align: middle;\n",
       "    }\n",
       "\n",
       "    .dataframe tbody tr th {\n",
       "        vertical-align: top;\n",
       "    }\n",
       "\n",
       "    .dataframe thead th {\n",
       "        text-align: right;\n",
       "    }\n",
       "</style>\n",
       "<table border=\"1\" class=\"dataframe\">\n",
       "  <thead>\n",
       "    <tr style=\"text-align: right;\">\n",
       "      <th></th>\n",
       "      <th>id</th>\n",
       "      <th>variable</th>\n",
       "      <th>total</th>\n",
       "      <th>porcentaje</th>\n",
       "    </tr>\n",
       "  </thead>\n",
       "  <tbody>\n",
       "    <tr>\n",
       "      <th>0</th>\n",
       "      <td>1</td>\n",
       "      <td>consumo_total_mixto</td>\n",
       "      <td>8327</td>\n",
       "      <td>11.7</td>\n",
       "    </tr>\n",
       "    <tr>\n",
       "      <th>1</th>\n",
       "      <td>2</td>\n",
       "      <td>consumo_prom_mixto</td>\n",
       "      <td>8327</td>\n",
       "      <td>11.7</td>\n",
       "    </tr>\n",
       "    <tr>\n",
       "      <th>2</th>\n",
       "      <td>3</td>\n",
       "      <td>consumo_total_dom</td>\n",
       "      <td>4820</td>\n",
       "      <td>6.8</td>\n",
       "    </tr>\n",
       "    <tr>\n",
       "      <th>3</th>\n",
       "      <td>4</td>\n",
       "      <td>consumo_prom_dom</td>\n",
       "      <td>4820</td>\n",
       "      <td>6.8</td>\n",
       "    </tr>\n",
       "  </tbody>\n",
       "</table>\n",
       "</div>"
      ],
      "text/plain": [
       "   id             variable  total  porcentaje\n",
       "0   1  consumo_total_mixto   8327        11.7\n",
       "1   2   consumo_prom_mixto   8327        11.7\n",
       "2   3    consumo_total_dom   4820         6.8\n",
       "3   4     consumo_prom_dom   4820         6.8"
      ]
     },
     "execution_count": 37,
     "metadata": {},
     "output_type": "execute_result"
    }
   ],
   "source": [
    "mv_df = pd.DataFrame(data=[[1,'consumo_total_mixto',data['consumo_total_mixto'].isna().sum(),round(data['consumo_total_mixto'].isna().sum()/data.shape[0]*100,1)],\n",
    "                       [2,'consumo_prom_mixto',data['consumo_prom_mixto'].isna().sum(),round(data['consumo_prom_mixto'].isna().sum()/data.shape[0]*100,1)],\n",
    "                       [3,'consumo_total_dom',data['consumo_total_dom'].isna().sum(),round(data['consumo_total_dom'].isna().sum()/data.shape[0]*100,1)],\n",
    "                       [4,'consumo_prom_dom',data['consumo_prom_dom'].isna().sum(),round(data['consumo_prom_dom'].isna().sum()/data.shape[0]*100,1)]],\n",
    "                 columns=['id', 'variable', 'total', 'porcentaje'])\n",
    "mv_df       "
   ]
  },
  {
   "cell_type": "code",
   "execution_count": 38,
   "metadata": {
    "scrolled": true
   },
   "outputs": [
    {
     "data": {
      "image/png": "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\n",
      "text/plain": [
       "<Figure size 432x288 with 1 Axes>"
      ]
     },
     "metadata": {
      "needs_background": "light"
     },
     "output_type": "display_data"
    }
   ],
   "source": [
    "mv_g1 = sns.barplot(y = \"total\", x = \"variable\", data = mv_df, ci = None)\n",
    "for item in mv_g1.get_xticklabels():\n",
    "    item.set_rotation(45)\n",
    "mv_g1.set_title(\"Número de datos faltantes\")\n",
    "ylabels = ['{:,.0f}'.format(y) for y in mv_g1.get_yticks()]\n",
    "mv_g1.set_yticklabels(ylabels);"
   ]
  },
  {
   "cell_type": "code",
   "execution_count": 39,
   "metadata": {
    "scrolled": true
   },
   "outputs": [
    {
     "data": {
      "text/plain": [
       "Text(0.5, 1.0, 'Porcentaje datos faltantes')"
      ]
     },
     "execution_count": 39,
     "metadata": {},
     "output_type": "execute_result"
    },
    {
     "data": {
      "image/png": "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\n",
      "text/plain": [
       "<Figure size 432x288 with 1 Axes>"
      ]
     },
     "metadata": {
      "needs_background": "light"
     },
     "output_type": "display_data"
    }
   ],
   "source": [
    "mv_g2 = sns.barplot(y = \"porcentaje\", x = \"variable\", data = mv_df, ci = None)\n",
    "for item in mv_g2.get_xticklabels():\n",
    "    item.set_rotation(45)\n",
    "mv_g2.set_title(\"Porcentaje datos faltantes\")"
   ]
  },
  {
   "cell_type": "markdown",
   "metadata": {},
   "source": [
    "Recordamos que el consumo total de una manzana se compone de la suma de las tomas de agua de tipo doméstico, no doméstico y mixto.\n",
    "Esto lo podemos comprobar, y si ambas sumas son iguales, podríamos afirmar que los missing values efectivamente corresponden a manzanas donde no existen tomas de dichas características."
   ]
  },
  {
   "cell_type": "code",
   "execution_count": 40,
   "metadata": {},
   "outputs": [
    {
     "name": "stdout",
     "output_type": "stream",
     "text": [
      "120578129.0 120578129.0\n"
     ]
    }
   ],
   "source": [
    "con_tot_comp =round(data['consumo_total_mixto'].sum() + data['consumo_total_dom'].sum() + data['consumo_total_no_dom'].sum(),0)\n",
    "con_tot = round(data['consumo_total'].sum(),0)\n",
    "print(con_tot,con_tot_comp)"
   ]
  },
  {
   "cell_type": "markdown",
   "metadata": {},
   "source": [
    "Y efectivamente vemos que las sumas coinciden y que la diferencia es cero:"
   ]
  },
  {
   "cell_type": "code",
   "execution_count": 41,
   "metadata": {},
   "outputs": [
    {
     "data": {
      "text/plain": [
       "0.0"
      ]
     },
     "execution_count": 41,
     "metadata": {},
     "output_type": "execute_result"
    }
   ],
   "source": [
    "con_tot - con_tot_comp"
   ]
  },
  {
   "cell_type": "markdown",
   "metadata": {},
   "source": [
    "# Comportamiento del consumo bimestral"
   ]
  },
  {
   "cell_type": "markdown",
   "metadata": {},
   "source": [
    "Con el objetivo de detectar posibles en los datos, se contestaron las siguientes preguntas:\n",
    "\n",
    "* ¿De cuántos bimestres tenemos información?\n",
    "* ¿Cúantas observaciones se tienen por bimestre?\n",
    "* ¿Existen diferencias considerables entre el consumo por bimestre?"
   ]
  },
  {
   "cell_type": "markdown",
   "metadata": {},
   "source": [
    "### ¿De cuántos bimestres tenemos información?"
   ]
  },
  {
   "cell_type": "code",
   "execution_count": 44,
   "metadata": {},
   "outputs": [
    {
     "data": {
      "text/plain": [
       "3"
      ]
     },
     "execution_count": 44,
     "metadata": {},
     "output_type": "execute_result"
    }
   ],
   "source": [
    "data.bimestre.nunique()"
   ]
  },
  {
   "cell_type": "markdown",
   "metadata": {},
   "source": [
    "### ¿Cúantas observaciones se tienen por bimestre?"
   ]
  },
  {
   "cell_type": "code",
   "execution_count": 45,
   "metadata": {},
   "outputs": [
    {
     "data": {
      "text/html": [
       "<div>\n",
       "<style scoped>\n",
       "    .dataframe tbody tr th:only-of-type {\n",
       "        vertical-align: middle;\n",
       "    }\n",
       "\n",
       "    .dataframe tbody tr th {\n",
       "        vertical-align: top;\n",
       "    }\n",
       "\n",
       "    .dataframe thead th {\n",
       "        text-align: right;\n",
       "    }\n",
       "</style>\n",
       "<table border=\"1\" class=\"dataframe\">\n",
       "  <thead>\n",
       "    <tr style=\"text-align: right;\">\n",
       "      <th></th>\n",
       "      <th>bimestre</th>\n",
       "      <th>observaciones</th>\n",
       "    </tr>\n",
       "  </thead>\n",
       "  <tbody>\n",
       "    <tr>\n",
       "      <th>0</th>\n",
       "      <td>1</td>\n",
       "      <td>23338</td>\n",
       "    </tr>\n",
       "    <tr>\n",
       "      <th>1</th>\n",
       "      <td>2</td>\n",
       "      <td>23942</td>\n",
       "    </tr>\n",
       "    <tr>\n",
       "      <th>2</th>\n",
       "      <td>3</td>\n",
       "      <td>23822</td>\n",
       "    </tr>\n",
       "  </tbody>\n",
       "</table>\n",
       "</div>"
      ],
      "text/plain": [
       "   bimestre  observaciones\n",
       "0         1          23338\n",
       "1         2          23942\n",
       "2         3          23822"
      ]
     },
     "execution_count": 45,
     "metadata": {},
     "output_type": "execute_result"
    }
   ],
   "source": [
    "conteo_bimestres = data.bimestre.value_counts()\n",
    "bim_df = pd.DataFrame(data={'bimestre': conteo_bimestres.index, 'observaciones': conteo_bimestres.values})\n",
    "bim_df.sort_values(by=['bimestre'], inplace=True, ignore_index=True)\n",
    "bim_df"
   ]
  },
  {
   "cell_type": "markdown",
   "metadata": {},
   "source": [
    "### ¿Existen diferencias considerables entre el consumo por bimestre?\n",
    "\n",
    "Podemos graficar para cada alcaldía el consumo total por bimestre para identificar si el comportamiento es muy distinto entre bimestres:"
   ]
  },
  {
   "cell_type": "code",
   "execution_count": 251,
   "metadata": {
    "scrolled": true
   },
   "outputs": [
    {
     "data": {
      "image/png": "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\n",
      "text/plain": [
       "<Figure size 360x576 with 1 Axes>"
      ]
     },
     "metadata": {
      "needs_background": "light"
     },
     "output_type": "display_data"
    }
   ],
   "source": [
    "f = plt.subplots(figsize=(5, 8))\n",
    "\n",
    "g_ct = sns.barplot(y = \"alcaldia\", x = \"consumo_total\", hue = \"bimestre\", estimator = sum, data = data, ci = None,\n",
    "order = [\"cuauhtemoc\", \"miguel_hidalgo\", \"benito_juarez\", \"gustavo_a_madero\", \"alvaro_obregon\", \"azcapotzalco\",\n",
    "         \"iztapalapa\", \"coyoacan\", \"venustiano_carranza\", \"iztacalco\", \"tlalpan\", \"cuajimalpa\", \"xochimilco\", \n",
    "         \"magdalena_contreras\", \"tlahuac\", \"milpa_alta\"]);\n",
    "g_ct.set(title='Consumo total de agua',xlabel='m3', ylabel='alcaldia');"
   ]
  },
  {
   "cell_type": "markdown",
   "metadata": {},
   "source": [
    "Podemos observar que, en términos generales, el consumo del primer brimestre es ligeramente más bajo respecto los bimestres dos y tres, sin embargo la diferencia no parece ser significativa. En ese sentido, por simplicidad y ante la falta de información sobre años previos que permitan verificar estacionalidad en los datos, el análisis y el GEDA de las variables de consumo se realizará para el total del año."
   ]
  },
  {
   "cell_type": "code",
   "execution_count": 260,
   "metadata": {},
   "outputs": [
    {
     "name": "stderr",
     "output_type": "stream",
     "text": [
      "/Users/cbautistap/.pyenv/versions/itam_intro_to_ds/lib/python3.7/site-packages/ipykernel_launcher.py:11: UserWarning: FixedFormatter should only be used together with FixedLocator\n",
      "  # This is added back by InteractiveShellApp.init_path()\n"
     ]
    },
    {
     "data": {
      "image/png": "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\n",
      "text/plain": [
       "<Figure size 360x576 with 1 Axes>"
      ]
     },
     "metadata": {
      "needs_background": "light"
     },
     "output_type": "display_data"
    }
   ],
   "source": [
    "f = plt.subplots(figsize=(5, 8))\n",
    "\n",
    "g_cp = sns.barplot(y = \"alcaldia\", x = \"consumo_prom\", hue = \"bimestre\", estimator = sum, data = data, ci = None,\n",
    "order = [\"cuauhtemoc\", \"miguel_hidalgo\",\"gustavo_a_madero\", \"iztapalapa\", \"tlalpan\", \"coyoacan\",  \"azcapotzalco\",\n",
    "         \"alvaro_obregon\", \"benito_juarez\", \"venustiano_carranza\",  \"iztacalco\", \"xochimilco\", \"cuajimalpa\",  \n",
    "         \"magdalena_contreras\", \"tlahuac\", \"milpa_alta\"])\n",
    "g_cp.set(title='Consumo promedio de agua',xlabel='m3', ylabel='alcaldia');\n",
    "for item in g_cp.get_xticklabels():\n",
    "    item.set_rotation(45)\n",
    "xlabels = ['{:,}'.format(x) for x in g_cp.get_xticks()]\n",
    "g_cp.set_xticklabels(xlabels);"
   ]
  },
  {
   "cell_type": "markdown",
   "metadata": {},
   "source": [
    "Por cada tipo de consumo"
   ]
  },
  {
   "cell_type": "code",
   "execution_count": 253,
   "metadata": {},
   "outputs": [
    {
     "data": {
      "text/html": [
       "<div>\n",
       "<style scoped>\n",
       "    .dataframe tbody tr th:only-of-type {\n",
       "        vertical-align: middle;\n",
       "    }\n",
       "\n",
       "    .dataframe tbody tr th {\n",
       "        vertical-align: top;\n",
       "    }\n",
       "\n",
       "    .dataframe thead th {\n",
       "        text-align: right;\n",
       "    }\n",
       "</style>\n",
       "<table border=\"1\" class=\"dataframe\">\n",
       "  <thead>\n",
       "    <tr style=\"text-align: right;\">\n",
       "      <th></th>\n",
       "      <th>id</th>\n",
       "      <th>bimestre</th>\n",
       "      <th>alcaldia</th>\n",
       "      <th>consumo</th>\n",
       "      <th>value</th>\n",
       "    </tr>\n",
       "  </thead>\n",
       "  <tbody>\n",
       "    <tr>\n",
       "      <th>0</th>\n",
       "      <td>0</td>\n",
       "      <td>1</td>\n",
       "      <td>alvaro_obregon</td>\n",
       "      <td>consumo_total</td>\n",
       "      <td>2927454.94</td>\n",
       "    </tr>\n",
       "    <tr>\n",
       "      <th>1</th>\n",
       "      <td>1</td>\n",
       "      <td>1</td>\n",
       "      <td>azcapotzalco</td>\n",
       "      <td>consumo_total</td>\n",
       "      <td>2737378.47</td>\n",
       "    </tr>\n",
       "    <tr>\n",
       "      <th>2</th>\n",
       "      <td>2</td>\n",
       "      <td>1</td>\n",
       "      <td>benito_juarez</td>\n",
       "      <td>consumo_total</td>\n",
       "      <td>4416820.03</td>\n",
       "    </tr>\n",
       "    <tr>\n",
       "      <th>3</th>\n",
       "      <td>3</td>\n",
       "      <td>1</td>\n",
       "      <td>coyoacan</td>\n",
       "      <td>consumo_total</td>\n",
       "      <td>2362166.70</td>\n",
       "    </tr>\n",
       "    <tr>\n",
       "      <th>4</th>\n",
       "      <td>4</td>\n",
       "      <td>1</td>\n",
       "      <td>cuajimalpa</td>\n",
       "      <td>consumo_total</td>\n",
       "      <td>894356.87</td>\n",
       "    </tr>\n",
       "    <tr>\n",
       "      <th>...</th>\n",
       "      <td>...</td>\n",
       "      <td>...</td>\n",
       "      <td>...</td>\n",
       "      <td>...</td>\n",
       "      <td>...</td>\n",
       "    </tr>\n",
       "    <tr>\n",
       "      <th>187</th>\n",
       "      <td>43</td>\n",
       "      <td>3</td>\n",
       "      <td>milpa_alta</td>\n",
       "      <td>consumo_total_no_dom</td>\n",
       "      <td>19823.88</td>\n",
       "    </tr>\n",
       "    <tr>\n",
       "      <th>188</th>\n",
       "      <td>44</td>\n",
       "      <td>3</td>\n",
       "      <td>tlahuac</td>\n",
       "      <td>consumo_total_no_dom</td>\n",
       "      <td>55874.83</td>\n",
       "    </tr>\n",
       "    <tr>\n",
       "      <th>189</th>\n",
       "      <td>45</td>\n",
       "      <td>3</td>\n",
       "      <td>tlalpan</td>\n",
       "      <td>consumo_total_no_dom</td>\n",
       "      <td>701010.47</td>\n",
       "    </tr>\n",
       "    <tr>\n",
       "      <th>190</th>\n",
       "      <td>46</td>\n",
       "      <td>3</td>\n",
       "      <td>venustiano_carranza</td>\n",
       "      <td>consumo_total_no_dom</td>\n",
       "      <td>403478.07</td>\n",
       "    </tr>\n",
       "    <tr>\n",
       "      <th>191</th>\n",
       "      <td>47</td>\n",
       "      <td>3</td>\n",
       "      <td>xochimilco</td>\n",
       "      <td>consumo_total_no_dom</td>\n",
       "      <td>171485.71</td>\n",
       "    </tr>\n",
       "  </tbody>\n",
       "</table>\n",
       "<p>192 rows × 5 columns</p>\n",
       "</div>"
      ],
      "text/plain": [
       "     id  bimestre             alcaldia               consumo       value\n",
       "0     0         1       alvaro_obregon         consumo_total  2927454.94\n",
       "1     1         1         azcapotzalco         consumo_total  2737378.47\n",
       "2     2         1        benito_juarez         consumo_total  4416820.03\n",
       "3     3         1             coyoacan         consumo_total  2362166.70\n",
       "4     4         1           cuajimalpa         consumo_total   894356.87\n",
       "..   ..       ...                  ...                   ...         ...\n",
       "187  43         3           milpa_alta  consumo_total_no_dom    19823.88\n",
       "188  44         3              tlahuac  consumo_total_no_dom    55874.83\n",
       "189  45         3              tlalpan  consumo_total_no_dom   701010.47\n",
       "190  46         3  venustiano_carranza  consumo_total_no_dom   403478.07\n",
       "191  47         3           xochimilco  consumo_total_no_dom   171485.71\n",
       "\n",
       "[192 rows x 5 columns]"
      ]
     },
     "execution_count": 253,
     "metadata": {},
     "output_type": "execute_result"
    }
   ],
   "source": [
    "data_ct = data[[\"bimestre\",\"alcaldia\",\"consumo_total\",\"consumo_total_mixto\",\"consumo_total_dom\",\"consumo_total_no_dom\"]]\n",
    "data_ct = data_ct.groupby([\"bimestre\",\"alcaldia\"],as_index=False).sum()\n",
    "data_ct['id'] = data_ct.index\n",
    "data_ct_long = pd.melt(data_ct, id_vars = ['id','bimestre','alcaldia'], var_name = 'consumo', \n",
    "        value_vars = ['consumo_total','consumo_total_mixto','consumo_total_dom','consumo_total_no_dom'])\n",
    "data_ct_long"
   ]
  },
  {
   "cell_type": "code",
   "execution_count": 261,
   "metadata": {},
   "outputs": [
    {
     "name": "stdout",
     "output_type": "stream",
     "text": [
      "ERROR! Session/line number was not unique in database. History logging moved to new session 73\n"
     ]
    },
    {
     "data": {
      "image/png": "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\n",
      "text/plain": [
       "<Figure size 916x576 with 4 Axes>"
      ]
     },
     "metadata": {
      "needs_background": "light"
     },
     "output_type": "display_data"
    }
   ],
   "source": [
    "colores = sns.color_palette()\n",
    "g3 = sns.FacetGrid(data = data_ct_long, col =\"consumo\", sharex=False)\n",
    "g3.map_dataframe(sns.barplot, y =\"alcaldia\", x = \"value\", hue='bimestre', palette=colores,\n",
    "                order =[\"cuauhtemoc\", \"miguel_hidalgo\", \"benito_juarez\", \"gustavo_a_madero\", \"alvaro_obregon\", \n",
    "                        \"azcapotzalco\", \"iztapalapa\", \"coyoacan\", \"venustiano_carranza\", \"iztacalco\", \"tlalpan\", \n",
    "                        \"cuajimalpa\", \"xochimilco\", \"magdalena_contreras\", \"tlahuac\", \"milpa_alta\"]);\n",
    "g3.fig.set_figwidth(12)\n",
    "g3.fig.set_figheight(8)\n",
    "g3.set_axis_labels(\"m3\", \"alcaldia\")\n",
    "g3.add_legend(title='bimestre')\n",
    "g3.fig.suptitle('Consumo Total');"
   ]
  },
  {
   "cell_type": "code",
   "execution_count": 256,
   "metadata": {},
   "outputs": [],
   "source": [
    "data_cp = data[[\"bimestre\",\"alcaldia\",\"consumo_prom\",\"consumo_prom_mixto\",\"consumo_prom_dom\",\"consumo_prom_no_dom\"]]\n",
    "data_cp = data_cp.groupby([\"bimestre\",\"alcaldia\"],as_index=False).mean()\n",
    "data_cp['id'] = data_cp.index\n",
    "data_cp_long = pd.melt(data_cp, id_vars = ['id','bimestre','alcaldia'], var_name = 'consumo', \n",
    "        value_vars = ['consumo_prom','consumo_prom_mixto','consumo_prom_dom','consumo_prom_no_dom'])"
   ]
  },
  {
   "cell_type": "code",
   "execution_count": 257,
   "metadata": {},
   "outputs": [
    {
     "data": {
      "image/png": "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\n",
      "text/plain": [
       "<Figure size 916x576 with 4 Axes>"
      ]
     },
     "metadata": {
      "needs_background": "light"
     },
     "output_type": "display_data"
    }
   ],
   "source": [
    "g4 = sns.FacetGrid(data = data_cp_long, col =\"consumo\", sharex=False)\n",
    "g4.map_dataframe(sns.barplot, y =\"alcaldia\", x = \"value\", hue='bimestre', palette=colores,\n",
    "                order =['tlalpan','miguel_hidalgo','cuauhtemoc','alvaro_obregon','azcapotzalco','cuajimalpa','coyoacan',\n",
    "                        'magdalena_contreras','gustavo_a_madero','iztapalapa','venustiano_carranza','iztacalco',\n",
    "                        'benito_juarez','xochimilco','milpa_alta','tlahuac']);\n",
    "g4.fig.set_figwidth(12)\n",
    "g4.fig.set_figheight(8)\n",
    "g4.set_axis_labels(\"m3\", \"alcaldia\")\n",
    "g4.add_legend(title='bimestre')\n",
    "g4.fig.suptitle('Consumo Promedio');"
   ]
  },
  {
   "cell_type": "markdown",
   "metadata": {},
   "source": [
    "# Estudio de alcaldías y colonias de la CDMX\n",
    "\n",
    "Para analizar las colonias de la Ciudad de México se contestaron las siguientes preguntas:\n",
    "\n",
    "* ¿Cuántas alcaldías existen?\n",
    "* ¿En cuántas observaciones no coinciden los valores de `alcaldia` y `nomgeo`?\n",
    "* ¿Se tienen números de observaciones similares para cada alcadía?\n",
    "* ¿Cuántas colonias diferentes existen?\n",
    "* ¿Cuántas colonias se tienen por alcaldía?\n",
    "* ¿Coincide este dato con los datos oficiales?\n",
    "* ¿Cuantás colonias existen por índice de desarrollo?"
   ]
  },
  {
   "cell_type": "markdown",
   "metadata": {},
   "source": [
    "### ¿Cuántas alcaldías existen?"
   ]
  },
  {
   "cell_type": "code",
   "execution_count": 47,
   "metadata": {},
   "outputs": [
    {
     "name": "stdout",
     "output_type": "stream",
     "text": [
      "Existen 16 alcaldías diferentes\n"
     ]
    }
   ],
   "source": [
    "no_alcaldias = len(data.alcaldia.unique())\n",
    "print(f\"Existen {no_alcaldias} alcaldías diferentes\")"
   ]
  },
  {
   "cell_type": "code",
   "execution_count": 48,
   "metadata": {},
   "outputs": [
    {
     "name": "stdout",
     "output_type": "stream",
     "text": [
      "Existen 16 valores para 'nomgeo' diferentes\n"
     ]
    }
   ],
   "source": [
    "print(f\"Existen {len(data.nomgeo.unique())} valores para 'nomgeo' diferentes\")"
   ]
  },
  {
   "cell_type": "markdown",
   "metadata": {},
   "source": [
    "### ¿En cuántas observaciones no coinciden los valores de `alcaldia` y `nomgeo`?"
   ]
  },
  {
   "cell_type": "code",
   "execution_count": 49,
   "metadata": {},
   "outputs": [
    {
     "data": {
      "text/plain": [
       "0"
      ]
     },
     "execution_count": 49,
     "metadata": {},
     "output_type": "execute_result"
    }
   ],
   "source": [
    "len(data[data.nomgeo != data.alcaldia])"
   ]
  },
  {
   "cell_type": "markdown",
   "metadata": {},
   "source": [
    "### ¿Se tienen números de observaciones similares para cada alcadía?"
   ]
  },
  {
   "cell_type": "code",
   "execution_count": 50,
   "metadata": {},
   "outputs": [
    {
     "data": {
      "image/png": "iVBORw0KGgoAAAANSUhEUgAAAd4AAAEWCAYAAADIJfYaAAAAOXRFWHRTb2Z0d2FyZQBNYXRwbG90bGliIHZlcnNpb24zLjMuMiwgaHR0cHM6Ly9tYXRwbG90bGliLm9yZy8vihELAAAACXBIWXMAAAsTAAALEwEAmpwYAAA/yUlEQVR4nO3debgcVbX+8e9LmAMkBBAhqAFEkDFAQEDEQMBZmUVFA3JlkPHiRUVFRARFEZVBRFBm5GKYBLw/AYEAgiETkIRZIQoYGcMsEGD9/tirSaXTfYbknD7T+3mefk511a5du6rPc/bZu6rXUkRgZmZmrbFITzfAzMxsIHHHa2Zm1kLueM3MzFrIHa+ZmVkLueM1MzNrIXe8ZmZmLeSO16wNkpaT9JCkkT3dlo6QNEJSSFq0i+sdLemxrqyzlST9P0l79XQ7egNJ50o6biHraPP3of4YkjaR9KCk5RfmuP2FO14bcCTNlPSkpMGVdV+RNL5B8R8BJ0XEXa1qn3W9iPh4RJzX0+0YiCQtAfwa+FxEzO7p9vQG7nhtoBoEHNZWAUlLATMi4ozWNAm6eqTalwzkc19QfeSarQ18LyKm9nRDegt3vDZQnQgcIWlo/YbadC0wJyJ+levGS/pKLu8t6TZJP5f0nKSHJW2V6x/N0fRelfqWkPRTSf+U9ISkM7JTf3vKTtI3Jf0bOCfL/0LSv/L1ixw1zEfSoKz7aUkPA5+s2z5E0m8lzZL0uKTjJA1qUle7x5X07TzWTEl7VtZ/QtK9kl7M4xxR2fYpSXfltbpd0oaVbTPz3KcBL+fypXXHPFnSKbn8ZUn35XEelrR/Xdkd81gvSPq7pI81+PwWkXSUpH/kZ3W+pCHVz17SXvl5PS3pO5X6F5F0ZNb9jKTfSxqW25aUdGGuf07SJEkrN7nWMyV9K6/ZbEnnSFqysn1fSX+T9KykqyStWtkWkg6S9BDwUJP6x0n6t6TnJd0iab1G5dq5Zm1e67o6NpY0NcteAixZ2TwMOLNStnb9Xszz37lZvf1WRPjl14B6ATOB7YHLgeNy3VeA8bk8Aghg0co+44Gv5PLewBvAlykj5+OAfwK/BJYAPgK8CCyT5X8OXEX5A7QscDXwo9w2Ouv6ce67FHAsMAF4B7AScDvwgybncgBwP/CurP+matuBKyjTfIOzvonA/k3qanrcSjt/lu38MPAysHZunwV8KJeXBzbJ5Y2BJ4EP5LXaK6//EpXP4q5s/1LAe4BXgGVz+6Cse4t8/0lgTUDZhlcqx9oceB7YgTKoGA6s0+Dz2wf4G7AGsAzl9+CCus/+rGzPRsBrwPtz+2F5jVbL6/Br4OLctn9+tktnuzcFlmvjd3BG5XO7jbm/i9sBTwOb5DFOBW6p7BvA9bnfUk3q34fyu7YE8Avgrsq2cyvHauuatXWtRwOP5fLiwD+Aw4HFgN2AOZVjvF023+8OrJrH24Pye7RKT/9daOnfoJ5ugF9+tfrF3I53/fyjsxKd73gfqmzbIMuvXFn3DDAy/2i9DKxZ2bYl8EgujwZeB5asbP878InK+48CM5ucy43AAZX3H6m1HViZ0mksVdn+eeCmJnU1PS5zO97Ble2/B76by/+kdDzL1dX5K+r+aQAeAD5c+Sz2qdv+F2BsLu8A/L2Nz/JK4LBc/jXw8yblqp/fDcCBlW1rZ0exaOWzX62yfSLl/iTAfcCYyrZVKvvuQ/lnZcMO/g5WP7dP1M4T+C3wk8q2ZfIYI/J9ANt14vd9aO4zJN+fy9xOsek1a+daj2Zux7sN8C9AlbK306TjbVDvXcCOHT2f/vDyVLMNWBExA7gGOHIBdn+isvyfrK9+3TKUTn1pYEpOPz4H/CnX1zwVEa9W3q9KGUHU/CPXNbIq8Ghd2Zr3UEYgsyrH/jVlRNusrraOOzsiXm6yfVdK5/EPSTdL2rLShv+pHT/b8K66eqvtB/gd5R8EgC/kewAkfVzShJyCfS6PuWJufhfln4f2NDrP2j8qNf+uLL9C+Sxr53NF5VzuA97MfS8ArgX+N6fqfyJpsTbaUf+51a7JPO2LiJco/8gNb7LvPFRuP5yQ07kvUDp5mHudqppes3auddWqwOORvWjlfJq1b2zl1sNzlH+AG9Xbb7njtYHue8C+zPtHrda5LF1Z984FrP9pSie8XkQMzdeQiFimUqY+Rdi/KH/ga96d6xqZRfnjWS1b8yhlxLti5djLRUSz+33tHXd5VZ4Er26PiEkRsSOlU7+SMhquteH4yvGHRsTSEXFxpZ768x8HjJa0GrAz2fGq3G++DPgpZXZhKPB/lFmF2rHWbHJu7Z3nG8z7z1QzjwIfrzufJSPi8YiYExHfj4h1ga2ATwFj26ir/nOrXet52pfXfAXg8Ur5ttLKfQHYkTKrM4Qyioe516n+fOa7Zh241lWzgOGSqtve3aAckt5DmcY/GFgh653RpN5+yx2vDWgR8TfgEuDQyrqnKH/kvpijh33o2B/0RvW/RflD83NJ7wCQNFzSR9vY7WLgKEkrSVoROBq4sEnZ3wOHSlpN5TuSb4/eI2IWcB1wksr3kReRtKakDy/Ecb8vaXFJH6J0LOPy/Z6ShkTEHOAF4K0sfxZwgKQPqBgs6ZOSlm128nn9xwPnUKbk78tNi1PuWT4FvCHp45Sp9ZrfAl+WNCbPdbikdZqc5+GSVpe0DPBD4JKIeKNZmyrOAI7PDoS8Vjvm8raSNlB5eO0FyvTwW82r4qD83IYB36H8Htba92VJI7MD/CFwR0TM7ED7oNzbfY0ySl4692+m2TVr71pX/ZXyj8uhkhaTtAvl3nEjgyn/NDwF5QEuyoh3QHHHa1YeKhpct25f4OuUP17rUe5ZLahvUh7mmZBTf3+m3Fds5jhgMjANmA5MzXWNnEWZ3rw7y11et30s5Y/ovcBs4FLKfckFOe6/s45/ARdR7lHen9u+BMzM8zsA2BMgIiZTruVpue/fKPfI2/M7yojt7WnmiHiR8g/S77OuL1AeWqttn0h54O3nlHv3NzPvyLbmbMq08C3AI8CrwCEdaBPAyXnM6yS9SHnQ6gO57Z2U6/sCZQr65jxOW+d4HfAwZbr3uDyPPwPfpYw4Z1H+6ftcB9sHcD5lqvdxyuc+oVnBZtesvWtdV8frwC6Uz/VZygNT9b+HtbL3AidROusnKM9H3NaJc+sXNO+0vJmZdTdJMykPe/25p9tirecRr5mZWQu54zUzM2shTzWbmZm1kEe8ZmZmLdQXAmxbD1txxRVjxIgRPd0MM7M+Y8qUKU9HxEqNtrnjtXaNGDGCyZMn93QzzMz6DElNo3e547V2PTzrWXY/9uL2C5qZ9RPjjv58+4UWkO/xmpmZtZA73oUgqWk0I0lDJR3YTcc9V9Ju3VG3mZl1L3e8CyEitmpj81CgWzpeMzPru9zxLgRJL+XPYzPN1V2SHpd0DnACsGauO1HSMpJukDRV0vRKYPURku6XdJGk+yRdKmnp3Ha0pEmSZkg6sy77B22VkTRe0sl5/BmSNs/1m0v6q6Q7Jd0uqa2YwWZm1sXc8XaBiDg6IkZSEj4/SwkIfyQlsfXIiPg6JRD7zhGxCbAtJWNMrSNdGzg9It5PCbBeGymfFhGbRcT6wFKUbDD12iqzdLbrQEpgeID7gQ9FxMaU7DMNM5dI2k/SZEmTX3v5xU5eETMza8YdbxfJTvRC4GcRMaVREeCHkqZRstMMZ27i7Ucjopah40Jg61zeVtIdkqYD21Gy5NRrq8zFABFxC7CcpKGU/JzjJM2gZCRpmJs1Is6MiFERMWqJwU0zuJmZWSf560Rd5xjgsYg4p8n2PYGVgE0jYk5mJ1kyt9XH7QxJSwKnA6Mi4lFJx1TKA9CBMvPVC/wAuCkidpY0gpL31MzMWsQj3i4g6dOU3KGHVla/SElIXTMEeDI73W2ZN0/ouyVtmctfAP7C3A706UzW3egp5vbK7JHt2xp4PiKez3Y8ntv37tgZmplZV/GIt2t8jTJ1PDFv214VEUdLui2ndP8f8GPg6pwSnky511rzAHCQpLMpiat/FRGvSDoLmEFJQD6p/qAR8Vw7ZV6VdCewGLBPrvsJcJ6ko4A/dsG5m5lZJzg7UQ/L6d5r8uGorqx3PHBERCx0rMdhw9eIMfsfv/CNMjPrIxY2cpWkKRExqtE2j3itXWusMqxbw6eZmQ0k7nh7WETMBLp0tJv1ju7qOs3MbOG547V2OUmCmfVlvW3Gzk81m5mZtZA7XjMzsxbqlx1vd2YG6k0yHnPDp+bMzKx36pcdL84M1JCkQT3dBjOzga5XdrySvivpAUl/kXSxpCOqoztJK2bIRSStJ2liZuGZJmktOp4Z6ARJB1WOe0weS7nfjCy/RxttbVh3k7K1TETnSnowMxJtn4E2Hmovg5CkpST9r0oWoysoSRFqdX8k95kqaVxGskLSTEk/ljQV2F3S57OdMyT9eIE/JDMzWyC97qlmSZsBuwIbUSIuTQUaJR2oOQA4OSIukrQ4MIiSGWj9zMyDpEUpmYFekLQiMEHSVcAlwC+AX2ZdnwU+CuwCjMw2rAhMknRLRMxqcPxa1qF56o7mkUneC+xOiSQ1iRIicmvgM8C3gZ2Ym0HoDUnbUzII7Qp8FXglIt4vacO8NuRxjwK2j4iXJX2TEk3r2DzmMxGxiaRVgQnApsBs4DpJO0XElfWNlLQfsB/A0kNWbHIqZmbWWb2u4wU+CPwhIl6lhDy8up3yfwW+I2k14PKIeEgN0tZSMgNtA7xFZgaKiDslvSM7pJWA2Zls4GvAxRHxJvCEpJuBzYCrGhy/Yd2UEI6NPBIR0wEk3QPcEBGRoSRHZJkhlLCOa1ESGyyW67cBTgGIiGkqmY4AtgDWBW7Lc188r0vNJflzM2B8RDyVx78o67yyvpERcSZwJpTIVU3OxczMOqk3drzNvMHcqfG3M/BExO8k3QF8Evg/SfsDD9ft21ZmoHGU5ALvZG4H1Rlt1d3Ia5Xltyrv32Lu59HZDEICro+IZl9We7md/c3MrEV64z3e24BPS1oy71PWErvPpEyRQiULj6Q1gIcj4hTgD8CGdC4z0CXA57LOcbnuVmAPSYMkrUQZFU5s0t626l5QzTII3UKZmkbS+pRzhTJ9/EFJ781tgyW9r0G9E4EP5z3yQcDngZu7oL1mZtZBva7jjYhJlCndaZSsPtOB54GfAl9VybZTven4WWCGpLsooRfPj4hnKNOuMySdCFwEjMrp3LFUMgNFxD2UTvrxyj3cK/L4dwM3At+IiGZTx03rXgg/AX6U51qdlfgVsIyk+yj3b6fkOTxF6aAvzunnvwLr1Fea53ckcBPl3KZExB+6oL1mZtZBvTI7kaRlIuIlSUtTRnn7RcTUnm7XQDVq1KiYPHmhkxyZmQ0Y6oPZic6UtC7lXul57nTNzKy/6JUdb0R8oafbUE/SBsAFdatfi4gPNCi7AnBDg2rG5DS4mZkNUL1yqtl6l2HD14gx+x/f080wGzB6WzYd67y2ppp73cNVZmZm/Zk73hZTk8QGkkZK+kRPtMnMzFrHHW/vMRJwx2tm1s+5421A0thMuHC3pAsyqUE1aMdL+bNZ8oURkmZUyh8h6ZjKIXZXSezwoKQPZYzpYylBO+6StEcGwTg7y91ZqXtvSVdKuj4TIBws6WtZZoKkYVluZL6fJukKScvn+vdK+nOe21RJa3b39TQzs7nc8daRtB4l4cB2EbERcFgbxWsJEjYBtgVOUoNA0Q0sGhGbA/8NfC8iXgeOBi6JiJERcQnwHeDGLLctcKKkwbn/+pREDpsBx1MSJ2xMCZwxNsucD3wzIjakBCH5Xq6/CPhlnttWQKPED0jaT9JkSZNfe/nFDpySmZl1RK/8OlEP2w4YFxFPA0TEs230pc0SJLTn8vw5hbmJEep9BPiMpCPy/ZLAu3P5poh4EXhR0vNALZHEdGBDSUOAoRFRCwd5HjBO0rLA8Ii4Is/t1WYNdJIEM7Pu4Y63Y95O0CBpEUr2H2ieIKGa0AHmT5pQS4zwJs0/AwG7RsQD86yUPkDHEi2YmVkv5Knm+d1IuQe7AkDeM53J3AQNn2Fumr5mCRKeAN4haQVJSzA30UNb6hM7XAscUpu6lrRxR08gIp4HZkv6UK76EnBzjpIfk7RT1rlEhuU0M7MWccdbJ5MmHA/cLOlu4GfAWZSsPncDWzI3zV7DBAkRMYfysNRE4Ho6ljjhJmDd2sNVlNSAiwHTMm/vDzp5KntR7gtPozwxfWyu/xJwaK6/nZIO0czMWsSRq6xdjlxl1lqOXNX39cUkCdaLrLHKMP8hMDPrIp5qNjMzayGPeK1dD896lt2Pvbinm2HW5TyTYz3BI14zM7MWcsdrZmbWQu54zczMWmhAd7z1yQwWop5Rkk7J5dGStlrAeg6QNLb9kmZm1lf54aouEBGTgcn5djTwEiU4RWfrOaMr2iNp0Yh4oyvqMjOzrjWgR7xpUUkXSbpP0qWSlpa0qaSbJU2RdK2kVeDtJPY/rqb0y/WjJV0jaQRwAHB4RqD6UI6qb8z0fDdIenezhkg6ppYUIY81KpdXzDjQtVH6rZnSb2ptdJ1tuFXSVcC9kgZJOlHSpDz2/lnu2GzbXZIel3ROk7Y4O5GZWTdwxwtrA6dHxPuBF4CDgFOB3SJiU+BsSgjJmnlS+lUrioiZwBnAzzO9361Z13mZnu8i4JSFbO+TwA6ZinCPuvo2AQ6LiPcB/wU8HxGbUdIH7itp9Yg4OiJGUkbmzwKnNTpIRJwZEaMiYtQSg5dtVMTMzBaAp5rh0Yi4LZcvBL5NyXd7feYnGMS8OWs7ktKvaktK7lyAC4CfLGR7FwNOkzSSkt3ofZVtEyPikVz+CCVF4G75fgiwFvBIJl64EPhZRExZyPaYmVknuOOF+mDVLwL3RMSWTcp3JKVfV6imFqymFTyckv1oo9xezan7cmVZwCERcW2Duo8BHouIhtPMZmbWfTzVDO+WVOtkvwBMAFaqrZO0mKT1OlFffXq/24HP5fKewK0drGcmc1MR7lZZPwSYFRFvUTINDWqy/7XAVyUtBiDpfZIGS/o0sD1waAfbYWZmXcgjXngAOEjS2cC9lHuy1wKnSBpCuUa/AO7pYH1XA5dK2hE4JF/nSPo68BTw5Xb2r43Afwr8XtJ+wB8r208HLsuvHf2JeUe5Vb+hTIVPzanlp4CdgK8Bw4GJOZV+VUQc3VaDnCTBzKzrOC1gLyLpVGBqb5sCHjVqVEyePLn9gmZmBrSdFtBTzb2EpB8AHwCu6um2mJlZ9/FUcw+Q9B1g97rV4/JrSr2OsxNZq/nWhvVn7nh7QEQcz7zfDTYzswHCU81mZmYt1K87XklDJR1Yeb+qpEt7sk1mZjaw9euOFxgKvN3xRsS/ImK35sV7nqRF23pvZmZ9W8s6XkknSDqo8v4YSUdI+nolkP/3c9uITFpwlqR7JF0naanc1ix5wHqZvOCurGst4ARgzVx3YjUNYDvJBsZnwoT7M4GCctsYSXdKmi7pbElLtHG+m0m6XdLd2a5lO5HgYJ73WeZKlaQN9+R3e2vHeUnS8XmcCZJWzvV3VV7/kfRhSZtL+muew+2S1u6ij9fMzDqolSPeS4DPVt5/lhLUYS1gc2AksKmkbXL7WsAvI2I94Dlg13bqPwA4ORMAjAIeA44E/p4JC75eV76tZAMbU5IgrAusAXxQ0pLAucAeEbEB5cG0rzZqiKTF83wPi4iNKJGi/tPOMasJDhq93yeTNowCDpW0Qq4fDEzI49wC7AuQ5zwS+C4lZeHtwP3AhyJiY+Bo4IeNL6WzE5mZdZeWTWNGxJ2S3iFpVWAlYDawASWY/51ZbBlKh/tP4JGIuCvXdyQhwV+B70haDbg8Ih7KgWoz7SUbeAzKyDGP/WK26cEscx4lk9EvGtS9NiWs46Q89xeyrsHtHPORNt4fKmnnXH4X5To9A7wOXJPrpwA71HbIUf+JwLYRMUfSO4Hzcn3kNWgoIs4EzgQYNnwNR1kxM+sirb5/OI4Sd/idlBHhe4AfRcSvq4VU8tq+Vln1JrBULjdMHhARv5N0B/BJ4P9U8s8+3EZb2ko2UH/srrpOHU1wMM97SaMpo+YtI+IVSeOZe+5zYm74sbfbKmkZ4PfAvhFRy670A+CmiNg5r/H4rjgpMzPruFY/XHUJJWHAbpRO+Fpgn+wkkDRc0jvaqWMmDZIHSFoDeDgiTgH+AGzI/AkLqjqabKDmAWCEpPfm+y8BN7dRdhVJm2Xbls2HpDp7zGpbZ2enuw6wRQf2ORs4J3MCV+t5PJf37uCxzcysC7W0442Ieygd4eMRMSsirgN+B/xV0nTgUpp3lDU/pWTduRNYsbL+s8CMnBpeHzg/Ip4BbpM0Q9KJdfWcDuwl6W5gHZonG6i1/VVKgoNx2da3KEnvG5V9nXIP99Ss/3rKCLVTx6z4E7CopPsoD4xNaKuwpPdQ/inZp/KA1ShKLuAf5bXz09JmZj3ASRKsXU6SYGbWOXKSBDMzs97B040LSdIVwOp1q78ZEdf2RHvMzKx3c8e7kCJi5/ZL9W3OTmSt4qxENhB4qtnMzKyF3PGamZm10IDueCV9RtKR3VDvuZKaJmOQNFPSig3WN22PpJc6cNx2y5iZWc8a0Pd4I+Iq4KqebkdNb2uPmZl1vX474s1MQPfn6PPBzDK0vaTbJD2UmXr2lnRall8zs/tMl3RcbfSYmYKuqdR7mqS9c3lTSTdn1qBrJa3SiSYekhmKpmc0Kuras3pmEpou6bjK8ZeRdENl3x0bnPsikk7P879e0v/VRuDqYIYlJ0kwM+se/bbjTe8FTqJEiVoH+AKwNXAE8O26sidTshttQMls1CZJiwGnArtl1qCzgeM70banM0vRr7I99U4GfpXtmVVZ/yqwc+67LXCS5s8GsQslscO6lNCUW2abO5xhKSLOjIhRETFqicHtBRMzM7OO6u8d7yMRMT1jI98D3JAJBaYzf7ajLSnxo6GEsWzP2pTQlNdnmMqjgNU60bbL82ezzEsfBGrf4bmgsl7ADyVNA/4MDAdWrtt3a2BcRLwVEf8Gbqq0uT7D0jaYmVnL9Pd7vNUsQ29V3r9Fx8+9mg0J5mYFEnBPRGy5kG1rK/tRo3iee1LSKm6aqf5mVtpkZma9XH8f8XbGBGDXXP5cZf0/gHUlLSFpKDAm1z8ArCSpNo27mKT1urA9t1XasWdl/RDgyex0t6WkVmy07655r3dlYHSlzR3NsGRmZt3AHe9c/w18Ladw3ws8DxARj1Ly2s7In3fm+tcpGYB+nNmG7gK26sL2HAYclJmQhlfWXwSMyvVjgfsb7HsZ5T71vcCFwFTg+c5kWDIzs+7h7ERJ0tLAfyIiJH0O+HxEzPfEcF8haZmIeEnSCsBE4IN5v7fTnJ3IzKxz2spO1N/v8XbGpsBp+YTwc8A+PduchXZNTo0vDvxgQTtdMzPrWh7xdqP+krlo2PA1Ysz+nfmmlFn7nBDB+jOPeHvIQMhcZGZmneOHq8zMzFrIHa+ZmVkLueM1MzNrIXe8XUzSWEnTJN0t6YJM1nBjrrtB0rslLSvpkYz3jKTlau8ljcxkDdMkXSFp+Syzr6RJWe9l+fUnJK2c5e7O11a5/spM3nCPpP0q7XtJ0vFZdkIG2DAzsxZxx9uFMnLVUcB2EbERJQjGqcB5EbEhJfjFKRHxIjAe+GTu+jng8oiYA5xPefJ5Q0pM6e9lmcsjYrOs9z7gv3L9KcDNuX4TSkxqgH0yecMo4ND8Pi/AYGBClr8F2LfJuTg7kZlZN3DH27W2oyQneBogIp6lJF+oJV24gJLAAOA3lChS5M9zJA0BhkZELYxjNYnB+pJuzYhTewK18JTbUTIcERFvRsTzuf7QjKg1AXgXsFaufx2opTlslqDB2YnMzLqJO94eEhG3UeImjwYGRcSMdnY5Fzg40/l9nzYSI2Sd2wNb5sj2zkr5OTH3y9ttJWgwM7Nu4I63a90I7F6b1pU0DLideZMd3Fopfz5lNHwOQI5WZ0v6UG6vJjFYFpiV94WrSRNuIHPqShqUo+YhwOyIeEXSOsAWXXqWZma2wNod7UhaCfgmJan626OsiNiuG9vVJ0XEPZKOB26W9CZlpHkIZRr568BTzJ1ehnLP9zjm5t0F2As4Ix+eerhS/rvAHVnHHZSOGMp95DMl/RdlBPtV4E/AAZLuo2QkmtDV52pmZgum3ZCRkq4DLgGOAA6gdAxPRcQ3u795/Zuk3YAdI+JLPd2WtjhJgplZ5yxsyMgVIuK3kg7Lh35uljSpa5s48Eg6Ffg48ImebouZmbVORzreOflzlqRPAv8ChnVfkwaGiDikp9tgZmat15GO97h8YOd/KN9JXQ44vFtbZb3Kw7OeZfdjL26/oPU7ziBk1vUadrySPgZMjoinI6L2nc/ngW1b1jIzM7N+qNmIdxZwsaTDgf0aFYiIQ7utVQOcpG9HxA8XcN/xwBER4aehzMx6oYYdb0TcLWlHYH1KdCNrrW8DC9TxmplZ79b0Hm9EvAJMzNeAIOlKSnjFJYGTgX8Dx+bmpYDFI2J1SZvl9sHAa8AYYAVKSMjBWf7giLg9o0gdC7wIvBe4CTgwIt6S9HlKJyvgjxHxTUknAEtJuosSd/lWyte4oATGmBkR20r6FbBZtuvSiKjFdK6ez8coHfgg4OmIGJNBPc4G1gBeAfaLiGkLdeHMzKzDmna8kq4Gmn7JNyI+0y0t6ln7RMSzkpYCJgEfjoiRAJJ+T/kq1eKU7zXvERGTJC0H/Ad4EtghIl6VtBYlKEbtO1ybUwKQ/IMS3GIXSbcDPwY2BWYD10naKSKOlHRw7bjpjIxYdSPws1z3nWzrIOAGSRtWO9AMfHIWsE1EPJIdLpRwk3dGxE6StqNEz6oeq7b/fuRthqWHrLgg19LMzBpo66nmn+bPXYB3Ahfm+88DT3Rno3rQoZJ2zuVaYoFnJH0D+E9E/FLSBsCsiJgEEBEvAEgaDJwmaSQlgtT7KvVOjIiHs9zFlEQJc4DxEfFUrr+IkhDhyiZtOxm4MSKuzvefzc5xUWAVSsdeHbluAdwSEY9kO5/N9VsDu+a6GyWtIGm52nnURMSZwJkAw4av0XaUFTMz67C2pppvBpB0Ul30jasl9bsHd+oSC7ySDyktKWl7YHfmZglq5nDKPyQbUWJgv1rZVt9xdaojk7Q38B7g4Hy/OiWS2GYRMVvSubSRNMHMzHqPjiRJGCxpjdqb/KM/uI3yfVWjxALvAX4J7B4R/8lyDwCr5H1eMqn9orn/rIh4i5LcYFCl7s0lrS5pEWAP4C+Ue+cflrRiThd/nrkJEebk1DKSNqV0sl/MuqF8l/pl4PlMZP/xBuczAdgmP69awgYo94z3zHWjKfd+X2iwv5mZdYOOBNA4HBgv6WHKQ0DvAfbv1lb1jEaJBUZQHpq6UhLAvyLiE5L2AE7Ne8H/oYyUTwcukzQ263q5Uvck4DTmPlx1RT5cdWS+rz1c9YcsfyYwTdJUSv7cYcBN2YbJEfEVSXcC9wOPArfVn0xEPJVT0Zdnh/8ksANwDHC2pGmUh6v2WrjLZmZmndFukgQASUsA6+Tb+yPitW5tVT+So8ojIuJTPdyUBTZs+BoxZv/je7oZ1gMcucpswSxQkgRJuzTZtKYkIuLyLmmd9XprrDLMf4DNzLpIW1PNn25jWwDueDsgIsYD43u4GWZm1ku09VTzl5tts4HFSRIGHs9wmHWfjjxcRaYDXI/KV1Yi4tjme5iZmVkj7X6dSNIZlK/AHEJ5+nZ3ypPNZmZm1kkd+R7vVhExlvId1+8DWzJvVCYzMzProI50vLXAEa9IWpUS6nCV7mtS95E0U1KvCDwsabSka9ovaWZm/UlH7vFeI2kocCIwlfJE82+6s1G9mUoUC1WiSHX38QZFxJutOJaZmXW/dke8EfGDiHguIi6j3NtdJyK+2/1NWziSrpQ0RdI9GcGpuu0ESQdV3h8j6QhJy0i6QdJUSdMzJzGSRkh6QNL5wAzgXZJOlDQjy+3RRjvURtnlJP0x6z4jI0wh6SVJJ0m6G9hS0hclTZR0l6RfZ4hJJP2XpAdz21mSTqu090ZJ0/J83p3rz5V0iqTbJT0sabc22r2fpMmSJr/28oudvfxmZtZERx6uOihHvGTEqkUkHdjdDesC+0TEppTUfIdKWqGy7RLgs5X3n811rwI7R8QmwLbASTnChZKp6PSIWC/rHElJiLA9cKKkZtPvu7RRdnPKQ2vrAmtmWSixsO+IiI2AZygPt30wUwW+CeyZ0/7fpcSU/iBzI4sBnAqcFxEbAhcBp1S2rULJUPQp4IQmbSYizoyIURExaonByzYrZmZmndSRe7z7RsRztTcRMRvYt9ta1HUOzRHjBOam+AMgIu4E3iFpVUkbUR4ce5Ty1PYPM47xn4HhwMq52z8iYkIubw1cHBFvRsQTlOQGmzVpR1tlJ0bEwzmVXEsXCKVzvSyXx1By9k6SdFe+X4PSad8cEc9GxBxgXOWYWwK/y+ULKvUCXBkRb0XEvZVzMzOzFunIPd5BkhQZ1DmnORfv3mYtnGYp/uqKjQN2o+QaviTX7QmsBGwaEXMkzazs9zJdr1m6wFcr93VFGb1+q1pQ0k4LeMxqnG01LWVmZt2iIyPePwGXSBojaQxlZPan7m3WQmuU4q/eJcDnKJ3vuMp+T2anuy3Nv698K7CHpEGSVqLk6p24AGUbpQusdwOwm6R3QEnvJ+k9lIxHH5a0vEpawl0r+9ye5wbln4lbm7TNzMxarCMj3m9S0gB+Nd9fT+9/qrlRir95RMQ9kpYFHo+IWbn6IuBqSdOByZS0e41cQZnOvZsySv1GRPy7M2XzH4L50gU2aOe9ko4CrssOeg5wUERMkPRDSif+bLb1+dztEOAcSV8HngIWKvynkySYmXWdDqUFtN5J0jIR8VKOeK8Azo6I+TrvhTVq1KiYPHlyV1drZtZvLWhawOnMfw+yJvKJW+tZx0jannIf+jrgyp5tjpmZtaetqeZGidtFeUL4Ww22DWiSNqA8QVz1WkR8oLuOGRFHdFfdVc5O1Pv5VoBZ39FWWsB/1JYlbQx8gZIg4RHmftXFUkRMp3xf18zMrKmmTzVLep+k70m6nxKQ4Z+Ue8LbRsRpLWthHybp9ja2De2OQCSS9q5FsDIzs96nra8T3Q9sB3wqIraOiFMpgR2sgyJiqzY2DwX6QgQwMzPrQm11vLsAs4CbMg7wGBxwoVMkvZQ/j804y3dJelzSOZRwjWvmuhObxYnO/cdm3OW7JV2Q6z4t6Q5Jd0r6s6T5olBJWlnSFbnf3ZK2yvVfy9jRMyT9d0suhpmZAW3f470SuFLSYGBH4L8pYRZ/BVwREde1pIX9QEQcDRydMa9vpXx39xlg/Yy/TH4laOeIeEEldeEESVdR4jgfRcmL/LSkYVntX4AtIiIkfQX4BvA/dYc+hRJWcueMOLaMpE0p3+v9AOUfqTsk3ZxhNN+mklhiP4Clh/SKTIpmZv1CR7ITvRwRv4uITwOrAXdSgmpYJ2SyhQuBn0XElEZFaBwnejtgXEQ8DRARz2b51YBr82tfXwfWa1DndsCvcr83I+J5StzmK/JzfQm4HPhQ/Y5OkmBm1j06EjLybRExO/8gj+muBvVjxwCPRcQ5TbZX40SPBJ5g/vjSVacCp0XEBpTIYm2VNTOzXqJTHa8tGEmfpiRtOLSy+kWgOpRsFif6RmD3WlrDylTzEODxXN6ryaFvIEN9ZqzoIZSp7p0kLZ23EXbGsZzNzFrGHW9rfI0ydVxLZn9sRDwD3JYPOJ1IiRM9KqeOx5JxoiPiHuB44OZMc/izrPMYYJykKcDTTY57GLBt1jkFWDcipgLnUmI83wH8pv7+rpmZdR/HarZ2DRu+RozZ//ieboa1wZGrzHqXBYrVbFbj7ERmZl3HU81mZmYt5I7XzMyshTzVbO1ydqKe56l+s/7DI14zM7MWcsfbg6oZiiSNkDSjnfLtljEzs97NHW/PGoozFJmZDSjueHvW2xmKgBNrK3Nke2tmKppayypUlXl3/yBpvKSHJH2vsu1KSVMk3ZPJDmrrX5J0fGYqmtAoo5GZmXUvd7w960jg7xmb+euV9U8CO0TEJsAelCxDjWwO7ApsSAkrWfuy9j4RsSkwCji0Fm4SGAxMiIiNgFuAfZs1TNJ+kiZLmvzayy8u2NmZmdl83PH2TosBZ2Wox3GU1ICNXB8Rz0TEfyhZhrbO9YdmeMkJwLuAtXL968A1uTwFGNGsAc5OZGbWPfx1ot7pcEp2oo0o/xy92qRcfbzPkDSakpBhy4h4RdJ45mYumhNzY4S+iT9/M7OW84i3Z9VnKKoZAsyKiLeALwGDmuy/g6RhkpYCdgJuy31nZ6e7DrBF1zfbzMwWlEc8PSginpF0W35F6L7KptOByySNBf4EvNykionAZcBqwIURMTmnpw+QdB/wAGW62czMeglnJ+qjJO0NjIqIg7v7WKNGjYrJkyd392HMzPqNtrITearZzMyshTzV3EdFxLmUhPZmZtaHuOO1djlJQsc4kYGZdYSnms3MzFrIHW8PkfRSk/UH5NPMnanr9vzpJApmZr2cp5p7mYg4YwH2mS+Ws5mZ9U4e8S4ASZtJmiZpSUmDMxnBNpmcYFomINgwyy4j6RxJ03PbrpV65ktYIOkYSUfk8nhJP8+YyfflcS/PpAjHVeqZb/QsaZCkn0qakcc9JNePkXRntudsSUt09/UyM7O53PEugIiYBFwFHAf8BLgQ2B24MyI2BL4NnJ/Fvws8HxEb5LYbc31HExa8nt8FOwP4A3AQsD6wdyX5QSP7UWIxj8zjXiRpScqT0HtExAaUGY+vdvL0zcxsIbjjXXDHAjtQMgD9hJKg4AKAiLgRWEHScpS4yb+s7RQRs3OxowkLrsqf04F7ImJWRLwGPExJgNDM9sCvI+KNPO6zwNrAIxHxYJY5D9im0c7OTmRm1j3c8S64FYBlKLGWl2ynbCMdTVjwWv58q7Jce99t9+idncjMrHu4411wv6ZMI18E/Bi4FdgTIDMEPR0RLwDXU6aHyW3Lt6h91wP7S1o0jzuMErt5hKT3ZpkvATe3qD1mZoY73gWSX/eZExG/A04ANgPGA5tKmpbr9srixwHL50NOdwPbtqiZvwH+CUzL434hIl4FvgyMy2QKb1HuHZuZWYs4SYK1a9jwNWLM/sf3dDN6PUeuMrOatpIk+Hu81q41VhnmTsXMrIt4qtnMzKyF3PGamZm1kKearV0DKTuRp9TNrLt5xGtmZtZC7nh7gKShkg7M5XYzCkkaLematsqYmVnf4I63ZwwFDuzpRpiZWeu54+0ZJwBrSroLOLG2Mke/t0qamq9qur9lJF0q6X5JF0lS7jNT0oq5PErS+FzeXNJfMxPR7ZLWzvUNsxaZmVlr+OGqnnEksH5EjJQ0grnJEp4EdoiIVyWtBVxMScIAsDGwHvAv4Dbgg8Bf2jjG/cCHIuINSdsDPwR2Zd6sRW9kKMn5SNovy7L0kBUX9DzNzKyOO97eZTHgNEkjKYkT3lfZNjEiHgPIkfII2u54hwDnZQceWTeUrEVn1GUtmk9EnAmcCSVy1YKdjpmZ1fNUc+9yOPAEsBFlpLt4ZVs1M1E1m9EbzP0cq1mSfgDcFBHrA59mwTIomZlZF3PH2zNepKQTrDcEmBURb1EyBw3qQF0zgU1zede6uh7P5b0r6xtlLTIzsxZxx9sDIuIZ4Lb8GtGJlU2nA3tlNqF1gJc7UN33gZMlTaaMhGt+AvxI0p3Me0thvqxFC34mZmbWWc5OZO0aSNmJHLnKzLqCsxPZQnF2IjOzruOpZjMzsxbyiNfa1RNJEjzCNrP+yiNeMzOzFnLHa2Zm1kLueM3MzFqoT3e8kvaWdNrClulNqikDzcys/+nTHW8/NZQmKQNr0aba09FyZmbWet3W8WaKu/slnSvpwUxlt72k2yQ9lGnrmqWuW1rS7yXdK+kKSXdIGpXbvpz1TaRk6Kkd79NZ7k5Jf5a0coM2rSTpMkmT8vXBXH+MpLMljZf0sKRDK/tcKWmKpHsyY09b5/yxTOd3t6Qbct2wrGOapAmSNmznmG+nDJR0oqTRmSrwKuDeTOt3YrZ/mqT9s755yjVre+5/bqYFnC7p8Cbnsp+kyZImv/byix34xM3MrCO6e2T0XmB3YB9gEiU84dbAZ4BvA2NpnLruQGB2RKwraX3gLgBJq1BCJG4KPA/cBNyZx/oLsEVEhKSvAN8A/qeuPScDP4+Iv0h6N3At8P7ctg6wLSWG8gOSfhURc4B9IuJZSUsBkyRdliEf5yFpJeAsYJuIeKQSA/n7wJ0RsZOk7YDzgZHNjkklZWDWOxrYJNc9kh3o8xGxmaQlKKEnr8v63i6X7+drOyWr0fBMnoCkofXnAs5OZGbWXbq7430kIqYDSLoHuCE7xumUDqBZ6rqtKZ0kETFD0rRc/wFgfEQ8lXVewtzUeasBl2TnvDhQ63yqtgfWVckhD7CcpGVy+Y8R8RrwmqQngZWBx4BDJe2cZd4FrAXM1/ECWwC31Dq9Srq9rcnkBRFxo6QVJC3XxjEbmVjpTD8CbChpt3w/JNv0el05mrT9AWANSacCfwSuw8zMWqa77/FWU9m9VXn/FqXT78rUdacCp0XEBsD+TepahDIqHpmv4RHxUoO2vgksmqPN7YEtI2Ijyui6K9PrNUv1V6+aLEHAIZVzWD0irqsv16ztETGbknZwPHAAJWmCmZm1SE8/XNUsdd1twGcBJK0LbJDr7wA+nKPGxSjT2I3q2qvJ8a4DDqm9UUk43177ZkfEK5LWoYxqm5kAbCNp9ay7NtV8K7BnrhsNPB0RL7RRT7OUgTXXAl/N80fS+yQN7mjbJa0ILBIRlwFHUaanzcysRXr66defUKaaj6JMe9acnuvvBe4H7qHc15wl6Rjgr8Bz5L3fdAwwTtJs4EZg9QbHOxT4ZU5dLwrcQhn1NfMn4ABJ91GmaCc0KxgRT+X918slLQI8CeyQ7To7j/kKzf8pqNXzjMoDaDOA/8e81wXKCHUEMFVlzvwpYKdOtH04cE62EeBbbbUHnCTBzKwr9cq0gJIGAYtFxKuS1gT+DKwdEa/3cNMGpFGjRsXkyZN7uhlmZn2G+mBawKWBm3I6VcCB7nTNzKw/6JUdb0S8CDT8T6E3kHQHsETd6i/VnuDub1qZnchT2mbW3/XKjre3i4gP9HQbzMysb+rpp5oHJEm3589VJV3aRXUeI+mIrqjLzMy6j0e8PSAitsqf/wJ2a6e4mZn1Ix7xdpKksRkj+W5JF2Tc490q21/Kn8tIuiFjN0+XtGODMiPya0O1LEpXSrpe0kxJB0v6mkrs6Qm17wVL2jfjNN+tEnd66QZtHC/pZJV4zzMkbZ7rG8bGNjOz1nHH2wmS1qMEndguo0Ed1kbxV4GdI2ITSjzmk1SJVdnE+sAuwGbA8cArEbEx5XvLY7PM5RGxWR7/PuC/mtS1dMZ7PhA4O9fdT4mNvTFwNCU2drNzdZIEM7Nu4KnmztkOGBcRT0OJx9xGXyrgh5K2oYTIHE6JxfzvNuq/KZ/oflHS88DVuX46sGEury/pOEr6wGUokawauTjbeIuk5TIZwrI0jo09HydJMDPrHh7xLrw3yOuY0aAWz/V7AisBm+bI8wnaj/PcXmxrgHOBgzMm9ffbqLO+swy6Nja2mZktAHe8nXMjsLukFeDteMwzKWkKoaQ7rI0ihwBPRsQcSdsC7+miNiwLzMrgInu2UW6PbOPWlHCbz9M8NraZmbWIp5o7ISLukXQ8cLOkNykZf74J/EHS3ZT4yLUMQRcBV2cKxMmU+6tvV7UQzfguJVnEU/mzWUKFVyXdSflHYJ9c1yw2tpmZtUivjNXcn+VoeWpEdNUIuNExxgNHRESXBFgeNnyNGLP/8V1RVbscucrM+oO+GKu5X5K0KiUP7k97uCmd4uxEZmZdxx1vC2XAjPe14Diju/sYZma2YPxwlZmZWQt5xGvt6srsRJ6yNrOBziNeMzOzFnLHa2Zm1kLueLuZpM9IOjKXW5K6ry75wkhJn+juY5qZWce44+1mEXFVRJzQg00YCbjjNTPrJdzxLoQcWd6fqQEflHSRpO0l3SbpoUzDt7ek0xrsu9Cp+/L4t2bqwamStqrbvjhwLLBHHmePjtbv7ERmZt3DTzUvvPcCu1PCMk4CvgBsTYnb/G3gyjb2XToiRmYGo7MpaQFrqfvekLQ9JXXfrk32fxLYISJezYxDFwNvR0qJiNclHQ2MioiDASQt15H6nZ3IzKx7uONdeI9ExHQASfcAN0REZIzmEe3su1Cp+3LbaZJGAm/SseAcQzpRv5mZdTFPNS+8jqTya2ZhU/cdTkk3uBFlpLt4G2VrnBrQzKwHuePtWQubum8IMCsi3gK+BAxqUOZF5s1g5NSAZmY9yFPNPWthU/edDlwmaSzzpiSsugk4UtJdwI86WT/gJAlmZl3JaQF7SFen7utOo0aNismTe30zzcx6DacFtIUyZcqUlyQ90NPtaKEVgad7uhEt5nPu/wba+ULPnnPTnOse8fYBkj4K/Lhu9SMRsXOLjj+52X9u/dFAO1/wOQ8EA+18ofees0e8fUBEXAtc29PtMDOzheenms3MzFrIHa91xJk93YAWG2jnCz7ngWCgnS/00nP2PV4zM7MW8ojXzMyshdzxmpmZtZA7XmtK0sckPSDpb5KO7On2LAhJ75J0k6R7Jd0j6bAGZZaQdEme5x2SRlS2fSvXP5Bf66qt79XXRtKgTP14TYNtwyRdn6krr5e0fK6XpFPynKZJ2qSyz15Z/iFJe7XyXDpC0lBJl2aazvskbVm3vT9+xofn7/QMSRdLWrJue5//nCWdLelJSTMq6xqeV4N9O/W5Slo9fzf+lr8rHYl9v2Aiwi+/5ntR4j7/HViDknzhbmDdnm7XApzHKsAmubws8GD9eQAHAmfk8ueAS3J53TzvJYDV83oM6gvXBvga8DvgmgbbfgIcmctHAj/O5U8A/w8QsAVwR64fBjycP5fP5eV7+hzrzuk84Cu5vDgwtD9/xsBw4BFgqXz/e2Dv/vY5A9sAmwAz2juvuv06/bnmNfxcLp8BfLW7zssjXmtmc+BvEfFwRLwO/C+wYw+3qdMiYlZETM3lF4H7KH+0qnak/OEGuBQYI0m5/n8j4rWIeAT4G+W69OprI2k14JPAb5oUqZ7vecBOlfXnRzEBGCppFeCjwPUR8WxEzAauBz7WXe3vLElDKH+gfwslD3VEPFdXrF99xmlRYClJiwJLA/+q297nP+eIuAV4tm51s/OqL9PhzzV/F7aj/G60VW+XcMdrzQwHHq28f4z5O6w+JacXNwbuqNv09rlGxBvA88AKNL8Gvf3a/AL4BiU1ZSMrR8SsXP43sHIu99XzXR14Cjgnp9d/I2lwXZl+9RlHxOPAT4F/ArMo2c2uqyvW3z7nmmbnVdXZc1wBeC5/N6rru4U7XhsQJC0DXAb8d0S80NPt6S6SPgU8GRFTOlI+yrxaX/9O4aKU6chfRcTGlCxdve6ebFfK+5o7Uv7pWBUYLOmLzcr3k895Pn31vNzxWjOPA++qvF+NuXl8+xRJi1E63Ysi4vIGRd4+15y2GwI8Q/Nr0JuvzQeBz0iaSZlG207ShXVlnsipRfLnk7m+L54vlNHJYxFRm8m4lNIRV/Wnzxhge0q89qciYg5wObBVXZn+9jnXNDuvqs6e4zOUKfdF69Z3C3e81swkYK180m9xygMpV/Vwmzot7938FrgvIn5WWX+wpIPz7VVA7QnO3YAb8z/pq4DP5ROxqwNrARPpxdcmIr4VEatFxAhKu26MiC9K+pGkWlKN6vnuBfyhsn5sPvW6BWX6chYlTvhHJC2fI62P0Itih0fEv4FHJa2dq8YA9/bXzzj9E9hC0tL5Oz4GuK8/f84VDc9L0uaSzq+U6fDnmr8LN1F+N+apt1u08gk1v/rWi/L044OUpwC/09PtWcBz2JoyFTUNuCtfnwBOAz6fZZYExlEewJgIrFHZ/zt5/g8AH+9L1wYYTT7VDFwDbJnLKwA3AA8BfwaG5XoBv8xzmg6MqtS1T16fvwFf7ulza3CuI4HJ+TlfSXkqt19/xsD3gfuBGcAFlCd4+9XnDFxMuYc9hzKz8V9tnNduwK8X9HOlPOk8Mc99HLBEd52XQ0bagKTy/dZdojzZ2O9JujYiPtp+yf5joH3GMDA/5xpJJwIXRMS0nm5Le9zxmpmZtZDv8ZqZmbWQO14zM7MWcsdrZmbWQu54zQYASQdlEBEz62HueM36MEkh6aTK+yMkHVNX5ovAChHxUqvb14ykmZJW7C31dAdJB0ga29PtsN7HHa9Z3/YasEs7nc8g4AfdcfBKpJ9+oSvPJyLOiIjz2y9pA407XrO+7Q3gTODw+g2SzpW0W0ScFxEh6aVcP1rSzZL+IOlhSSdI2lPSREnTJa2Z5VaSdJmkSfn6YK4/RtIFkm4DLpA0QtKNKrldb5D07gZtWUHSdSr5Y39DCeJQ2/bFPPZdkn4taVCD/cdkAoTpKjlal6hs/kaunyjpvVl+d5U8tXdLuiXXDZJ0Yp7LNEn7V67HrZKuokS8OkHSQZVjH5MzCcvk+U3N4+1YKTM267xb0gXV/XJ5pKQJWeYKzc2NO17Sj7PtD0r6UDttXUXSLXmtZtTKWx/T05FJ/PLLrwV/AS8BywEzKfGHjwCOyW3nArtVy+bP0cBzlFzFS1Bi0n4/tx0G/CKXfwdsncvvpoTdBDgGmMLcXLBXA3vl8j7AlQ3aeQpwdC5/khJNbEXg/bn/YrntdGBs3b5LUjLKvC/fn09JdkGe93dyeSxzI3VNB4bn8tD8uR9wVC4vQYl0tXpej5eB1XPbxsDNlePfS4nvuyiwXK5bkRLhSMB6lEhIK+a2YZXrdEQuTwM+nMvHVq7xeOCkXP4E8Od22vo/lfMdBCzb07+DfnX+1a+micwGooh4IWPUHgr8p4O7TYpMrSbp70Atpdx0YNtc3h5YV3p7cLpc5QGtqyKidqwtgV1y+QJKovJ629TKRMQfJc3O9WOATYFJeZylmD/o/dqUhAAP5vvzgIMo6Q+hhBWs/fx5Lt8GnCvp95QEAlBiD28oqRaPdwglhu/rwMQoeVuJiDslvUPSqsBKwOyIeFQl2cYPJW1DSbk4nJKSbjtgXEQ8nfvPkz9WJV/w0Ii4udL+cZUitfZNAUa009ZJwNnZlisj4i6sz3HHa9Y//AKYCpxTWfcGeTtJ0iLA4pVtr1WW36q8f4u5fxcWAbaIiFerB8oO8uUuareA8yLiWwtRR9QvR8QBkj5AGV1PkbRpHuuQiJgn8L+k0cx/PuMosX/fCVyS6/akdMSbRsQclQxQSy5Eu2tq1/5N5l77hm3N9m5DOa9zJf0sfB+5z/E9XrN+IEdZv6cEka+ZSRlNAnwGWKyT1V4HHFJ7I2lkk3K3U7K8QOmcbm1Q5hbgC1nPxylJDKAEu99N0jty2zBJ76nb9wFgRO3+LfAl4ObK9j0qP/+a9awZEXdExNHAU5Sp4muBr+ZoEUnvkzS4yTldkue0G3NHp0MouY7nSNoWqLXzRmB3SSvUzqFaUUQ8D8yu3I+tb38jDdua1+aJiDgL+A3zpz+0PsAjXrP+4yTg4Mr7s4A/SLob+BOdH6UeCvxS0jTK34pbgAMalDsEOEfS1ymd3JcblPk+cLGkeygd9T8BIuJeSUcB1+WofA5lGvkftR0j4lVJXwbGqTx1PAk4o1L38tnG14DP57oTJa1FGTneANxNuc86ApiqMmx/Ctip0YlHxD2SlgUer03JAxcBV0uaTrnnen+l7PHAzZLeBO4E9q6rci/gDElLAw83uUZVv2nS1tHA1yXNodzf99eV+iAnSTAzM2shTzWbmZm1kDteMzOzFnLHa2Zm1kLueM3MzFrIHa+ZmVkLueM1MzNrIXe8ZmZmLfT/ARHQk1+e1+55AAAAAElFTkSuQmCC\n",
      "text/plain": [
       "<Figure size 432x288 with 1 Axes>"
      ]
     },
     "metadata": {
      "needs_background": "light"
     },
     "output_type": "display_data"
    }
   ],
   "source": [
    "conteo_alcaldias = data.alcaldia.value_counts()\n",
    "g_obs_al = sns.barplot(x=conteo_alcaldias.values, \n",
    "            y=conteo_alcaldias.index,\n",
    "            color='steelblue',\n",
    "            orient='h')\n",
    "g_obs_al.set_title('Número de observaciones por alcaldía')\n",
    "g_obs_al.set(xlabel=\"Número de observaciones\", ylabel=\"Alcaldía\")\n",
    "xlabels = ['{:,.0f}'.format(x) for x in g_obs_al.get_xticks()]\n",
    "g_obs_al.set_xticklabels(xlabels);"
   ]
  },
  {
   "cell_type": "markdown",
   "metadata": {},
   "source": [
    "### ¿Cuántas colonias diferentes existen?"
   ]
  },
  {
   "cell_type": "code",
   "execution_count": 51,
   "metadata": {},
   "outputs": [
    {
     "data": {
      "text/plain": [
       "1340"
      ]
     },
     "execution_count": 51,
     "metadata": {},
     "output_type": "execute_result"
    }
   ],
   "source": [
    "data.colonia.nunique()"
   ]
  },
  {
   "cell_type": "markdown",
   "metadata": {},
   "source": [
    "### ¿Cúantas colonias se tienen por alcadía?"
   ]
  },
  {
   "cell_type": "code",
   "execution_count": 52,
   "metadata": {},
   "outputs": [
    {
     "data": {
      "text/html": [
       "<div>\n",
       "<style scoped>\n",
       "    .dataframe tbody tr th:only-of-type {\n",
       "        vertical-align: middle;\n",
       "    }\n",
       "\n",
       "    .dataframe tbody tr th {\n",
       "        vertical-align: top;\n",
       "    }\n",
       "\n",
       "    .dataframe thead th {\n",
       "        text-align: right;\n",
       "    }\n",
       "</style>\n",
       "<table border=\"1\" class=\"dataframe\">\n",
       "  <thead>\n",
       "    <tr style=\"text-align: right;\">\n",
       "      <th></th>\n",
       "      <th>alcaldia</th>\n",
       "      <th>colonias</th>\n",
       "    </tr>\n",
       "  </thead>\n",
       "  <tbody>\n",
       "    <tr>\n",
       "      <th>0</th>\n",
       "      <td>alvaro_obregon</td>\n",
       "      <td>188</td>\n",
       "    </tr>\n",
       "    <tr>\n",
       "      <th>1</th>\n",
       "      <td>azcapotzalco</td>\n",
       "      <td>88</td>\n",
       "    </tr>\n",
       "    <tr>\n",
       "      <th>2</th>\n",
       "      <td>benito_juarez</td>\n",
       "      <td>53</td>\n",
       "    </tr>\n",
       "    <tr>\n",
       "      <th>3</th>\n",
       "      <td>coyoacan</td>\n",
       "      <td>96</td>\n",
       "    </tr>\n",
       "    <tr>\n",
       "      <th>4</th>\n",
       "      <td>cuajimalpa</td>\n",
       "      <td>39</td>\n",
       "    </tr>\n",
       "    <tr>\n",
       "      <th>5</th>\n",
       "      <td>cuauhtemoc</td>\n",
       "      <td>35</td>\n",
       "    </tr>\n",
       "    <tr>\n",
       "      <th>6</th>\n",
       "      <td>gustavo_a_madero</td>\n",
       "      <td>167</td>\n",
       "    </tr>\n",
       "    <tr>\n",
       "      <th>7</th>\n",
       "      <td>iztacalco</td>\n",
       "      <td>38</td>\n",
       "    </tr>\n",
       "    <tr>\n",
       "      <th>8</th>\n",
       "      <td>iztapalapa</td>\n",
       "      <td>193</td>\n",
       "    </tr>\n",
       "    <tr>\n",
       "      <th>9</th>\n",
       "      <td>magdalena_contreras</td>\n",
       "      <td>38</td>\n",
       "    </tr>\n",
       "    <tr>\n",
       "      <th>10</th>\n",
       "      <td>miguel_hidalgo</td>\n",
       "      <td>86</td>\n",
       "    </tr>\n",
       "    <tr>\n",
       "      <th>11</th>\n",
       "      <td>milpa_alta</td>\n",
       "      <td>33</td>\n",
       "    </tr>\n",
       "    <tr>\n",
       "      <th>12</th>\n",
       "      <td>tlahuac</td>\n",
       "      <td>70</td>\n",
       "    </tr>\n",
       "    <tr>\n",
       "      <th>13</th>\n",
       "      <td>tlalpan</td>\n",
       "      <td>130</td>\n",
       "    </tr>\n",
       "    <tr>\n",
       "      <th>14</th>\n",
       "      <td>venustiano_carranza</td>\n",
       "      <td>67</td>\n",
       "    </tr>\n",
       "    <tr>\n",
       "      <th>15</th>\n",
       "      <td>xochimilco</td>\n",
       "      <td>90</td>\n",
       "    </tr>\n",
       "  </tbody>\n",
       "</table>\n",
       "</div>"
      ],
      "text/plain": [
       "               alcaldia  colonias\n",
       "0        alvaro_obregon       188\n",
       "1          azcapotzalco        88\n",
       "2         benito_juarez        53\n",
       "3              coyoacan        96\n",
       "4            cuajimalpa        39\n",
       "5            cuauhtemoc        35\n",
       "6      gustavo_a_madero       167\n",
       "7             iztacalco        38\n",
       "8            iztapalapa       193\n",
       "9   magdalena_contreras        38\n",
       "10       miguel_hidalgo        86\n",
       "11           milpa_alta        33\n",
       "12              tlahuac        70\n",
       "13              tlalpan       130\n",
       "14  venustiano_carranza        67\n",
       "15           xochimilco        90"
      ]
     },
     "execution_count": 52,
     "metadata": {},
     "output_type": "execute_result"
    }
   ],
   "source": [
    "alcaldias = data.alcaldia.unique()\n",
    "perfil_colonias = {}\n",
    "\n",
    "for alcaldia in alcaldias: \n",
    "    observaciones_alcaldia = data[data.alcaldia == alcaldia]\n",
    "    no_colonias = observaciones_alcaldia.colonia.nunique()\n",
    "    perfil_colonias[alcaldia] = [no_colonias]\n",
    "\n",
    "colonias_por_alcaldia = pd.melt(pd.DataFrame(perfil_colonias), var_name=\"alcaldia\", value_name=\"colonias\")\n",
    "colonias_por_alcaldia.sort_values(by=['alcaldia'], inplace=True, ignore_index=True)\n",
    "colonias_por_alcaldia"
   ]
  },
  {
   "cell_type": "code",
   "execution_count": 53,
   "metadata": {},
   "outputs": [
    {
     "data": {
      "image/png": "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\n",
      "text/plain": [
       "<Figure size 432x288 with 1 Axes>"
      ]
     },
     "metadata": {
      "needs_background": "light"
     },
     "output_type": "display_data"
    }
   ],
   "source": [
    "g_no_col = sns.barplot(\n",
    "    x='colonias', \n",
    "    y='alcaldia', \n",
    "    data=colonias_por_alcaldia.sort_values('colonias', ascending=False),\n",
    "    color='steelblue',\n",
    "    orient='h')\n",
    "\n",
    "g_no_col.set_title(\"Número de colonias por alcaldía\")\n",
    "g_no_col.set(xlabel=\"Número de colonias\", ylabel=\"Alcaldía\");"
   ]
  },
  {
   "cell_type": "markdown",
   "metadata": {},
   "source": [
    "### ¿Coincide este dato con los datos oficiales?"
   ]
  },
  {
   "cell_type": "markdown",
   "metadata": {},
   "source": [
    "Actualizando con [datos](https://datos.cdmx.gob.mx/explore/dataset/coloniascdmx/table/) reales de la CDMX:"
   ]
  },
  {
   "cell_type": "code",
   "execution_count": 54,
   "metadata": {},
   "outputs": [
    {
     "data": {
      "text/html": [
       "<div>\n",
       "<style scoped>\n",
       "    .dataframe tbody tr th:only-of-type {\n",
       "        vertical-align: middle;\n",
       "    }\n",
       "\n",
       "    .dataframe tbody tr th {\n",
       "        vertical-align: top;\n",
       "    }\n",
       "\n",
       "    .dataframe thead th {\n",
       "        text-align: right;\n",
       "    }\n",
       "</style>\n",
       "<table border=\"1\" class=\"dataframe\">\n",
       "  <thead>\n",
       "    <tr style=\"text-align: right;\">\n",
       "      <th></th>\n",
       "      <th>alcaldia</th>\n",
       "      <th>colonias</th>\n",
       "      <th>colonias_reales</th>\n",
       "      <th>fraccion</th>\n",
       "    </tr>\n",
       "  </thead>\n",
       "  <tbody>\n",
       "    <tr>\n",
       "      <th>0</th>\n",
       "      <td>alvaro_obregon</td>\n",
       "      <td>188</td>\n",
       "      <td>249</td>\n",
       "      <td>76.0</td>\n",
       "    </tr>\n",
       "    <tr>\n",
       "      <th>1</th>\n",
       "      <td>azcapotzalco</td>\n",
       "      <td>88</td>\n",
       "      <td>111</td>\n",
       "      <td>79.0</td>\n",
       "    </tr>\n",
       "    <tr>\n",
       "      <th>2</th>\n",
       "      <td>benito_juarez</td>\n",
       "      <td>53</td>\n",
       "      <td>64</td>\n",
       "      <td>83.0</td>\n",
       "    </tr>\n",
       "    <tr>\n",
       "      <th>3</th>\n",
       "      <td>coyoacan</td>\n",
       "      <td>96</td>\n",
       "      <td>153</td>\n",
       "      <td>63.0</td>\n",
       "    </tr>\n",
       "    <tr>\n",
       "      <th>4</th>\n",
       "      <td>cuajimalpa</td>\n",
       "      <td>39</td>\n",
       "      <td>43</td>\n",
       "      <td>91.0</td>\n",
       "    </tr>\n",
       "    <tr>\n",
       "      <th>5</th>\n",
       "      <td>cuauhtemoc</td>\n",
       "      <td>35</td>\n",
       "      <td>64</td>\n",
       "      <td>55.0</td>\n",
       "    </tr>\n",
       "    <tr>\n",
       "      <th>6</th>\n",
       "      <td>gustavo_a_madero</td>\n",
       "      <td>167</td>\n",
       "      <td>232</td>\n",
       "      <td>72.0</td>\n",
       "    </tr>\n",
       "    <tr>\n",
       "      <th>7</th>\n",
       "      <td>iztacalco</td>\n",
       "      <td>38</td>\n",
       "      <td>55</td>\n",
       "      <td>69.0</td>\n",
       "    </tr>\n",
       "    <tr>\n",
       "      <th>8</th>\n",
       "      <td>iztapalapa</td>\n",
       "      <td>193</td>\n",
       "      <td>293</td>\n",
       "      <td>66.0</td>\n",
       "    </tr>\n",
       "    <tr>\n",
       "      <th>9</th>\n",
       "      <td>magdalena_contreras</td>\n",
       "      <td>38</td>\n",
       "      <td>52</td>\n",
       "      <td>73.0</td>\n",
       "    </tr>\n",
       "    <tr>\n",
       "      <th>10</th>\n",
       "      <td>miguel_hidalgo</td>\n",
       "      <td>86</td>\n",
       "      <td>88</td>\n",
       "      <td>98.0</td>\n",
       "    </tr>\n",
       "    <tr>\n",
       "      <th>11</th>\n",
       "      <td>milpa_alta</td>\n",
       "      <td>33</td>\n",
       "      <td>12</td>\n",
       "      <td>275.0</td>\n",
       "    </tr>\n",
       "    <tr>\n",
       "      <th>12</th>\n",
       "      <td>tlahuac</td>\n",
       "      <td>70</td>\n",
       "      <td>58</td>\n",
       "      <td>121.0</td>\n",
       "    </tr>\n",
       "    <tr>\n",
       "      <th>13</th>\n",
       "      <td>tlalpan</td>\n",
       "      <td>130</td>\n",
       "      <td>178</td>\n",
       "      <td>73.0</td>\n",
       "    </tr>\n",
       "    <tr>\n",
       "      <th>14</th>\n",
       "      <td>venustiano_carranza</td>\n",
       "      <td>67</td>\n",
       "      <td>80</td>\n",
       "      <td>84.0</td>\n",
       "    </tr>\n",
       "    <tr>\n",
       "      <th>15</th>\n",
       "      <td>xochimilco</td>\n",
       "      <td>90</td>\n",
       "      <td>80</td>\n",
       "      <td>112.0</td>\n",
       "    </tr>\n",
       "  </tbody>\n",
       "</table>\n",
       "</div>"
      ],
      "text/plain": [
       "               alcaldia  colonias  colonias_reales  fraccion\n",
       "0        alvaro_obregon       188              249      76.0\n",
       "1          azcapotzalco        88              111      79.0\n",
       "2         benito_juarez        53               64      83.0\n",
       "3              coyoacan        96              153      63.0\n",
       "4            cuajimalpa        39               43      91.0\n",
       "5            cuauhtemoc        35               64      55.0\n",
       "6      gustavo_a_madero       167              232      72.0\n",
       "7             iztacalco        38               55      69.0\n",
       "8            iztapalapa       193              293      66.0\n",
       "9   magdalena_contreras        38               52      73.0\n",
       "10       miguel_hidalgo        86               88      98.0\n",
       "11           milpa_alta        33               12     275.0\n",
       "12              tlahuac        70               58     121.0\n",
       "13              tlalpan       130              178      73.0\n",
       "14  venustiano_carranza        67               80      84.0\n",
       "15           xochimilco        90               80     112.0"
      ]
     },
     "execution_count": 54,
     "metadata": {},
     "output_type": "execute_result"
    }
   ],
   "source": [
    "colonias_por_alcaldia['colonias_reales'] = [249, 111, 64, 153, 43, 64, 232, 55, 293, 52, 88, 12, 58, 178, 80, 80]\n",
    "colonias_por_alcaldia['fraccion'] =\\\n",
    "            round(colonias_por_alcaldia.colonias / colonias_por_alcaldia.colonias_reales, 2) * 100\n",
    "colonias_por_alcaldia"
   ]
  },
  {
   "cell_type": "code",
   "execution_count": 55,
   "metadata": {},
   "outputs": [
    {
     "data": {
      "image/png": "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\n",
      "text/plain": [
       "<Figure size 472.375x360 with 1 Axes>"
      ]
     },
     "metadata": {
      "needs_background": "light"
     },
     "output_type": "display_data"
    }
   ],
   "source": [
    "long_colonias_alcaldia = pd.melt(colonias_por_alcaldia, \n",
    "                                 id_vars=['alcaldia'], \n",
    "                                 value_vars=['colonias', 'colonias_reales'],\n",
    "                                 var_name='conteo',\n",
    "                                 value_name='valor')\n",
    "\n",
    "g_comp = sns.catplot(kind='bar', \n",
    "                     x=\"valor\", \n",
    "                     y='alcaldia', \n",
    "                     hue=\"conteo\", \n",
    "                     data=long_colonias_alcaldia, \n",
    "                     orient='h');\n",
    "\n",
    "plt.subplots_adjust(top=0.9)\n",
    "g_comp.fig.suptitle(\"Comparativo colonias por alcaldía\")\n",
    "g_comp.set(xlabel=\"Número de colonias\", ylabel=\"Alcaldía\");"
   ]
  },
  {
   "cell_type": "markdown",
   "metadata": {},
   "source": [
    "Existen diferencias significativas entre el número de `colonias` detectadas en los datos empleados y las `colonias_reales` reportadas en los datos oficiales de la CDMX. En el caso de tener valores inferiores, puede deberse a la falta de captura de consumos en dichos lugares. Por otro lado, existen valores superiores para algunas alcaldías como es el caso de Milpa Alta. En los datos oficiales, se reportan una sola colonia **Villa Milpa Alta**, mientras que en los datos esta se fragmenta en:"
   ]
  },
  {
   "cell_type": "code",
   "execution_count": 56,
   "metadata": {},
   "outputs": [
    {
     "data": {
      "text/plain": [
       "['pblo_villa_milpa_alta_bo_la_concepcion',\n",
       " 'pblo_villa_milpa_alta_bo_los_angeles',\n",
       " 'pblo_villa_milpa_alta_bo_santa_martha',\n",
       " 'pblo_villa_milpa_alta_bo_san_mateo',\n",
       " 'pblo_villa_milpa_alta_bo_santa_cruz',\n",
       " 'villa_milpa_alta_centro',\n",
       " 'pblo_villa_milpa_alta_bo_san_agustin',\n",
       " 'pblo_villa_milpa_alta_bo_la_luz']"
      ]
     },
     "execution_count": 56,
     "metadata": {},
     "output_type": "execute_result"
    }
   ],
   "source": [
    "colonias_milpa_alta = data[data.alcaldia == 'milpa_alta'].colonia.unique()\n",
    "[colonia for colonia in colonias_milpa_alta if 'villa_milpa_alta' in colonia]"
   ]
  },
  {
   "cell_type": "markdown",
   "metadata": {},
   "source": [
    "### ¿Cuantás colonias existen por índice de desarrollo?"
   ]
  },
  {
   "cell_type": "code",
   "execution_count": 57,
   "metadata": {},
   "outputs": [
    {
     "data": {
      "text/html": [
       "<div>\n",
       "<style scoped>\n",
       "    .dataframe tbody tr th:only-of-type {\n",
       "        vertical-align: middle;\n",
       "    }\n",
       "\n",
       "    .dataframe tbody tr th {\n",
       "        vertical-align: top;\n",
       "    }\n",
       "\n",
       "    .dataframe thead th {\n",
       "        text-align: right;\n",
       "    }\n",
       "</style>\n",
       "<table border=\"1\" class=\"dataframe\">\n",
       "  <thead>\n",
       "    <tr style=\"text-align: right;\">\n",
       "      <th></th>\n",
       "      <th>indice_des</th>\n",
       "      <th>colonias</th>\n",
       "    </tr>\n",
       "  </thead>\n",
       "  <tbody>\n",
       "    <tr>\n",
       "      <th>0</th>\n",
       "      <td>alto</td>\n",
       "      <td>512</td>\n",
       "    </tr>\n",
       "    <tr>\n",
       "      <th>1</th>\n",
       "      <td>medio</td>\n",
       "      <td>558</td>\n",
       "    </tr>\n",
       "    <tr>\n",
       "      <th>2</th>\n",
       "      <td>popular</td>\n",
       "      <td>1124</td>\n",
       "    </tr>\n",
       "    <tr>\n",
       "      <th>3</th>\n",
       "      <td>bajo</td>\n",
       "      <td>958</td>\n",
       "    </tr>\n",
       "  </tbody>\n",
       "</table>\n",
       "</div>"
      ],
      "text/plain": [
       "  indice_des  colonias\n",
       "0       alto       512\n",
       "1      medio       558\n",
       "2    popular      1124\n",
       "3       bajo       958"
      ]
     },
     "execution_count": 57,
     "metadata": {},
     "output_type": "execute_result"
    }
   ],
   "source": [
    "indices_des = data.indice_des.unique()\n",
    "perfil_indice_des = {}\n",
    "\n",
    "for indice in indices_des: \n",
    "    observaciones_indice_des = data[data.indice_des == indice]\n",
    "    no_colonias = observaciones_indice_des.colonia.nunique()\n",
    "    perfil_indice_des[indice] = [no_colonias]\n",
    "\n",
    "colonias_por_indice = pd.melt(pd.DataFrame(perfil_indice_des), var_name=\"indice_des\", value_name=\"colonias\")\n",
    "colonias_por_indice"
   ]
  },
  {
   "cell_type": "code",
   "execution_count": 58,
   "metadata": {},
   "outputs": [
    {
     "data": {
      "image/png": "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\n",
      "text/plain": [
       "<Figure size 432x288 with 1 Axes>"
      ]
     },
     "metadata": {
      "needs_background": "light"
     },
     "output_type": "display_data"
    }
   ],
   "source": [
    "g_col_indice = sns.barplot(x='colonias', \n",
    "                y=\"indice_des\", \n",
    "                data=colonias_por_indice.sort_values('colonias', ascending=False), \n",
    "                orient=\"h\")\n",
    "\n",
    "g_col_indice.set_title(\"Número de colonias por índice de desarrollo\")\n",
    "g_col_indice.set(ylabel=\"Índice de desarrollo\", xlabel=\"Número de colonias\");\n",
    "xlabels = ['{:,.0f}'.format(x) for x in g_col_indice.get_xticks()]\n",
    "g_col_indice.set_xticklabels(xlabels);"
   ]
  },
  {
   "cell_type": "markdown",
   "metadata": {},
   "source": [
    "# Consumo total"
   ]
  },
  {
   "cell_type": "markdown",
   "metadata": {},
   "source": [
    "### ¿Existen diferencias importantes en cuanto a consumo total, entre bimestres?"
   ]
  },
  {
   "cell_type": "code",
   "execution_count": 59,
   "metadata": {},
   "outputs": [
    {
     "data": {
      "text/plain": [
       "<AxesSubplot:xlabel='consumo_total', ylabel='alcaldia'>"
      ]
     },
     "execution_count": 59,
     "metadata": {},
     "output_type": "execute_result"
    },
    {
     "data": {
      "image/png": "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\n",
      "text/plain": [
       "<Figure size 360x576 with 1 Axes>"
      ]
     },
     "metadata": {
      "needs_background": "light"
     },
     "output_type": "display_data"
    }
   ],
   "source": [
    "f = plt.subplots(figsize=(5, 8))\n",
    "\n",
    "sns.barplot(y = \"alcaldia\", x = \"consumo_total\", hue = \"bimestre\", estimator = sum, data = data, ci = None,\n",
    "order = [\"cuauhtemoc\", \"miguel_hidalgo\", \"benito_juarez\", \"gustavo_a_madero\", \"alvaro_obregon\", \"azcapotzalco\",\n",
    "                     \"iztapalapa\", \"coyoacan\", \"venustiano_carranza\", \"iztacalco\", \"tlalpan\", \"cuajimalpa\", \"xochimilco\", \"magdalena_contreras\", \"tlahuac\", \"milpa_alta\"])"
   ]
  },
  {
   "cell_type": "markdown",
   "metadata": {},
   "source": [
    "Como se puede apreciar, el consumo total no varía por bimestre. Para simplificar el análisis exploratorio, los 3 bimestres serán resumidos en uno sólo por medio del promedio. \n",
    "De esta manera, tendremos una sóla observación por manzana."
   ]
  },
  {
   "cell_type": "code",
   "execution_count": 22,
   "metadata": {
    "scrolled": true
   },
   "outputs": [
    {
     "data": {
      "text/html": [
       "<div>\n",
       "<style scoped>\n",
       "    .dataframe tbody tr th:only-of-type {\n",
       "        vertical-align: middle;\n",
       "    }\n",
       "\n",
       "    .dataframe tbody tr th {\n",
       "        vertical-align: top;\n",
       "    }\n",
       "\n",
       "    .dataframe thead th {\n",
       "        text-align: right;\n",
       "    }\n",
       "</style>\n",
       "<table border=\"1\" class=\"dataframe\">\n",
       "  <thead>\n",
       "    <tr style=\"text-align: right;\">\n",
       "      <th></th>\n",
       "      <th>alcaldia</th>\n",
       "      <th>indice_des</th>\n",
       "      <th>colonia</th>\n",
       "      <th>latitud</th>\n",
       "      <th>longitud</th>\n",
       "      <th>consumo_total</th>\n",
       "      <th>consumo_total_dom</th>\n",
       "      <th>consumo_total_mixto</th>\n",
       "      <th>consumo_total_no_dom</th>\n",
       "    </tr>\n",
       "  </thead>\n",
       "  <tbody>\n",
       "    <tr>\n",
       "      <th>0</th>\n",
       "      <td>alvaro_obregon</td>\n",
       "      <td>alto</td>\n",
       "      <td>1a_ampliacion_presidentes</td>\n",
       "      <td>19.373961</td>\n",
       "      <td>-99.225171</td>\n",
       "      <td>284.490000</td>\n",
       "      <td>168.243333</td>\n",
       "      <td>111.420000</td>\n",
       "      <td>4.826667</td>\n",
       "    </tr>\n",
       "    <tr>\n",
       "      <th>1</th>\n",
       "      <td>alvaro_obregon</td>\n",
       "      <td>alto</td>\n",
       "      <td>alcantarilla</td>\n",
       "      <td>19.336635</td>\n",
       "      <td>-99.250527</td>\n",
       "      <td>11499.083333</td>\n",
       "      <td>12.356667</td>\n",
       "      <td>0.000000</td>\n",
       "      <td>11486.703333</td>\n",
       "    </tr>\n",
       "    <tr>\n",
       "      <th>2</th>\n",
       "      <td>alvaro_obregon</td>\n",
       "      <td>alto</td>\n",
       "      <td>alfonso_xiii</td>\n",
       "      <td>19.374481</td>\n",
       "      <td>-99.198351</td>\n",
       "      <td>987.852000</td>\n",
       "      <td>265.098000</td>\n",
       "      <td>624.430000</td>\n",
       "      <td>98.324000</td>\n",
       "    </tr>\n",
       "    <tr>\n",
       "      <th>3</th>\n",
       "      <td>alvaro_obregon</td>\n",
       "      <td>alto</td>\n",
       "      <td>alfonso_xiii</td>\n",
       "      <td>19.374949</td>\n",
       "      <td>-99.193678</td>\n",
       "      <td>1046.280000</td>\n",
       "      <td>743.913333</td>\n",
       "      <td>29.560000</td>\n",
       "      <td>272.806667</td>\n",
       "    </tr>\n",
       "    <tr>\n",
       "      <th>4</th>\n",
       "      <td>alvaro_obregon</td>\n",
       "      <td>alto</td>\n",
       "      <td>alfonso_xiii</td>\n",
       "      <td>19.375100</td>\n",
       "      <td>-99.194926</td>\n",
       "      <td>710.683333</td>\n",
       "      <td>449.616667</td>\n",
       "      <td>65.246667</td>\n",
       "      <td>195.820000</td>\n",
       "    </tr>\n",
       "    <tr>\n",
       "      <th>...</th>\n",
       "      <td>...</td>\n",
       "      <td>...</td>\n",
       "      <td>...</td>\n",
       "      <td>...</td>\n",
       "      <td>...</td>\n",
       "      <td>...</td>\n",
       "      <td>...</td>\n",
       "      <td>...</td>\n",
       "      <td>...</td>\n",
       "    </tr>\n",
       "    <tr>\n",
       "      <th>23377</th>\n",
       "      <td>xochimilco</td>\n",
       "      <td>popular</td>\n",
       "      <td>tablas_de_san_lorenzo</td>\n",
       "      <td>19.246094</td>\n",
       "      <td>-99.106610</td>\n",
       "      <td>162.553333</td>\n",
       "      <td>0.000000</td>\n",
       "      <td>0.000000</td>\n",
       "      <td>162.553333</td>\n",
       "    </tr>\n",
       "    <tr>\n",
       "      <th>23378</th>\n",
       "      <td>xochimilco</td>\n",
       "      <td>popular</td>\n",
       "      <td>tejomulco_el_alto</td>\n",
       "      <td>19.240191</td>\n",
       "      <td>-99.087173</td>\n",
       "      <td>28.093333</td>\n",
       "      <td>0.000000</td>\n",
       "      <td>0.000000</td>\n",
       "      <td>28.093333</td>\n",
       "    </tr>\n",
       "    <tr>\n",
       "      <th>23379</th>\n",
       "      <td>xochimilco</td>\n",
       "      <td>popular</td>\n",
       "      <td>valle_de_santa_maria</td>\n",
       "      <td>19.234869</td>\n",
       "      <td>-99.096998</td>\n",
       "      <td>0.000000</td>\n",
       "      <td>0.000000</td>\n",
       "      <td>0.000000</td>\n",
       "      <td>0.000000</td>\n",
       "    </tr>\n",
       "    <tr>\n",
       "      <th>23380</th>\n",
       "      <td>xochimilco</td>\n",
       "      <td>popular</td>\n",
       "      <td>valle_de_santa_maria</td>\n",
       "      <td>19.235095</td>\n",
       "      <td>-99.097590</td>\n",
       "      <td>0.000000</td>\n",
       "      <td>0.000000</td>\n",
       "      <td>0.000000</td>\n",
       "      <td>0.000000</td>\n",
       "    </tr>\n",
       "    <tr>\n",
       "      <th>23381</th>\n",
       "      <td>xochimilco</td>\n",
       "      <td>popular</td>\n",
       "      <td>xochipilli</td>\n",
       "      <td>19.249494</td>\n",
       "      <td>-99.086658</td>\n",
       "      <td>344.133333</td>\n",
       "      <td>338.506667</td>\n",
       "      <td>5.626667</td>\n",
       "      <td>0.000000</td>\n",
       "    </tr>\n",
       "  </tbody>\n",
       "</table>\n",
       "<p>23382 rows × 9 columns</p>\n",
       "</div>"
      ],
      "text/plain": [
       "             alcaldia indice_des                    colonia    latitud  \\\n",
       "0      alvaro_obregon       alto  1a_ampliacion_presidentes  19.373961   \n",
       "1      alvaro_obregon       alto               alcantarilla  19.336635   \n",
       "2      alvaro_obregon       alto               alfonso_xiii  19.374481   \n",
       "3      alvaro_obregon       alto               alfonso_xiii  19.374949   \n",
       "4      alvaro_obregon       alto               alfonso_xiii  19.375100   \n",
       "...               ...        ...                        ...        ...   \n",
       "23377      xochimilco    popular      tablas_de_san_lorenzo  19.246094   \n",
       "23378      xochimilco    popular          tejomulco_el_alto  19.240191   \n",
       "23379      xochimilco    popular       valle_de_santa_maria  19.234869   \n",
       "23380      xochimilco    popular       valle_de_santa_maria  19.235095   \n",
       "23381      xochimilco    popular                 xochipilli  19.249494   \n",
       "\n",
       "        longitud  consumo_total  consumo_total_dom  consumo_total_mixto  \\\n",
       "0     -99.225171     284.490000         168.243333           111.420000   \n",
       "1     -99.250527   11499.083333          12.356667             0.000000   \n",
       "2     -99.198351     987.852000         265.098000           624.430000   \n",
       "3     -99.193678    1046.280000         743.913333            29.560000   \n",
       "4     -99.194926     710.683333         449.616667            65.246667   \n",
       "...          ...            ...                ...                  ...   \n",
       "23377 -99.106610     162.553333           0.000000             0.000000   \n",
       "23378 -99.087173      28.093333           0.000000             0.000000   \n",
       "23379 -99.096998       0.000000           0.000000             0.000000   \n",
       "23380 -99.097590       0.000000           0.000000             0.000000   \n",
       "23381 -99.086658     344.133333         338.506667             5.626667   \n",
       "\n",
       "       consumo_total_no_dom  \n",
       "0                  4.826667  \n",
       "1              11486.703333  \n",
       "2                 98.324000  \n",
       "3                272.806667  \n",
       "4                195.820000  \n",
       "...                     ...  \n",
       "23377            162.553333  \n",
       "23378             28.093333  \n",
       "23379              0.000000  \n",
       "23380              0.000000  \n",
       "23381              0.000000  \n",
       "\n",
       "[23382 rows x 9 columns]"
      ]
     },
     "execution_count": 22,
     "metadata": {},
     "output_type": "execute_result"
    }
   ],
   "source": [
    "data_consumo_total_mean = data[['alcaldia', 'indice_des','colonia', 'latitud', 'longitud', 'consumo_total',\\\n",
    "                                      'consumo_total_dom', 'consumo_total_mixto', 'consumo_total_no_dom']].\\\n",
    "groupby(['alcaldia', 'indice_des','colonia', 'latitud', 'longitud']).mean().reset_index()\n",
    "\n",
    "data_consumo_total_mean"
   ]
  },
  {
   "cell_type": "markdown",
   "metadata": {},
   "source": [
    "Una vez que se tienen los datos promediados a lo largo del semestre, se prosigue con el análisis del consumo total, por alcaldía y por índice de desarrollo"
   ]
  },
  {
   "cell_type": "markdown",
   "metadata": {},
   "source": [
    "### ¿Cómo se distribuye el consumo entre niveles de desarrollo, según la alcaldía?"
   ]
  },
  {
   "cell_type": "code",
   "execution_count": 30,
   "metadata": {
    "scrolled": true
   },
   "outputs": [
    {
     "data": {
      "image/png": "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\n",
      "text/plain": [
       "<Figure size 576x720 with 1 Axes>"
      ]
     },
     "metadata": {
      "needs_background": "light"
     },
     "output_type": "display_data"
    }
   ],
   "source": [
    "f = plt.subplots(figsize=(8, 10))\n",
    "\n",
    "plot_alcaldia_indicedes = sns.barplot(y = \"alcaldia\", x = \"consumo_total\", hue = \"indice_des\", estimator = sum, data = data_consumo_total_mean, ci = None,\n",
    "           order = [\"cuauhtemoc\", \"miguel_hidalgo\", \"benito_juarez\", \"gustavo_a_madero\", \"alvaro_obregon\", \"azcapotzalco\",\n",
    "                     \"iztapalapa\", \"coyoacan\", \"venustiano_carranza\", \"iztacalco\", \"tlalpan\", \"cuajimalpa\", \"xochimilco\", \"magdalena_contreras\", \"tlahuac\", \"milpa_alta\"],\n",
    "           hue_order = ['alto','medio','bajo','popular'])\n",
    "\n",
    "plt.savefig('plots/consumo_total_sns/01_plot_alcaldia_indicedes.png')"
   ]
  },
  {
   "cell_type": "markdown",
   "metadata": {},
   "source": [
    "- En las alcaldías Miguel Hidalgo, Benito Juárez y Cuajimalpa la mayor parte del consumo total proviene de manzanas correspondientes a índice alto.\n",
    "- En las alcaldías Cuahtémoc, Álvaro Obregón, Tlalpan, Coyoacán y Xochimilco el consumo total se divide de forma relativamente equitativa entre 3 o 4 níveles del índice.\n",
    "- En Azcapotzalco, Iztapalapa, Iztacalco, Venustiano Carranza y Milpa Alta el consumo total proviene predominantemente de manzanas con índice bajo o popular."
   ]
  },
  {
   "cell_type": "markdown",
   "metadata": {},
   "source": [
    "### Distribución de consumo total por índice de desarrollo"
   ]
  },
  {
   "cell_type": "markdown",
   "metadata": {},
   "source": [
    "### ¿Existe un nivel de índice de desarrollo que presente consumos totales más altos que otros niveles?"
   ]
  },
  {
   "cell_type": "markdown",
   "metadata": {},
   "source": [
    "Para contestar esta pregunta, un boxplot resulta útil."
   ]
  },
  {
   "cell_type": "code",
   "execution_count": 24,
   "metadata": {},
   "outputs": [
    {
     "data": {
      "text/plain": [
       "<AxesSubplot:xlabel='consumo_total', ylabel='indice_des'>"
      ]
     },
     "execution_count": 24,
     "metadata": {},
     "output_type": "execute_result"
    },
    {
     "data": {
      "image/png": "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\n",
      "text/plain": [
       "<Figure size 360x432 with 1 Axes>"
      ]
     },
     "metadata": {
      "needs_background": "light"
     },
     "output_type": "display_data"
    }
   ],
   "source": [
    "f = plt.subplots(figsize=(5, 6))\n",
    "sns.boxplot(x = \"consumo_total\", y = \"indice_des\", order = ['alto','medio','bajo','popular'],\n",
    "            data = data_consumo_total_mean)"
   ]
  },
  {
   "cell_type": "markdown",
   "metadata": {},
   "source": [
    "Los boxplots se ven muy \"aplastados\" debido a la gran dispersión de valores que existe. Sin embargo es útil para ver que en el nivel popular contiene manzanas con algunos de los valores bimestrales más altos rebasando los 80,000 m³ en más de una ocasión."
   ]
  },
  {
   "cell_type": "markdown",
   "metadata": {},
   "source": [
    "Para ver la distribución general, sin considerar valores tan extremos, se realiza un filtro en el cual sólo se considerarán las manzanas con un consumo total bimestral menor a 7,500 m³"
   ]
  },
  {
   "cell_type": "code",
   "execution_count": 31,
   "metadata": {
    "scrolled": true
   },
   "outputs": [
    {
     "data": {
      "image/png": "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\n",
      "text/plain": [
       "<Figure size 360x432 with 1 Axes>"
      ]
     },
     "metadata": {
      "needs_background": "light"
     },
     "output_type": "display_data"
    }
   ],
   "source": [
    "f = plt.subplots(figsize=(5, 6))\n",
    "sns.boxplot(x = \"consumo_total\", y = \"indice_des\",order = ['alto','medio','bajo','popular'],\n",
    "            data = data_consumo_total_mean[(data_consumo_total_mean.consumo_total < 7500) & (data_consumo_total_mean.consumo_total > 0)])\n",
    "\n",
    "plt.savefig('plots/consumo_total_sns/02_plot_boxplot_indicedes.png')"
   ]
  },
  {
   "cell_type": "markdown",
   "metadata": {},
   "source": [
    "Aunque la mediana y cuartil superior del nivel alto son mayores a aquellas correspondientes a otros niveles, la gran dispersión de los datos no garantiza permite observar un resultado importante en este sentido. Por lo que, pare ser, que los niveles de consumo total por colonia se distribuyen de forma similar entre niveles de índice de desarrollo"
   ]
  },
  {
   "cell_type": "markdown",
   "metadata": {},
   "source": [
    "Un boxplot es útil para ver el rango, y los cuartiles de los datos, sin embargo, no permite apreciar la densidad o concentración de niveles de consumo total. Es decir"
   ]
  },
  {
   "cell_type": "markdown",
   "metadata": {},
   "source": [
    "### ¿Qué tan frecuentes son los consumos totales tan altos?\n",
    "### ¿Qué valores de consumo total son los más comunes, por nivel de desarrollo?"
   ]
  },
  {
   "cell_type": "code",
   "execution_count": 32,
   "metadata": {},
   "outputs": [
    {
     "data": {
<<<<<<< HEAD
=======
      "text/plain": [
       "<seaborn.axisgrid.FacetGrid at 0x149900f50>"
      ]
     },
     "execution_count": 64,
     "metadata": {},
     "output_type": "execute_result"
    },
    {
     "data": {
>>>>>>> 6863ee9826c5e4f1cdcef1e11e76f2775a419339
      "image/png": "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\n",
      "text/plain": [
       "<Figure size 432x432 with 4 Axes>"
      ]
     },
     "metadata": {
      "needs_background": "light"
     },
     "output_type": "display_data"
    }
   ],
   "source": [
    "b = sns.FacetGrid(data = data_consumo_total_mean[data_consumo_total_mean.consumo_total < 25000],\n",
    "                  col = \"indice_des\", col_wrap = 2, sharex = True, sharey = True, col_order = ['alto','medio', 'bajo','popular'])\n",
    "\n",
    "b.map_dataframe(sns.histplot, x = \"consumo_total\")\n",
    "\n"
   ]
  },
  {
   "cell_type": "markdown",
   "metadata": {},
   "source": [
    "Los valores extremos no son nada comunes. Después de consumos totales de 5000, la cola de la distribución es muy delgada. Para apreciar mejor los valores más bajos, se realiza un filtro de consumos totales menores a 7500. Tambien se quitan consumos iguales a 0"
   ]
  },
  {
   "cell_type": "code",
   "execution_count": 33,
   "metadata": {},
   "outputs": [
    {
     "data": {
<<<<<<< HEAD
=======
      "text/plain": [
       "<seaborn.axisgrid.FacetGrid at 0x145bfa190>"
      ]
     },
     "execution_count": 65,
     "metadata": {},
     "output_type": "execute_result"
    },
    {
     "data": {
>>>>>>> 6863ee9826c5e4f1cdcef1e11e76f2775a419339
      "image/png": "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\n",
      "text/plain": [
       "<Figure size 432x432 with 4 Axes>"
      ]
     },
     "metadata": {
      "needs_background": "light"
     },
     "output_type": "display_data"
    }
   ],
   "source": [
    "b = sns.FacetGrid(data = data_consumo_total_mean[(data_consumo_total_mean.consumo_total < 4000) &\n",
    "                                                 (data_consumo_total_mean.consumo_total > 0)],\n",
    "                  col = \"indice_des\", col_wrap = 2, sharex = True, sharey = True, col_order = ['alto','medio', 'bajo','popular'])\n",
    "\n",
    "b.map_dataframe(sns.histplot, x = \"consumo_total\")\n",
    "\n",
    "plt.savefig('plots/consumo_total_sns/03_fg_hist_indicedes.png')"
   ]
  },
  {
   "cell_type": "markdown",
   "metadata": {},
   "source": [
    "Las distribuciones de consumo total por nivel de desarrollo presentan comportamientos distintos entre sí, aunque con algunas similitudes.\n",
    "\n",
    "- Para niveles de desarrollo bajo,popular y ,en menor magnitud, mediano son muy comunes las manzanas con consumos cercanos a 0. Mientras que en indice alto esto no sucede.\n",
    "\n",
    "- Quitando el \"bin\" más bajo de cada distribución, se observa que la moda del nivel alto y bajo son similares y cercanas a los 750 [unidades].\n",
    "\n",
    "- Mientrás más alto es el consumo, menor es el valor de la densidad en el caso del nivel popular.\n",
    "\n"
   ]
  },
  {
   "cell_type": "markdown",
   "metadata": {},
   "source": [
    "### ¿Qué tan frecuentes son los consumos totales tan altos?\n",
    "### ¿Qué valores de consumo total son los más comunes, por alcaldía?"
   ]
  },
  {
   "cell_type": "code",
   "execution_count": 34,
   "metadata": {
    "scrolled": true
   },
   "outputs": [
    {
     "data": {
<<<<<<< HEAD
=======
      "text/plain": [
       "<seaborn.axisgrid.FacetGrid at 0x1459a2510>"
      ]
     },
     "execution_count": 66,
     "metadata": {},
     "output_type": "execute_result"
    },
    {
     "data": {
>>>>>>> 6863ee9826c5e4f1cdcef1e11e76f2775a419339
      "image/png": "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\n",
      "text/plain": [
       "<Figure size 864x864 with 16 Axes>"
      ]
     },
     "metadata": {
      "needs_background": "light"
     },
     "output_type": "display_data"
    }
   ],
   "source": [
    "a = sns.FacetGrid(data = data_consumo_total_mean[(data_consumo_total_mean.consumo_total < 7500) &\n",
    "                                                 (data_consumo_total_mean.consumo_total > 0)],\n",
    "                  col = \"alcaldia\", col_wrap = 4, sharex = True, sharey = True)\n",
    "\n",
    "a.map_dataframe(sns.histplot, x = \"consumo_total\")\n",
    "\n",
    "plt.savefig('plots/consumo_total_sns/04_fg_hist_alcaldia.png')"
   ]
  },
  {
   "cell_type": "markdown",
   "metadata": {},
   "source": [
    "- En Iztapalapa se encuentra la gran mayoría de los registros cercanos a 0 que se observaron anteriormente.\n",
    "\n",
    "- El consumo general de Milpa Alta es muy pequeño, como lo sugerían varias gráficas anteriormente "
   ]
  },
  {
   "cell_type": "markdown",
   "metadata": {},
   "source": [
    "### ¿Cómo se divide el consumo total entre doméstico, no doméstico y mixto por alcaldía?"
   ]
  },
  {
   "cell_type": "markdown",
   "metadata": {},
   "source": [
    "### ¿Qué alcaldía presenta mayor proporción de consumo doméstico? ¿No doméstico?"
   ]
  },
  {
   "cell_type": "markdown",
   "metadata": {},
   "source": [
    "Una gráfica de barras del porcentaje de cada tipo de consumo es útil para contestar dicha pregunta."
   ]
  },
  {
   "cell_type": "code",
   "execution_count": 35,
   "metadata": {},
   "outputs": [],
   "source": [
    "consumo_total_alcaldia = data_consumo_total_mean.drop(['longitud', 'latitud'], axis = 1).groupby(['alcaldia']).sum().reset_index()\n",
    "\n",
    "consumo_total_alcaldia['sum_col'] = consumo_total_alcaldia.consumo_total_dom + \\\n",
    "consumo_total_alcaldia.consumo_total_no_dom + \\\n",
    "consumo_total_alcaldia.consumo_total_mixto \n",
    "\n",
    "consumo_total_alcaldia['pct_dom'] = consumo_total_alcaldia.consumo_total_dom/ consumo_total_alcaldia.sum_col\n",
    "consumo_total_alcaldia['pct_no_dom'] = consumo_total_alcaldia.consumo_total_no_dom/ consumo_total_alcaldia.sum_col\n",
    "consumo_total_alcaldia['pct_mixto'] = consumo_total_alcaldia.consumo_total_mixto/ consumo_total_alcaldia.sum_col\n",
    "\n",
    "\n",
    "consumo_total_alcaldia['acum_pct_no_dom'] = consumo_total_alcaldia.pct_dom + consumo_total_alcaldia.pct_no_dom\n",
    "consumo_total_alcaldia['acum_pct_mixto'] = consumo_total_alcaldia.acum_pct_no_dom + consumo_total_alcaldia.pct_mixto\n",
    "\n",
    "consumo_total_alcaldia = consumo_total_alcaldia.sort_values(\"pct_dom\", ascending=False)\n",
    "\n",
    "#consumo_total_alcaldia"
   ]
  },
  {
   "cell_type": "code",
   "execution_count": 42,
   "metadata": {},
   "outputs": [
    {
     "data": {
      "image/png": "iVBORw0KGgoAAAANSUhEUgAAAn8AAAK6CAYAAABIazr8AAAAOXRFWHRTb2Z0d2FyZQBNYXRwbG90bGliIHZlcnNpb24zLjMuMiwgaHR0cHM6Ly9tYXRwbG90bGliLm9yZy8vihELAAAACXBIWXMAAAsTAAALEwEAmpwYAABU3UlEQVR4nO3de7ymc73/8debcShEJLtMmYrIIcMMjUNiyE5RjFONXemkI6XsaneYpBPZaY8kqZ9IaosaDR0kjEQOY4aZEZWwi21TkWPjMD6/P+5ruI211qyZWbPWzLpez8fjfqzr/l7f63t9rvtaePte172uVBWSJElqhxWGugBJkiQNHsOfJElSixj+JEmSWsTwJ0mS1CKGP0mSpBYx/EmSJLXIiKEuQIPKv+sjSdLwkcXZyJk/SZKkFjH8SZIktYjhT5IkqUW8569FJk6aNtQlSJIG0MjxU4e6hGXehCnzhrqEpWbc5MmLtZ3hr+WesXJ47djVWPdZK5LFum1US0MV/PW+efxs+oP88xG/pyNJGjiGv5Z77djV2OTF67HqM9ckpr9lRlWxzoP3Anfyo8sfGOpyJEnDiPf8tdy6z1rR4LcMSsKqq63Jus9acahLkSQNM4a/lksw+C2jkngpXpI04Ax/GnIvGfksPnzoO594/9hjj7HNy1/EO9+6PwC/+uXPOOmE4/oc4+wfnsGd/3fHUq1TkqThwHv+9BR3fflTAzrecz/6+YX2eeYzV+MPv7+Buf/8J6s+4xn85tcXsd6/PP+J9bvt/lp22/21fY7x4x+ewUs3fhnr/cvzlrhmSZKGM2f+tEzYefzuXHzh+QCc+5Oz2esN+z2x7uwfnsGRn/wIAO9++xv58dnfB+D73zuFwz/wDn5+3jnMnjWTDx/6TvbcfQfm/vOfXPabaez1rzuyx67j+NhH3sfDDz88+AclSdIyyPCnZcKer9+X86b+iIfnzuX3N1zPlluN7bHfF445nq999RiuvvJy/t83v8ZnPncse+y5N1u8fCuO+9q3Oe+Xl5GEjx7+Xo7/xnf4+YVX8Nhjj/H90789yEckSdKyyfCnZcImm27Obbf9mXN/cjY7j9+9137PWfe5HH7EJznogNfxiUlfZK1nr/20Pjff/Ede8MINeNGLNwJgwv4TueqKy5da7ZIkLU8Mf1pm7PbqPfjS5z75lEu+Pfn9jb9jrWevzZ13+gUPSZIWleFPy4z9Dnwzhx7+cTZ+2Wa99rlu5nQuufgCzv3Fb/j2Scfzlz/fCsBqq6/Ogw90/hjyi1+8Ebf95c/cesufADjnR//NtuN2WOr1S5K0PDD8aZnxvOevz8HveG+v6x9++GE+8dHDOPorX2e9f3ken5j0RT72kfdTVey7/0F8+j8+xJ6770BVccxxJ3Loe97KHruOY4UVVmDim98xiEciSdKyK1U+N3RhklxeVdv3sm4tYGJVnTjA+zwYGFtVHxioMSdOmva0k/3ePdZk/RduOFC70AC7/c838Y2f3zvUZUhaRo0cP3WoS1jmTZgyb6hLWGrGTZ68WI8CcOavH3oLfo21gPcNUimSJElLxPDXD0keaH4eleTa5nV7ku8ARwMvadqOTbJ6kguTzEgyO8kbusZ5S5JZSa5LcnrTtleSK5PMTPKrJOv1sP/1kkxptrsuyfZN+4eTzGleHxqUD0OSJC3XfMLHIqiqScCk5lLvpcAJwN+BzatqNECSEcA+VXVfkucAVySZCmwKfArYvqr+lmT+3yj5DTCuqirJO4GPAh9ZYNfHA5dU1T5JVgRWTzIGeBvwCiDAlUkuqaqZ3RsmOQQ4BGCb132YDbfeayA/EkmStJwx/C2iJAG+BxxXVdckGbVgF+CLSXYCHgfWB9YDxgNnVdXfAKrq7qb/SODMJM8DVgZu6WG344G3NNvNA+5NsiMwpaoebOr6MfBK4Cnhr6pOBk6Gnu/5kyRJ7eJl30V3JHBbVX2nl/UHAesCY5rZwDuBVfsY72vACVW1BfDuhfSVJElaIoa/RZBkL2A34LCu5vuBNbrerwncVVWPJtkF2KBpvwjYP8k6zVhrd/W/vVl+ay+7vhB4b7PdiknWpHPZee8kz0yyGrBP0yZJktQrw9+i+TCdy7hXNV/wOKqq/g5c1nzp4ljgDGBsktl0LtXeCFBV1wNfAC5Jch1wXDPmkcBZSa4B/tbLfj8I7NKMeQ2waVXNAE4FrgKuBL694P1+y4uXjHwWXzzqE0+8/9ZJxzP5K19c7PF2Grc5d9/994Eord/uu/cffO+0bz3x/s7/u4P3H/LmQa1BkqT+8J6/fqiq1Zufu/SyfuICTdv10u804LQF2n4C/KSHvqfSCXdU1Z3AG3rocxxPhsgBcdIfPzOQw/GejT670D4rr7IK5//8XN7zgY+w9trrDOj+B8t9993L9777bf7tre8CYL1/eR5fP/n0Ia5KkqSnc+ZPQ27EiiN440EHc8q3vv60dbf95X846IA9ee1u2/FvB+7F/97+l6f1ueeev/PWiW/gNeO35T+O+ADdf7j8/518Aq/Z9RW8ZtdX8J1vf/2JMV/9qjH8++HvYddXbsXhH3gHl116Mfvv/WrG7zia62ZOB+Chhx7kYx95H/u8bmf2+tcdueD8nwLwh9/fwD6v25k9d9+B1+62HbfcfBNf/tJn+POtt7Dn7jvwpc99itv+8j+8ZtdXADBv3jy++LlP8ppdX8Frd9uO0045CYDLfjONvf51R/bYdRwf+8j7ePjhhwf2g5UkqQeGPy0T/u2t72LqlB9y/31PfZrFZz/970zY/0387Fe/5Q37HMBnJ330adsef9zRjN1mO35x0VXsvseeTwTE2bNmcvaZ3+PH517Ej6ZeyJnfP43r51wHwP/cejPvPORQLrjkGv70pz8y9Zyz+OGUX/Ifn/4CJ57wFQBOPP4/2W77nZjy02mc8cPzOPrzn+Khhx7k+6f/Pw5+x3s575eXcc7PLuF5z1ufj/7HZ3nhqBdx3i8v4z8+/fmn1PffZ3yH2//yZ847/7InjuPhuXP56OHv5fhvfIefX3gFjz32GN8//dtL46OVJOkpDH9aJqyxxrPYZ983cmozKzbfzGuu4vV7HwDA3vu+kWuu+u3Ttr36yst5w4QDAdhl19ew5pprATD9qt+y+2v25JnPXI3VVlud3ffYi6uvvByAkS/YgI1fthkrrLACG710E7bf4VUkYeNNNuX2v/wZgEt/fREnnfhV9tx9Bybu/zoefvhh/vf229h6zLZ844Sv8M2vf5Xbb/szqz7jGX0e22WXTuNN//Y2Rozo3GWx1rPX5uab/8gLXrgBL3rxRgBM2H8iV11x+eJ9eJIkLQLv+dMy423vfB+v32Mn9jvgoKW+r5VXWeWJ5RVWWIGVV17lieXH5j0GQFVx4snf48Uv2egp22640cZsudVYLr7wfN7xlv34/DGTeeELRy31miVJGgjO/GmZsdaz1+a1e+7DD//7yS9KbD32FZz3k7MB+MmUHzJ226c/ZnmbV2zP1HPOAmDaRb/k3nv/8UT7Bef/lH/+8yEeeuhBfvmL89jmFX09pvmpdnrVrnz3lJOeuIdw/iXjP//PLbxwgxdx8Dvey27/+jp+f8McVlt9dR584IEex9lxp134wfe+w2OPdULlP+65mxe/eCNu+8ufufWWPwFwzo/+m23H7dDv2iRJWlyGPy1T3vnuQ7mn68+0fOZzx3L2D8/gtbttxzk/+m8mHXXM07Y57MMf5+orL+M147fl/J+fy/PXfwEAm28xmn0POIh99tyFCXuN58A3vYXNNt+y37V84IMf5dHHHuO1u23Ha8Zvy1eP7dzL97Nzp7DHrq9gz9134A83/o599n0Tz372OowZ2/liyZc+96mnjHPAm97K89cfyetevR2ve3UnqK6y6qocc9yJHPqet7LHruNYYYUVmPjmdyzORyZJ0iJJ9zcjNbz19Hi39+6xJuu/cMOhKEf9cPufb+IbP7934R0ltdLI8VOHuoRl3oQp84a6hKVm3OTJWZztnPmTJElqEcOfJElSixj+JEmSWsTwJ0mS1CJ+4aNdnnayb7jhBl72spcNRS3qB8+PJKkPfuFDkiRJfTP8acituOKKjB49ms0224wtt9ySr3zlKzz++OODXse1117Lz372syfeT506laOPPnrQ65AkaWny8W56iomTpg3oeN8/aueF9nnGM57BtddeC8Bdd93FxIkTue+++/jsZz87oLUszLXXXsv06dN57WtfC8DrX/96Xv/61w9qDZIkLW3O/GmZ8tznPpeTTz6ZE044gapi7ty5vO1tb2OLLbZgq6224uKLLwbg1FNPZe+99+bVr341o0aN4oQTTuC4445jq622Yty4cdx9990A/OlPf+I1r3kNY8aM4ZWvfCU33ngjAGeddRabb745W265JTvttBOPPPIIkyZN4swzz2T06NGceeaZnHrqqXzgAx8A4M4772SfffZhyy23ZMstt+Tyyy8H4LjjjmPzzTdn880357/+678G/wOTJGkROfOnZc6LX/xi5s2bx1133cX3vvc9kjB79mxuvPFGdt99d/7whz8AMGfOHGbOnMncuXPZcMMNOeaYY5g5cyaHH3443/3ud/nQhz7EIYccwkknncRGG23ElVdeyfve9z4uuugijjrqKM4//3zWX399/vGPf7Dyyitz1FFHMX36dE444QSgEzDnO+yww3jVq17FlClTmDdvHg888ADXXHMN3/nOd7jyyiupKl7xilfwqle9iq222mooPjZJkvrF8Kdl2m9+8xsOPfRQADbZZBM22GCDJ8LfLrvswhprrMEaa6zBmmuuyV577QXAFltswaxZs3jggQe4/PLL2X///Z8Y7+GHHwZghx124OCDD+aAAw5gwoQJC63joosu4rvf/S7QuUdxzTXX5De/+Q377LMPq622GgATJkzg0ksvNfxJkpZphj8tc26++WZWXHFFnvvc5/bZb5VVVnlieYUVVnji/QorrMBjjz3G448/zlprrfXE/YTdTjrpJK688kp++tOfMmbMGK655poBPQZJkpZVhr8W6enLHO/dY01uvv3+pbbP/oxd9WS/v//9b3z40Hdy0FvexS3/+wCbvnxbTjr5VEZtvA233PxHbr7lf1hp9edz1z2Xc98Djzyx3WPzilvveID7Hl6Fu+6Zy30PPMLf7g/PW/+FnPDN7/LaPfehqrjxhjm8bNMt+J9bb2aDUZty8Ls35Zyp5/Hba27koUdG8L933v3EmPPHufn2+3nF9jvx+aO/ytve+X7mzZvHQw8+wIs23ppvHP5eDnzL+6kqzjzrR3xl8skD+nn+7R9zB/xLOJKWPSPHTx3qEtSLCVPmDXUJvRo3efJibWf405CbO/ef7Ln7Djz22KOsuOII9t73jbzjkM4XLf7tLe/k0584nD12HceIESP48nHfeMqM38J89Wvf5tP/cThfn3wsjz32KHu+fl9etukWHP35T3PrLX+iKLbf4VW8bNMteP7zR3LSicex5+478J4PfPgp40z67Jf55McO44c/OJ0VV1yRo750HFuPeQX7HnAQ++y5CwAHvuktbLb5lgP3wUiStBT4hI8WmThp2tNO9nv3WJP1X7jhUJSjfrj9zzfxjZ/fO9RlSFrKnPlbdi3jM38+4UOSJEl9M/xJkiS1iOFPkiSpRQx/LVcF3ve5bKoqPDWSpIFm+Gu5v943j7kP3msAXMZUFXMfvJe/3rfs3mgsSVo++adeWu5n0x8E7mTdZ/2NLNZ3hrQ0VHWCeef8SJI0cAx/LffPR4ofXf7AUJchSZIGiZd9JUmSWsTwJ0mS1CKGP0mSpBYZFuEvyagkcwZgnLFJjm+Wd06y/WKO854kb1nSeiRJkgaaX/joUlXTgenN252BB4DLF2OckwainiQjquqxgRhLkiQJhsnMX2NEkjOS3JDk7CTPTDImySVJrklyfpLnASSZluSYJFcl+UOSVzbtOyc5L8ko4D3A4UmuTfLKZnbxoiSzklyY5IW9FZLkyCRHdO1rbLP8nCS3NsujklyaZEbz2r6rhkuTTAV+l2TFJMcmubrZ97ubfkc1tV2b5PYk31lqn6wkSRo2hlP42xg4sapeBtwHvB/4GrBfVY0BTgG+0NV/RFVtC3wI+Ez3QFV1K3AS8NWqGl1VlzZjnVZVLwfOAI5fwnrvAl5dVVsDBy4w3tbAB6vqpcA7gHurahtgG+BdSV5UVZOqajSdGcq7gRN62kmSQ5JMTzL9phnnLmHJkiRpeTecLvv+paoua5a/B3wC2By4IJ2/XrwicEdX/x83P68BRvVj/O2ACc3y6cCXl7DelYATkowG5gEv7Vp3VVXd0izvDrw8yX7N+zWBjYBb0jmw7wHHVdU1Pe2kqk4GTgaYOGmaj/GQJKnlhlP4WzDY3A9cX1Xb9dL/4ebnPJbu5/AYT86wrtrVfjhwJ7Bls35u17ruxzoEOLSqzu9h7COB26rKS76SJKlfhtNl3xcmmR/0JgJXAOvOb0uyUpLNFmG8+4E1ut5fDryxWT4IuLSf49wKjGmW9+tqXxO4o6oeB95MZ2ayJ+cD702yEkCSlyZZLclewG7AYf2sQ5IkaViFv98D709yA/Bsmvv9gGOSXAdcCyzKn245F9hn/hc+gEOBtyWZRSesfXAh28+fifxPOuFtJvCcrvUnAm9tatuEp872dfs28DtgRvPnbL5JZ6byw8D6wFVNjUctwrFJkqSWSpW3gQ20JF8DZixrl2O950+Slk0jx08d6hLUiwlT5g11Cb0aN3lyFme74TTzt0xI8jngFYD/JEuSpGXOcPrCx6BL8klg/wWaz2r+hIwkSdIyx/C3BKrqCzz1bwdKkiQt07zsK0mS1CKGP0mSpBYx/EmSJLWI4U+SJKlFDH+SJEktYviTJElqEcOfJElSi/h4t3bxZEuSNHz4eDdJkiT1zfAnSZLUIoY/SZKkFjH8SZIktYjhT5IkqUUMf5IkSS1i+JMkSWoRw58kSVKLjBjqAjR4Jk6aNtQlSFKrjRw/dahLGJYmTJk31CUMiXGTJy/Wds78SZIktYjhT5IkqUUMf5IkSS1i+JMkSWoRw58kSVKLGP4kSZJaxPAnSZLUIoY/SZKkFjH8SZIktYjhT5IkqUUMf5IkSS1i+JMkSWqR5SL8JVkryfu63j8/ydlDWZMkSdLyaLkIf8BawBPhr6r+t6r2G7pyFi7JiL7eS5IkDYVFDn9Jjk7y/q73RyY5Ism/J7k6yawkn23WjUpyQ5JvJbk+yS+TPKNZNy3J2Gb5OUlubZY3S3JVkmubsTYCjgZe0rQd24w7p2sflyaZ0by2b9p3bvZxdpIbk5yRJM26XZPMTDI7ySlJVunjeLdJcnmS65q61ljIPi9NMhX43YLvmz7nJLmm+TwO6drPA0m+0OzniiTrNe3Xdr3+meRVSbZN8tvmGC5PsvGinkdJktROizPzdyZwQNf7A4C/AhsB2wKjgTFJdmrWbwR8vao2A/4B7LuQ8d8DTK6q0cBY4Dbg48Cfqmp0Vf37Av3vAl5dVVsDBwLHd63bCvgQsCnwYmCHJKsCpwIHVtUWwAjgvT0VkmTl5ng/WFVbArsB/1zIPrdu+r+0l/dvr6oxzbEdlmSdpn014IpmP78G3gXQHPNo4NPAdOBy4EbglVW1FTAJ+GLPHyUkOSTJ9CTTb5pxbm/dJElSSyzypciqmpnkuUmeD6wL3ANsAewOzGy6rU4n9P0ZuKWqrm3arwFGLWQXvwU+mWQk8OOq+mMzYdeblYATkowG5gEv7Vp3VVXdBp0ZtGbf9zc1/aHpcxrwfuC/ehh7Y+COqrq6Ofb7mrFWW8g+b+nj/WFJ9mmWX0Dnc/o78AhwXtN+DfDq+Rs0s5/HArtU1aNJ/gU4rWmv5jPoUVWdDJwMMHHStOqtnyRJaofFvQ/tLGA/4F/ozIxtAHypqr7Z3SnJKODhrqZ5wDOa5cd4cuZx1fkdqur7Sa4EXgf8LMm7gZv7qOVw4E5gy2a8uV3rFtz3QN1319c+H1yg7xPvk+xMZ/Zwu6p6KMk0njz2R6tqfjh7otYkqwM/BN5VVXc06z8HXFxV+zSf8bSBOChJkjT8Le4XPs4E3kgnAJ4FnA+8vQkqJFk/yXMXMsatwJhm+YkvbyR5MXBzVR0P/AR4OZ3ZujV6GWdNOrNzjwNvBlZcyH5/D4xKsmHz/s3AJX30fV6SbZra1mi+uLGo++yu9Z4m+G0CjOvHNqcA36mqSxcY5/Zm+eB+7luSJGnxwl9VXU8njN1eVXdU1S+B7wO/TTIbOJvew9p8/wm8N8lM4Dld7QcAc5rLtJsD362qvwOXJZmT5NgFxjkReGuS64BNePrM24K1zwXeBpzV1Po4cFIvfR+hc0/f15rxL6AzU7dI++zyC2BEkhvofInlir46J9mATjB+e9eXPsYCXwa+1Hx2fotYkiT1W5680qjhznv+JGlojRw/dahLGJYmTJk31CUMiXGTJ/f5pYjeLC9/50+SJEkDwEuGjSRTgBct0Pyxqjp/KOqRJElaGgx/jaraZ+G9JEmSlm9e9pUkSWoRw58kSVKLGP4kSZJaxPAnSZLUIoY/SZKkFjH8SZIktYjhT5IkqUV8vFu7eLIlSRo+fLybJEmS+mb4kyRJahHDnyRJUosY/iRJklrE8CdJktQihj9JkqQWMfxJkiS1yIihLkCDZ+KkaUNdgiS11sjxU4e6BA2iCVPmLfV9jJs8ebG2c+ZPkiSpRQx/kiRJLWL4kyRJahHDnyRJUosY/iRJklrE8CdJktQihj9JkqQWMfxJkiS1iOFPkiSpRQx/kiRJLWL4kyRJahHDnyRJUosY/pZAksubn89PcvYAjXlkkiMGYixJkqQFjRjqApZnVbV98/N/gf2GuBxJkqSFau3MX5K3JJmV5Lokpyc5Ncl+XesfaH6unuTCJDOSzE7yhh76jEoyp1k+OMk5SS5IcmuSDyT5cJKZSa5IsnbT711Jrm72/6Mkz+yhxmlJJie5NsmcJNs27dsm+W0z5uVJNl66n5YkSRouWhn+kmwGfAoYX1VbAh/so/tcYJ+q2hrYBfhKkixkF5sDE4BtgC8AD1XVVsBvgbc0fX5cVds0+78BeEcvYz2zqkYD7wNOadpuBF7ZjDkJ+OJC6pEkSQJaGv6A8cBZVfU3gKq6u4++Ab6YZBbwK2B9YL2FjH9xVd1fVX8F7gXObdpnA6Oa5c2TXJpkNnAQsFkvY/2gqfHXwLOSrAWsCZzVzDZ+tY9tSXJIkulJpt8049zeukmSpJZoa/jryWM0n0eSFYCVm/aDgHWBMc0M3J3AqgsZ6+Gu5ce73j/Ok/dZngp8oKq2AD7bx5jVw/vP0QmYmwN79VVPVZ1cVWOrauyGW++1kLIlSdJw19bwdxGwf5J1AJr78G4FxjTrXw+s1CyvCdxVVY8m2QXYYIBqWAO4I8lKdAJmbw5satwRuLeq7m1qur1Zf/AA1SNJklqgld/2rarrk3wBuCTJPGAm8DHgJ0muA34BPNh0PwM4t7k8O53O/XZPDLUEZXwauBL4a/NzjV76zU0yk04YfXvT9mXgtCSfAn66BDVIkqSWSdWS5Jf2amYNZ1TVQM0E9rSPacARVTV9IMabOGmaJ1uShsjI8VOHugQNoglT5i31fYybPHlhX0DtUVsv+y6RJM+n883d/xzqWiRJkhZFKy/7Lqnmjzq/dBD2s/PS3ockSWoXZ/4kSZJaxPAnSZLUIoY/SZKkFjH8SZIktYjhT5IkqUUMf5IkSS1i+JMkSWoRw58kSVKLGP4kSZJaxGf7tosnW5Kk4cNn+0qSJKlvhj9JkqQWMfxJkiS1iOFPkiSpRQx/kiRJLWL4kyRJahHDnyRJUouMGOoCNHgmTpo21CVIUiuNHD91qEtotQlT5g11CUvFuMmTF2s7Z/4kSZJaxPAnSZLUIoY/SZKkFjH8SZIktYjhT5IkqUUMf5IkSS1i+JMkSWoRw58kSVKLGP4kSZJaxPAnSZLUIoY/SZKkFjH8SZIktYjhbwkkWSvJ+5rlUUnmLKT/zknOG5zqJEmSns7wt2TWAt431EVIkiT1l+FvyRwNvCTJtcCx8xubWcBLk8xoXtt3bbN6krOT3JjkjCRptrk1yXOa5bFJpjXL2yb5bZKZSS5PsnHTvmKS/0wyJ8msJIcO0jFLkqTlmOFvyXwc+FNVjQb+vav9LuDVVbU1cCBwfNe6rYAPAZsCLwZ2WMg+bgReWVVbAZOALzbthwCjgNFV9XLgjJ42TnJIkulJpt8049z+H5kkSRqWRgx1AcPUSsAJSUYD84CXdq27qqpuA2hmDEcBv+ljrDWB05JsBFQzNsBuwElV9RhAVd3d08ZVdTJwMsDESdNq8Q5HkiQNF878LR2HA3cCWwJjgZW71j3ctTyPJwP4Yzx5Plbt6vM54OKq2hzYa4F1kiRJi8Twt2TuB9booX1N4I6qehx4M7BiP8a6FRjTLO+7wFi3N8sHd7VfALw7yQiAJGv3u2pJktRahr8lUFV/By5r/sTLsV2rTgTemuQ6YBPgwX4M91lgcpLpdGYE5/sy8KUkM3nqZfpvA38GZjX7mbj4RyJJktoiVd4G1hbe8ydJQ2Pk+KlDXUKrTZgyb+GdlkPjJk/O4mznzJ8kSVKLGP4kSZJaxPAnSZLUIoY/SZKkFjH8SZIktYjhT5IkqUUMf5IkSS1i+JMkSWoRw58kSVKLGP4kSZJaxPAnSZLUIj7bt1082ZIkDR8+21eSJEl9M/xJkiS1iOFPkiSpRQx/kiRJLWL4kyRJahHDnyRJUosY/iRJklpkxFAXoMEzcdK0oS5BkoadkeOnDnUJWkZMmDJvUPc3bvLkxdrOmT9JkqQWMfxJkiS1iOFPkiSpRQx/kiRJLWL4kyRJahHDnyRJUosY/iRJklrE8CdJktQihj9JkqQWMfxJkiS1iOFPkiSpRQx/kiRJLbJchr8ktyZ5zlDXAZBk5yTnDXUdkiRJ/bFchr+BkI5BO/4kKw7WviRJknqzzIe/JOckuSbJ9UkOWWDd0Une3/X+yCRHJFk9yYVJZiSZneQNzfpRSX6f5LvAHOAFSY5NMqfpd2AfdaSPvs9K8tNm7JPmh8okDyT5SpLrgO2S/FuSq5Jcm+Sb8wNhknck+UOz7ltJTuiq96Iks5rjeWHTfmqS45NcnuTmJPsNzKctSZKGu2U+/AFvr6oxwFjgsCTrdK07Ezig6/0BTdtcYJ+q2hrYBfhKkjR9NgJOrKrNmjFHA1sCuwHHJnleL3VM6KPvtsChwKbAS5q+AKsBV1bVlsDfgQOBHapqNDAPOCjJ84FPA+OAHYBNuvb5NeC0qno5cAZwfNe65wE7AnsCR/dSM0kOSTI9yfSbZpzbWzdJktQSy0P4O6yZObsCeAGd8AZAVc0Enpvk+Um2BO6pqr8AAb6YZBbwK2B9YL1ms/+pqiua5R2BH1TVvKq6E7gE2KaXOvrqe1VV3VxV84AfNH2hE/B+1CzvCowBrk5ybfP+xXSC4yVVdXdVPQqc1bXP7YDvN8und40LcE5VPV5Vv+s6tqepqpOramxVjd1w67166yZJklpixFAX0JckO9OZZduuqh5KMg1YdYFuZwH7Af9CZ9YP4CBgXWBMVT2a5Nau7R5cCqVWL+/nNoEQOoH0tKr6j+6OSfZezH0+3D3MYo4hSZJaZlmf+VuTzmzeQ0k2oXNpdEFnAm+kEwDP6trurib47QJs0Mv4lwIHJlkxybrATsBVi9F32yQvau71OxD4TQ/bXwjsl+S5AEnWTrIBcDXwqiTPTjIC2Ldrm8ubY4NOoL20l9okSZL6ZZme+QN+AbwnyQ3A7+lc+n2Kqro+yRrA7VV1R9N8BnBuktnAdODGXsafQufS6nV0Zus+WlX/tyh9m1B6NXACsCFwcdN3wTp/l+RTwC+bkPgo8P6quiLJF+kEybubWu9tNjsU+E6Sfwf+Crytl9okSZL6JVULXrHUYEuyelU90Mz8TQFOqaqnBcglNXHSNE+2JA2wkeOnDnUJWkZMmDJv4Z0G0LjJkxfrtq9l/bJvWxzZfAlkDnALcM6QViNJkoatZf2y76BLsgWdb9Z2e7iqXrG09llVRyytsSVJkroZ/hZQVbPp/D0/SZKkYcfLvpIkSS1i+JMkSWoRw58kSVKLGP4kSZJaxPAnSZLUIoY/SZKkFjH8SZIktYjhT5IkqUV8tm+7eLIlSRo+fLavJEmS+mb4kyRJahHDnyRJUosY/iRJklrE8CdJktQihj9JkqQWMfxJkiS1yIihLkCDZ+KkaUNdgiQNGyPHTx3qEtRPE6bMG+oSlopxkycv1nbO/EmSJLWI4U+SJKlFDH+SJEktYviTJElqEcOfJElSixj+JEmSWsTwJ0mS1CKGP0mSpBYx/EmSJLWI4U+SJKlFDH+SJEktYvhbipJ8Ygm2nZZk7EDWI0mSZPhbuhY7/EmSJC0NwzL8JTknyTVJrk9ySJLXJ7m2ef0+yS1Nv22SXJ7kuiRXJVkjyagklyaZ0by2b/runOTXSX7ajHFSkhWadW9KMjvJnCTHNG1HA89o9nlGkvd01XBLkoubft9IMr2p9bO9HM9rmlquS3Jh07Z2c5yzklyR5OWD8NFKkqTl3IihLmApeXtV3Z3kGcDVwKuqajRAkh8ClyRZGTgTOLCqrk7yLOCfwF3Aq6tqbpKNgB8A8y+/bgtsCvwP8AtgQpLLgWOAMcA9wC+T7F1VH0/ygfn7bZyUZCXgIuC4pu2TTa0rAhcmeXlVzZq/QZJ1gW8BO1XVLUnWblZ9FphZVXsnGQ98F+jelyRJ0tMMy5k/4LAk1wFXAC8ANgJI8lHgn1X1dWBj4I6quhqgqu6rqseAlYBvJZkNnEUn7M13VVXdXFXz6ITCHYFtgGlV9ddm+zOAnfqobTJwUVWd27w/IMkMYCaw2QL7AxgH/LqqbmnqvLtp3xE4vWm7CFinCbBP0cx8Tk8y/aYZ5y64WpIktcywm/lLsjOwG7BdVT2UZBqwapLdgP3pO5gBHA7cCWxJJxzP7VpXC/Rd8P3CajsY2AD4QPP+RcARwDZVdU+SU4FVF2XMhamqk4GTASZOmrZI9UqSpOFnOM78rQnc0wS/TejMnG0AfB3Yv6r+2fT7PfC8JNsANPf7jWi2v6OqHgfeDKzYNfa2SV7U3Ot3IPAb4CrgVUme01y6fRNwSdP/0eYyL0nG0Al6/9aMDfAs4EHg3iTrAXv0cDxXADs1QZGuy76XAgc1bTsDf6uq+xb945IkSW0y7Gb+6NyL954kN9AJeFcAo4B1gHOSAPxvVb02yYHA15p7A/9JZ8bwROBHSd7SjPVg19hXAycAGwIXA1Oq6vEkH2/eB/hpVf2k6X8yMKu5rPsIsDZwcVPD9Kp6Z5KZwI3AX4DLFjyYqvprkkOAHzeh8y7g1cCRwClJZgEPAW9dso9NkiS1Qaq8EtgfzezaEVW15xCXsti87CtJA2fk+KlDXYL6acKUeUNdwlIxbvLkLM52w/GyryRJknoxHC/7LhVVNQ2YNsRlSJIkLRFn/iRJklrE8CdJktQihj9JkqQWMfxJkiS1iOFPkiSpRQx/kiRJLWL4kyRJahHDnyRJUosY/iRJklrEZ/u2iydbkqThw2f7SpIkqW+GP0mSpBYx/EmSJLWI4U+SJKlFDH+SJEktYviTJElqEcOfJElSi4wY6gI0eCZOmjbUJUjScm3k+KlDXYL6MGHKvKEuYVCNmzx5sbZz5k+SJKlFDH+SJEktYviTJElqEcOfJElSixj+JEmSWsTwJ0mS1CKGP0mSpBYx/EmSJLWI4U+SJKlFDH+SJEktYviTJElqEcOfJElSixj+JEmSWmSZDn9J1kryvqGuY2lLMi3J2KGuQ5IkDX/LdPgD1gKGffhbVElWHOoaJEnS8mmphr8kn07y+yS/SfKDJEd0z3IleU6SW5vlzZJcleTaJLOSbAQcDbykaTs2yepJLkwyI8nsJG9otj06yfu79ntks680281p+h/YR609jt1L31FJbkxyapI/JDkjyW5JLkvyxyTbNv22TfLbJDOTXJ5k46b9GUn+O8kNSaYAz+gae/dmmxlJzkqyetN+a5JjkswA9k/ypqbOOUmOWeyTJEmSWmWphb8k2wD7AlsCewALu6z5HmByVY1u+t4GfBz4U1WNrqp/B+YC+1TV1sAuwFeSBDgTOKBrrAOatgnA6KaG3YBjkzyvl/33NnZvNgS+AmzSvCYCOwJHAJ9o+twIvLKqtgImAV9s2t8LPFRVLwM+A4yBThgGPgXs1tQxHfhw1z7/3rT/GjgGGN8c3zZJ9u6pyCSHJJmeZPpNM87t43AkSVIbjFiKY+8A/KSq5gJzkywsefwW+GSSkcCPq+qPPWSvAF9MshPwOLA+sF5VzUzy3CTPB9YF7qmqvyT5MPCDqpoH3JnkEmAbYGoP++9xbOD/eqn3lqqaDZDkeuDCqqoks4FRTZ81gdOaWcwCVmradwKOB6iqWUlmNe3jgE2By5pjX7n5XOY7s/m5DTCtqv7a7P+MZsxzFiyyqk4GTgaYOGla9XIskiSpJZZm+OvNYzw547jq/Maq+n6SK4HXAT9L8m7g5gW2PYhOuBtTVY82l4znj3EWsB/wLzwZkhZFX2P35OGu5ce73j/Ok5/r54CLq2qfJKOAaQupIcAFVfWmXtY/uJDtJUmS+rQ07/m7DNgryarNfWt7Nu230lzmpBPWAEjyYuDmqjoe+AnwcuB+YI2uMdcE7mrC2S7ABl3rzgTe2Ix5VtN2KXBgkhWTrEtnduyqXurta+zFtSZwe7N8cFf7r+lcJibJ5nSOFeAKYIckGzbrVkvy0h7GvQp4VXPP5IrAm4BLBqBeSZI0zC218FdVV9O5vDoL+DkwG7gX+E/gvUlmAs/p2uQAYE6Sa4HNge9W1d/pXAKdk+RY4AxgbHNp9S107qmbv7/r6QTF26vqjqZ5SrP/64CLgI9WVW+XcXsdewl8GfhSc6zds6zfAFZPcgNwFHBNcwx/pRMSf9BcCv4tnfsJn6I5vo8DF9M5tmuq6icDUK8kSRrmUrX0bgNLsnpVPZDkmXRmuw6pqhlLbYfqk/f8SdKSGTm+p1vGtayYMGXeUJcwqMZNntzXF1N7tbTv+Ts5yaZ07p07zeAnSZI0tJZq+KuqiUtz/MWRZAvg9AWaH66qV/TQdx3gwh6G2bW5JC1JkrRcGYpv+w6p5s+zjO5n37/3t68kSdLyYFl/vJskSZIGkOFPkiSpRQx/kiRJLWL4kyRJahHDnyRJUosY/iRJklrE8CdJktQiS/XxblrmeLIlSRo+Fuvxbs78SZIktYjhT5IkqUUMf5IkSS1i+JMkSWoRw58kSVKLGP4kSZJaxPAnSZLUIiOGugANnomTpg11CZK0XBk5fupQl6Dl0IQp8wZlP+MmT16s7Zz5kyRJahHDnyRJUosY/iRJklrE8CdJktQihj9JkqQWMfxJkiS1iOFPkiSpRQx/kiRJLWL4kyRJahHDnyRJUosY/iRJklrE8CdJktQihj9JkqQWWSbCX5KDk5ywpH2WJUnWSvK+oa5DkiSp2zIR/oaptYAew1+SEf0ZoL/9JEmS+muh4S/JqCQ3Jjk1yR+SnJFktySXJfljkm2b12+TzExyeZKNm22fmeSHSX6XZEqSK5OMbda9rRnvKmCHrv3t1fSbmeRXSdbroaZ1k/woydXNa4em/cgkpySZluTmJId1bXNOkmuSXJ/kkIUc82uSzEhyXZILm7a1mzFmJbkiycsXss+jgZckuTbJsUl2TnJpkqnA75Ks2LRf3Yz57ma8p/TrrfZm+1OTzEkyO8nhCzuXkiRJ/Z1Z2hDYH3g7cDUwEdgReD3wCeAtwCur6rEkuwFfBPalM/N1T1VtmmRz4FqAJM8DPguMAe4FLgZmNvv6DTCuqirJO4GPAh9ZoJ7JwFer6jdJXgicD7ysWbcJsAuwBvD7JN+oqkeBt1fV3UmeAVyd5EdV9fcFDzTJusC3gJ2q6pYkazerPgvMrKq9k4wHvguM7m2fwMeBzatqdDPuzsDWTdstTYi7t6q2SbIKcFmSXzbjPdGvef+02oFRwPpVtXkz/loLHkvTfghwCMA2r/swG269V0/dJElSS/Q3/N1SVbMBklwPXNiEs9l0QsiawGlJNgIKWKnZbkc6QY2qmpNkVtP+CmBaVf21GfNM4KXNupHAmU1AXBmYH4C67QZsmmT++2clWb1Z/mlVPQw8nOQuYD3gNuCwJPs0fV4AbAQ8LfwB44Bfzw9eVXV317Hs27RdlGSdJM/qY589uaor0O0OvDzJfs37NZuaHlmgH73U/nvgxUm+BvwU+CU9qKqTgZMBJk6aVr3UJUmSWqK/9/w93LX8eNf7x+kEyM8BFzezUHsBqy5BTV8DTqiqLYB39zLWCnRmB0c3r/Wr6oEeap0HjGhm3XYDtquqLenMMi5JjQt62j576fdg13KAQ7uO4UVV9csF+/VWe1XdA2wJTAPeA3x7AI5DkiQNcwP1hY81gdub5YO72i8DDgBIsimwRdN+JfCqZvZsJTqXlHsa66297O+XwKHz3yQZ3Y/67qmqh5JsQmd2rzdXADsleVEz9vzLvpcCBzVtOwN/q6r7+hjnfjqXgXtzPvDe5vhJ8tIkq/W39iTPAVaoqh8Bn6JzqViSJKlPAxX+vgx8KclMnjrrdSKwbpLfAZ8Hrqdzn9sdwJHAb+kExBu6tjkSOCvJNcDfetnfYcDY5osSv6Mz89WXX9CZAbyBzhcxruitY3Mp+hDgx0muA87sqmtMc+n6aHoPpvPH+Tud+/jmJDm2hy7fpvOFjhlJ5gDfpOcZw95qXx+YluRa4HvAf/RVjyRJEkCqlt5tYElWBFaqqrlJXgL8Cti4qh5ZajtVr7znT5IWzcjxU4e6BC2HJkyZNyj7GTd5chbe6+mW9t+ReyZwcXNpM8D7DH6SJElDZ6mGv6q6Hxi7NPexJJJcCayyQPOb53+zWZIkabhp9RMkquoVQ12DJEnSYPLxbpIkSS1i+JMkSWoRw58kSVKLGP4kSZJaxPAnSZLUIoY/SZKkFjH8SZIktchSfbybljmebEmSho/FerybM3+SJEktYviTJElqEcOfJElSixj+JEmSWsTwJ0mS1CKGP0mSpBYx/EmSJLXIiKEuQINn4qRpQ12CJC3zRo6fOtQlaJiYMGXeUh1/3OTJi7WdM3+SJEktYviTJElqEcOfJElSixj+JEmSWsTwJ0mS1CKGP0mSpBYx/EmSJLWI4U+SJKlFDH+SJEktYviTJElqEcOfJElSixj+JEmSWsTwJ0mS1CKGP0mSpBYx/PUiyVuSzEpyXZLTk4xKclHTdmGSFyZZI8ktSVZqtnnW/PdJRie5ouk/Jcmzmz7vSnJ1M+6PkjyzaV+v6Xdd89q+aT8nyTVJrk9ySFd9DyT5QtP3iiTrDcXnJEmSli+Gvx4k2Qz4FDC+qrYEPgh8DTitql4OnAEcX1X3A9OA1zWbvhH4cVU9CnwX+FjTfzbwmabPj6tqm2bcG4B3NO3HA5c07VsD1zftb6+qMcBY4LAk6zTtqwFXNP1/Dbyrl2M5JMn0JNNvmnHukn0wkiRpuWf469l44Kyq+htAVd0NbAd8v1l/OrBjs/xt4G3N8tuA7yRZE1irqi5p2k8DdmqWN09yaZLZwEHAZl37/Eazv3lVdW/TfliS64ArgBcAGzXtjwDnNcvXAKN6OpCqOrmqxlbV2A233mvRPgVJkjTsGP6WUFVdBoxKsjOwYlXNWcgmpwIfqKotgM8Cq/bWsRlzN2C7ZoZvZlf/R6uqmuV5wIjFOwJJktQmhr+eXQTsP/8Sa5K1gcvpXNaFzozdpV39v0tnVvA7AM2s3T1JXtmsfzMwfxZwDeCO5j7Bg7rGuBB4b7O/FZvZwzWBe6rqoSSbAOMG9CglSVLrGP56UFXXA18ALmkuuR4HHAq8LcksOmHug12bnAE8G/hBV9tbgWOb/qOBo5r2TwNXApcBN3b1/yCwS3M5+BpgU+AXwIgkNwBH07n0K0mStNi8VNiLqjqNzr163cb30n1H4Oyq+kfX9tfSw0xdVX2D5t6+BdrvBN7Qw9h79FLf6l3LZwNn91KbJEnSEwx/SyjJ1+gEtNcOdS2SJEkLY/hbQlV16FDXIEmS1F/e8ydJktQihj9JkqQWMfxJkiS1iOFPkiSpRQx/kiRJLWL4kyRJahHDnyRJUosY/iRJklrE8CdJktQiqaqhrkGDx5MtSdLwkcXZyJk/SZKkFjH8SZIktYjhT5IkqUUMf5IkSS1i+JMkSWoRw58kSVKLGP4kSZJaZMRQF6DBM3HStKEuQZIGzcjxU4e6BC2DJkyZN9QlDJhxkycv1nbO/EmSJLWI4U+SJKlFDH+SJEktYviTJElqEcOfJElSixj+JEmSWsTwJ0mS1CKGP0mSpBYx/EmSJLWI4U+SJKlFDH+SJEktYvgDklzex7q1krxvKe331CT7LY2xJUmSemL4A6pq+z5WrwUslfAnSZI02Ax/QJIHmp9HJbm2ed2e5DvA0cBLmrZjk6ye5MIkM5LMTvKGZttRSW5MckaSG5KcneSZzbpJSa5OMifJyUnSQw099kkyLcnkZv9zkmzbtG+b5LdJZia5PMnGg/V5SZKk5Zfhr0tVTaqq0cDOwN3ACcDHgT9V1eiq+ndgLrBPVW0N7AJ8pSvMbQycWFUvA+7jyRnDE6pqm6raHHgGsGcPu++rzzObut4HnNK03Qi8sqq2AiYBX1ziD0CSJA17hr8FNEHue8BxVXVNT12ALyaZBfwKWB9Yr1n3l6q6rFn+HrBjs7xLkiuTzAbGA5v1MG5ffX4AUFW/Bp6VZC1gTeCsJHOAr/YyJkkOSTI9yfSbZpzbj09AkiQNZ4a/pzsSuK2qvtPL+oOAdYExzWzcncCqzbpaoG8lWRU4EdivqrYAvtXVH4B+9HnauMDngIubmcK9FhzziY5VJ1fV2Koau+HWe/VySJIkqS0Mf12S7AXsBhzW1Xw/sEbX+zWBu6rq0SS7ABt0rXthku2a5YnAb3gylP0tyepAT9/uXVifA5v6dgTurap7mzpub9Yf3L8jlCRJbTdiqAtYxnyYzmXcq5rb+KZW1aQklzWXV38OHAOc21yenU7n3rv5fg+8P8kpwO+Ab1TVQ0m+BcwB/g+4esGdVtU/FtJnbpKZwErA25u2LwOnJfkU8NMBOHZJktQCqVrwiqIWR5JRwHnNZdiBHHcacERVTV/SsSZOmubJltQaI8dPHeoStAyaMGXeUJcwYMZNnvy0vx7SH172lSRJahEv+w6QqroVGNBZv2bcnQd6TEmS1F7O/EmSJLWI4U+SJKlFDH+SJEktYviTJElqEcOfJElSixj+JEmSWsTwJ0mS1CKGP0mSpBYx/EmSJLWIz/ZtF0+2JEnDh8/2lSRJUt8Mf5IkSS1i+JMkSWoRw58kSVKLGP4kSZJaxPAnSZLUIoY/SZKkFjH8SZIktciIoS5Ag2fipGlDXYIkDZqR46cOdQkaRBOmzBvqEgbduMmTF2s7Z/4kSZJaxPAnSZLUIoY/SZKkFjH8SZIktYjhT5IkqUUMf5IkSS1i+JMkSWoRw58kSVKLGP4kSZJaxPAnSZLUIoY/SZKkFjH8LaEkD/TS/p4kb1nEsS5vfo5KMmcg6pMkSeo2YqgLGK6q6qTF2Gb7pVGLJEnSfK2e+UuyTZJZSVZNslqS65PslOScpv2KJC9v+q6e5DtJZjfr9u0a5wtJrmv6r9e0HZnkiGZ5WpKvJpme5IZmvz9O8sckn+8a52mziElWTPKfSeY0+z20ad81ycymnlOSrLK0Py9JkrT8a3X4q6qrganA54EvA98D9gdmVtXLgU8A3226fxq4t6q2aNZd1LSvBlxRVVsCvwbe1cvuHqmqscBJwE+A9wObAwcnWaePMg8BRgGjm/2ekWRV4FTgwKrags4M7nsX8fAlSVILtTr8NY4CXg2MpRMAdwROB6iqi4B1kjwL2A34+vyNquqeZvER4Lxm+Ro6Qa0nU5ufs4Hrq+qOqnoYuBl4QR/17QZ8s6oea/Z7N7AxcEtV/aHpcxqwU08bJzmkmXGcftOMc/vYjSRJagPDH6wDrA6sAay6GNs/WlXVLM+j9/soH25+Pt61PP/9Urv3sqpOrqqxVTV2w633Wlq7kSRJywnDH3yTziXdM4BjgEuBgwCS7Az8raruAy6gc6mWZt2zB6m+C4B3JxnR7Hdt4PfAqCQbNn3eDFwySPVIkqTlWKvDX/OnWB6tqu8DRwPbANOAMUlmNW1vbbp/Hnh288WL64BdBqnMbwN/BmY1+51YVXOBtwFnJZlNZ/Zwkb9dLEmS2idPXrHUcDdx0jRPtqTWGDl+6sI7adiYMGXeUJcw6MZNnpzF2a7VM3+SJEltY/iTJElqEcOfJElSixj+JEmSWsTwJ0mS1CKGP0mSpBYx/EmSJLWI4U+SJKlFDH+SJEktYviTJElqEcOfJElSi/hs33bxZEuSNHz4bF9JkiT1zfAnSZLUIoY/SZKkFjH8SZIktYjhT5IkqUUMf5IkSS1i+JMkSWqREUNdgAbPxEnThroESeq3keOnDnUJarkJU+YNdQl9Gjd58mJt58yfJElSixj+JEmSWsTwJ0mS1CKGP0mSpBYx/EmSJLWI4U+SJKlFDH+SJEktYviTJElqEcOfJElSixj+JEmSWsTwJ0mS1CKGP0mSpBYx/EmSJLXIsAh/SV6f5ONLYdxTk+zXx/pbkzxnUepJ8kA/9rvQPpIkSYtjxFAXMBCqaiowdajrmG9Zq0eSJGm+ZX7mL8moJDc2s3B/SHJGkt2SXJbkj0m2TXJwkhOa/i9JckWS2Uk+P38WLcnOSc7rGveEJAc3y2OSXJLkmiTnJ3neIpR4aJIZzf42acbrrudFSX47v56u/a+e5MKubd/Qw7GvkOTE5vgvSPKz+TORSXZNMrPZ9pQkqyz6pytJktpmmQ9/jQ2BrwCbNK+JwI7AEcAnFug7GZhcVVsAty1s4CQrAV8D9quqMcApwBcWoba/VdXWwDeaehY0GfhGU88dXe1zgX2abXcBvpIkC2w7ARgFbAq8GdiuqXlV4FTgwGbcEcB7ezm+Q5JMTzL9phnnLsJhSZKk4Wh5CX+3VNXsqnocuB64sKoKmE0nHHXbDjirWf5+P8beGNgcuCDJtcCngJGLUNuPm5/X9FALwA7AD5rl07vaA3wxySzgV8D6wHoLbLsjcFZVPV5V/wdc3FXzLVX1h+b9acBOPRVXVSdX1diqGrvh1nv1/6gkSdKwtLzc8/dw1/LjXe8fp//H8BhPDburNj8DXF9V2y1hbfP6qKV6aDsIWBcYU1WPJrm1qyZJkqSlYnmZ+VsUVwD7Nstv7Gr/H2DTJKskWQvYtWn/PbBukvmXVFdKstkA1nNZVx0HdbWvCdzVBL9dgA162Xbf5t6/9YCdu2oelWTD5v2bgUsGsGZJkjRMDcfw9yHgw83l1A2BewGq6i/AD4E5zc+ZTfsjwH7AMUmuA64Fth/Aej4IvD/JbDqXduc7AxjbtL8FuLGHbX9E577F3wHfA2YA91bVXOBtwFnN9o8DJw1gzZIkaZhK59a54SPJM4F/VlUleSPwpqp62jdplxdJVq+qB5KsA1wF7NDc/7fIJk6aNrxOtqRhbeR4/2KWhtaEKfOGuoQ+jZs8ecEvivbL8nLP36IYA5zQfHP2H8Dbh7acJXZec5l6ZeBzixv8JEmSYBiGv6q6FNhyIMdMMgV40QLNH6uq8wdyPz2pqp2X9j4kSVJ7DLvwtzRU1T5DXYMkSdJAGI5f+JAkSVIvDH+SJEktYviTJElqEcOfJElSixj+JEmSWsTwJ0mS1CKGP0mSpBYZdo93U5882ZIkDR+L9Xg3Z/4kSZJaxPAnSZLUIoY/SZKkFjH8SZIktYjhT5IkqUUMf5IkSS1i+JMkSWqREUNdgAbPxEnThroESXqKkeOnDnUJ0qCbMGXegIwzbvLkxdrOmT9JkqQWMfxJkiS1iOFPkiSpRQx/kiRJLWL4kyRJahHDnyRJUosY/iRJklrE8CdJktQihj9JkqQWMfxJkiS1iOFPkiSpRQx/kiRJLWL4GwBJ1kryvmZ5VJI5C+m/0D6SJElLg+FvYKwFvG+oi5AkSVoYw9/AOBp4SZJrgWPnNzYzfJcmmdG8tl9wwyQHJ/lJkmlJ/pjkM13rzklyTZLrkxzS1f5Aki8kuS7JFUnWW8rHJ0mShgnD38D4OPCnqhoN/HtX+13Aq6tqa+BA4Phett8W2Bd4ObB/krFN+9uragwwFjgsyTpN+2rAFVW1JfBr4F29FZbkkCTTk0y/aca5i3d0kiRp2DD8LV0rAd9KMhs4C9i0l34XVNXfq+qfwI+BHZv2w5JcB1wBvADYqGl/BDivWb4GGNVbAVV1clWNraqxG2691xIdjCRJWv6NGOoChrnDgTuBLekE7bm99KsF3yfZGdgN2K6qHkoyDVi1Wf9oVc3fZh6eR0mS1E/O/A2M+4E1emhfE7ijqh4H3gys2Mv2r06ydpJnAHsDlzXb3tMEv02AcQNftiRJahtnjAZAVf09yWXNn2+5oWvVicCPkrwF+AXwYC9DXAX8CBgJfK+qpjeXit+T5Abg93Qu/UqSJC0Rw98AqaqJPbT9kc6XOOb7WNN+K7B5V/ttVbX3Ats+DOzRy75W71o+Gzh7ceuWJEnt4mVfSZKkFnHmb4hV1anAqUNchiRJagln/iRJklrE8CdJktQihj9JkqQWMfxJkiS1iOFPkiSpRQx/kiRJLWL4kyRJahHDnyRJUosY/iRJklokVTXUNWjweLIlSRo+sjgbOfMnSZLUIoY/SZKkFjH8SZIktYjhT5IkqUUMf5IkSS1i+JMkSWoRw58kSVKLjBjqAjR4Jk6aNtQlSBpmRo6fOtQlSE+YMGXeUJcwqMZNnrxY2znzJ0mS1CKGP0mSpBYx/EmSJLWI4U+SJKlFDH+SJEktYviTJElqEcOfJElSixj+JEmSWsTwJ0mS1CKGP0mSpBYx/EmSJLWI4W8xJZmWZGwP7aOTvHYoapIkSVoYw9/AGw0Y/iRJ0jJpWIe/JG9JMivJdUlOT3Jqkv261j/Q/Fw9yYVJZiSZneQNTfuoJHO6+h+R5MiuXeyf5Kokf0jyyiQrA0cBBya5NsmBSVZLckrTb2bX2AcnOSfJBUluTfKBJB9u+lyRZO2m3+jm/awkU5I8u2nfMMmvmmObkeQlS/vzlCRJy79hG/6SbAZ8ChhfVVsCH+yj+1xgn6raGtgF+EqS9GM3I6pqW+BDwGeq6hFgEnBmVY2uqjOBTwIXNf12AY5Nslqz/ebABGAb4AvAQ1W1FfBb4C1Nn+8CH6uqlwOzgc807WcAX2+ObXvgjn7UK0mSWm7Yhj9gPHBWVf0NoKru7qNvgC8mmQX8ClgfWK8f+/hx8/MaYFQvfXYHPp7kWmAasCrwwmbdxVV1f1X9FbgXOLdpnw2MSrImsFZVXdK0nwbslGQNYP2qmtIc29yqeqjHA0sOSTI9yfSbZpzbUxdJktQiwzn89eQxmmNOsgKwctN+ELAuMKaqRgN30glpT/RvrLrAeA83P+cBI3rZZ4B9m5nA0VX1wqq6YYHtAR7vev94H+Mtkqo6uarGVtXYDbfeayCGlCRJy7HhHP4uonNP3joAzT10twJjmvWvB1ZqltcE7qqqR5PsAmzQtN8JPDfJOklWAfbsx37vB9boen8+cOj8y8hJturvAVTVvcA9SV7ZNL0ZuKSq7gduS7J3M+YqSZ7Z33ElSVJ7DdvwV1XX07mP7pIk1wHHAd8CXtW83w54sOl+BjA2yWw699rd2IzxKJ0vcFwFXDC/fSEuBjad/4UP4HN0QuasJNc37xfFW+ncJziLzjeJj2ra3wwc1rRfDvzLIo4rSZJaKFU11DVokEycNM2TLWlAjRw/dahLkJ4wYcq8oS5hUI2bPLk/X059mmE78ydJkqSnM/xJkiS1iOFPkiSpRQx/kiRJLWL4kyRJahHDnyRJUosY/iRJklrE8CdJktQihj9JkqQWMfxJkiS1iOFPkiSpRXy2b7t4siVJGj58tq8kSZL6ZviTJElqEcOfJElSixj+JEmSWsTwJ0mS1CKGP0mSpBYx/EmSJLWI4U+SJKlFRgx1ARo8EydNG+oSJDVGjp861CVIS2TClHlDXULrjZs8ebG2c+ZPkiSpRQx/kiRJLWL4kyRJahHDnyRJUosY/iRJklrE8CdJktQihj9JkqQWMfxJkiS1iOFPkiSpRQx/kiRJLWL4kyRJahHDnyRJUosY/vopyeuTfLxZPjLJEYOwz1FJ5jTLo5O8dmnvU5IkDW+Gv36qqqlVdfQQljAaMPxJkqQlYvjjiRm2G5OcmuQPSc5IsluSy5L8Mcm2SQ5OckIP205LMjnJtUnmJNm2ad82yW+TzExyeZKNF7L/S5PMaF7bL7B+ZeAo4MBmPwcuyviSJEnzGf6etCHwFWCT5jUR2BE4AvjEQrZ9ZlWNBt4HnNK03Qi8sqq2AiYBX+xj+7uAV1fV1sCBwPHdK6vqkWaMM6tqdFWd2d/xkxySZHqS6TfNOHchhyFJkoa7EUNdwDLklqqaDZDkeuDCqqoks4FRC9n2BwBV9eskz0qyFrAGcFqSjYACVupj+5WAE5KMBuYBL+1HvWv2Z/yqOhk4GWDipGnVj3ElSdIw5szfkx7uWn686/3jLDwkLxiqCvgccHFVbQ7sBazax/aHA3cCWwJjgZX7Ue+ijC9JkgQY/gbKgQBJdgTurap76czM3d6sP3gh268J3FFVjwNvBlbsoc/9dGYTu7fp7/iSJEmA4W+gzE0yEzgJeEfT9mXgS037wmYOTwTemuQ6OvcbPthDn4uBTed/4WMRx5ckSQIgVd4GtiSSTAOOqKrpQ13LwnjPn7TsGDl+6lCXIC2RCVPmDXUJrTdu8uQsznbO/EmSJLWIlwuXUFXt3N++Sf4VOGaB5luqap8BLUqSJKkXhr9BVFXnA+cPdR2SJKm9vOwrSZLUIoY/SZKkFjH8SZIktYjhT5IkqUUMf5IkSS1i+JMkSWoRw58kSVKL+Hi3dvFkS5I0fPh4N0mSJPXN8CdJktQihj9JkqQWMfy1SJJ307k/wNcy8PJ8LFsvz8ey9/KcLFsvz8ey90pyCIvB8Ncui/VLoqXG87Fs8XwsezwnyxbPx7LH8CdJkqS+Gf4kSZJaxPDXLicPdQF6Cs/HssXzsezxnCxbPB/LnsU6J/6RZ0mSpBZx5k+SJKlFDH+SJEktYvgbZpK8Jsnvk9yU5OM9rF8lyZnN+iuTjBqCMlulH+fkw0l+l2RWkguTbDAUdbbFws5HV799k1SSsYNZXxv155wkOaD55+T6JN8f7BrbpB//znphkouTzGz+vfXaoaizLZKckuSuJHN6WZ8kxzfna1aSrRc2puFvGEmyIvB1YA9gU+BNSTZdoNs7gHuqakPgq8Axg1tlu/TznMwExlbVy4GzgS8PbpXt0c/zQZI1gA8CVw5uhe3Tn3OSZCPgP4Adqmoz4EODXWdb9POfkU8BP6yqrYA3AicObpWtcyrwmj7W7wFs1LwOAb6xsAENf8PLtsBNVXVzVT0C/DfwhgX6vAE4rVk+G9g1SQaxxrZZ6Dmpqour6qHm7RXAyEGusU36888IwOfo/I/R3MEsrqX6c07eBXy9qu4BqKq7BrnGNunP+SjgWc3ymsD/DmJ9rVNVvwbu7qPLG4DvVscVwFpJntfXmIa/4WV94C9d729r2nrsU1WPAfcC6wxKde3Un3PS7R3Az5dqRe220PPRXDJ5QVX9dDALa7H+/DPyUuClSS5LckWSvmZBtGT6cz6OBP4tyW3Az4BDB6c09WJR/zvDiKVajqR+S/JvwFjgVUNdS1slWQE4Djh4iEvRU42gc0lrZzoz479OskVV/WMoi2qxNwGnVtVXkmwHnJ5k86p6fKgLU/848ze83A68oOv9yKatxz5JRtCZsv/7oFTXTv05JyTZDfgk8PqqeniQamujhZ2PNYDNgWlJbgXGAVP90sdS1Z9/Rm4DplbVo1V1C/AHOmFQA68/5+MdwA8Bquq3wKrAcwalOvWkX/+d6Wb4G16uBjZK8qIkK9O5EXfqAn2mAm9tlvcDLir/0vfStNBzkmQr4Jt0gp/3Mi1dfZ6Pqrq3qp5TVaOqahSdezBfX1XTh6bcVujPv7fOoTPrR5Ln0LkMfPMg1tgm/TkffwZ2BUjyMjrh76+DWqW6TQXe0nzrdxxwb1Xd0dcGXvYdRqrqsSQfAM4HVgROqarrkxwFTK+qqcD/ozNFfxOdG0jfOHQVD3/9PCfHAqsDZzXfvflzVb1+yIoexvp5PjSI+nlOzgd2T/I7YB7w71XlFYuloJ/n4yPAt5IcTufLHwc7ibD0JPkBnf/5eU5zn+VngJUAquokOvddvha4CXgIeNtCx/R8SZIktYeXfSVJklrE8CdJktQihj9JkqQWMfxJkiS1iOFP0nItyTuTrD3UdUhLyt9lDRbDn9RSSeYluTbJ9UmuS/KR5gkXJBmb5Pg+th2VZGIf65+f5Oxm+eAkJwxAvU+M2dX2MeCfVdXXcy8XNu7OSc5bhP5POfaFfVZLUNeRSY4Y6HHbqDlnc5a0zwDWs1R+l6X+8u/8Se31z6oaDZDkucD36Tys/TPNHzXu6w8bjwImNts8RZIRVfW/dP6I+IDpacyqOmYg99FPo+g69n58VhoESVasqnlDXUd/LEO/y2opZ/4k0TxZ5BDgA81fiX9iNizJq5oZwmuTzEyyBnA08Mqm7fBmdm9qkouAC3uYRXlBkmlJ/pjkM824T+mT5IgkRzbLGyb5VTMjOSPJS7r7J1k1yXeSzG5q2qVpPzjJj5P8otnXl3s63iSvSXJjkhnAhK721ZKckuSqZtw39LD5gsfe/VkdmeT0JL9t9v+upj1Jjk0yp6n5wF7q+mSSPyT5DbBxV/tLmmO6JsmlSTbpYdvVuz6TWUn2bdrf1LTNSXJMV/8Hknyh+YyvSLJe075/0/e6JL/u+lxP6Nr2vCQ7d41zbDozyL9Ksm1zrm9O8vq+ztcC9e+c5NdJfprk90lOypMz0X0dw1eSXAdst8B4Y5pjuA54f1f7ik29Vzef07t7qKXHPklWSHJi87tzQZKfJdmvWTep6T8nyclJ5y+2L+3fZWmxVJUvX75a+AIe6KHtH8B6dP6a/HlN27nADs3y6nSuGDyxvmk/mM7zV9du3o8C5nStuwNYB3gGMAcY292n6XcEcGSzfCWwT7O8KvDMBcb8CJ0nDwBsQudxU6s2+7qZzjOrVwX+B3jBAse4KvAXOs+GDZ1nlM4/1i8C/9Ysr0XnGbKrLbD9gsfe/VkdCVzXHOdzmv08H9gXuIDOExPWa+p93gLjjgFmN8f6LDp/rf+IZt2FwEbN8ivoPJZxwXN3DPBfXe+f3ez7z8C6zXm7CNi7WV/AXs3yl4FPNcuzgfXnfwZd5/CErrHPA3buGmePZnkK8Es6Tx/YEri2r/PVw+c6F3hx8zldQGd2bGHHcEAvv9+zgJ2a5WN58nfnkK5jXYXOrO2LeOrvV2999qPzNIUVgH8B7gH2a/qt3bXv07s+26X2u+zL1+K+nPmTtDCXAcclOYxOGHisl34XVO/3K11QVX+vqn8CPwZ27G1n6cwsrl9VUwCqam5VPbRAtx2B7zXrb6TzH8aXNusurM4zeucCvwM2WGDbTYBbquqPVVXzx2nsDnw8ybXANDr/0X1hb7X24idV9c+q+htwMbBtU+8PqmpeVd0JXAJss8B2rwSmVNVDVXUfzfNUk6wObE/n8X/X0nkO9PN62O9uwNfnv6mqe5p9TKuqvzbn7Qxgp6bLI3RCHMA1dAIJdM73qc2s5Yr9ON5HgF80y7OBS6rq0WZ5/ph9na9uV1XVzdW5fPuDZru+jmEe8KMFB0myFp3f1V83Tad3rd6dznNQr6UTzNah8z8C9KPPjsBZVfV4Vf0fnfM73y5JrkwyGxgPbDYIv8vSYvGeP0kAJHkxnf+Y3gW8bH57VR2d5Kd0nh15WZJ/7WWIB/sYfsHnSBbwGE+99WTVRS66Zw93Lc9j0f49F2Dfqvr9Euy/p2NdEisA/6jm/swB9GgTfqHrc6qq9yR5BfA64JokY+j7XHWP8zjN519VjydZ1P/GLOpnN7cW/T6/AIdW1flPaUxG9aPPa3scMFkVOBEYW1V/Sef2hYH4fV6S32WpV878SSLJusBJdC7t1QLrXlJVs6tzQ/rVdGbO7gfWWIRdvDrJ2kmeAexNZ3bpTuC5SdZJsgqwJ0BV3Q/clmTvZv+rJHnmAuNdChzUrH8pndm5/ga2G4FRSV7SvH9T17rzgUO77tfaqoftF3bsb2ju41qHzqXMq5t6D2zuJVuXzszVVQts92tg7yTPaGaM9gJoZgFvSbJ/U1OSbNnDfi/gqfe2PbvZx6uSPCfJis2xXtJH7fPP95VVNQn4K/AC4FZgdHPP2wvozGYuiv6er22TvKi51+9A4DeLcwxV9Q/gH0nmzzAf1LX6fOC9SVaaX0+S1RYYorc+lwH7Np/D/Nsj4Mmg97dmpna/po6l/bssLRb/L0Jqr2c0l7VWojOzczpwXA/9PtTchP44cD3w82Z5XnMz/al07n3qy1V0Ls+NBL5XnW/IkuSoZt3tdELZfG8GvtmsfxTYv9nnfCcC32gusT0GHFxVDzeZrU9VNTfJIcBPkzxE5z++88Pc54D/AmY1AeQWmlDaZdYCxz6zh/UX07nn73NV9b9JptD5QsJ1dGazPtpcNuyua0aSM5s+d9EJjfMd1Bzvp+icr/9u+nX7PPD15osE84DPVtWPk3y8qSfAT6vqJwv5iI5NMv9+yAu79nMLnUuPNwAzFjLGgno8Xz30uxo4AdiwqXlKM4O4qMcA8DbglCRF5z7E+b5N53L0jCbk/5XO/5DQjz4/Anal8zn8hc7ncG9V/SPJt+jcz/p/PPXcLbXfZWlxZYH/yZckLabmct8DVfWfQ13L8iadbw8fUVULhu1lSpLVq+qBZmb3Kjpfhvq/hW0nLUuc+ZMkqf/Oa75QsjKdmV2Dn5Y7zvxJkiS1iF/4kCRJahHDnyRJUosY/iRJklrE8CdJktQihj9JkqQWMfxJkiS1yP8Hg/XLIhyt7+sAAAAASUVORK5CYII=\n",
      "text/plain": [
       "<Figure size 648x864 with 1 Axes>"
      ]
     },
     "metadata": {
      "needs_background": "light"
     },
     "output_type": "display_data"
    }
   ],
   "source": [
    "# Initialize the matplotlib figure\n",
    "f, ax = plt.subplots(figsize=(9, 12))\n",
    "\n",
    "#Mixto\n",
    "sns.set_color_codes(\"muted\")\n",
    "sns.barplot(x=\"acum_pct_mixto\", y=\"alcaldia\", data=consumo_total_alcaldia,\n",
    "            label=\"Mixto\", color=\"r\")\n",
    "\n",
    "#No doméstico\n",
    "sns.barplot(x=\"acum_pct_no_dom\", y=\"alcaldia\", data=consumo_total_alcaldia,\n",
    "            label=\"No domestico\", color=\"g\")\n",
    "\n",
    "#Doméstico\n",
    "sns.barplot(x = \"pct_dom\", y = \"alcaldia\", data=consumo_total_alcaldia,\n",
    "            label = \"Domestico\", color=\"b\")\n",
    "\n",
    "\n",
    "# Add a legend and informative axis label\n",
    "ax.legend(ncol=1, loc=\"upper left\", frameon=True)\n",
    "ax.set(xlim=(0, 1), ylabel=\"\",\n",
    "       xlabel=\"Distribución de tipo de consumo por delegación\")\n",
    "sns.despine(left=True, bottom=True)\n",
    "\n",
    "plt.savefig('plots/consumo_total_sns/05_bars_stacked_tipo_alcaldia.png')"
   ]
  },
  {
   "cell_type": "markdown",
   "metadata": {},
   "source": [
    "Iztacalco tiene la mayor proporción de consumo doméstico, mientras que Milpa Alta y Cuauhtemoc muestran las menores.\n",
    "\n",
    "Tlalpan presenta la mayor proporción de consumo no doméstico, mientras que Iztacalco la menor."
   ]
  },
  {
   "cell_type": "markdown",
   "metadata": {},
   "source": [
    "### ¿Cómo se divide el consumo total entre doméstico, no doméstico y mixto por alcaldía?"
   ]
  },
  {
   "cell_type": "markdown",
   "metadata": {},
   "source": [
    "### ¿Qué alcaldía presenta mayor proporción de consumo doméstico? ¿No doméstico?"
   ]
  },
  {
   "cell_type": "code",
   "execution_count": 38,
   "metadata": {},
   "outputs": [],
   "source": [
    "consumo_total_indice_des = data_consumo_total_mean.drop(['longitud', 'latitud'], axis = 1).groupby(['indice_des']).sum().reset_index()\n",
    "\n",
    "consumo_total_indice_des['sum_col'] = consumo_total_indice_des.consumo_total_dom + \\\n",
    "consumo_total_indice_des.consumo_total_no_dom + \\\n",
    "consumo_total_indice_des.consumo_total_mixto \n",
    "\n",
    "consumo_total_indice_des['pct_dom'] = consumo_total_indice_des.consumo_total_dom/ consumo_total_indice_des.sum_col\n",
    "consumo_total_indice_des['pct_no_dom'] = consumo_total_indice_des.consumo_total_no_dom/ consumo_total_indice_des.sum_col\n",
    "consumo_total_indice_des['pct_mixto'] = consumo_total_indice_des.consumo_total_mixto/ consumo_total_indice_des.sum_col\n",
    "\n",
    "\n",
    "consumo_total_indice_des['acum_pct_no_dom'] = consumo_total_indice_des.pct_dom + consumo_total_indice_des.pct_no_dom\n",
    "consumo_total_indice_des['acum_pct_mixto'] = consumo_total_indice_des.acum_pct_no_dom + consumo_total_indice_des.pct_mixto\n",
    "\n",
    "consumo_total_indice_des= consumo_total_indice_des.sort_values(\"pct_dom\", ascending=False)"
   ]
  },
  {
   "cell_type": "code",
   "execution_count": 41,
   "metadata": {},
   "outputs": [
    {
     "data": {
      "image/png": "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\n",
      "text/plain": [
       "<Figure size 576x576 with 1 Axes>"
      ]
     },
     "metadata": {
      "needs_background": "light"
     },
     "output_type": "display_data"
    }
   ],
   "source": [
    "# Initialize the matplotlib figure\n",
    "f, ax = plt.subplots(figsize=(8, 8))\n",
    "\n",
    "#Mixto\n",
    "sns.set_color_codes(\"muted\")\n",
    "sns.barplot(x=\"acum_pct_mixto\", y=\"indice_des\", data=consumo_total_indice_des,\n",
    "            label=\"Mixto\", color=\"r\", order = ['alto', 'medio', 'bajo', 'popular'])\n",
    "\n",
    "#No doméstico\n",
    "sns.barplot(x=\"acum_pct_no_dom\", y=\"indice_des\", data=consumo_total_indice_des,\n",
    "            label=\"No domestico\", color=\"g\", order = ['alto', 'medio', 'bajo', 'popular'])\n",
    "\n",
    "#Doméstico\n",
    "sns.barplot(x = \"pct_dom\", y = \"indice_des\", data=consumo_total_indice_des,\n",
    "            label = \"Domestico\", color=\"b\", order = ['alto', 'medio', 'bajo', 'popular'])\n",
    "\n",
    "\n",
    "# Add a legend and informative axis label\n",
    "ax.legend(ncol=1, loc=\"upper left\", frameon=True)\n",
    "ax.set(xlim=(0, 1), ylabel=\"\",\n",
    "       xlabel=\"Distribución de tipo de consumo por Índice de desarrollo\")\n",
    "sns.despine(left=True, bottom=True)\n",
    "\n",
    "plt.savefig('plots/consumo_total_sns/06_bars_stacked_tipo_indicedes.png')"
   ]
  },
  {
   "cell_type": "markdown",
   "metadata": {},
   "source": [
    "- El consumo doméstico es más común en manzanas de nivel de desarrollo bajo.\n",
    "- Los níveles alto y popular presentan proporciones similares en los 3 tipos de consumo. Tienen las proporciones más bajas de consumo doméstico y más altas de consumo no doméstico\n",
    "- Proporciones relativamente altas de consumo mixto se ven en niveles medio y bajo\n"
   ]
  },
  {
   "cell_type": "markdown",
   "metadata": {},
   "source": [
    "# Consumo promedio\n",
    "\n",
    "En esta sección analizaremos el consumo promedio de las tres variables observadas para el total: consumo doméstico, no doméstico y mixto. "
   ]
  },
  {
   "cell_type": "markdown",
   "metadata": {},
   "source": [
    "### Consumo promedio doméstico por colonia. \n",
    "\n",
    "En la siguiente gráfica observamos que hay una variación considerable en el consumo doméstico por colonia. Colonias como Miguel Hidalgo o Álvaro Obregón tienen un nivel de consumo considerablemente mayor al de colonias como Tláhuac o Milpa Alta. \n",
    "\n",
    "Se decidió utilizar el promedio de los tres bimestres por fines de claridad y porque el consumo tuvo poca variación de bimestre a bimestre en cada colonia (lo cual se mostrará en la siguiente gráfica). "
   ]
  },
  {
   "cell_type": "code",
   "execution_count": 71,
   "metadata": {},
   "outputs": [],
   "source": [
    "group_2 = data.groupby(['nomgeo'], as_index = False).agg({\n",
    "                        'consumo_prom_dom': 'mean',\n",
    "                        'consumo_prom_no_dom': 'mean',\n",
    "                        'consumo_prom_mixto': 'mean'\n",
    "})"
   ]
  },
  {
   "cell_type": "code",
   "execution_count": 72,
   "metadata": {},
   "outputs": [],
   "source": [
    "import warnings\n",
    "warnings.simplefilter('ignore')"
   ]
  },
  {
   "cell_type": "code",
   "execution_count": 73,
   "metadata": {},
   "outputs": [
    {
     "data": {
      "image/png": "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\n",
      "text/plain": [
       "<Figure size 1224x432 with 1 Axes>"
      ]
     },
     "metadata": {
      "needs_background": "light"
     },
     "output_type": "display_data"
    }
   ],
   "source": [
    "group_2 = group_2.sort_values(by = ['consumo_prom_dom'], ascending = False)\n",
    "fig, ax = plt.subplots(figsize = (17,6))\n",
    "colonias = group_2.nomgeo.values.tolist()\n",
    "ax.set_xticklabels(colonias, rotation=90)\n",
    "ax = group_2.plot.bar(ax = ax, x = 'nomgeo', y = 'consumo_prom_dom')\n",
    "plt.title(\"Consumo promedio doméstico por colonia\")\n",
    "plt.xlabel(\"Colonia\"); plt.ylabel(\"Promedio de consumo \\n en los 3 bimestres \\n (metros cúbicos de agua)\")\n",
    "plt.legend(\"\");"
   ]
  },
  {
   "cell_type": "markdown",
   "metadata": {},
   "source": [
    "El conjunto de datos no presenta unidades, pero el promedio del consumo promedio doméstico por colonia es de 29.29 unidades, con una desviación estándar de 8.65 unidades, un mínimo de 14.8 (Milpa Alta) y un máximo de 43 (Miguel Hidalgo). "
   ]
  },
  {
   "cell_type": "markdown",
   "metadata": {},
   "source": [
    "### Consumo promedio no doméstico por colonia\n",
    "\n",
    "A continuación observamos la misma gráfica para el promedio del consumo no doméstico. "
   ]
  },
  {
   "cell_type": "code",
   "execution_count": 74,
   "metadata": {},
   "outputs": [
    {
     "data": {
      "image/png": "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\n",
      "text/plain": [
       "<Figure size 1224x432 with 1 Axes>"
      ]
     },
     "metadata": {
      "needs_background": "light"
     },
     "output_type": "display_data"
    }
   ],
   "source": [
    "group_2 = group_2.sort_values(by = ['consumo_prom_no_dom'], ascending = False)\n",
    "fig, ax = plt.subplots(figsize = (17,6))\n",
    "colonias = group_2.nomgeo.values.tolist()\n",
    "ax.set_xticklabels(colonias, rotation=45)\n",
    "ax = group_2.plot.bar(ax = ax, x = 'nomgeo', y = 'consumo_prom_no_dom')\n",
    "plt.title(\"Consumo promedio no doméstico por colonia.\")\n",
    "plt.xlabel(\"Colonia\"); plt.ylabel(\"Promedio de consumo \\n en los 3 bimestres \\n (metros cúbicos de agua)\")\n",
    "plt.legend(\"\");"
   ]
  },
  {
   "cell_type": "markdown",
   "metadata": {},
   "source": [
    "Es interesante notar que algunas colonias, como Tlalpan o Cuauhtémoc, no son preponderantes en el consumo doméstico pero sí en el no doméstico. Esto es lo que habríamos de esperar, pues xisten zonas residenciales y zonas industriales en el país. \n",
    "\n",
    "El promedio del consumo no doméstico es de 129 unidades, más de 4 veces el promedio del consumo doméstico. La varianza es mayor en este caso: con una desviación estándar de 70 unidades, observamos colonias como Tláhuac, que cuenta con tan solo 40 unidades de consumo y colonias como Tlalpan, con 278 unidades de consumo en promedio para los tres bimestres. "
   ]
  },
  {
   "cell_type": "markdown",
   "metadata": {},
   "source": [
    "### Consumo promedio mixto por colonia. \n",
    "\n",
    "El consumo mixto está definido como aquel que ocurre en zonas donde simultáneamente se usa el agua para consumo doméstico y no doméstico. ¿Cómo se ve la distribución por colonia en en este caso? "
   ]
  },
  {
   "cell_type": "code",
   "execution_count": 75,
   "metadata": {},
   "outputs": [
    {
     "data": {
      "image/png": "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\n",
      "text/plain": [
       "<Figure size 1224x432 with 1 Axes>"
      ]
     },
     "metadata": {
      "needs_background": "light"
     },
     "output_type": "display_data"
    }
   ],
   "source": [
    "group_2 = group_2.sort_values(by = ['consumo_prom_mixto'], ascending = False)\n",
    "fig, ax = plt.subplots(figsize = (17,6))\n",
    "colonias = group_2.nomgeo.values.tolist()\n",
    "ax.set_xticklabels(colonias, rotation=45)\n",
    "ax = group_2.plot.bar(ax = ax, x = 'nomgeo', y = 'consumo_prom_mixto')\n",
    "plt.title(\"Consumo promedio mixto por colonia.\")\n",
    "plt.xlabel(\"Colonia\"); plt.ylabel(\"Promedio de consumo \\n en los 3 bimestres \\n (metros cúbicos de agua)\")\n",
    "plt.legend(\"\");"
   ]
  },
  {
   "cell_type": "markdown",
   "metadata": {},
   "source": [
    "En este caso, el mínimo es de 16.63 unidades y el máximo de 98.25. El promedio del consumo promedio mixto de agua es de 46 unidades. "
   ]
  },
  {
   "cell_type": "markdown",
   "metadata": {},
   "source": [
    "La siguiente tabla, que muestra el ranking de cada colonia en estos tres rubros, nos permite ver que algunas colonias, como Miguel Hidalgo o Cuajimalpa, tienen una actividad importante en estos tres campos, mientras que otras, como Milpa Alta y Tláhuac, tienen un consumo relativamente bajo. Por supuesto, existen otras, como Cuahutémoc o Tlalpan, que tienen un consumo alto en algunas categorías y bajo en otras. "
   ]
  },
  {
   "cell_type": "markdown",
   "metadata": {},
   "source": [
    "| Colonia | Ranking Doméstico | Ranking No Doméstico| Ranking Mixto |\n",
    "| --- | --- | --- | --- |\n",
    "| Miguel Hidalgo | 1| 2 |  2 |\n",
    "| Álvaro Obregón | 2| 5 |  5 |\n",
    "| La Magdalena Contreras | 3| 8 | 11 |\n",
    "| Cuajimalpa de Morelos | 4| 3 |  3 |\n",
    "| Azcapotzalco | 5| 7 |  7 |\n",
    "| Iztacalco| 6| 11 |  8 |\n",
    "| Venustiano Carranza | 7| 12 |  6 |\n",
    "| Gustavo A. Madero | 8| 10 |  9 |\n",
    "| Coyoacán | 9| 6 |  10 |\n",
    "| Tlalpan | 10| 1 |  12 |\n",
    "| Cuauhtémoc | 11| 4 |  1 |\n",
    "| Benito Juárez | 12| 9 |  4 |\n",
    "| Xochimilco | 13| 14 |  14 |\n",
    "| Iztapalapa| 14| 13 |  13 |\n",
    "| Tláhuac | 15| 16 |  15 |\n",
    "| Milpa Alta | 16| 15 |  16 |"
   ]
  },
  {
   "cell_type": "markdown",
   "metadata": {},
   "source": [
    "Nota: La tabla fue hecha a mano."
   ]
  },
  {
   "cell_type": "markdown",
   "metadata": {},
   "source": [
    "En la siguiente gráfica podemos observar que el consumo promedio, tanto del sector doméstico como del no doméstico, tuvo pocos cambios de bimestre a bimestre. El consumo mixto disminuyó de 67 a 45 unidades del primer al segundo bimestre pero después se mantuvo estable."
   ]
  },
  {
   "cell_type": "code",
   "execution_count": 76,
   "metadata": {},
   "outputs": [],
   "source": [
    "bim_1 = data[data.bimestre == 1].groupby(['nomgeo'], as_index = False).agg({\n",
    "                        'consumo_prom_dom': 'mean',\n",
    "                        'consumo_prom_no_dom': 'mean'\n",
    "})\n",
    "bim_2 = data[data.bimestre == 2].groupby(['nomgeo'], as_index = False).agg({\n",
    "                        'consumo_prom_dom': 'mean',\n",
    "                        'consumo_prom_no_dom': 'mean'\n",
    "})\n",
    "bim_3 = data[data.bimestre == 3].groupby(['nomgeo'], as_index = False).agg({\n",
    "                        'consumo_prom_dom': 'mean',\n",
    "                        'consumo_prom_no_dom': 'mean'\n",
    "})"
   ]
  },
  {
   "cell_type": "code",
   "execution_count": 77,
   "metadata": {},
   "outputs": [],
   "source": [
    "group_1 = data.groupby(['bimestre'], as_index = False).agg({\n",
    "                            'consumo_prom_dom': 'mean',\n",
    "                            'consumo_prom_no_dom': 'mean',\n",
    "                            'consumo_prom_mixto': 'mean'})"
   ]
  },
  {
   "cell_type": "code",
   "execution_count": 78,
   "metadata": {},
   "outputs": [
    {
     "data": {
      "image/png": "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\n",
      "text/plain": [
       "<Figure size 504x504 with 1 Axes>"
      ]
     },
     "metadata": {
      "needs_background": "light"
     },
     "output_type": "display_data"
    }
   ],
   "source": [
    "fig, ax = plt.subplots(figsize = (7,7))\n",
    "group_1[['consumo_prom_dom', 'consumo_prom_mixto', 'consumo_prom_no_dom']].plot.bar(rot = 0, ax = ax)\n",
    "plt.title(\"Consumo promedio de agua por bimestre\")\n",
    "plt.xlabel(\"Bimestre\"); plt.ylabel(\"Consumo de agua (en metros cúbicos)\")\n",
    "plt.legend([\"Consumo Doméstico\", \"Consumo Mixto\", \"Consumo no Doméstico\"], loc = \"upper left\");"
   ]
  },
  {
   "cell_type": "markdown",
   "metadata": {},
   "source": [
    "### Distribución del consumo promedio por bimestre y por índice de desarrollo."
   ]
  },
  {
   "cell_type": "markdown",
   "metadata": {},
   "source": [
    "Curiosamente, a pesar de que algunas colonias tienen un consumo mucho mayor que otras, podemos notar que sus distribuciones son relativamente similares, con un medianta cercana a las 28 unidades. Es relevante también mencionar que el sector con índice de desarrollo popular tiene una varianza mayor en su consumo promedio de agua. "
   ]
  },
  {
   "cell_type": "code",
   "execution_count": 79,
   "metadata": {},
   "outputs": [],
   "source": [
    "#Este código nunca fue escrito para que viera la luz del día\n",
    "#Pero básicamente pone la tabla en un formato \"long\"\n",
    "#Para poder hacer el boxplot lindo de seaborn\n",
    "data_clean = data.copy()\n",
    "bimestre_long = data_clean.bimestre.values.tolist()*3\n",
    "consumo_total = data_clean.consumo_prom_dom.values.tolist() + data_clean.consumo_prom_no_dom.values.tolist() + data_clean.consumo_prom_mixto.values.tolist()\n",
    "dom_no_dom = ['Doméstico']*len(data_clean) + ['No doméstico']*len(data_clean) + [\"Mixto\"]*len(data_clean)\n",
    "new_data = pd.DataFrame({'Bimestre': bimestre_long,\n",
    "                       'Consumo': consumo_total,\n",
    "                       'Domestico': dom_no_dom})\n",
    "new_data.Bimestre = new_data.Bimestre.astype('category')\n",
    "new_data.Domestico = new_data.Domestico.astype('category')"
   ]
  },
  {
   "cell_type": "code",
   "execution_count": 80,
   "metadata": {},
   "outputs": [
    {
     "data": {
      "image/png": "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\n",
      "text/plain": [
       "<Figure size 504x504 with 1 Axes>"
      ]
     },
     "metadata": {
      "needs_background": "light"
     },
     "output_type": "display_data"
    }
   ],
   "source": [
    "fig, ax = plt.subplots(figsize = (7,7))\n",
    "ax = sns.boxplot(x= \"Bimestre\", y = \"Consumo\", hue= \"Domestico\",\n",
    "                data = new_data, palette=\"mako\")\n",
    "plt.ylim([0, 100])\n",
    "plt.xlabel(\"Bimestre\");plt.ylabel(\"Consumo (en metros cúbicos)\")\n",
    "plt.legend(loc = 'upper right')\n",
    "plt.title(\"Distribución del consumo promedio por bimestre\");"
   ]
  },
  {
   "cell_type": "code",
   "execution_count": 81,
   "metadata": {},
   "outputs": [
    {
     "data": {
      "image/png": "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\n",
      "text/plain": [
       "<Figure size 504x504 with 1 Axes>"
      ]
     },
     "metadata": {
      "needs_background": "light"
     },
     "output_type": "display_data"
    }
   ],
   "source": [
    "fig, ax = plt.subplots(figsize = (7,7))\n",
    "ax = sns.boxplot(x= \"indice_des\", y = \"consumo_prom_dom\", \n",
    "                data = data_clean, palette=\"mako\")\n",
    "plt.ylim([0, 100])\n",
    "\n",
    "plt.title(\"Distribución del consumo doméstico por índice de desarrollo.\")\n",
    "plt.xlabel(\"Índice de desarrollo\"); plt.ylabel(\"Consumo Promedio Doméstico \\n en metros cúbicos\");"
   ]
  },
  {
   "cell_type": "markdown",
   "metadata": {},
   "source": [
    "Para el sector no doméstico, las distribuciones varían un poco más. Notamos que el sector con alto índice de desarrollo tiene una mediana notablemente mayor que la de los demás sectores, aunque sigue siendo cierto que el sector popular tiene mayor varianza en su consumo promedio. "
   ]
  },
  {
   "cell_type": "code",
   "execution_count": 82,
   "metadata": {},
   "outputs": [
    {
     "data": {
      "image/png": "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\n",
      "text/plain": [
       "<Figure size 504x504 with 1 Axes>"
      ]
     },
     "metadata": {
      "needs_background": "light"
     },
     "output_type": "display_data"
    }
   ],
   "source": [
    "fig, ax = plt.subplots(figsize = (7,7))\n",
    "ax = sns.boxplot(x= \"indice_des\", y = \"consumo_prom_no_dom\", \n",
    "                data = data_clean, palette=\"mako\")\n",
    "plt.ylim([0, 250])\n",
    "plt.title(\"Distribución del consumo no doméstico por índice de desarrollo.\")\n",
    "plt.xlabel(\"Índice de desarrollo\"); plt.ylabel(\"Consumo Promedio No Doméstico \\n en metros cúbicos\");"
   ]
  },
  {
   "cell_type": "markdown",
   "metadata": {},
   "source": [
    "Finalmente, realizamos el mismo análisis para el consumo mixto."
   ]
  },
  {
   "cell_type": "code",
   "execution_count": 83,
   "metadata": {},
   "outputs": [
    {
     "data": {
      "image/png": "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\n",
      "text/plain": [
       "<Figure size 504x504 with 1 Axes>"
      ]
     },
     "metadata": {
      "needs_background": "light"
     },
     "output_type": "display_data"
    }
   ],
   "source": [
    "fig, ax = plt.subplots(figsize = (7,7))\n",
    "ax = sns.boxplot(x= \"indice_des\", y = \"consumo_prom_mixto\", \n",
    "                data = data_clean, palette=\"mako\")\n",
    "plt.ylim([-10, 250])\n",
    "plt.title(\"Distribución del consumo mixto por índice de desarrollo.\")\n",
    "plt.xlabel(\"Índice de desarrollo\"); plt.ylabel(\"Consumo Promedio Mixto \\n en metros cúbicos\");"
   ]
  },
  {
   "cell_type": "markdown",
   "metadata": {},
   "source": [
    "# Características de los datos para la definición de un modelo"
   ]
  },
  {
   "cell_type": "markdown",
   "metadata": {},
   "source": [
    "Como se solicitó para el presente proyecto, se estudió la factibilidad de emplear las variables del set de datos para predecir el índice de desarrollo de la manzana en cuestión (i.e. `indice_des`). Para ello, de las siguientes variables:\n",
    "* Año\n",
    "* Bimestre\n",
    "* GID\n",
    "* Latitud\n",
    "* Longitud\n",
    "* Consumo total \n",
    "* Consumo total doméstico\n",
    "* Consumo total no doméstico\n",
    "* Consumo total mixto\n",
    "* Consumo promedio\n",
    "* Consumo promedio doméstico\n",
    "* Consumo promedio no doméstico\n",
    "* Consumo promedio mixto\n",
    "\n",
    "Se realizaron gráficas de dispersión con coloración por índice de desarrollo para determinar si con las variables originales se podía obtener una segmentación de las categorías. Todas las gráficas realizadas (a excepción de latitud contra longitud que se muestra más adelante) no lograron este propósito. Un ejemplo del resultado típico de muestra a continuación."
   ]
  },
  {
   "cell_type": "code",
   "execution_count": 84,
   "metadata": {},
   "outputs": [
    {
     "data": {
      "image/png": "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\n",
      "text/plain": [
       "<Figure size 434x360 with 1 Axes>"
      ]
     },
     "metadata": {
      "needs_background": "light"
     },
     "output_type": "display_data"
    }
   ],
   "source": [
    "g_ejemplo = sns.relplot(x=\"consumo_total_dom\", y=\"consumo_total_mixto\", data=data, hue='indice_des')\n",
    "plt.subplots_adjust(top=0.9)\n",
    "g_ejemplo.fig.suptitle(\"Cosumo total mixto vs., consumo total doméstico\")\n",
    "g_ejemplo.set(ylabel=\"Consumo total mixto [metros cúbicos]\", xlabel=\"Consumo total doméstico [metros cúbicos]\")\n",
    "\n",
    "for ax in g_ejemplo.axes[:,0]:\n",
    "    ax.get_yaxis().set_major_formatter(tkr.StrMethodFormatter('{x:,.0f}'))\n",
    "    ax.get_xaxis().set_major_formatter(tkr.StrMethodFormatter('{x:,.0f}'))"
   ]
  },
  {
   "cell_type": "markdown",
   "metadata": {},
   "source": [
    "Como es posible observar, no existe una segmentación adecuada de las categorías de índice de desarrollo. Las demás gráficas se omiten para evitar aglomerar el reporte."
   ]
  },
  {
   "cell_type": "markdown",
   "metadata": {},
   "source": [
    "El único caso de parcial éxito es la gráfica de longitud contra latitud que se muestra a continuación:"
   ]
  },
  {
   "cell_type": "code",
   "execution_count": 85,
   "metadata": {},
   "outputs": [
    {
     "data": {
      "image/png": "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\n",
      "text/plain": [
       "<Figure size 434x360 with 1 Axes>"
      ]
     },
     "metadata": {
      "needs_background": "light"
     },
     "output_type": "display_data"
    }
   ],
   "source": [
    "g_lat_lon = sns.relplot(x=\"longitud\", y=\"latitud\", data=data, hue='indice_des')\n",
    "g_lat_lon.set(xlabel=\"Longitud\", ylabel=\"Latitud\");"
   ]
  },
  {
   "cell_type": "markdown",
   "metadata": {},
   "source": [
    "Por lo anterior, se considera que la información no es suficiente ni completa para generar un modelo correcto para predecir el índice de desarrollo. Nos gustaría contar con información adicional como número de tomas, tarifa promedio y población por manzana. \n",
    "\n",
    "En general se concluye que:\n",
    "* Las con las que contamos no permiten una segmentación de los datos\n",
    "* Es conveneiente tener datos de población por manzana para perfilar el tipo de consumo per cápita\n",
    "* Las gráficas de cajas y brazos demuestran que las distribuciones son más o menos similares y no hay patrones evidentes con los datos con los que se cuentan\n",
    "* En general es relevante contar con más contexto"
   ]
  }
 ],
 "metadata": {
  "kernelspec": {
   "display_name": "itam_intro_to_ds",
   "language": "python",
   "name": "itam_intro_to_ds"
  },
  "language_info": {
   "codemirror_mode": {
    "name": "ipython",
    "version": 3
   },
   "file_extension": ".py",
   "mimetype": "text/x-python",
   "name": "python",
   "nbconvert_exporter": "python",
   "pygments_lexer": "ipython3",
   "version": "3.7.4"
  }
 },
 "nbformat": 4,
 "nbformat_minor": 4
}
