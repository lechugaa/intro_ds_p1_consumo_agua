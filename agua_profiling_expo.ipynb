{
 "cells": [
  {
   "cell_type": "markdown",
   "metadata": {},
   "source": [
    "# Análisis exploratorio de datos del suministro de agua de la CDMX"
   ]
  },
  {
   "cell_type": "markdown",
   "metadata": {},
   "source": [
    "Análisis exploratorio de datos del suministro de agua de la Ciudad de México a septiembre de 2020. Este análisis fue efectuado empleando la información bimestral por el concepto de suministro de agua a nivel manzana, considerando la facturación por servicio de consumo medido y promedio otorgada por el Gobierno de la Ciudad de México y disponible [en el portal de Datos Abiertos Ciudad de México](https://datos.cdmx.gob.mx/explore/dataset/consumo-agua/information/). \n",
    "\n",
    "Este análisis fue efecutado por el equipo de Ciencia de Datos conformado por:\n",
    "* Carlos Bautista (125761)\n",
    "* Enrique Ortiz (150644)\n",
    "* Mario Heredia (197863)\n",
    "* José Antonio Lechuga (192610)"
   ]
  },
  {
   "cell_type": "markdown",
   "metadata": {},
   "source": [
    "## Contenido"
   ]
  },
  {
   "cell_type": "markdown",
   "metadata": {},
   "source": [
    "En el presente reporte se abordan las siguientes preguntas y actividades:\n",
    "* Exploración inicial\n",
    "    * Generación de código exploratorio\n",
    "    * ¿Cuántas variables existen?\n",
    "    * ¿Cuántas observaciones existen?\n",
    "    * ¿Cuántas observaciones únicas se tienen por variable?\n",
    "    * ¿Cuántas variables numéricas existen?\n",
    "    * ¿Cuántas variables de fecha existen?\n",
    "    * ¿Cuántas variables categóricas existen?\n",
    "    * ¿Cuántas variables de texto hay?\n",
    "    * Generación del profiling de cada variable.\n",
    "    * ¿Qué se conoce hasta ahora de este set de datos por variable?\n",
    "    * ¿Cuántas alcadías hay? ¿Cuántos `nomgeo` existen? ¿Se identifica algún error?\n",
    "* Limpieza y manipulación de datos\n",
    "    * Generación de código de limpieza y manipulación\n",
    "    * Transformación del nombre de las columnas a formato estándar: minúsculas, sin espacios en blanco (cambiar por guiones bajos) y sin signos de puntuación.\n",
    "    * Agregar la variable `latitud` y `longitud` generadas a partir de la columna `geo_point`.\n",
    "    * Transformar la variable latitud y longitud a numérica.\n",
    "    * Eliminar la columna `geo_point`.\n",
    "    * Eliminar la columna `geo_shape`.\n",
    "    * Cambiar a minúsculas las columnas `alcaldia`, `colonia` e `indice_des`.\n",
    "    * Efectuar nuevamente el proceso de identificación de variables numéricas, categóricas, texto y fechas.\n",
    "    * Generación del profiling de cada variable."
   ]
  },
  {
   "cell_type": "markdown",
   "metadata": {},
   "source": [
    "## Exploración inicial"
   ]
  },
  {
   "cell_type": "markdown",
   "metadata": {},
   "source": [
    "### Generación de código exploratorio"
   ]
  },
  {
   "cell_type": "code",
   "execution_count": 1,
   "metadata": {
    "ExecuteTime": {
     "end_time": "2020-09-26T14:48:41.888489Z",
     "start_time": "2020-09-26T14:48:41.878902Z"
    }
   },
   "outputs": [
    {
     "data": {
      "text/plain": [
       "'3.7.4 (default, Sep 21 2020, 23:36:29) \\n[Clang 11.0.0 (clang-1100.0.33.17)]'"
      ]
     },
     "execution_count": 1,
     "metadata": {},
     "output_type": "execute_result"
    }
   ],
   "source": [
    "# verificando versiones\n",
    "import datetime\n",
    "import pandas as pd\n",
    "import seaborn as sns\n",
    "import sys\n",
    "\n",
    "from pandas_profiling import ProfileReport\n",
    "sys.version"
   ]
  },
  {
   "cell_type": "code",
   "execution_count": 2,
   "metadata": {},
   "outputs": [],
   "source": [
    "def numero_variables_observaciones(data):\n",
    "    observaciones, variables = data.shape\n",
    "    print(f\"Tenemos {observaciones} observaciones para {variables} variables.\")\n",
    "    \n",
    "def contar_variables_numericas(data):\n",
    "    # con 'data.dtypes' podemos ver todos los tipos de variables \n",
    "    numeric = [e for e in data.dtypes.values if e == \"float64\" or e == \"int64\"]\n",
    "    print(f\"Tenemos {len(numeric)} variables numéricas.\")\n",
    "    \n",
    "def contar_variables_fecha(data):   \n",
    "    date_variables = [e for e in data.dtypes.values if type(e) is datetime.date]\n",
    "    print(f\"Tenemos {len(date_variables)} variables de fecha.\")\n",
    "    \n",
    "def generar_data_profiling(title, path):\n",
    "    profile = ProfileReport(data, title=title)\n",
    "    profile.to_file(output_file=path)\n",
    "    return profile\n",
    "\n",
    "def numero_valores_unicos(data, column):\n",
    "    if column not in data.columns:\n",
    "        print(\"Nombre de columna invalido\")\n",
    "    else:\n",
    "        return len(data[column].unique())"
   ]
  },
  {
   "cell_type": "code",
   "execution_count": 3,
   "metadata": {},
   "outputs": [],
   "source": [
    "# cambiar a donde se encuentre el archivo csv con los datos requeridos\n",
    "data_path = 'datos/consumo-agua.csv'"
   ]
  },
  {
   "cell_type": "code",
   "execution_count": 4,
   "metadata": {
    "ExecuteTime": {
     "end_time": "2020-09-26T14:48:45.149469Z",
     "start_time": "2020-09-26T14:48:42.594881Z"
    }
   },
   "outputs": [],
   "source": [
    "data = pd.read_csv(data_path)\n",
    "pd.set_option('display.max_columns', 20)\n",
    "pd.set_option('display.max_rows', 20)"
   ]
  },
  {
   "cell_type": "markdown",
   "metadata": {},
   "source": [
    "### ¿Cuántas variables existen? ¿Cuántas observaciones existen?"
   ]
  },
  {
   "cell_type": "code",
   "execution_count": 5,
   "metadata": {
    "ExecuteTime": {
     "end_time": "2020-09-26T14:48:45.199341Z",
     "start_time": "2020-09-26T14:48:45.153638Z"
    }
   },
   "outputs": [
    {
     "name": "stdout",
     "output_type": "stream",
     "text": [
      "Tenemos 71102 observaciones para 17 variables.\n"
     ]
    }
   ],
   "source": [
    "numero_variables_observaciones(data)"
   ]
  },
  {
   "cell_type": "code",
   "execution_count": 6,
   "metadata": {
    "ExecuteTime": {
     "end_time": "2020-09-26T14:48:46.493140Z",
     "start_time": "2020-09-26T14:48:46.463271Z"
    }
   },
   "outputs": [
    {
     "data": {
      "text/html": [
       "<div>\n",
       "<style scoped>\n",
       "    .dataframe tbody tr th:only-of-type {\n",
       "        vertical-align: middle;\n",
       "    }\n",
       "\n",
       "    .dataframe tbody tr th {\n",
       "        vertical-align: top;\n",
       "    }\n",
       "\n",
       "    .dataframe thead th {\n",
       "        text-align: right;\n",
       "    }\n",
       "</style>\n",
       "<table border=\"1\" class=\"dataframe\">\n",
       "  <thead>\n",
       "    <tr style=\"text-align: right;\">\n",
       "      <th></th>\n",
       "      <th>Geo Point</th>\n",
       "      <th>Geo Shape</th>\n",
       "      <th>consumo_total_mixto</th>\n",
       "      <th>anio</th>\n",
       "      <th>nomgeo</th>\n",
       "      <th>consumo_prom_dom</th>\n",
       "      <th>consumo_total_dom</th>\n",
       "      <th>alcaldia</th>\n",
       "      <th>colonia</th>\n",
       "      <th>consumo_prom_mixto</th>\n",
       "      <th>consumo_total</th>\n",
       "      <th>consumo_prom</th>\n",
       "      <th>consumo_prom_no_dom</th>\n",
       "      <th>bimestre</th>\n",
       "      <th>consumo_total_no_dom</th>\n",
       "      <th>gid</th>\n",
       "      <th>indice_des</th>\n",
       "    </tr>\n",
       "  </thead>\n",
       "  <tbody>\n",
       "    <tr>\n",
       "      <th>0</th>\n",
       "      <td>19.4552601937,-99.1126617526</td>\n",
       "      <td>{\"type\": \"MultiPolygon\", \"coordinates\": [[[[-9...</td>\n",
       "      <td>159.72</td>\n",
       "      <td>2019</td>\n",
       "      <td>Gustavo A. Madero</td>\n",
       "      <td>42.566364</td>\n",
       "      <td>468.23</td>\n",
       "      <td>GUSTAVO A. MADERO</td>\n",
       "      <td>7 DE NOVIEMBRE</td>\n",
       "      <td>53.24</td>\n",
       "      <td>631.00</td>\n",
       "      <td>42.066667</td>\n",
       "      <td>3.05</td>\n",
       "      <td>3</td>\n",
       "      <td>3.05</td>\n",
       "      <td>57250</td>\n",
       "      <td>ALTO</td>\n",
       "    </tr>\n",
       "    <tr>\n",
       "      <th>1</th>\n",
       "      <td>19.4552601937,-99.1126617526</td>\n",
       "      <td>{\"type\": \"MultiPolygon\", \"coordinates\": [[[[-9...</td>\n",
       "      <td>0.00</td>\n",
       "      <td>2019</td>\n",
       "      <td>Gustavo A. Madero</td>\n",
       "      <td>35.936667</td>\n",
       "      <td>107.81</td>\n",
       "      <td>GUSTAVO A. MADERO</td>\n",
       "      <td>7 DE NOVIEMBRE</td>\n",
       "      <td>0.00</td>\n",
       "      <td>115.13</td>\n",
       "      <td>28.782500</td>\n",
       "      <td>7.32</td>\n",
       "      <td>3</td>\n",
       "      <td>7.32</td>\n",
       "      <td>57253</td>\n",
       "      <td>MEDIO</td>\n",
       "    </tr>\n",
       "    <tr>\n",
       "      <th>2</th>\n",
       "      <td>19.4557195871,-99.1135822797</td>\n",
       "      <td>{\"type\": \"MultiPolygon\", \"coordinates\": [[[[-9...</td>\n",
       "      <td>0.00</td>\n",
       "      <td>2019</td>\n",
       "      <td>Gustavo A. Madero</td>\n",
       "      <td>24.586000</td>\n",
       "      <td>122.93</td>\n",
       "      <td>GUSTAVO A. MADERO</td>\n",
       "      <td>7 DE NOVIEMBRE</td>\n",
       "      <td>0.00</td>\n",
       "      <td>197.96</td>\n",
       "      <td>32.993333</td>\n",
       "      <td>75.03</td>\n",
       "      <td>3</td>\n",
       "      <td>75.03</td>\n",
       "      <td>57255</td>\n",
       "      <td>POPULAR</td>\n",
       "    </tr>\n",
       "    <tr>\n",
       "      <th>3</th>\n",
       "      <td>19.4596467168,-99.1044693641</td>\n",
       "      <td>{\"type\": \"MultiPolygon\", \"coordinates\": [[[[-9...</td>\n",
       "      <td>0.00</td>\n",
       "      <td>2019</td>\n",
       "      <td>Gustavo A. Madero</td>\n",
       "      <td>0.000000</td>\n",
       "      <td>0.00</td>\n",
       "      <td>GUSTAVO A. MADERO</td>\n",
       "      <td>NUEVA TENOCHTITLAN</td>\n",
       "      <td>0.00</td>\n",
       "      <td>253.53</td>\n",
       "      <td>84.510000</td>\n",
       "      <td>84.51</td>\n",
       "      <td>3</td>\n",
       "      <td>253.53</td>\n",
       "      <td>57267</td>\n",
       "      <td>BAJO</td>\n",
       "    </tr>\n",
       "    <tr>\n",
       "      <th>4</th>\n",
       "      <td>19.4741606185,-99.1467497317</td>\n",
       "      <td>{\"type\": \"MultiPolygon\", \"coordinates\": [[[[-9...</td>\n",
       "      <td>56.72</td>\n",
       "      <td>2019</td>\n",
       "      <td>Azcapotzalco</td>\n",
       "      <td>67.436250</td>\n",
       "      <td>539.49</td>\n",
       "      <td>AZCAPOTZALCO</td>\n",
       "      <td>PROHOGAR</td>\n",
       "      <td>56.72</td>\n",
       "      <td>839.35</td>\n",
       "      <td>76.304545</td>\n",
       "      <td>121.57</td>\n",
       "      <td>3</td>\n",
       "      <td>243.14</td>\n",
       "      <td>57330</td>\n",
       "      <td>BAJO</td>\n",
       "    </tr>\n",
       "  </tbody>\n",
       "</table>\n",
       "</div>"
      ],
      "text/plain": [
       "                      Geo Point  \\\n",
       "0  19.4552601937,-99.1126617526   \n",
       "1  19.4552601937,-99.1126617526   \n",
       "2  19.4557195871,-99.1135822797   \n",
       "3  19.4596467168,-99.1044693641   \n",
       "4  19.4741606185,-99.1467497317   \n",
       "\n",
       "                                           Geo Shape  consumo_total_mixto  \\\n",
       "0  {\"type\": \"MultiPolygon\", \"coordinates\": [[[[-9...               159.72   \n",
       "1  {\"type\": \"MultiPolygon\", \"coordinates\": [[[[-9...                 0.00   \n",
       "2  {\"type\": \"MultiPolygon\", \"coordinates\": [[[[-9...                 0.00   \n",
       "3  {\"type\": \"MultiPolygon\", \"coordinates\": [[[[-9...                 0.00   \n",
       "4  {\"type\": \"MultiPolygon\", \"coordinates\": [[[[-9...                56.72   \n",
       "\n",
       "   anio             nomgeo  consumo_prom_dom  consumo_total_dom  \\\n",
       "0  2019  Gustavo A. Madero         42.566364             468.23   \n",
       "1  2019  Gustavo A. Madero         35.936667             107.81   \n",
       "2  2019  Gustavo A. Madero         24.586000             122.93   \n",
       "3  2019  Gustavo A. Madero          0.000000               0.00   \n",
       "4  2019       Azcapotzalco         67.436250             539.49   \n",
       "\n",
       "            alcaldia             colonia  consumo_prom_mixto  consumo_total  \\\n",
       "0  GUSTAVO A. MADERO      7 DE NOVIEMBRE               53.24         631.00   \n",
       "1  GUSTAVO A. MADERO      7 DE NOVIEMBRE                0.00         115.13   \n",
       "2  GUSTAVO A. MADERO      7 DE NOVIEMBRE                0.00         197.96   \n",
       "3  GUSTAVO A. MADERO  NUEVA TENOCHTITLAN                0.00         253.53   \n",
       "4       AZCAPOTZALCO            PROHOGAR               56.72         839.35   \n",
       "\n",
       "   consumo_prom  consumo_prom_no_dom  bimestre  consumo_total_no_dom    gid  \\\n",
       "0     42.066667                 3.05         3                  3.05  57250   \n",
       "1     28.782500                 7.32         3                  7.32  57253   \n",
       "2     32.993333                75.03         3                 75.03  57255   \n",
       "3     84.510000                84.51         3                253.53  57267   \n",
       "4     76.304545               121.57         3                243.14  57330   \n",
       "\n",
       "  indice_des  \n",
       "0       ALTO  \n",
       "1      MEDIO  \n",
       "2    POPULAR  \n",
       "3       BAJO  \n",
       "4       BAJO  "
      ]
     },
     "execution_count": 6,
     "metadata": {},
     "output_type": "execute_result"
    }
   ],
   "source": [
    "data.head()"
   ]
  },
  {
   "cell_type": "markdown",
   "metadata": {
    "ExecuteTime": {
     "end_time": "2020-09-23T00:10:41.521339Z",
     "start_time": "2020-09-23T00:10:41.247035Z"
    }
   },
   "source": [
    "### ¿Cuántas observaciones únicas se tienen por variables? \n"
   ]
  },
  {
   "cell_type": "code",
   "execution_count": 7,
   "metadata": {
    "ExecuteTime": {
     "end_time": "2020-09-26T14:48:54.740543Z",
     "start_time": "2020-09-26T14:48:54.515951Z"
    }
   },
   "outputs": [
    {
     "data": {
      "text/plain": [
       "Geo Point               22930\n",
       "Geo Shape               22922\n",
       "consumo_total_mixto     24339\n",
       "anio                        1\n",
       "nomgeo                     17\n",
       "consumo_prom_dom        52060\n",
       "consumo_total_dom       47051\n",
       "alcaldia                   16\n",
       "colonia                  1340\n",
       "consumo_prom_mixto      31911\n",
       "consumo_total           56015\n",
       "consumo_prom            62214\n",
       "consumo_prom_no_dom     37440\n",
       "bimestre                    3\n",
       "consumo_total_no_dom    27336\n",
       "gid                     71102\n",
       "indice_des                  4\n",
       "dtype: int64"
      ]
     },
     "execution_count": 7,
     "metadata": {},
     "output_type": "execute_result"
    }
   ],
   "source": [
    "data.nunique()"
   ]
  },
  {
   "cell_type": "markdown",
   "metadata": {
    "ExecuteTime": {
     "end_time": "2020-09-26T14:07:23.736161Z",
     "start_time": "2020-09-26T14:07:23.730022Z"
    }
   },
   "source": [
    "### ¿Cuántas variables numéricas existen? "
   ]
  },
  {
   "cell_type": "code",
   "execution_count": 8,
   "metadata": {
    "ExecuteTime": {
     "end_time": "2020-09-26T14:48:56.318064Z",
     "start_time": "2020-09-26T14:48:56.307448Z"
    }
   },
   "outputs": [
    {
     "data": {
      "text/plain": [
       "Geo Point                object\n",
       "Geo Shape                object\n",
       "consumo_total_mixto     float64\n",
       "anio                      int64\n",
       "nomgeo                   object\n",
       "consumo_prom_dom        float64\n",
       "consumo_total_dom       float64\n",
       "alcaldia                 object\n",
       "colonia                  object\n",
       "consumo_prom_mixto      float64\n",
       "consumo_total           float64\n",
       "consumo_prom            float64\n",
       "consumo_prom_no_dom     float64\n",
       "bimestre                  int64\n",
       "consumo_total_no_dom    float64\n",
       "gid                       int64\n",
       "indice_des               object\n",
       "dtype: object"
      ]
     },
     "execution_count": 8,
     "metadata": {},
     "output_type": "execute_result"
    }
   ],
   "source": [
    "# podemos ver todos los tipos de variables\n",
    "data.dtypes"
   ]
  },
  {
   "cell_type": "code",
   "execution_count": 9,
   "metadata": {
    "ExecuteTime": {
     "end_time": "2020-09-26T14:48:57.130535Z",
     "start_time": "2020-09-26T14:48:57.110401Z"
    }
   },
   "outputs": [
    {
     "name": "stdout",
     "output_type": "stream",
     "text": [
      "Tenemos 11 variables numéricas.\n"
     ]
    }
   ],
   "source": [
    "contar_variables_numericas(data)"
   ]
  },
  {
   "cell_type": "markdown",
   "metadata": {
    "ExecuteTime": {
     "end_time": "2020-09-23T00:14:02.970915Z",
     "start_time": "2020-09-23T00:14:02.959823Z"
    }
   },
   "source": [
    "### ¿Cuántas variables de fecha tenemos? \n",
    "\n",
    "Ninguna. Se puede ver en la impresión de dtypes. La variable `anio` indica el año, pero eso no es suficiente para ser una fecha (no califica como date, time o datetime). "
   ]
  },
  {
   "cell_type": "code",
   "execution_count": 10,
   "metadata": {},
   "outputs": [
    {
     "name": "stdout",
     "output_type": "stream",
     "text": [
      "Tenemos 0 variables de fecha.\n"
     ]
    }
   ],
   "source": [
    "contar_variables_fecha(data)"
   ]
  },
  {
   "cell_type": "markdown",
   "metadata": {},
   "source": [
    "### ¿Cuántas variables categóricas existen? \n",
    "\n",
    "Las siguientes pueden ser consideradas variables categóricas: `nomgeo`, `alcaldia`, `colonia`, e `indice_des`. `bimestre` fue contada como numérica, pero es cierto que puede ser analizada como categórica, al igual que año (dado que solo hay cifras para 2019). Por lo tanto, tenemos entre 4 y 6 variables categóricas, dependiendo de si tomamos a bimestre y año como categórica o no.  "
   ]
  },
  {
   "cell_type": "markdown",
   "metadata": {
    "ExecuteTime": {
     "end_time": "2020-09-26T14:11:24.508617Z",
     "start_time": "2020-09-26T14:11:24.476394Z"
    }
   },
   "source": [
    "### ¿Cuántas variables de texto hay? \n",
    "\n",
    "Aunque `nomgeo`, `alcaldia`, `colonia` e `indice_des` son texto, no contienen como tal texto a analizar (como palabras u oraciones). Diríamos que son categóricas."
   ]
  },
  {
   "cell_type": "markdown",
   "metadata": {},
   "source": [
    "### Generación del profiling de cada variable"
   ]
  },
  {
   "cell_type": "code",
   "execution_count": 11,
   "metadata": {},
   "outputs": [
    {
     "data": {
      "application/vnd.jupyter.widget-view+json": {
       "model_id": "670c192504334d529d4acb054b05ae73",
       "version_major": 2,
       "version_minor": 0
      },
      "text/plain": [
       "HBox(children=(FloatProgress(value=0.0, description='Summarize dataset', max=31.0, style=ProgressStyle(descrip…"
      ]
     },
     "metadata": {},
     "output_type": "display_data"
    },
    {
     "name": "stdout",
     "output_type": "stream",
     "text": [
      "\n"
     ]
    },
    {
     "data": {
      "application/vnd.jupyter.widget-view+json": {
       "model_id": "a74004296d2e4919ab5f2b81cc5c1f12",
       "version_major": 2,
       "version_minor": 0
      },
      "text/plain": [
       "HBox(children=(FloatProgress(value=0.0, description='Generate report structure', max=1.0, style=ProgressStyle(…"
      ]
     },
     "metadata": {},
     "output_type": "display_data"
    },
    {
     "name": "stdout",
     "output_type": "stream",
     "text": [
      "\n"
     ]
    },
    {
     "data": {
      "application/vnd.jupyter.widget-view+json": {
       "model_id": "3b34b8a554b34c2ca1ca6c7a91e78f69",
       "version_major": 2,
       "version_minor": 0
      },
      "text/plain": [
       "HBox(children=(FloatProgress(value=0.0, description='Render HTML', max=1.0, style=ProgressStyle(description_wi…"
      ]
     },
     "metadata": {},
     "output_type": "display_data"
    },
    {
     "name": "stdout",
     "output_type": "stream",
     "text": [
      "\n"
     ]
    },
    {
     "data": {
      "application/vnd.jupyter.widget-view+json": {
       "model_id": "933444dc547f4aa183ba4c5c7a0e831b",
       "version_major": 2,
       "version_minor": 0
      },
      "text/plain": [
       "HBox(children=(FloatProgress(value=0.0, description='Export report to file', max=1.0, style=ProgressStyle(desc…"
      ]
     },
     "metadata": {},
     "output_type": "display_data"
    },
    {
     "name": "stdout",
     "output_type": "stream",
     "text": [
      "\n"
     ]
    }
   ],
   "source": [
    "initial_profile = generar_data_profiling('Profiling inicial de consumo de agua', 'reportes/profiling_inicial.html')"
   ]
  },
  {
   "cell_type": "markdown",
   "metadata": {},
   "source": [
    "### ¿Qué se conoce hasta ahora de este set de datos por variable?"
   ]
  },
  {
   "cell_type": "markdown",
   "metadata": {},
   "source": [
    "* `Geo Point` indica la latitud y longitud de la colonia. \n",
    "* `Geo Shape` es un diccionario con información geográfica. \n",
    "* `nomgeo` y `alcaldia` son equivalentes (e indican el nombre de la alcaldía). Hay 16 distintos. \n",
    "* `colonia` indica el nombre de la colonia.\n",
    "* `anio` indica el año, y solo hay datos para 2019.\n",
    "* `bimestre` indica el bimestre del año, y solo hay datos para el bimestre 1, 2 y 3. "
   ]
  },
  {
   "cell_type": "markdown",
   "metadata": {
    "ExecuteTime": {
     "end_time": "2020-09-26T14:14:39.398975Z",
     "start_time": "2020-09-26T14:14:39.396187Z"
    }
   },
   "source": [
    "### ¿Cuántas alcaldías hay? ¿Cuántos `nomgeo` existen? ¿Se identifica algún error? "
   ]
  },
  {
   "cell_type": "code",
   "execution_count": 12,
   "metadata": {
    "ExecuteTime": {
     "end_time": "2020-09-26T14:49:01.737544Z",
     "start_time": "2020-09-26T14:49:01.709930Z"
    }
   },
   "outputs": [
    {
     "name": "stdout",
     "output_type": "stream",
     "text": [
      "Se tiene 16 alcaldías únicas y 17 nomgeo únicos.\n"
     ]
    }
   ],
   "source": [
    "no_alcaldias = numero_valores_unicos(data, 'alcaldia')\n",
    "no_nomgeo = numero_valores_unicos(data, 'nomgeo')\n",
    "print(f'Se tiene {no_alcaldias} alcaldías únicas y {no_nomgeo} nomgeo únicos.')"
   ]
  },
  {
   "cell_type": "markdown",
   "metadata": {
    "ExecuteTime": {
     "end_time": "2020-09-23T00:21:31.057913Z",
     "start_time": "2020-09-23T00:21:31.029327Z"
    }
   },
   "source": [
    "Sí el error está en la variable nomgeo: se registró \"Talpan\" en vez de \"Tlalpan\". "
   ]
  },
  {
   "cell_type": "code",
   "execution_count": 13,
   "metadata": {
    "ExecuteTime": {
     "end_time": "2020-09-26T14:49:03.005512Z",
     "start_time": "2020-09-26T14:49:02.968747Z"
    }
   },
   "outputs": [
    {
     "data": {
      "text/plain": [
       "['Talpan', 'Tlalpan']"
      ]
     },
     "execution_count": 13,
     "metadata": {},
     "output_type": "execute_result"
    }
   ],
   "source": [
    "[e for e in data.nomgeo.unique() if e.endswith('pan')]"
   ]
  },
  {
   "cell_type": "markdown",
   "metadata": {},
   "source": [
    "## Limpieza y manipulación de datos"
   ]
  },
  {
   "cell_type": "markdown",
   "metadata": {},
   "source": [
    "### Generación de código de limpieza y manipulación"
   ]
  },
  {
   "cell_type": "code",
   "execution_count": 14,
   "metadata": {},
   "outputs": [],
   "source": [
    "def standarize_column_names(data, excluded_punctuation=\".,-*¿?¡!\"):\n",
    "    data.columns = data.columns.str.lower().str.replace(\" \", \"_\")\n",
    "    for ch in excluded_punctuation:\n",
    "        data.columns = data.columns.str.replace(ch, \"\")\n",
    "        \n",
    "        \n",
    "def standarize_column_strings(data, columns, excluded_punctuation=\".,-*¿?¡!\"):\n",
    "    for col in columns:\n",
    "        data[col] = data[col].apply(lambda x: x.lower().replace(\" \", \"_\"))\n",
    "        data[col] = data[col].apply(lambda x: x.lower().replace(\"á\", \"a\"))\n",
    "        data[col] = data[col].apply(lambda x: x.lower().replace(\"é\", \"e\"))\n",
    "        data[col] = data[col].apply(lambda x: x.lower().replace(\"í\", \"i\"))\n",
    "        data[col] = data[col].apply(lambda x: x.lower().replace(\"ó\", \"o\"))\n",
    "        data[col] = data[col].apply(lambda x: x.lower().replace(\"ú\", \"u\"))\n",
    "        data[col] = data[col].apply(lambda x: x.lower().replace(\"ü\", \"u\"))\n",
    "        for ch in excluded_punctuation:\n",
    "            data[col] = data[col].apply(lambda x: x.replace(ch, \"\"))\n",
    "    \n",
    "def replace_column_value(data, column, search_string, replace_string):\n",
    "    data[column] = data[column].apply(lambda x: x.replace(search_string, replace_string))\n",
    "    \n",
    "    \n",
    "def clean_data_from(path):\n",
    "    \"\"\"\n",
    "    Función para realizar todas las transformaciones necesarias requeridas al \n",
    "    dataset del consumo de agua. \n",
    "    \n",
    "    Inputs:\n",
    "    -------\n",
    "    \n",
    "    path: str\n",
    "          El path en tu compu donde está el archivo csv. (\"/Users/etc/etc..\")\n",
    "    \n",
    "    Returns:\n",
    "    --------\n",
    "    \n",
    "    data: pandas dataframe\n",
    "          Un dataframe en el formato correcto\n",
    "    \n",
    "    \"\"\"\n",
    "    #1. cargar la info y arreglar nombres de columnas\n",
    "    data = pd.read_csv(path)\n",
    "    standarize_column_names(data)\n",
    "    \n",
    "    #2. Transformar alcaldia, colonia, indice_des y nomgeo\n",
    "    col_text = [\"alcaldia\", \"colonia\", \"indice_des\", \"nomgeo\"]\n",
    "    standarize_column_strings(data, col_text)\n",
    "    \n",
    "    #3. Agregar latitud y longitud en formato numérico\n",
    "    latitud = [float(e.split(\",\")[0]) for e in data[\"geo_point\"]] \n",
    "    longitud = [float(e.split(\",\")[1]) for e in data[\"geo_point\"]]\n",
    "    data[\"latitud\"] = latitud \n",
    "    data[\"longitud\"] = longitud\n",
    "    \n",
    "    #4. Tirar variables irrelevantes\n",
    "    data.drop(columns = [\"geo_point\", \"geo_shape\"], inplace = True)\n",
    "    \n",
    "    #5. Quitar el error de Talpan\n",
    "    replace_column_value(data, 'nomgeo', 'talpan', 'tlalpan')\n",
    "    \n",
    "    #6. Homologar nombres entre nomgeo y alcaldia\n",
    "    replace_column_value(data, 'nomgeo', 'cuajimalpa_de_morelos', 'cuajimalpa')\n",
    "    replace_column_value(data, 'nomgeo', 'la_magdalena_contreras', 'magdalena_contreras')\n",
    "    \n",
    "    return data"
   ]
  },
  {
   "cell_type": "markdown",
   "metadata": {},
   "source": [
    "### Transformación del nombre de las columnas a formato estándar"
   ]
  },
  {
   "cell_type": "code",
   "execution_count": 15,
   "metadata": {
    "ExecuteTime": {
     "end_time": "2020-09-26T14:50:04.647754Z",
     "start_time": "2020-09-26T14:50:04.573048Z"
    }
   },
   "outputs": [
    {
     "data": {
      "text/html": [
       "<div>\n",
       "<style scoped>\n",
       "    .dataframe tbody tr th:only-of-type {\n",
       "        vertical-align: middle;\n",
       "    }\n",
       "\n",
       "    .dataframe tbody tr th {\n",
       "        vertical-align: top;\n",
       "    }\n",
       "\n",
       "    .dataframe thead th {\n",
       "        text-align: right;\n",
       "    }\n",
       "</style>\n",
       "<table border=\"1\" class=\"dataframe\">\n",
       "  <thead>\n",
       "    <tr style=\"text-align: right;\">\n",
       "      <th></th>\n",
       "      <th>geo_point</th>\n",
       "      <th>geo_shape</th>\n",
       "      <th>consumo_total_mixto</th>\n",
       "      <th>anio</th>\n",
       "      <th>nomgeo</th>\n",
       "      <th>consumo_prom_dom</th>\n",
       "      <th>consumo_total_dom</th>\n",
       "      <th>alcaldia</th>\n",
       "      <th>colonia</th>\n",
       "      <th>consumo_prom_mixto</th>\n",
       "      <th>consumo_total</th>\n",
       "      <th>consumo_prom</th>\n",
       "      <th>consumo_prom_no_dom</th>\n",
       "      <th>bimestre</th>\n",
       "      <th>consumo_total_no_dom</th>\n",
       "      <th>gid</th>\n",
       "      <th>indice_des</th>\n",
       "    </tr>\n",
       "  </thead>\n",
       "  <tbody>\n",
       "    <tr>\n",
       "      <th>0</th>\n",
       "      <td>19.4552601937,-99.1126617526</td>\n",
       "      <td>{\"type\": \"MultiPolygon\", \"coordinates\": [[[[-9...</td>\n",
       "      <td>159.72</td>\n",
       "      <td>2019</td>\n",
       "      <td>Gustavo A. Madero</td>\n",
       "      <td>42.566364</td>\n",
       "      <td>468.23</td>\n",
       "      <td>GUSTAVO A. MADERO</td>\n",
       "      <td>7 DE NOVIEMBRE</td>\n",
       "      <td>53.24</td>\n",
       "      <td>631.00</td>\n",
       "      <td>42.066667</td>\n",
       "      <td>3.05</td>\n",
       "      <td>3</td>\n",
       "      <td>3.05</td>\n",
       "      <td>57250</td>\n",
       "      <td>ALTO</td>\n",
       "    </tr>\n",
       "    <tr>\n",
       "      <th>1</th>\n",
       "      <td>19.4552601937,-99.1126617526</td>\n",
       "      <td>{\"type\": \"MultiPolygon\", \"coordinates\": [[[[-9...</td>\n",
       "      <td>0.00</td>\n",
       "      <td>2019</td>\n",
       "      <td>Gustavo A. Madero</td>\n",
       "      <td>35.936667</td>\n",
       "      <td>107.81</td>\n",
       "      <td>GUSTAVO A. MADERO</td>\n",
       "      <td>7 DE NOVIEMBRE</td>\n",
       "      <td>0.00</td>\n",
       "      <td>115.13</td>\n",
       "      <td>28.782500</td>\n",
       "      <td>7.32</td>\n",
       "      <td>3</td>\n",
       "      <td>7.32</td>\n",
       "      <td>57253</td>\n",
       "      <td>MEDIO</td>\n",
       "    </tr>\n",
       "    <tr>\n",
       "      <th>2</th>\n",
       "      <td>19.4557195871,-99.1135822797</td>\n",
       "      <td>{\"type\": \"MultiPolygon\", \"coordinates\": [[[[-9...</td>\n",
       "      <td>0.00</td>\n",
       "      <td>2019</td>\n",
       "      <td>Gustavo A. Madero</td>\n",
       "      <td>24.586000</td>\n",
       "      <td>122.93</td>\n",
       "      <td>GUSTAVO A. MADERO</td>\n",
       "      <td>7 DE NOVIEMBRE</td>\n",
       "      <td>0.00</td>\n",
       "      <td>197.96</td>\n",
       "      <td>32.993333</td>\n",
       "      <td>75.03</td>\n",
       "      <td>3</td>\n",
       "      <td>75.03</td>\n",
       "      <td>57255</td>\n",
       "      <td>POPULAR</td>\n",
       "    </tr>\n",
       "    <tr>\n",
       "      <th>3</th>\n",
       "      <td>19.4596467168,-99.1044693641</td>\n",
       "      <td>{\"type\": \"MultiPolygon\", \"coordinates\": [[[[-9...</td>\n",
       "      <td>0.00</td>\n",
       "      <td>2019</td>\n",
       "      <td>Gustavo A. Madero</td>\n",
       "      <td>0.000000</td>\n",
       "      <td>0.00</td>\n",
       "      <td>GUSTAVO A. MADERO</td>\n",
       "      <td>NUEVA TENOCHTITLAN</td>\n",
       "      <td>0.00</td>\n",
       "      <td>253.53</td>\n",
       "      <td>84.510000</td>\n",
       "      <td>84.51</td>\n",
       "      <td>3</td>\n",
       "      <td>253.53</td>\n",
       "      <td>57267</td>\n",
       "      <td>BAJO</td>\n",
       "    </tr>\n",
       "    <tr>\n",
       "      <th>4</th>\n",
       "      <td>19.4741606185,-99.1467497317</td>\n",
       "      <td>{\"type\": \"MultiPolygon\", \"coordinates\": [[[[-9...</td>\n",
       "      <td>56.72</td>\n",
       "      <td>2019</td>\n",
       "      <td>Azcapotzalco</td>\n",
       "      <td>67.436250</td>\n",
       "      <td>539.49</td>\n",
       "      <td>AZCAPOTZALCO</td>\n",
       "      <td>PROHOGAR</td>\n",
       "      <td>56.72</td>\n",
       "      <td>839.35</td>\n",
       "      <td>76.304545</td>\n",
       "      <td>121.57</td>\n",
       "      <td>3</td>\n",
       "      <td>243.14</td>\n",
       "      <td>57330</td>\n",
       "      <td>BAJO</td>\n",
       "    </tr>\n",
       "  </tbody>\n",
       "</table>\n",
       "</div>"
      ],
      "text/plain": [
       "                      geo_point  \\\n",
       "0  19.4552601937,-99.1126617526   \n",
       "1  19.4552601937,-99.1126617526   \n",
       "2  19.4557195871,-99.1135822797   \n",
       "3  19.4596467168,-99.1044693641   \n",
       "4  19.4741606185,-99.1467497317   \n",
       "\n",
       "                                           geo_shape  consumo_total_mixto  \\\n",
       "0  {\"type\": \"MultiPolygon\", \"coordinates\": [[[[-9...               159.72   \n",
       "1  {\"type\": \"MultiPolygon\", \"coordinates\": [[[[-9...                 0.00   \n",
       "2  {\"type\": \"MultiPolygon\", \"coordinates\": [[[[-9...                 0.00   \n",
       "3  {\"type\": \"MultiPolygon\", \"coordinates\": [[[[-9...                 0.00   \n",
       "4  {\"type\": \"MultiPolygon\", \"coordinates\": [[[[-9...                56.72   \n",
       "\n",
       "   anio             nomgeo  consumo_prom_dom  consumo_total_dom  \\\n",
       "0  2019  Gustavo A. Madero         42.566364             468.23   \n",
       "1  2019  Gustavo A. Madero         35.936667             107.81   \n",
       "2  2019  Gustavo A. Madero         24.586000             122.93   \n",
       "3  2019  Gustavo A. Madero          0.000000               0.00   \n",
       "4  2019       Azcapotzalco         67.436250             539.49   \n",
       "\n",
       "            alcaldia             colonia  consumo_prom_mixto  consumo_total  \\\n",
       "0  GUSTAVO A. MADERO      7 DE NOVIEMBRE               53.24         631.00   \n",
       "1  GUSTAVO A. MADERO      7 DE NOVIEMBRE                0.00         115.13   \n",
       "2  GUSTAVO A. MADERO      7 DE NOVIEMBRE                0.00         197.96   \n",
       "3  GUSTAVO A. MADERO  NUEVA TENOCHTITLAN                0.00         253.53   \n",
       "4       AZCAPOTZALCO            PROHOGAR               56.72         839.35   \n",
       "\n",
       "   consumo_prom  consumo_prom_no_dom  bimestre  consumo_total_no_dom    gid  \\\n",
       "0     42.066667                 3.05         3                  3.05  57250   \n",
       "1     28.782500                 7.32         3                  7.32  57253   \n",
       "2     32.993333                75.03         3                 75.03  57255   \n",
       "3     84.510000                84.51         3                253.53  57267   \n",
       "4     76.304545               121.57         3                243.14  57330   \n",
       "\n",
       "  indice_des  \n",
       "0       ALTO  \n",
       "1      MEDIO  \n",
       "2    POPULAR  \n",
       "3       BAJO  \n",
       "4       BAJO  "
      ]
     },
     "execution_count": 15,
     "metadata": {},
     "output_type": "execute_result"
    }
   ],
   "source": [
    "standarize_column_names(data)\n",
    "data.head()"
   ]
  },
  {
   "cell_type": "markdown",
   "metadata": {},
   "source": [
    "### Agregar la variable latitud y longitud generadas a partir de `geopoint`. Transformar la variable latitud y longitud a numérica."
   ]
  },
  {
   "cell_type": "code",
   "execution_count": 16,
   "metadata": {
    "ExecuteTime": {
     "end_time": "2020-09-26T14:26:22.124185Z",
     "start_time": "2020-09-26T14:26:21.987530Z"
    }
   },
   "outputs": [
    {
     "data": {
      "text/plain": [
       "geo_point                object\n",
       "geo_shape                object\n",
       "consumo_total_mixto     float64\n",
       "anio                      int64\n",
       "nomgeo                   object\n",
       "consumo_prom_dom        float64\n",
       "consumo_total_dom       float64\n",
       "alcaldia                 object\n",
       "colonia                  object\n",
       "consumo_prom_mixto      float64\n",
       "consumo_total           float64\n",
       "consumo_prom            float64\n",
       "consumo_prom_no_dom     float64\n",
       "bimestre                  int64\n",
       "consumo_total_no_dom    float64\n",
       "gid                       int64\n",
       "indice_des               object\n",
       "latitud                 float64\n",
       "longitud                float64\n",
       "dtype: object"
      ]
     },
     "execution_count": 16,
     "metadata": {},
     "output_type": "execute_result"
    }
   ],
   "source": [
    "# sin lo de \"float\" lo toma como \"object\"\n",
    "latitud = [float(e.split(\",\")[0]) for e in data[\"geo_point\"]] \n",
    "longitud = [float(e.split(\",\")[1]) for e in data[\"geo_point\"]]\n",
    " \n",
    "data[\"latitud\"] = latitud \n",
    "data[\"longitud\"] = longitud\n",
    "\n",
    "data.dtypes"
   ]
  },
  {
   "cell_type": "markdown",
   "metadata": {},
   "source": [
    "### Eliminar la columna `geo_point` y `geo_shape`"
   ]
  },
  {
   "cell_type": "code",
   "execution_count": 17,
   "metadata": {
    "ExecuteTime": {
     "end_time": "2020-09-26T14:26:57.332954Z",
     "start_time": "2020-09-26T14:26:57.273171Z"
    }
   },
   "outputs": [
    {
     "data": {
      "text/html": [
       "<div>\n",
       "<style scoped>\n",
       "    .dataframe tbody tr th:only-of-type {\n",
       "        vertical-align: middle;\n",
       "    }\n",
       "\n",
       "    .dataframe tbody tr th {\n",
       "        vertical-align: top;\n",
       "    }\n",
       "\n",
       "    .dataframe thead th {\n",
       "        text-align: right;\n",
       "    }\n",
       "</style>\n",
       "<table border=\"1\" class=\"dataframe\">\n",
       "  <thead>\n",
       "    <tr style=\"text-align: right;\">\n",
       "      <th></th>\n",
       "      <th>consumo_total_mixto</th>\n",
       "      <th>anio</th>\n",
       "      <th>nomgeo</th>\n",
       "      <th>consumo_prom_dom</th>\n",
       "      <th>consumo_total_dom</th>\n",
       "      <th>alcaldia</th>\n",
       "      <th>colonia</th>\n",
       "      <th>consumo_prom_mixto</th>\n",
       "      <th>consumo_total</th>\n",
       "      <th>consumo_prom</th>\n",
       "      <th>consumo_prom_no_dom</th>\n",
       "      <th>bimestre</th>\n",
       "      <th>consumo_total_no_dom</th>\n",
       "      <th>gid</th>\n",
       "      <th>indice_des</th>\n",
       "      <th>latitud</th>\n",
       "      <th>longitud</th>\n",
       "    </tr>\n",
       "  </thead>\n",
       "  <tbody>\n",
       "    <tr>\n",
       "      <th>0</th>\n",
       "      <td>159.72</td>\n",
       "      <td>2019</td>\n",
       "      <td>Gustavo A. Madero</td>\n",
       "      <td>42.566364</td>\n",
       "      <td>468.23</td>\n",
       "      <td>GUSTAVO A. MADERO</td>\n",
       "      <td>7 DE NOVIEMBRE</td>\n",
       "      <td>53.24</td>\n",
       "      <td>631.00</td>\n",
       "      <td>42.066667</td>\n",
       "      <td>3.05</td>\n",
       "      <td>3</td>\n",
       "      <td>3.05</td>\n",
       "      <td>57250</td>\n",
       "      <td>ALTO</td>\n",
       "      <td>19.455260</td>\n",
       "      <td>-99.112662</td>\n",
       "    </tr>\n",
       "    <tr>\n",
       "      <th>1</th>\n",
       "      <td>0.00</td>\n",
       "      <td>2019</td>\n",
       "      <td>Gustavo A. Madero</td>\n",
       "      <td>35.936667</td>\n",
       "      <td>107.81</td>\n",
       "      <td>GUSTAVO A. MADERO</td>\n",
       "      <td>7 DE NOVIEMBRE</td>\n",
       "      <td>0.00</td>\n",
       "      <td>115.13</td>\n",
       "      <td>28.782500</td>\n",
       "      <td>7.32</td>\n",
       "      <td>3</td>\n",
       "      <td>7.32</td>\n",
       "      <td>57253</td>\n",
       "      <td>MEDIO</td>\n",
       "      <td>19.455260</td>\n",
       "      <td>-99.112662</td>\n",
       "    </tr>\n",
       "    <tr>\n",
       "      <th>2</th>\n",
       "      <td>0.00</td>\n",
       "      <td>2019</td>\n",
       "      <td>Gustavo A. Madero</td>\n",
       "      <td>24.586000</td>\n",
       "      <td>122.93</td>\n",
       "      <td>GUSTAVO A. MADERO</td>\n",
       "      <td>7 DE NOVIEMBRE</td>\n",
       "      <td>0.00</td>\n",
       "      <td>197.96</td>\n",
       "      <td>32.993333</td>\n",
       "      <td>75.03</td>\n",
       "      <td>3</td>\n",
       "      <td>75.03</td>\n",
       "      <td>57255</td>\n",
       "      <td>POPULAR</td>\n",
       "      <td>19.455720</td>\n",
       "      <td>-99.113582</td>\n",
       "    </tr>\n",
       "    <tr>\n",
       "      <th>3</th>\n",
       "      <td>0.00</td>\n",
       "      <td>2019</td>\n",
       "      <td>Gustavo A. Madero</td>\n",
       "      <td>0.000000</td>\n",
       "      <td>0.00</td>\n",
       "      <td>GUSTAVO A. MADERO</td>\n",
       "      <td>NUEVA TENOCHTITLAN</td>\n",
       "      <td>0.00</td>\n",
       "      <td>253.53</td>\n",
       "      <td>84.510000</td>\n",
       "      <td>84.51</td>\n",
       "      <td>3</td>\n",
       "      <td>253.53</td>\n",
       "      <td>57267</td>\n",
       "      <td>BAJO</td>\n",
       "      <td>19.459647</td>\n",
       "      <td>-99.104469</td>\n",
       "    </tr>\n",
       "    <tr>\n",
       "      <th>4</th>\n",
       "      <td>56.72</td>\n",
       "      <td>2019</td>\n",
       "      <td>Azcapotzalco</td>\n",
       "      <td>67.436250</td>\n",
       "      <td>539.49</td>\n",
       "      <td>AZCAPOTZALCO</td>\n",
       "      <td>PROHOGAR</td>\n",
       "      <td>56.72</td>\n",
       "      <td>839.35</td>\n",
       "      <td>76.304545</td>\n",
       "      <td>121.57</td>\n",
       "      <td>3</td>\n",
       "      <td>243.14</td>\n",
       "      <td>57330</td>\n",
       "      <td>BAJO</td>\n",
       "      <td>19.474161</td>\n",
       "      <td>-99.146750</td>\n",
       "    </tr>\n",
       "  </tbody>\n",
       "</table>\n",
       "</div>"
      ],
      "text/plain": [
       "   consumo_total_mixto  anio             nomgeo  consumo_prom_dom  \\\n",
       "0               159.72  2019  Gustavo A. Madero         42.566364   \n",
       "1                 0.00  2019  Gustavo A. Madero         35.936667   \n",
       "2                 0.00  2019  Gustavo A. Madero         24.586000   \n",
       "3                 0.00  2019  Gustavo A. Madero          0.000000   \n",
       "4                56.72  2019       Azcapotzalco         67.436250   \n",
       "\n",
       "   consumo_total_dom           alcaldia             colonia  \\\n",
       "0             468.23  GUSTAVO A. MADERO      7 DE NOVIEMBRE   \n",
       "1             107.81  GUSTAVO A. MADERO      7 DE NOVIEMBRE   \n",
       "2             122.93  GUSTAVO A. MADERO      7 DE NOVIEMBRE   \n",
       "3               0.00  GUSTAVO A. MADERO  NUEVA TENOCHTITLAN   \n",
       "4             539.49       AZCAPOTZALCO            PROHOGAR   \n",
       "\n",
       "   consumo_prom_mixto  consumo_total  consumo_prom  consumo_prom_no_dom  \\\n",
       "0               53.24         631.00     42.066667                 3.05   \n",
       "1                0.00         115.13     28.782500                 7.32   \n",
       "2                0.00         197.96     32.993333                75.03   \n",
       "3                0.00         253.53     84.510000                84.51   \n",
       "4               56.72         839.35     76.304545               121.57   \n",
       "\n",
       "   bimestre  consumo_total_no_dom    gid indice_des    latitud   longitud  \n",
       "0         3                  3.05  57250       ALTO  19.455260 -99.112662  \n",
       "1         3                  7.32  57253      MEDIO  19.455260 -99.112662  \n",
       "2         3                 75.03  57255    POPULAR  19.455720 -99.113582  \n",
       "3         3                253.53  57267       BAJO  19.459647 -99.104469  \n",
       "4         3                243.14  57330       BAJO  19.474161 -99.146750  "
      ]
     },
     "execution_count": 17,
     "metadata": {},
     "output_type": "execute_result"
    }
   ],
   "source": [
    "data.drop(columns = [\"geo_point\", \"geo_shape\"], inplace = True)\n",
    "data.head()"
   ]
  },
  {
   "cell_type": "markdown",
   "metadata": {},
   "source": [
    "### Cambiar a minúsculas las columnas alcaldía, colonia e indice_des."
   ]
  },
  {
   "cell_type": "code",
   "execution_count": 18,
   "metadata": {
    "ExecuteTime": {
     "end_time": "2020-09-26T14:52:25.811640Z",
     "start_time": "2020-09-26T14:52:25.641502Z"
    }
   },
   "outputs": [
    {
     "data": {
      "text/html": [
       "<div>\n",
       "<style scoped>\n",
       "    .dataframe tbody tr th:only-of-type {\n",
       "        vertical-align: middle;\n",
       "    }\n",
       "\n",
       "    .dataframe tbody tr th {\n",
       "        vertical-align: top;\n",
       "    }\n",
       "\n",
       "    .dataframe thead th {\n",
       "        text-align: right;\n",
       "    }\n",
       "</style>\n",
       "<table border=\"1\" class=\"dataframe\">\n",
       "  <thead>\n",
       "    <tr style=\"text-align: right;\">\n",
       "      <th></th>\n",
       "      <th>consumo_total_mixto</th>\n",
       "      <th>anio</th>\n",
       "      <th>nomgeo</th>\n",
       "      <th>consumo_prom_dom</th>\n",
       "      <th>consumo_total_dom</th>\n",
       "      <th>alcaldia</th>\n",
       "      <th>colonia</th>\n",
       "      <th>consumo_prom_mixto</th>\n",
       "      <th>consumo_total</th>\n",
       "      <th>consumo_prom</th>\n",
       "      <th>consumo_prom_no_dom</th>\n",
       "      <th>bimestre</th>\n",
       "      <th>consumo_total_no_dom</th>\n",
       "      <th>gid</th>\n",
       "      <th>indice_des</th>\n",
       "      <th>latitud</th>\n",
       "      <th>longitud</th>\n",
       "    </tr>\n",
       "  </thead>\n",
       "  <tbody>\n",
       "    <tr>\n",
       "      <th>0</th>\n",
       "      <td>159.72</td>\n",
       "      <td>2019</td>\n",
       "      <td>Gustavo A. Madero</td>\n",
       "      <td>42.566364</td>\n",
       "      <td>468.23</td>\n",
       "      <td>gustavo_a_madero</td>\n",
       "      <td>7_de_noviembre</td>\n",
       "      <td>53.24</td>\n",
       "      <td>631.00</td>\n",
       "      <td>42.066667</td>\n",
       "      <td>3.05</td>\n",
       "      <td>3</td>\n",
       "      <td>3.05</td>\n",
       "      <td>57250</td>\n",
       "      <td>alto</td>\n",
       "      <td>19.455260</td>\n",
       "      <td>-99.112662</td>\n",
       "    </tr>\n",
       "    <tr>\n",
       "      <th>1</th>\n",
       "      <td>0.00</td>\n",
       "      <td>2019</td>\n",
       "      <td>Gustavo A. Madero</td>\n",
       "      <td>35.936667</td>\n",
       "      <td>107.81</td>\n",
       "      <td>gustavo_a_madero</td>\n",
       "      <td>7_de_noviembre</td>\n",
       "      <td>0.00</td>\n",
       "      <td>115.13</td>\n",
       "      <td>28.782500</td>\n",
       "      <td>7.32</td>\n",
       "      <td>3</td>\n",
       "      <td>7.32</td>\n",
       "      <td>57253</td>\n",
       "      <td>medio</td>\n",
       "      <td>19.455260</td>\n",
       "      <td>-99.112662</td>\n",
       "    </tr>\n",
       "    <tr>\n",
       "      <th>2</th>\n",
       "      <td>0.00</td>\n",
       "      <td>2019</td>\n",
       "      <td>Gustavo A. Madero</td>\n",
       "      <td>24.586000</td>\n",
       "      <td>122.93</td>\n",
       "      <td>gustavo_a_madero</td>\n",
       "      <td>7_de_noviembre</td>\n",
       "      <td>0.00</td>\n",
       "      <td>197.96</td>\n",
       "      <td>32.993333</td>\n",
       "      <td>75.03</td>\n",
       "      <td>3</td>\n",
       "      <td>75.03</td>\n",
       "      <td>57255</td>\n",
       "      <td>popular</td>\n",
       "      <td>19.455720</td>\n",
       "      <td>-99.113582</td>\n",
       "    </tr>\n",
       "    <tr>\n",
       "      <th>3</th>\n",
       "      <td>0.00</td>\n",
       "      <td>2019</td>\n",
       "      <td>Gustavo A. Madero</td>\n",
       "      <td>0.000000</td>\n",
       "      <td>0.00</td>\n",
       "      <td>gustavo_a_madero</td>\n",
       "      <td>nueva_tenochtitlan</td>\n",
       "      <td>0.00</td>\n",
       "      <td>253.53</td>\n",
       "      <td>84.510000</td>\n",
       "      <td>84.51</td>\n",
       "      <td>3</td>\n",
       "      <td>253.53</td>\n",
       "      <td>57267</td>\n",
       "      <td>bajo</td>\n",
       "      <td>19.459647</td>\n",
       "      <td>-99.104469</td>\n",
       "    </tr>\n",
       "    <tr>\n",
       "      <th>4</th>\n",
       "      <td>56.72</td>\n",
       "      <td>2019</td>\n",
       "      <td>Azcapotzalco</td>\n",
       "      <td>67.436250</td>\n",
       "      <td>539.49</td>\n",
       "      <td>azcapotzalco</td>\n",
       "      <td>prohogar</td>\n",
       "      <td>56.72</td>\n",
       "      <td>839.35</td>\n",
       "      <td>76.304545</td>\n",
       "      <td>121.57</td>\n",
       "      <td>3</td>\n",
       "      <td>243.14</td>\n",
       "      <td>57330</td>\n",
       "      <td>bajo</td>\n",
       "      <td>19.474161</td>\n",
       "      <td>-99.146750</td>\n",
       "    </tr>\n",
       "  </tbody>\n",
       "</table>\n",
       "</div>"
      ],
      "text/plain": [
       "   consumo_total_mixto  anio             nomgeo  consumo_prom_dom  \\\n",
       "0               159.72  2019  Gustavo A. Madero         42.566364   \n",
       "1                 0.00  2019  Gustavo A. Madero         35.936667   \n",
       "2                 0.00  2019  Gustavo A. Madero         24.586000   \n",
       "3                 0.00  2019  Gustavo A. Madero          0.000000   \n",
       "4                56.72  2019       Azcapotzalco         67.436250   \n",
       "\n",
       "   consumo_total_dom          alcaldia             colonia  \\\n",
       "0             468.23  gustavo_a_madero      7_de_noviembre   \n",
       "1             107.81  gustavo_a_madero      7_de_noviembre   \n",
       "2             122.93  gustavo_a_madero      7_de_noviembre   \n",
       "3               0.00  gustavo_a_madero  nueva_tenochtitlan   \n",
       "4             539.49      azcapotzalco            prohogar   \n",
       "\n",
       "   consumo_prom_mixto  consumo_total  consumo_prom  consumo_prom_no_dom  \\\n",
       "0               53.24         631.00     42.066667                 3.05   \n",
       "1                0.00         115.13     28.782500                 7.32   \n",
       "2                0.00         197.96     32.993333                75.03   \n",
       "3                0.00         253.53     84.510000                84.51   \n",
       "4               56.72         839.35     76.304545               121.57   \n",
       "\n",
       "   bimestre  consumo_total_no_dom    gid indice_des    latitud   longitud  \n",
       "0         3                  3.05  57250       alto  19.455260 -99.112662  \n",
       "1         3                  7.32  57253      medio  19.455260 -99.112662  \n",
       "2         3                 75.03  57255    popular  19.455720 -99.113582  \n",
       "3         3                253.53  57267       bajo  19.459647 -99.104469  \n",
       "4         3                243.14  57330       bajo  19.474161 -99.146750  "
      ]
     },
     "execution_count": 18,
     "metadata": {},
     "output_type": "execute_result"
    }
   ],
   "source": [
    "col_text = [\"alcaldia\", \"colonia\", \"indice_des\"]\n",
    "standarize_column_strings(data, col_text)\n",
    "data.head()"
   ]
  },
  {
   "cell_type": "markdown",
   "metadata": {},
   "source": [
    "### Efectuar nuevamente el proceso de identificación de variables numéricas, categóricas, texto y fechas\n",
    "\n",
    "* **Variables numéricas:** \n",
    "    * `consumo_total_mixto`\n",
    "    * `anio` (de nuevo, que puede ser contada como categórica)\n",
    "    * `consumo_promo_dom`\n",
    "    * `consumo_total_dom`\n",
    "    * `consumo_prom_mixto`\n",
    "    * `consumo_total`\n",
    "    * `consumo_prom`\n",
    "    * `consumo_prom_no_dom`\n",
    "    * `consumo_total_no_dom`\n",
    "    * `gid`\n",
    "    * `bimestre` (una vez mas) puede ser o no contada como numérica\n",
    "\n",
    "* **Variables de fecha:** ninguna. \n",
    "\n",
    "* **Variables de texto:** \n",
    "    * `latitud` y `longitud` son texto para pandas, aunque en realidad son coordenadas\n",
    "    * No hay variables que contengan texto a analizar\n",
    "\n",
    "* **Variables categóricas:** \n",
    "    * `nomgeo`\n",
    "    * `alcaldia`\n",
    "    * `colonia`\n",
    "    * `indices_des`\n",
    "    * `bimestre`"
   ]
  },
  {
   "cell_type": "code",
   "execution_count": 19,
   "metadata": {},
   "outputs": [
    {
     "name": "stdout",
     "output_type": "stream",
     "text": [
      "Tenemos 13 variables numéricas.\n",
      "Tenemos 0 variables de fecha.\n"
     ]
    }
   ],
   "source": [
    "contar_variables_numericas(data)\n",
    "contar_variables_fecha(data)"
   ]
  },
  {
   "cell_type": "code",
   "execution_count": 20,
   "metadata": {},
   "outputs": [
    {
     "data": {
      "text/plain": [
       "array(['Gustavo A. Madero', 'Azcapotzalco', 'Coyoacán', 'Tlalpan',\n",
       "       'Milpa Alta', 'Álvaro Obregón', 'Cuajimalpa de Morelos', 'Tláhuac',\n",
       "       'La Magdalena Contreras', 'Xochimilco', 'Iztapalapa', 'Iztacalco',\n",
       "       'Benito Juárez', 'Miguel Hidalgo', 'Cuauhtémoc',\n",
       "       'Venustiano Carranza'], dtype=object)"
      ]
     },
     "execution_count": 20,
     "metadata": {},
     "output_type": "execute_result"
    }
   ],
   "source": [
    "replace_column_value(data, 'nomgeo', 'Talpan', 'Tlalpan')\n",
    "data.nomgeo.unique()"
   ]
  },
  {
   "cell_type": "code",
   "execution_count": 21,
   "metadata": {},
   "outputs": [
    {
     "data": {
      "text/plain": [
       "16"
      ]
     },
     "execution_count": 21,
     "metadata": {},
     "output_type": "execute_result"
    }
   ],
   "source": [
    "data.nomgeo.nunique()"
   ]
  },
  {
   "cell_type": "markdown",
   "metadata": {},
   "source": [
    "### Genera el data profiling por variable. "
   ]
  },
  {
   "cell_type": "code",
   "execution_count": 22,
   "metadata": {},
   "outputs": [
    {
     "data": {
      "application/vnd.jupyter.widget-view+json": {
       "model_id": "5d36dcea6ac04a9a82e1c9d9788085a8",
       "version_major": 2,
       "version_minor": 0
      },
      "text/plain": [
       "HBox(children=(FloatProgress(value=0.0, description='Summarize dataset', max=31.0, style=ProgressStyle(descrip…"
      ]
     },
     "metadata": {},
     "output_type": "display_data"
    },
    {
     "name": "stdout",
     "output_type": "stream",
     "text": [
      "\n"
     ]
    },
    {
     "data": {
      "application/vnd.jupyter.widget-view+json": {
       "model_id": "03e01bf978394ba4bf5ae8fcfe21b017",
       "version_major": 2,
       "version_minor": 0
      },
      "text/plain": [
       "HBox(children=(FloatProgress(value=0.0, description='Generate report structure', max=1.0, style=ProgressStyle(…"
      ]
     },
     "metadata": {},
     "output_type": "display_data"
    },
    {
     "name": "stdout",
     "output_type": "stream",
     "text": [
      "\n"
     ]
    },
    {
     "data": {
      "application/vnd.jupyter.widget-view+json": {
       "model_id": "48f0a46e42304c79b7f6bb59146e7ee1",
       "version_major": 2,
       "version_minor": 0
      },
      "text/plain": [
       "HBox(children=(FloatProgress(value=0.0, description='Render HTML', max=1.0, style=ProgressStyle(description_wi…"
      ]
     },
     "metadata": {},
     "output_type": "display_data"
    },
    {
     "name": "stdout",
     "output_type": "stream",
     "text": [
      "\n"
     ]
    },
    {
     "data": {
      "application/vnd.jupyter.widget-view+json": {
       "model_id": "cfe40c11bfa64c0dad17f668dccee13a",
       "version_major": 2,
       "version_minor": 0
      },
      "text/plain": [
       "HBox(children=(FloatProgress(value=0.0, description='Export report to file', max=1.0, style=ProgressStyle(desc…"
      ]
     },
     "metadata": {},
     "output_type": "display_data"
    },
    {
     "name": "stdout",
     "output_type": "stream",
     "text": [
      "\n"
     ]
    }
   ],
   "source": [
    "final_profile = generar_data_profiling('Profiling final de consumo de agua', 'reportes/profiling_final.html')"
   ]
  },
  {
   "cell_type": "code",
   "execution_count": 23,
   "metadata": {
    "scrolled": true
   },
   "outputs": [
    {
     "data": {
      "text/html": [
       "<div>\n",
       "<style scoped>\n",
       "    .dataframe tbody tr th:only-of-type {\n",
       "        vertical-align: middle;\n",
       "    }\n",
       "\n",
       "    .dataframe tbody tr th {\n",
       "        vertical-align: top;\n",
       "    }\n",
       "\n",
       "    .dataframe thead th {\n",
       "        text-align: right;\n",
       "    }\n",
       "</style>\n",
       "<table border=\"1\" class=\"dataframe\">\n",
       "  <thead>\n",
       "    <tr style=\"text-align: right;\">\n",
       "      <th></th>\n",
       "      <th>consumo_total_mixto</th>\n",
       "      <th>anio</th>\n",
       "      <th>nomgeo</th>\n",
       "      <th>consumo_prom_dom</th>\n",
       "      <th>consumo_total_dom</th>\n",
       "      <th>alcaldia</th>\n",
       "      <th>colonia</th>\n",
       "      <th>consumo_prom_mixto</th>\n",
       "      <th>consumo_total</th>\n",
       "      <th>consumo_prom</th>\n",
       "      <th>consumo_prom_no_dom</th>\n",
       "      <th>bimestre</th>\n",
       "      <th>consumo_total_no_dom</th>\n",
       "      <th>gid</th>\n",
       "      <th>indice_des</th>\n",
       "      <th>latitud</th>\n",
       "      <th>longitud</th>\n",
       "    </tr>\n",
       "  </thead>\n",
       "  <tbody>\n",
       "    <tr>\n",
       "      <th>0</th>\n",
       "      <td>159.72</td>\n",
       "      <td>2019</td>\n",
       "      <td>gustavo_a_madero</td>\n",
       "      <td>42.566364</td>\n",
       "      <td>468.23</td>\n",
       "      <td>gustavo_a_madero</td>\n",
       "      <td>7_de_noviembre</td>\n",
       "      <td>53.24</td>\n",
       "      <td>631.00</td>\n",
       "      <td>42.066667</td>\n",
       "      <td>3.05</td>\n",
       "      <td>3</td>\n",
       "      <td>3.05</td>\n",
       "      <td>57250</td>\n",
       "      <td>alto</td>\n",
       "      <td>19.455260</td>\n",
       "      <td>-99.112662</td>\n",
       "    </tr>\n",
       "    <tr>\n",
       "      <th>1</th>\n",
       "      <td>0.00</td>\n",
       "      <td>2019</td>\n",
       "      <td>gustavo_a_madero</td>\n",
       "      <td>35.936667</td>\n",
       "      <td>107.81</td>\n",
       "      <td>gustavo_a_madero</td>\n",
       "      <td>7_de_noviembre</td>\n",
       "      <td>0.00</td>\n",
       "      <td>115.13</td>\n",
       "      <td>28.782500</td>\n",
       "      <td>7.32</td>\n",
       "      <td>3</td>\n",
       "      <td>7.32</td>\n",
       "      <td>57253</td>\n",
       "      <td>medio</td>\n",
       "      <td>19.455260</td>\n",
       "      <td>-99.112662</td>\n",
       "    </tr>\n",
       "    <tr>\n",
       "      <th>2</th>\n",
       "      <td>0.00</td>\n",
       "      <td>2019</td>\n",
       "      <td>gustavo_a_madero</td>\n",
       "      <td>24.586000</td>\n",
       "      <td>122.93</td>\n",
       "      <td>gustavo_a_madero</td>\n",
       "      <td>7_de_noviembre</td>\n",
       "      <td>0.00</td>\n",
       "      <td>197.96</td>\n",
       "      <td>32.993333</td>\n",
       "      <td>75.03</td>\n",
       "      <td>3</td>\n",
       "      <td>75.03</td>\n",
       "      <td>57255</td>\n",
       "      <td>popular</td>\n",
       "      <td>19.455720</td>\n",
       "      <td>-99.113582</td>\n",
       "    </tr>\n",
       "    <tr>\n",
       "      <th>3</th>\n",
       "      <td>0.00</td>\n",
       "      <td>2019</td>\n",
       "      <td>gustavo_a_madero</td>\n",
       "      <td>0.000000</td>\n",
       "      <td>0.00</td>\n",
       "      <td>gustavo_a_madero</td>\n",
       "      <td>nueva_tenochtitlan</td>\n",
       "      <td>0.00</td>\n",
       "      <td>253.53</td>\n",
       "      <td>84.510000</td>\n",
       "      <td>84.51</td>\n",
       "      <td>3</td>\n",
       "      <td>253.53</td>\n",
       "      <td>57267</td>\n",
       "      <td>bajo</td>\n",
       "      <td>19.459647</td>\n",
       "      <td>-99.104469</td>\n",
       "    </tr>\n",
       "    <tr>\n",
       "      <th>4</th>\n",
       "      <td>56.72</td>\n",
       "      <td>2019</td>\n",
       "      <td>azcapotzalco</td>\n",
       "      <td>67.436250</td>\n",
       "      <td>539.49</td>\n",
       "      <td>azcapotzalco</td>\n",
       "      <td>prohogar</td>\n",
       "      <td>56.72</td>\n",
       "      <td>839.35</td>\n",
       "      <td>76.304545</td>\n",
       "      <td>121.57</td>\n",
       "      <td>3</td>\n",
       "      <td>243.14</td>\n",
       "      <td>57330</td>\n",
       "      <td>bajo</td>\n",
       "      <td>19.474161</td>\n",
       "      <td>-99.146750</td>\n",
       "    </tr>\n",
       "  </tbody>\n",
       "</table>\n",
       "</div>"
      ],
      "text/plain": [
       "   consumo_total_mixto  anio            nomgeo  consumo_prom_dom  \\\n",
       "0               159.72  2019  gustavo_a_madero         42.566364   \n",
       "1                 0.00  2019  gustavo_a_madero         35.936667   \n",
       "2                 0.00  2019  gustavo_a_madero         24.586000   \n",
       "3                 0.00  2019  gustavo_a_madero          0.000000   \n",
       "4                56.72  2019      azcapotzalco         67.436250   \n",
       "\n",
       "   consumo_total_dom          alcaldia             colonia  \\\n",
       "0             468.23  gustavo_a_madero      7_de_noviembre   \n",
       "1             107.81  gustavo_a_madero      7_de_noviembre   \n",
       "2             122.93  gustavo_a_madero      7_de_noviembre   \n",
       "3               0.00  gustavo_a_madero  nueva_tenochtitlan   \n",
       "4             539.49      azcapotzalco            prohogar   \n",
       "\n",
       "   consumo_prom_mixto  consumo_total  consumo_prom  consumo_prom_no_dom  \\\n",
       "0               53.24         631.00     42.066667                 3.05   \n",
       "1                0.00         115.13     28.782500                 7.32   \n",
       "2                0.00         197.96     32.993333                75.03   \n",
       "3                0.00         253.53     84.510000                84.51   \n",
       "4               56.72         839.35     76.304545               121.57   \n",
       "\n",
       "   bimestre  consumo_total_no_dom    gid indice_des    latitud   longitud  \n",
       "0         3                  3.05  57250       alto  19.455260 -99.112662  \n",
       "1         3                  7.32  57253      medio  19.455260 -99.112662  \n",
       "2         3                 75.03  57255    popular  19.455720 -99.113582  \n",
       "3         3                253.53  57267       bajo  19.459647 -99.104469  \n",
       "4         3                243.14  57330       bajo  19.474161 -99.146750  "
      ]
     },
     "execution_count": 23,
     "metadata": {},
     "output_type": "execute_result"
    }
   ],
   "source": [
    "# prueba de funcion de limpieza global\n",
    "data = clean_data_from(data_path)\n",
    "data.head()"
   ]
  },
  {
   "cell_type": "markdown",
   "metadata": {},
   "source": [
    "# EXPOSICIÓN\n",
    "\n",
    "# Data Profiling"
   ]
  },
  {
   "cell_type": "markdown",
   "metadata": {},
   "source": [
    "## Errores los datos\n",
    "\n",
    "Con el objetivo de detectar posibles en los datos, se contestaron las siguientes preguntas:\n",
    "* ¿Existen consumos negativos?\n",
    "* ¿Existen valores igual a cero para el consumo?\n",
    "* ¿Existen observaciones donde la suma de los consumos no equivalga al consumo total?\n",
    "* ¿Existen observaciones donde el total de manzanas no sea la suma de los 3 tipos de manzana?\n",
    "* ¿En cuántas observaciones no coinciden los valores de `alcaldia` y `nomgeo`?"
   ]
  },
  {
   "cell_type": "markdown",
   "metadata": {},
   "source": [
    "### ¿Existen consumos negativos?"
   ]
  },
  {
   "cell_type": "code",
   "execution_count": 24,
   "metadata": {},
   "outputs": [
    {
     "name": "stdout",
     "output_type": "stream",
     "text": [
      "número de datos con valores negativos\n",
      "consumo_total_mixto: 0\n",
      "consumo_prom_mixto: 0\n",
      "consumo_total_dom: 0\n",
      "consumo_prom_dom: 0\n",
      "consumo_total_no_dom: 0\n",
      "consumo_prom_no_dom: 0\n",
      "consumo_total: 0\n",
      "consumo_prom: 0\n"
     ]
    }
   ],
   "source": [
    "consumos = ['consumo_total_mixto', 'consumo_prom_mixto', \n",
    "            'consumo_total_dom', 'consumo_prom_dom',\n",
    "            'consumo_total_no_dom', 'consumo_prom_no_dom',\n",
    "            'consumo_total', 'consumo_prom']\n",
    "\n",
    "print(\"número de datos con valores negativos\")\n",
    "for consumo in consumos:\n",
    "    print(f\"{consumo}: {len(data[data[consumo] < 0])}\")"
   ]
  },
  {
   "cell_type": "markdown",
   "metadata": {},
   "source": [
    "| Tipo de consumo               | Porcentaje |\n",
    "|-------------------------------|------------|\n",
    "| Consumo total mixto           | 0          |\n",
    "| Consumo promedio mixto        | 0          |\n",
    "| Consumo total domestico       | 0          |\n",
    "| Consumo promedio domestico    | 0          |\n",
    "| Consumo total no domestico    | 0          |\n",
    "| Consumo promedio no domestico | 0          |\n",
    "| Consumo total                 | 0          |\n",
    "| Consumo total promedio        | 0          |"
   ]
  },
  {
   "cell_type": "markdown",
   "metadata": {},
   "source": [
    "## ¿Existen valores igual a cero para el consumo?"
   ]
  },
  {
   "cell_type": "code",
   "execution_count": 25,
   "metadata": {},
   "outputs": [
    {
     "name": "stdout",
     "output_type": "stream",
     "text": [
      "porcentaje de datos con valores igual a cero\n",
      "consumo_total_mixto: 24.9\n",
      "consumo_prom_mixto: 24.9\n",
      "consumo_total_dom: 13.9\n",
      "consumo_prom_dom: 13.9\n",
      "consumo_total_no_dom: 11.4\n",
      "consumo_prom_no_dom: 11.4\n",
      "consumo_total: 3.4\n",
      "consumo_prom: 3.4\n"
     ]
    }
   ],
   "source": [
    "print(\"porcentaje de datos con valores igual a cero\")\n",
    "for consumo in consumos:\n",
    "    print(f\"{consumo}: {round(len(data[data[consumo] == 0]) / len(data[consumo]) * 100, 1)}\")"
   ]
  },
  {
   "cell_type": "markdown",
   "metadata": {},
   "source": [
    "| Tipo de consumo               | Porcentaje |\n",
    "|-------------------------------|------------|\n",
    "| Consumo total mixto           | 24.9       |\n",
    "| Consumo promedio mixto        | 24.9       |\n",
    "| Consumo total domestico       | 13.9       |\n",
    "| Consumo promedio domestico    | 13.9       |\n",
    "| Consumo total no domestico    | 11.4       |\n",
    "| Consumo promedio no domestico | 11.4       |\n",
    "| Consumo total                 | 3.4        |\n",
    "| Consumo total promedio        | 3.4        |"
   ]
  },
  {
   "cell_type": "markdown",
   "metadata": {},
   "source": [
    "Es posible verificar que para cada tipo de consumo, el número de observaciones faltantes es el mismo tanto para el dato de total como para el promedio."
   ]
  },
  {
   "cell_type": "markdown",
   "metadata": {},
   "source": [
    "## ¿Existen observaciones donde la suma de los consumos no equivalga al consumo total?\n",
    "\n",
    "Debido a que el consumo total (i.e. `consumo_total`) se calcula de la siguiente manera:\n",
    "\n",
    "$$consumo\\_total = consumo\\_total\\_domestico + consumo\\_total\\_no\\_domestico + consumo\\_total\\_mixto$$ \n",
    "\n",
    "se comprobó el número de observaciones que divergían de dicho cálculo obteniendo los siguientes resultados:"
   ]
  },
  {
   "cell_type": "code",
   "execution_count": 26,
   "metadata": {},
   "outputs": [
    {
     "data": {
      "text/plain": [
       "(62214, 17)"
      ]
     },
     "execution_count": 26,
     "metadata": {},
     "output_type": "execute_result"
    }
   ],
   "source": [
    "data_sin_na = data[data.consumo_total_mixto.notna() & data.consumo_prom_mixto.notna()\n",
    "                   & data.consumo_total_dom.notna() & data.consumo_prom_dom.notna()\n",
    "                   & data.consumo_total_no_dom.notna() & data.consumo_prom_no_dom.notna()\n",
    "                   & data.consumo_total.notna() & data.consumo_prom.notna()\n",
    "                  ]\n",
    "data_sin_na.shape"
   ]
  },
  {
   "cell_type": "markdown",
   "metadata": {},
   "source": [
    "### ¿Cúantos valores divergen al nivel de unidades?"
   ]
  },
  {
   "cell_type": "code",
   "execution_count": 27,
   "metadata": {},
   "outputs": [
    {
     "data": {
      "text/plain": [
       "0"
      ]
     },
     "execution_count": 27,
     "metadata": {},
     "output_type": "execute_result"
    }
   ],
   "source": [
    "len(data_sin_na[\n",
    "    data_sin_na.consumo_total - \n",
    "    (data_sin_na.consumo_total_dom \n",
    "     + data_sin_na.consumo_total_mixto\n",
    "     + data_sin_na.consumo_total_no_dom) > 1])"
   ]
  },
  {
   "cell_type": "markdown",
   "metadata": {},
   "source": [
    "### ¿Cúantos valores divergen al nivel de décimas?"
   ]
  },
  {
   "cell_type": "code",
   "execution_count": 28,
   "metadata": {},
   "outputs": [
    {
     "data": {
      "text/plain": [
       "6"
      ]
     },
     "execution_count": 28,
     "metadata": {},
     "output_type": "execute_result"
    }
   ],
   "source": [
    "len(data_sin_na[\n",
    "    data_sin_na.consumo_total - \n",
    "    (data_sin_na.consumo_total_dom \n",
    "     + data_sin_na.consumo_total_mixto\n",
    "     + data_sin_na.consumo_total_no_dom) > 0.1])"
   ]
  },
  {
   "cell_type": "markdown",
   "metadata": {},
   "source": [
    "### ¿Cúantos valores divergen al nivel de centésimas?"
   ]
  },
  {
   "cell_type": "code",
   "execution_count": 29,
   "metadata": {},
   "outputs": [
    {
     "data": {
      "text/plain": [
       "149"
      ]
     },
     "execution_count": 29,
     "metadata": {},
     "output_type": "execute_result"
    }
   ],
   "source": [
    "len(data_sin_na[\n",
    "    data_sin_na.consumo_total - \n",
    "    (data_sin_na.consumo_total_dom \n",
    "     + data_sin_na.consumo_total_mixto\n",
    "     + data_sin_na.consumo_total_no_dom) > 0.01])"
   ]
  },
  {
   "cell_type": "markdown",
   "metadata": {},
   "source": [
    "## ¿Existen observaciones donde el total de manzanas no sea la suma de los 3 tipos de manzana?\n",
    "\n",
    "Considerando a los consumos promedios como:\n",
    "\n",
    "$$ consumo\\_promedio = \\frac{consumo\\_total}{no\\_manzanas} $$\n",
    "\n",
    "Se comprobó que el número total de manzanas equivalga a la suma de las manzanas domésticas, no domésticas y mixtas obteniendo los siguientes resultados:"
   ]
  },
  {
   "cell_type": "code",
   "execution_count": 30,
   "metadata": {},
   "outputs": [],
   "source": [
    "manzanas = round(data_sin_na.consumo_total / data_sin_na.consumo_prom)\n",
    "manzanas_dom = round(data_sin_na.consumo_total_dom / data_sin_na.consumo_prom_dom)\n",
    "manzanas_no_dom = round(data_sin_na.consumo_total_no_dom / data_sin_na.consumo_prom_no_dom)\n",
    "manzanas_mixto = round(data_sin_na.consumo_total_mixto / data_sin_na.consumo_prom_mixto)\n",
    "\n",
    "manzanas.fillna(0, inplace=True)\n",
    "manzanas_dom.fillna(0, inplace=True)\n",
    "manzanas_no_dom.fillna(0, inplace=True)\n",
    "manzanas_mixto.fillna(0, inplace=True)"
   ]
  },
  {
   "cell_type": "code",
   "execution_count": 31,
   "metadata": {},
   "outputs": [],
   "source": [
    "manzanas_df = pd.DataFrame(data={\n",
    "    'tot': manzanas,\n",
    "    'dom': manzanas_dom,\n",
    "    'no_dom': manzanas_no_dom,\n",
    "    'mixto': manzanas_mixto\n",
    "})"
   ]
  },
  {
   "cell_type": "code",
   "execution_count": 32,
   "metadata": {},
   "outputs": [],
   "source": [
    "manzanas_df['delta'] = manzanas_df.tot - (manzanas_df.dom + manzanas_df.no_dom + manzanas_df.mixto)"
   ]
  },
  {
   "cell_type": "markdown",
   "metadata": {},
   "source": [
    "### ¿En cuántas observaciones el número de manzanas no cuadra?"
   ]
  },
  {
   "cell_type": "code",
   "execution_count": 33,
   "metadata": {},
   "outputs": [
    {
     "data": {
      "text/plain": [
       "5650"
      ]
     },
     "execution_count": 33,
     "metadata": {},
     "output_type": "execute_result"
    }
   ],
   "source": [
    "len(manzanas_df[manzanas_df.delta != 0])"
   ]
  },
  {
   "cell_type": "markdown",
   "metadata": {},
   "source": [
    "### ¿Qué porcentaje representa?"
   ]
  },
  {
   "cell_type": "code",
   "execution_count": 34,
   "metadata": {},
   "outputs": [
    {
     "name": "stdout",
     "output_type": "stream",
     "text": [
      "9.1%\n"
     ]
    }
   ],
   "source": [
    "print(f\"{round(len(manzanas_df[manzanas_df.delta != 0]) / len(manzanas_df), 3) * 100}%\")"
   ]
  },
  {
   "cell_type": "markdown",
   "metadata": {},
   "source": [
    "### ¿Cómo se distribuyen?"
   ]
  },
  {
   "cell_type": "code",
   "execution_count": 35,
   "metadata": {},
   "outputs": [
    {
     "data": {
      "text/html": [
       "<div>\n",
       "<style scoped>\n",
       "    .dataframe tbody tr th:only-of-type {\n",
       "        vertical-align: middle;\n",
       "    }\n",
       "\n",
       "    .dataframe tbody tr th {\n",
       "        vertical-align: top;\n",
       "    }\n",
       "\n",
       "    .dataframe thead th {\n",
       "        text-align: right;\n",
       "    }\n",
       "</style>\n",
       "<table border=\"1\" class=\"dataframe\">\n",
       "  <thead>\n",
       "    <tr style=\"text-align: right;\">\n",
       "      <th></th>\n",
       "      <th>diferencia</th>\n",
       "      <th>observaciones</th>\n",
       "      <th>fraccion</th>\n",
       "    </tr>\n",
       "  </thead>\n",
       "  <tbody>\n",
       "    <tr>\n",
       "      <th>0</th>\n",
       "      <td>0.0</td>\n",
       "      <td>56564</td>\n",
       "      <td>90.9</td>\n",
       "    </tr>\n",
       "    <tr>\n",
       "      <th>1</th>\n",
       "      <td>1.0</td>\n",
       "      <td>4742</td>\n",
       "      <td>7.6</td>\n",
       "    </tr>\n",
       "    <tr>\n",
       "      <th>2</th>\n",
       "      <td>2.0</td>\n",
       "      <td>707</td>\n",
       "      <td>1.1</td>\n",
       "    </tr>\n",
       "    <tr>\n",
       "      <th>3</th>\n",
       "      <td>3.0</td>\n",
       "      <td>139</td>\n",
       "      <td>0.2</td>\n",
       "    </tr>\n",
       "    <tr>\n",
       "      <th>4</th>\n",
       "      <td>4.0</td>\n",
       "      <td>34</td>\n",
       "      <td>0.1</td>\n",
       "    </tr>\n",
       "    <tr>\n",
       "      <th>5</th>\n",
       "      <td>5.0</td>\n",
       "      <td>16</td>\n",
       "      <td>0.0</td>\n",
       "    </tr>\n",
       "    <tr>\n",
       "      <th>9</th>\n",
       "      <td>6.0</td>\n",
       "      <td>1</td>\n",
       "      <td>0.0</td>\n",
       "    </tr>\n",
       "    <tr>\n",
       "      <th>6</th>\n",
       "      <td>7.0</td>\n",
       "      <td>6</td>\n",
       "      <td>0.0</td>\n",
       "    </tr>\n",
       "    <tr>\n",
       "      <th>7</th>\n",
       "      <td>8.0</td>\n",
       "      <td>3</td>\n",
       "      <td>0.0</td>\n",
       "    </tr>\n",
       "    <tr>\n",
       "      <th>8</th>\n",
       "      <td>16.0</td>\n",
       "      <td>2</td>\n",
       "      <td>0.0</td>\n",
       "    </tr>\n",
       "  </tbody>\n",
       "</table>\n",
       "</div>"
      ],
      "text/plain": [
       "   diferencia  observaciones  fraccion\n",
       "0         0.0          56564      90.9\n",
       "1         1.0           4742       7.6\n",
       "2         2.0            707       1.1\n",
       "3         3.0            139       0.2\n",
       "4         4.0             34       0.1\n",
       "5         5.0             16       0.0\n",
       "9         6.0              1       0.0\n",
       "6         7.0              6       0.0\n",
       "7         8.0              3       0.0\n",
       "8        16.0              2       0.0"
      ]
     },
     "execution_count": 35,
     "metadata": {},
     "output_type": "execute_result"
    }
   ],
   "source": [
    "conteo_deltas = manzanas_df.delta.value_counts()\n",
    "deltas_df = pd.DataFrame(data={\n",
    "    'diferencia': conteo_deltas.index,\n",
    "    'observaciones': conteo_deltas.values})\n",
    "\n",
    "deltas_df[\"fraccion\"] = round(deltas_df.observaciones / sum(deltas_df.observaciones), 3) * 100\n",
    "\n",
    "deltas_df.sort_values([\"diferencia\"])"
   ]
  },
  {
   "cell_type": "markdown",
   "metadata": {},
   "source": [
    "## Datos faltantes\n",
    "\n",
    "Con base en los resultados obtenidos del Data Profiling, generamos un cuadro que condense la información sobre las variables que contienen *missing values*. Podemos observar que estas variables se refieren a algún tipo de consumo, en específico las de consumo mixto y consumo doméstico. \n",
    "\n",
    "Dado que el resto de variables tienen información completa para el total de las observaciones, podríamos sospechar que los missing values se expliquen por manzanas donde no existe ese tipo de consumo particular."
   ]
  },
  {
   "cell_type": "code",
   "execution_count": 36,
   "metadata": {},
   "outputs": [
    {
     "data": {
      "text/html": [
       "<div>\n",
       "<style scoped>\n",
       "    .dataframe tbody tr th:only-of-type {\n",
       "        vertical-align: middle;\n",
       "    }\n",
       "\n",
       "    .dataframe tbody tr th {\n",
       "        vertical-align: top;\n",
       "    }\n",
       "\n",
       "    .dataframe thead th {\n",
       "        text-align: right;\n",
       "    }\n",
       "</style>\n",
       "<table border=\"1\" class=\"dataframe\">\n",
       "  <thead>\n",
       "    <tr style=\"text-align: right;\">\n",
       "      <th></th>\n",
       "      <th>id</th>\n",
       "      <th>variable</th>\n",
       "      <th>total</th>\n",
       "      <th>porcentaje</th>\n",
       "    </tr>\n",
       "  </thead>\n",
       "  <tbody>\n",
       "    <tr>\n",
       "      <th>0</th>\n",
       "      <td>1</td>\n",
       "      <td>consumo_total_mixto</td>\n",
       "      <td>8327</td>\n",
       "      <td>11.7</td>\n",
       "    </tr>\n",
       "    <tr>\n",
       "      <th>1</th>\n",
       "      <td>2</td>\n",
       "      <td>consumo_prom_mixto</td>\n",
       "      <td>8327</td>\n",
       "      <td>11.7</td>\n",
       "    </tr>\n",
       "    <tr>\n",
       "      <th>2</th>\n",
       "      <td>3</td>\n",
       "      <td>consumo_total_dom</td>\n",
       "      <td>4820</td>\n",
       "      <td>6.8</td>\n",
       "    </tr>\n",
       "    <tr>\n",
       "      <th>3</th>\n",
       "      <td>4</td>\n",
       "      <td>consumo_prom_dom</td>\n",
       "      <td>4820</td>\n",
       "      <td>6.8</td>\n",
       "    </tr>\n",
       "  </tbody>\n",
       "</table>\n",
       "</div>"
      ],
      "text/plain": [
       "   id             variable  total  porcentaje\n",
       "0   1  consumo_total_mixto   8327        11.7\n",
       "1   2   consumo_prom_mixto   8327        11.7\n",
       "2   3    consumo_total_dom   4820         6.8\n",
       "3   4     consumo_prom_dom   4820         6.8"
      ]
     },
     "execution_count": 36,
     "metadata": {},
     "output_type": "execute_result"
    }
   ],
   "source": [
    "mv_df = pd.DataFrame(data=[[1,'consumo_total_mixto',data['consumo_total_mixto'].isna().sum(),round(data['consumo_total_mixto'].isna().sum()/data.shape[0]*100,1)],\n",
    "                       [2,'consumo_prom_mixto',data['consumo_prom_mixto'].isna().sum(),round(data['consumo_prom_mixto'].isna().sum()/data.shape[0]*100,1)],\n",
    "                       [3,'consumo_total_dom',data['consumo_total_dom'].isna().sum(),round(data['consumo_total_dom'].isna().sum()/data.shape[0]*100,1)],\n",
    "                       [4,'consumo_prom_dom',data['consumo_prom_dom'].isna().sum(),round(data['consumo_prom_dom'].isna().sum()/data.shape[0]*100,1)]],\n",
    "                 columns=['id', 'variable', 'total', 'porcentaje'])\n",
    "mv_df       "
   ]
  },
  {
   "cell_type": "markdown",
   "metadata": {},
   "source": [
    "Recordamos que el consumo total de una manzana se compone de la suma de las tomas de agua de tipo doméstico, no doméstico y mixto.\n",
    "Esto lo podemos comprobar, y si ambas sumas son iguales, podríamos afirmar que los missing values efectivamente corresponden a manzanas donde no existen tomas de dichas características."
   ]
  },
  {
   "cell_type": "code",
   "execution_count": 37,
   "metadata": {},
   "outputs": [
    {
     "name": "stdout",
     "output_type": "stream",
     "text": [
      "120578129.0 120578129.0\n"
     ]
    }
   ],
   "source": [
    "con_tot_comp =round(data['consumo_total_mixto'].sum() + data['consumo_total_dom'].sum() + data['consumo_total_no_dom'].sum(),0)\n",
    "con_tot = round(data['consumo_total'].sum(),0)\n",
    "print(con_tot,con_tot_comp)"
   ]
  },
  {
   "cell_type": "markdown",
   "metadata": {},
   "source": [
    "Y efectivamente vemos que las sumas coinciden y que la diferencia es cero:"
   ]
  },
  {
   "cell_type": "code",
   "execution_count": 38,
   "metadata": {},
   "outputs": [
    {
     "data": {
      "text/plain": [
       "0.0"
      ]
     },
     "execution_count": 38,
     "metadata": {},
     "output_type": "execute_result"
    }
   ],
   "source": [
    "con_tot - con_tot_comp"
   ]
  },
  {
   "cell_type": "markdown",
   "metadata": {},
   "source": [
    "Grafica"
   ]
  },
  {
   "cell_type": "code",
   "execution_count": null,
   "metadata": {},
   "outputs": [],
   "source": []
  },
  {
   "cell_type": "code",
   "execution_count": null,
   "metadata": {},
   "outputs": [],
   "source": []
  },
  {
   "cell_type": "markdown",
   "metadata": {},
   "source": [
    "# Comportamiento del consumo bimestral"
   ]
  },
  {
   "cell_type": "markdown",
   "metadata": {},
   "source": [
    "Con el objetivo de detectar posibles en los datos, se contestaron las siguientes preguntas:\n",
    "\n",
    "* ¿De cuántos bimestres tenemos información?\n",
    "* ¿Cúantas observaciones se tienen por bimestre?\n",
    "* ...\n",
    "* ..."
   ]
  },
  {
   "cell_type": "markdown",
   "metadata": {},
   "source": [
    "### ¿De cuántos bimestres tenemos información?"
   ]
  },
  {
   "cell_type": "code",
   "execution_count": 39,
   "metadata": {},
   "outputs": [
    {
     "data": {
      "text/plain": [
       "3"
      ]
     },
     "execution_count": 39,
     "metadata": {},
     "output_type": "execute_result"
    }
   ],
   "source": [
    "data.bimestre.nunique()"
   ]
  },
  {
   "cell_type": "markdown",
   "metadata": {},
   "source": [
    "### ¿Cúantas observaciones se tienen por bimestre?"
   ]
  },
  {
   "cell_type": "code",
   "execution_count": 40,
   "metadata": {},
   "outputs": [
    {
     "data": {
      "text/html": [
       "<div>\n",
       "<style scoped>\n",
       "    .dataframe tbody tr th:only-of-type {\n",
       "        vertical-align: middle;\n",
       "    }\n",
       "\n",
       "    .dataframe tbody tr th {\n",
       "        vertical-align: top;\n",
       "    }\n",
       "\n",
       "    .dataframe thead th {\n",
       "        text-align: right;\n",
       "    }\n",
       "</style>\n",
       "<table border=\"1\" class=\"dataframe\">\n",
       "  <thead>\n",
       "    <tr style=\"text-align: right;\">\n",
       "      <th></th>\n",
       "      <th>bimestre</th>\n",
       "      <th>observaciones</th>\n",
       "    </tr>\n",
       "  </thead>\n",
       "  <tbody>\n",
       "    <tr>\n",
       "      <th>0</th>\n",
       "      <td>1</td>\n",
       "      <td>23338</td>\n",
       "    </tr>\n",
       "    <tr>\n",
       "      <th>1</th>\n",
       "      <td>2</td>\n",
       "      <td>23942</td>\n",
       "    </tr>\n",
       "    <tr>\n",
       "      <th>2</th>\n",
       "      <td>3</td>\n",
       "      <td>23822</td>\n",
       "    </tr>\n",
       "  </tbody>\n",
       "</table>\n",
       "</div>"
      ],
      "text/plain": [
       "   bimestre  observaciones\n",
       "0         1          23338\n",
       "1         2          23942\n",
       "2         3          23822"
      ]
     },
     "execution_count": 40,
     "metadata": {},
     "output_type": "execute_result"
    }
   ],
   "source": [
    "conteo_bimestres = data.bimestre.value_counts()\n",
    "bim_df = pd.DataFrame(data={'bimestre': conteo_bimestres.index, 'observaciones': conteo_bimestres.values})\n",
    "bim_df.sort_values(by=['bimestre'], inplace=True, ignore_index=True)\n",
    "bim_df"
   ]
  },
  {
   "cell_type": "code",
   "execution_count": null,
   "metadata": {},
   "outputs": [],
   "source": []
  },
  {
   "cell_type": "code",
   "execution_count": null,
   "metadata": {},
   "outputs": [],
   "source": []
  },
  {
   "cell_type": "code",
   "execution_count": null,
   "metadata": {},
   "outputs": [],
   "source": []
  },
  {
   "cell_type": "markdown",
   "metadata": {},
   "source": [
    "# Estudio de alcaldías y colonias de la CDMX\n",
    "\n",
    "Para analizar las colonias de la Ciudad de México se contestaron las siguientes preguntas:\n",
    "\n",
    "* ¿Cuántas alcaldías existen?\n",
    "* ¿En cuántas observaciones no coinciden los valores de `alcaldia` y `nomgeo`?\n",
    "* ¿Se tienen números de observaciones similares para cada alcadía?\n",
    "* ¿Cuántas colonias diferentes existen?\n",
    "* ¿Cuántas colonias se tienen por alcaldía?\n",
    "* ¿Coincide este dato con los datos oficiales?\n",
    "* ¿Cuantás colonias existen por índice de desarrollo?"
   ]
  },
  {
   "cell_type": "markdown",
   "metadata": {},
   "source": [
    "### ¿Cuántas alcaldías existen?"
   ]
  },
  {
   "cell_type": "code",
   "execution_count": 41,
   "metadata": {},
   "outputs": [
    {
     "name": "stdout",
     "output_type": "stream",
     "text": [
      "Existen 16 alcaldías diferentes\n"
     ]
    }
   ],
   "source": [
    "no_alcaldias = len(data.alcaldia.unique())\n",
    "print(f\"Existen {no_alcaldias} alcaldías diferentes\")"
   ]
  },
  {
   "cell_type": "code",
   "execution_count": 42,
   "metadata": {},
   "outputs": [
    {
     "name": "stdout",
     "output_type": "stream",
     "text": [
      "Existen 16 valores para 'nomgeo' diferentes\n"
     ]
    }
   ],
   "source": [
    "print(f\"Existen {len(data.nomgeo.unique())} valores para 'nomgeo' diferentes\")"
   ]
  },
  {
   "cell_type": "markdown",
   "metadata": {},
   "source": [
    "### ¿En cuántas observaciones no coinciden los valores de `alcaldia` y `nomgeo`?"
   ]
  },
  {
   "cell_type": "code",
   "execution_count": 43,
   "metadata": {},
   "outputs": [
    {
     "data": {
      "text/plain": [
       "0"
      ]
     },
     "execution_count": 43,
     "metadata": {},
     "output_type": "execute_result"
    }
   ],
   "source": [
    "len(data[data.nomgeo != data.alcaldia])"
   ]
  },
  {
   "cell_type": "markdown",
   "metadata": {},
   "source": [
    "### ¿Se tienen números de observaciones similares para cada alcadía?"
   ]
  },
  {
   "cell_type": "markdown",
   "metadata": {},
   "source": [
    "![Observaciones por alcadía](plots/colonias/barras_observaciones_alcaldia.png)"
   ]
  },
  {
   "cell_type": "markdown",
   "metadata": {},
   "source": [
    "### ¿Cuántas colonias diferentes existen?"
   ]
  },
  {
   "cell_type": "code",
   "execution_count": 44,
   "metadata": {},
   "outputs": [
    {
     "data": {
      "text/plain": [
       "1340"
      ]
     },
     "execution_count": 44,
     "metadata": {},
     "output_type": "execute_result"
    }
   ],
   "source": [
    "data.colonia.nunique()"
   ]
  },
  {
   "cell_type": "markdown",
   "metadata": {},
   "source": [
    "### ¿Cúantas colonias se tienen por alcadía?"
   ]
  },
  {
   "cell_type": "code",
   "execution_count": 45,
   "metadata": {},
   "outputs": [
    {
     "data": {
      "text/html": [
       "<div>\n",
       "<style scoped>\n",
       "    .dataframe tbody tr th:only-of-type {\n",
       "        vertical-align: middle;\n",
       "    }\n",
       "\n",
       "    .dataframe tbody tr th {\n",
       "        vertical-align: top;\n",
       "    }\n",
       "\n",
       "    .dataframe thead th {\n",
       "        text-align: right;\n",
       "    }\n",
       "</style>\n",
       "<table border=\"1\" class=\"dataframe\">\n",
       "  <thead>\n",
       "    <tr style=\"text-align: right;\">\n",
       "      <th></th>\n",
       "      <th>alcaldia</th>\n",
       "      <th>colonias</th>\n",
       "    </tr>\n",
       "  </thead>\n",
       "  <tbody>\n",
       "    <tr>\n",
       "      <th>0</th>\n",
       "      <td>alvaro_obregon</td>\n",
       "      <td>188</td>\n",
       "    </tr>\n",
       "    <tr>\n",
       "      <th>1</th>\n",
       "      <td>azcapotzalco</td>\n",
       "      <td>88</td>\n",
       "    </tr>\n",
       "    <tr>\n",
       "      <th>2</th>\n",
       "      <td>benito_juarez</td>\n",
       "      <td>53</td>\n",
       "    </tr>\n",
       "    <tr>\n",
       "      <th>3</th>\n",
       "      <td>coyoacan</td>\n",
       "      <td>96</td>\n",
       "    </tr>\n",
       "    <tr>\n",
       "      <th>4</th>\n",
       "      <td>cuajimalpa</td>\n",
       "      <td>39</td>\n",
       "    </tr>\n",
       "    <tr>\n",
       "      <th>5</th>\n",
       "      <td>cuauhtemoc</td>\n",
       "      <td>35</td>\n",
       "    </tr>\n",
       "    <tr>\n",
       "      <th>6</th>\n",
       "      <td>gustavo_a_madero</td>\n",
       "      <td>167</td>\n",
       "    </tr>\n",
       "    <tr>\n",
       "      <th>7</th>\n",
       "      <td>iztacalco</td>\n",
       "      <td>38</td>\n",
       "    </tr>\n",
       "    <tr>\n",
       "      <th>8</th>\n",
       "      <td>iztapalapa</td>\n",
       "      <td>193</td>\n",
       "    </tr>\n",
       "    <tr>\n",
       "      <th>9</th>\n",
       "      <td>magdalena_contreras</td>\n",
       "      <td>38</td>\n",
       "    </tr>\n",
       "    <tr>\n",
       "      <th>10</th>\n",
       "      <td>miguel_hidalgo</td>\n",
       "      <td>86</td>\n",
       "    </tr>\n",
       "    <tr>\n",
       "      <th>11</th>\n",
       "      <td>milpa_alta</td>\n",
       "      <td>33</td>\n",
       "    </tr>\n",
       "    <tr>\n",
       "      <th>12</th>\n",
       "      <td>tlahuac</td>\n",
       "      <td>70</td>\n",
       "    </tr>\n",
       "    <tr>\n",
       "      <th>13</th>\n",
       "      <td>tlalpan</td>\n",
       "      <td>130</td>\n",
       "    </tr>\n",
       "    <tr>\n",
       "      <th>14</th>\n",
       "      <td>venustiano_carranza</td>\n",
       "      <td>67</td>\n",
       "    </tr>\n",
       "    <tr>\n",
       "      <th>15</th>\n",
       "      <td>xochimilco</td>\n",
       "      <td>90</td>\n",
       "    </tr>\n",
       "  </tbody>\n",
       "</table>\n",
       "</div>"
      ],
      "text/plain": [
       "               alcaldia  colonias\n",
       "0        alvaro_obregon       188\n",
       "1          azcapotzalco        88\n",
       "2         benito_juarez        53\n",
       "3              coyoacan        96\n",
       "4            cuajimalpa        39\n",
       "5            cuauhtemoc        35\n",
       "6      gustavo_a_madero       167\n",
       "7             iztacalco        38\n",
       "8            iztapalapa       193\n",
       "9   magdalena_contreras        38\n",
       "10       miguel_hidalgo        86\n",
       "11           milpa_alta        33\n",
       "12              tlahuac        70\n",
       "13              tlalpan       130\n",
       "14  venustiano_carranza        67\n",
       "15           xochimilco        90"
      ]
     },
     "execution_count": 45,
     "metadata": {},
     "output_type": "execute_result"
    }
   ],
   "source": [
    "alcaldias = data.alcaldia.unique()\n",
    "perfil_colonias = {}\n",
    "\n",
    "for alcaldia in alcaldias: \n",
    "    observaciones_alcaldia = data[data.alcaldia == alcaldia]\n",
    "    no_colonias = observaciones_alcaldia.colonia.nunique()\n",
    "    perfil_colonias[alcaldia] = [no_colonias]\n",
    "\n",
    "colonias_por_alcaldia = pd.melt(pd.DataFrame(perfil_colonias), var_name=\"alcaldia\", value_name=\"colonias\")\n",
    "colonias_por_alcaldia.sort_values(by=['alcaldia'], inplace=True, ignore_index=True)\n",
    "colonias_por_alcaldia"
   ]
  },
  {
   "cell_type": "markdown",
   "metadata": {},
   "source": [
    "![Colonias por alcadía](plots/colonias/barras_colonias_alcaldia.png)"
   ]
  },
  {
   "cell_type": "markdown",
   "metadata": {},
   "source": [
    "### ¿Coincide este dato con los datos oficiales?"
   ]
  },
  {
   "cell_type": "markdown",
   "metadata": {},
   "source": [
    "Actualizando con [datos](https://datos.cdmx.gob.mx/explore/dataset/coloniascdmx/table/) reales de la CDMX:"
   ]
  },
  {
   "cell_type": "code",
   "execution_count": 46,
   "metadata": {},
   "outputs": [
    {
     "data": {
      "text/html": [
       "<div>\n",
       "<style scoped>\n",
       "    .dataframe tbody tr th:only-of-type {\n",
       "        vertical-align: middle;\n",
       "    }\n",
       "\n",
       "    .dataframe tbody tr th {\n",
       "        vertical-align: top;\n",
       "    }\n",
       "\n",
       "    .dataframe thead th {\n",
       "        text-align: right;\n",
       "    }\n",
       "</style>\n",
       "<table border=\"1\" class=\"dataframe\">\n",
       "  <thead>\n",
       "    <tr style=\"text-align: right;\">\n",
       "      <th></th>\n",
       "      <th>alcaldia</th>\n",
       "      <th>colonias</th>\n",
       "      <th>colonias_reales</th>\n",
       "      <th>fraccion</th>\n",
       "    </tr>\n",
       "  </thead>\n",
       "  <tbody>\n",
       "    <tr>\n",
       "      <th>0</th>\n",
       "      <td>alvaro_obregon</td>\n",
       "      <td>188</td>\n",
       "      <td>249</td>\n",
       "      <td>76.0</td>\n",
       "    </tr>\n",
       "    <tr>\n",
       "      <th>1</th>\n",
       "      <td>azcapotzalco</td>\n",
       "      <td>88</td>\n",
       "      <td>111</td>\n",
       "      <td>79.0</td>\n",
       "    </tr>\n",
       "    <tr>\n",
       "      <th>2</th>\n",
       "      <td>benito_juarez</td>\n",
       "      <td>53</td>\n",
       "      <td>64</td>\n",
       "      <td>83.0</td>\n",
       "    </tr>\n",
       "    <tr>\n",
       "      <th>3</th>\n",
       "      <td>coyoacan</td>\n",
       "      <td>96</td>\n",
       "      <td>153</td>\n",
       "      <td>63.0</td>\n",
       "    </tr>\n",
       "    <tr>\n",
       "      <th>4</th>\n",
       "      <td>cuajimalpa</td>\n",
       "      <td>39</td>\n",
       "      <td>43</td>\n",
       "      <td>91.0</td>\n",
       "    </tr>\n",
       "    <tr>\n",
       "      <th>5</th>\n",
       "      <td>cuauhtemoc</td>\n",
       "      <td>35</td>\n",
       "      <td>64</td>\n",
       "      <td>55.0</td>\n",
       "    </tr>\n",
       "    <tr>\n",
       "      <th>6</th>\n",
       "      <td>gustavo_a_madero</td>\n",
       "      <td>167</td>\n",
       "      <td>232</td>\n",
       "      <td>72.0</td>\n",
       "    </tr>\n",
       "    <tr>\n",
       "      <th>7</th>\n",
       "      <td>iztacalco</td>\n",
       "      <td>38</td>\n",
       "      <td>55</td>\n",
       "      <td>69.0</td>\n",
       "    </tr>\n",
       "    <tr>\n",
       "      <th>8</th>\n",
       "      <td>iztapalapa</td>\n",
       "      <td>193</td>\n",
       "      <td>293</td>\n",
       "      <td>66.0</td>\n",
       "    </tr>\n",
       "    <tr>\n",
       "      <th>9</th>\n",
       "      <td>magdalena_contreras</td>\n",
       "      <td>38</td>\n",
       "      <td>52</td>\n",
       "      <td>73.0</td>\n",
       "    </tr>\n",
       "    <tr>\n",
       "      <th>10</th>\n",
       "      <td>miguel_hidalgo</td>\n",
       "      <td>86</td>\n",
       "      <td>88</td>\n",
       "      <td>98.0</td>\n",
       "    </tr>\n",
       "    <tr>\n",
       "      <th>11</th>\n",
       "      <td>milpa_alta</td>\n",
       "      <td>33</td>\n",
       "      <td>12</td>\n",
       "      <td>275.0</td>\n",
       "    </tr>\n",
       "    <tr>\n",
       "      <th>12</th>\n",
       "      <td>tlahuac</td>\n",
       "      <td>70</td>\n",
       "      <td>58</td>\n",
       "      <td>121.0</td>\n",
       "    </tr>\n",
       "    <tr>\n",
       "      <th>13</th>\n",
       "      <td>tlalpan</td>\n",
       "      <td>130</td>\n",
       "      <td>178</td>\n",
       "      <td>73.0</td>\n",
       "    </tr>\n",
       "    <tr>\n",
       "      <th>14</th>\n",
       "      <td>venustiano_carranza</td>\n",
       "      <td>67</td>\n",
       "      <td>80</td>\n",
       "      <td>84.0</td>\n",
       "    </tr>\n",
       "    <tr>\n",
       "      <th>15</th>\n",
       "      <td>xochimilco</td>\n",
       "      <td>90</td>\n",
       "      <td>80</td>\n",
       "      <td>112.0</td>\n",
       "    </tr>\n",
       "  </tbody>\n",
       "</table>\n",
       "</div>"
      ],
      "text/plain": [
       "               alcaldia  colonias  colonias_reales  fraccion\n",
       "0        alvaro_obregon       188              249      76.0\n",
       "1          azcapotzalco        88              111      79.0\n",
       "2         benito_juarez        53               64      83.0\n",
       "3              coyoacan        96              153      63.0\n",
       "4            cuajimalpa        39               43      91.0\n",
       "5            cuauhtemoc        35               64      55.0\n",
       "6      gustavo_a_madero       167              232      72.0\n",
       "7             iztacalco        38               55      69.0\n",
       "8            iztapalapa       193              293      66.0\n",
       "9   magdalena_contreras        38               52      73.0\n",
       "10       miguel_hidalgo        86               88      98.0\n",
       "11           milpa_alta        33               12     275.0\n",
       "12              tlahuac        70               58     121.0\n",
       "13              tlalpan       130              178      73.0\n",
       "14  venustiano_carranza        67               80      84.0\n",
       "15           xochimilco        90               80     112.0"
      ]
     },
     "execution_count": 46,
     "metadata": {},
     "output_type": "execute_result"
    }
   ],
   "source": [
    "colonias_por_alcaldia['colonias_reales'] = [249, 111, 64, 153, 43, 64, 232, 55, 293, 52, 88, 12, 58, 178, 80, 80]\n",
    "colonias_por_alcaldia['fraccion'] =\\\n",
    "            round(colonias_por_alcaldia.colonias / colonias_por_alcaldia.colonias_reales, 2) * 100\n",
    "colonias_por_alcaldia"
   ]
  },
  {
   "cell_type": "markdown",
   "metadata": {},
   "source": [
    "![Comparación colonias por alcadía](plots/colonias/barras_comparacion_colonias.png)"
   ]
  },
  {
   "cell_type": "markdown",
   "metadata": {},
   "source": [
    "Existen diferencias significativas entre el número de `colonias` detectadas en los datos empleados y las `colonias_reales` reportadas en los datos oficiales de la CDMX. En el caso de tener valores inferiores, puede deberse a la falta de captura de consumos en dichos lugares. Por otro lado, existen valores superiores para algunas alcaldías como es el caso de Milpa Alta. En los datos oficiales, se reportan una sola colonia **Villa Milpa Alta**, mientras que en los datos esta se fragmenta en:"
   ]
  },
  {
   "cell_type": "code",
   "execution_count": 47,
   "metadata": {},
   "outputs": [
    {
     "data": {
      "text/plain": [
       "['pblo_villa_milpa_alta_bo_la_concepcion',\n",
       " 'pblo_villa_milpa_alta_bo_los_angeles',\n",
       " 'pblo_villa_milpa_alta_bo_santa_martha',\n",
       " 'pblo_villa_milpa_alta_bo_san_mateo',\n",
       " 'pblo_villa_milpa_alta_bo_santa_cruz',\n",
       " 'villa_milpa_alta_centro',\n",
       " 'pblo_villa_milpa_alta_bo_san_agustin',\n",
       " 'pblo_villa_milpa_alta_bo_la_luz']"
      ]
     },
     "execution_count": 47,
     "metadata": {},
     "output_type": "execute_result"
    }
   ],
   "source": [
    "colonias_milpa_alta = data[data.alcaldia == 'milpa_alta'].colonia.unique()\n",
    "[colonia for colonia in colonias_milpa_alta if 'villa_milpa_alta' in colonia]"
   ]
  },
  {
   "cell_type": "markdown",
   "metadata": {},
   "source": [
    "### ¿Cuantás colonias existen por índice de desarrollo?"
   ]
  },
  {
   "cell_type": "code",
   "execution_count": 48,
   "metadata": {},
   "outputs": [
    {
     "data": {
      "text/html": [
       "<div>\n",
       "<style scoped>\n",
       "    .dataframe tbody tr th:only-of-type {\n",
       "        vertical-align: middle;\n",
       "    }\n",
       "\n",
       "    .dataframe tbody tr th {\n",
       "        vertical-align: top;\n",
       "    }\n",
       "\n",
       "    .dataframe thead th {\n",
       "        text-align: right;\n",
       "    }\n",
       "</style>\n",
       "<table border=\"1\" class=\"dataframe\">\n",
       "  <thead>\n",
       "    <tr style=\"text-align: right;\">\n",
       "      <th></th>\n",
       "      <th>indice_des</th>\n",
       "      <th>colonias</th>\n",
       "    </tr>\n",
       "  </thead>\n",
       "  <tbody>\n",
       "    <tr>\n",
       "      <th>0</th>\n",
       "      <td>alto</td>\n",
       "      <td>512</td>\n",
       "    </tr>\n",
       "    <tr>\n",
       "      <th>1</th>\n",
       "      <td>medio</td>\n",
       "      <td>558</td>\n",
       "    </tr>\n",
       "    <tr>\n",
       "      <th>2</th>\n",
       "      <td>popular</td>\n",
       "      <td>1124</td>\n",
       "    </tr>\n",
       "    <tr>\n",
       "      <th>3</th>\n",
       "      <td>bajo</td>\n",
       "      <td>958</td>\n",
       "    </tr>\n",
       "  </tbody>\n",
       "</table>\n",
       "</div>"
      ],
      "text/plain": [
       "  indice_des  colonias\n",
       "0       alto       512\n",
       "1      medio       558\n",
       "2    popular      1124\n",
       "3       bajo       958"
      ]
     },
     "execution_count": 48,
     "metadata": {},
     "output_type": "execute_result"
    }
   ],
   "source": [
    "indices_des = data.indice_des.unique()\n",
    "perfil_indice_des = {}\n",
    "\n",
    "for indice in indices_des: \n",
    "    observaciones_indice_des = data[data.indice_des == indice]\n",
    "    no_colonias = observaciones_indice_des.colonia.nunique()\n",
    "    perfil_indice_des[indice] = [no_colonias]\n",
    "\n",
    "colonias_por_indice = pd.melt(pd.DataFrame(perfil_indice_des), var_name=\"indice_des\", value_name=\"colonias\")\n",
    "colonias_por_indice"
   ]
  },
  {
   "cell_type": "markdown",
   "metadata": {},
   "source": [
    "![Colonias por índice de desarrollo](plots/colonias/barras_colonias_indice_des.png)"
   ]
  },
  {
   "cell_type": "markdown",
   "metadata": {},
   "source": [
    "# Consumo total\n",
    "\n",
    "Por alcaldía (gráfica de barras ordenada de mayor a menor y descripción breve)"
   ]
  },
  {
   "cell_type": "code",
   "execution_count": null,
   "metadata": {},
   "outputs": [],
   "source": []
  },
  {
   "cell_type": "markdown",
   "metadata": {},
   "source": [
    "Por índice de desarrollo (boxplot y descripción breve))"
   ]
  },
  {
   "cell_type": "code",
   "execution_count": null,
   "metadata": {},
   "outputs": [],
   "source": []
  },
  {
   "cell_type": "markdown",
   "metadata": {},
   "source": [
    "Participación de cada tipo de consumo (doméstico, no doméstico y mixto) en el total (puede ser gráf o tabla)"
   ]
  },
  {
   "cell_type": "code",
   "execution_count": null,
   "metadata": {},
   "outputs": [],
   "source": []
  },
  {
   "cell_type": "markdown",
   "metadata": {},
   "source": [
    "# Consumo promedio\n",
    "\n",
    "En esta sección analizaremos el consumo promedio de las tres variables observadas para el total: consumo doméstico, no doméstico y mixto. "
   ]
  },
  {
   "cell_type": "markdown",
   "metadata": {},
   "source": [
    "### Consumo promedio doméstico por colonia. \n",
    "\n",
    "En la siguiente gráfica observamos que hay una variación considerable en el consumo doméstico por colonia. Colonias como Miguel Hidalgo o Álvaro Obregón tienen un nivel de consumo considerablemente mayor al de colonias como Tláhuac o Milpa Alta. \n",
    "\n",
    "Se decidió utilizar el promedio de los tres bimestres por fines de claridad y porque el consumo tuvo poca variación de bimestre a bimestre en cada colonia (lo cual se mostrará en la siguiente gráfica). "
   ]
  },
  {
   "cell_type": "markdown",
   "metadata": {},
   "source": [
    "![Consumo Promedio Doméstico](plots/consumo_promedio/BARRAS_PROMEDIO_DOMESTICO_V2.png)"
   ]
  },
  {
   "cell_type": "markdown",
   "metadata": {},
   "source": [
    "El conjunto de datos no presenta unidades, pero el promedio del consumo promedio doméstico por colonia es de 29.29 unidades, con una desviación estándar de 8.65 unidades, un mínimo de 14.8 (Milpa Alta) y un máximo de 43 (Miguel Hidalgo). "
   ]
  },
  {
   "cell_type": "markdown",
   "metadata": {},
   "source": [
    "### Consumo promedio no doméstico por colonia\n",
    "\n",
    "A continuación observamos la misma gráfica para el promedio del consumo no doméstico. "
   ]
  },
  {
   "cell_type": "markdown",
   "metadata": {},
   "source": [
    "![Consumo Promedio Doméstico](plots/consumo_promedio/BARRAS_PROMEDIO_NO_DOMESTICO_V2.png)"
   ]
  },
  {
   "cell_type": "markdown",
   "metadata": {},
   "source": [
    "Es interesante notar que algunas colonias, como Tlalpan o Cuauhtémoc, no son preponderantes en el consumo doméstico pero sí en el no doméstico. Esto es lo que habríamos de esperar, pues xisten zonas residenciales y zonas industriales en el país. \n",
    "\n",
    "El promedio del consumo no doméstico es de 129 unidades, más de 4 veces el promedio del consumo doméstico. La varianza es mayor en este caso: con una desviación estándar de 70 unidades, observamos colonias como Tláhuac, que cuenta con tan solo 40 unidades de consumo y colonias como Tlalpan, con 278 unidades de consumo en promedio para los tres bimestres. "
   ]
  },
  {
   "cell_type": "markdown",
   "metadata": {},
   "source": [
    "### Consumo promedio mixto por colonia. \n",
    "\n",
    "El consumo mixto está definido como aquel que ocurre en zonas donde simultáneamente se usa el agua para consumo doméstico y no doméstico. ¿Cómo se ve la distribución por colonia en en este caso? "
   ]
  },
  {
   "cell_type": "markdown",
   "metadata": {},
   "source": [
    "![Consumo Promedio Doméstico](plots/consumo_promedio/BARRAS_PROMEDIO_MIXTO_V2.png)"
   ]
  },
  {
   "cell_type": "markdown",
   "metadata": {},
   "source": [
    "En este caso, el mínimo es de 16.63 unidades y el máximo de 98.25. El promedio del consumo promedio mixto de agua es de 46 unidades. "
   ]
  },
  {
   "cell_type": "markdown",
   "metadata": {},
   "source": [
    "La siguiente tabla, que muestra el ranking de cada colonia en estos tres rubros, nos permite ver que algunas colonias, como Miguel Hidalgo o Cuajimalpa, tienen una actividad importante en estos tres campos, mientras que otras, como Milpa Alta y Tláhuac, tienen un consumo relativamente bajo. Por supuesto, existen otras, como Cuahutémoc o Tlalpan, que tienen un consumo alto en algunas categorías y bajo en otras. "
   ]
  },
  {
   "cell_type": "markdown",
   "metadata": {},
   "source": [
    "| Colonia | Ranking Doméstico | Ranking No Doméstico| Ranking Mixto |\n",
    "| --- | --- | --- | --- |\n",
    "| Miguel Hidalgo | 1| 2 |  2 |\n",
    "| Álvaro Obregón | 2| 5 |  5 |\n",
    "| La Magdalena Contreras | 3| 8 | 11 |\n",
    "| Cuajimalpa de Morelos | 4| 3 |  3 |\n",
    "| Azcapotzalco | 5| 7 |  7 |\n",
    "| Iztacalco| 6| 11 |  8 |\n",
    "| Venustiano Carranza | 7| 12 |  6 |\n",
    "| Gustavo A. Madero | 8| 10 |  9 |\n",
    "| Coyoacán | 9| 6 |  10 |\n",
    "| Tlalpan | 10| 1 |  12 |\n",
    "| Cuauhtémoc | 11| 4 |  1 |\n",
    "| Benito Juárez | 12| 9 |  4 |\n",
    "| Xochimilco | 13| 14 |  14 |\n",
    "| Iztapalapa| 14| 13 |  13 |\n",
    "| Tláhuac | 15| 16 |  15 |\n",
    "| Milpa Alta | 16| 15 |  16 |"
   ]
  },
  {
   "cell_type": "markdown",
   "metadata": {},
   "source": [
    "En la siguiente gráfica podemos también resumir la diferencia en distribuciones por estos tres tipos de consumo:"
   ]
  },
  {
   "cell_type": "markdown",
   "metadata": {},
   "source": [
    "![Consumo Promedio Doméstico](plots/consumo_promedio/COMPARACION_TRIPARTITA.png)"
   ]
  },
  {
   "cell_type": "markdown",
   "metadata": {},
   "source": [
    "En la siguiente gráfica podemos observar que el consumo promedio, tanto del sector doméstico como del no doméstico, tuvo pocos cambios de bimestre a bimestre. El consumo mixto disminuyó de 67 a 45 unidades del primer al segundo bimestre pero después se mantuvo estable."
   ]
  },
  {
   "cell_type": "markdown",
   "metadata": {},
   "source": [
    "![Consumo Promedio Doméstico](plots/consumo_promedio/COMPARACION_TRES_BIM.png)"
   ]
  },
  {
   "cell_type": "markdown",
   "metadata": {},
   "source": [
    "### Distribución del consumo promedio por índice de desarrollo."
   ]
  },
  {
   "cell_type": "markdown",
   "metadata": {},
   "source": [
    "Curiosamente, a pesar de que algunas colonias tienen un consumo mucho mayor que otras, podemos notar que sus distribuciones son relativamente similares, con un medianta cercana a las 28 unidades. Es relevante también mencionar que el sector con índice de desarrollo popular tiene una varianza mayor en su consumo promedio de agua. "
   ]
  },
  {
   "cell_type": "markdown",
   "metadata": {},
   "source": [
    "![Consumo Promedio Doméstico](plots/consumo_promedio/Domestico_DES_boxplot.png)"
   ]
  },
  {
   "cell_type": "markdown",
   "metadata": {},
   "source": [
    "Para el sector no doméstico, las distribuciones varían un poco más. Notamos que el sector con alto índice de desarrollo tiene una mediana notablemente mayor que la de los demás sectores, aunque sigue siendo cierto que el sector popular tiene mayor varianza en su consumo promedio. "
   ]
  },
  {
   "cell_type": "markdown",
   "metadata": {},
   "source": [
    "![Consumo Promedio Doméstico](plots/consumo_promedio/NO_Dom_DES_BoxPlot.png)"
   ]
  },
  {
   "cell_type": "markdown",
   "metadata": {},
   "source": [
    "Finalmente, realizamos el mismo análisis para el consumo mixto."
   ]
  },
  {
   "cell_type": "markdown",
   "metadata": {},
   "source": [
    "![Consumo Promedio Doméstico](plots/consumo_promedio/MIXTO_BOXPLOT.png)"
   ]
  },
  {
   "cell_type": "markdown",
   "metadata": {},
   "source": [
    "# Características de los datos para la definición de un modelo\n",
    "\n",
    "Argumentos: consideramos que información no es suficiente ni completa para predecir un modelo correcto. Nos gustaría contar con información adicional como número de tomas (para controlar), tarifa promedio, entre otros...\n",
    "\n",
    "Variables que nos servirían para predecir idh: consumo promedio, tipo de consumo y su proporción, ubicación (alcaldía)."
   ]
  },
  {
   "cell_type": "code",
   "execution_count": null,
   "metadata": {},
   "outputs": [],
   "source": []
  },
  {
   "cell_type": "code",
   "execution_count": null,
   "metadata": {},
   "outputs": [],
   "source": []
  }
 ],
 "metadata": {
  "kernelspec": {
   "display_name": "itam_intro_to_ds",
   "language": "python",
   "name": "itam_intro_to_ds"
  },
  "language_info": {
   "codemirror_mode": {
    "name": "ipython",
    "version": 3
   },
   "file_extension": ".py",
   "mimetype": "text/x-python",
   "name": "python",
   "nbconvert_exporter": "python",
   "pygments_lexer": "ipython3",
   "version": "3.7.4"
  }
 },
 "nbformat": 4,
 "nbformat_minor": 4
}
