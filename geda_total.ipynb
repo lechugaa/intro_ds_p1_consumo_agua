{
 "cells": [
  {
   "cell_type": "markdown",
   "metadata": {},
   "source": [
    "# Análisis Exploratorio Gráfico de los Datos del Consumo de Agua en la CDMX. "
   ]
  },
  {
   "cell_type": "markdown",
   "metadata": {},
   "source": [
    "## 1. Análisis del consumo. "
   ]
  },
  {
   "cell_type": "markdown",
   "metadata": {},
   "source": [
    "### 1.1. Análisis del consumo promedio doméstico y no doméstico"
   ]
  },
  {
   "cell_type": "markdown",
   "metadata": {},
   "source": [
    "Los datos nos brindan información acerca del consumo promedio de agua en el sector doméstico y en el no doméstico. En esta sección exploraremos brevemente cómo se distribuyen estos datos y cuáles son sus características."
   ]
  },
  {
   "cell_type": "markdown",
   "metadata": {},
   "source": [
    "### Consumo promedio doméstico. \n",
    "\n",
    "La siguiente gráfica nos permite ver la diferencia por colonia en su consumo de agua. Podemos ver que existen colonias con un nivel relativamente bajo de consumo de agua, como Milpa Alta, Tláhuac e Iztapalapa y otras con un nivel relativamente alto, como Álvaro Obregón, Miguel Hidalgo y Magdalena Contreras. El promedio es aproximadamente 30 unidades. "
   ]
  },
  {
   "cell_type": "markdown",
   "metadata": {},
   "source": [
    "![Consumo Promedio Doméstico](consumo_promedio/consumo_promedio_domestico.png)"
   ]
  },
  {
   "cell_type": "code",
   "execution_count": null,
   "metadata": {},
   "outputs": [],
   "source": []
  }
 ],
 "metadata": {
  "kernelspec": {
   "display_name": "itam_intro_to_ds",
   "language": "python",
   "name": "itam_intro_to_ds"
  },
  "language_info": {
   "codemirror_mode": {
    "name": "ipython",
    "version": 3
   },
   "file_extension": ".py",
   "mimetype": "text/x-python",
   "name": "python",
   "nbconvert_exporter": "python",
   "pygments_lexer": "ipython3",
   "version": "3.7.4"
  }
 },
 "nbformat": 4,
 "nbformat_minor": 4
}
