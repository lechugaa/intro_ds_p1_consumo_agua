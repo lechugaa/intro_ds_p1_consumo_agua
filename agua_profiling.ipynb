{
 "cells": [
  {
   "cell_type": "markdown",
   "metadata": {},
   "source": [
    "# Explorando dataset del consumo de agua. "
   ]
  },
  {
   "cell_type": "code",
   "execution_count": 47,
   "metadata": {
    "ExecuteTime": {
     "end_time": "2020-09-26T14:48:41.888489Z",
     "start_time": "2020-09-26T14:48:41.878902Z"
    }
   },
   "outputs": [
    {
     "data": {
      "text/plain": [
       "'3.7.4 (default, Sep 22 2020, 18:21:06) \\n[Clang 11.0.0 (clang-1100.0.33.17)]'"
      ]
     },
     "execution_count": 47,
     "metadata": {},
     "output_type": "execute_result"
    }
   ],
   "source": [
    "#todo chido con las versiones\n",
    "import sys\n",
    "import pandas as pd\n",
    "sys.version"
   ]
  },
  {
   "cell_type": "code",
   "execution_count": 48,
   "metadata": {
    "ExecuteTime": {
     "end_time": "2020-09-26T14:48:45.149469Z",
     "start_time": "2020-09-26T14:48:42.594881Z"
    }
   },
   "outputs": [],
   "source": [
    "data = pd.read_csv('agua/consumo-agua.csv')\n",
    "pd.set_option('display.max_columns', 20)\n",
    "pd.set_option('display.max_rows', 20)"
   ]
  },
  {
   "cell_type": "markdown",
   "metadata": {},
   "source": [
    "### ¿Cuántas variables tenemos? ¿Cuántas observaciones tenemos?"
   ]
  },
  {
   "cell_type": "code",
   "execution_count": 49,
   "metadata": {
    "ExecuteTime": {
     "end_time": "2020-09-26T14:48:45.199341Z",
     "start_time": "2020-09-26T14:48:45.153638Z"
    }
   },
   "outputs": [
    {
     "name": "stdout",
     "output_type": "stream",
     "text": [
      "Tenemos 71102 observaciones para 17 variables.\n"
     ]
    }
   ],
   "source": [
    "observaciones, variables = data.shape[0], data.shape[1]\n",
    "print(f\"Tenemos {observaciones} observaciones para {variables} variables.\")"
   ]
  },
  {
   "cell_type": "code",
   "execution_count": 50,
   "metadata": {
    "ExecuteTime": {
     "end_time": "2020-09-26T14:48:46.493140Z",
     "start_time": "2020-09-26T14:48:46.463271Z"
    }
   },
   "outputs": [
    {
     "data": {
      "text/html": [
       "<div>\n",
       "<style scoped>\n",
       "    .dataframe tbody tr th:only-of-type {\n",
       "        vertical-align: middle;\n",
       "    }\n",
       "\n",
       "    .dataframe tbody tr th {\n",
       "        vertical-align: top;\n",
       "    }\n",
       "\n",
       "    .dataframe thead th {\n",
       "        text-align: right;\n",
       "    }\n",
       "</style>\n",
       "<table border=\"1\" class=\"dataframe\">\n",
       "  <thead>\n",
       "    <tr style=\"text-align: right;\">\n",
       "      <th></th>\n",
       "      <th>Geo Point</th>\n",
       "      <th>Geo Shape</th>\n",
       "      <th>consumo_total_mixto</th>\n",
       "      <th>anio</th>\n",
       "      <th>nomgeo</th>\n",
       "      <th>consumo_prom_dom</th>\n",
       "      <th>consumo_total_dom</th>\n",
       "      <th>alcaldia</th>\n",
       "      <th>colonia</th>\n",
       "      <th>consumo_prom_mixto</th>\n",
       "      <th>consumo_total</th>\n",
       "      <th>consumo_prom</th>\n",
       "      <th>consumo_prom_no_dom</th>\n",
       "      <th>bimestre</th>\n",
       "      <th>consumo_total_no_dom</th>\n",
       "      <th>gid</th>\n",
       "      <th>indice_des</th>\n",
       "    </tr>\n",
       "  </thead>\n",
       "  <tbody>\n",
       "    <tr>\n",
       "      <th>0</th>\n",
       "      <td>19.4552601937,-99.1126617526</td>\n",
       "      <td>{\"type\": \"MultiPolygon\", \"coordinates\": [[[[-9...</td>\n",
       "      <td>159.72</td>\n",
       "      <td>2019</td>\n",
       "      <td>Gustavo A. Madero</td>\n",
       "      <td>42.566364</td>\n",
       "      <td>468.23</td>\n",
       "      <td>GUSTAVO A. MADERO</td>\n",
       "      <td>7 DE NOVIEMBRE</td>\n",
       "      <td>53.24</td>\n",
       "      <td>631.00</td>\n",
       "      <td>42.066667</td>\n",
       "      <td>3.05</td>\n",
       "      <td>3</td>\n",
       "      <td>3.05</td>\n",
       "      <td>57250</td>\n",
       "      <td>ALTO</td>\n",
       "    </tr>\n",
       "    <tr>\n",
       "      <th>1</th>\n",
       "      <td>19.4552601937,-99.1126617526</td>\n",
       "      <td>{\"type\": \"MultiPolygon\", \"coordinates\": [[[[-9...</td>\n",
       "      <td>0.00</td>\n",
       "      <td>2019</td>\n",
       "      <td>Gustavo A. Madero</td>\n",
       "      <td>35.936667</td>\n",
       "      <td>107.81</td>\n",
       "      <td>GUSTAVO A. MADERO</td>\n",
       "      <td>7 DE NOVIEMBRE</td>\n",
       "      <td>0.00</td>\n",
       "      <td>115.13</td>\n",
       "      <td>28.782500</td>\n",
       "      <td>7.32</td>\n",
       "      <td>3</td>\n",
       "      <td>7.32</td>\n",
       "      <td>57253</td>\n",
       "      <td>MEDIO</td>\n",
       "    </tr>\n",
       "    <tr>\n",
       "      <th>2</th>\n",
       "      <td>19.4557195871,-99.1135822797</td>\n",
       "      <td>{\"type\": \"MultiPolygon\", \"coordinates\": [[[[-9...</td>\n",
       "      <td>0.00</td>\n",
       "      <td>2019</td>\n",
       "      <td>Gustavo A. Madero</td>\n",
       "      <td>24.586000</td>\n",
       "      <td>122.93</td>\n",
       "      <td>GUSTAVO A. MADERO</td>\n",
       "      <td>7 DE NOVIEMBRE</td>\n",
       "      <td>0.00</td>\n",
       "      <td>197.96</td>\n",
       "      <td>32.993333</td>\n",
       "      <td>75.03</td>\n",
       "      <td>3</td>\n",
       "      <td>75.03</td>\n",
       "      <td>57255</td>\n",
       "      <td>POPULAR</td>\n",
       "    </tr>\n",
       "    <tr>\n",
       "      <th>3</th>\n",
       "      <td>19.4596467168,-99.1044693641</td>\n",
       "      <td>{\"type\": \"MultiPolygon\", \"coordinates\": [[[[-9...</td>\n",
       "      <td>0.00</td>\n",
       "      <td>2019</td>\n",
       "      <td>Gustavo A. Madero</td>\n",
       "      <td>0.000000</td>\n",
       "      <td>0.00</td>\n",
       "      <td>GUSTAVO A. MADERO</td>\n",
       "      <td>NUEVA TENOCHTITLAN</td>\n",
       "      <td>0.00</td>\n",
       "      <td>253.53</td>\n",
       "      <td>84.510000</td>\n",
       "      <td>84.51</td>\n",
       "      <td>3</td>\n",
       "      <td>253.53</td>\n",
       "      <td>57267</td>\n",
       "      <td>BAJO</td>\n",
       "    </tr>\n",
       "    <tr>\n",
       "      <th>4</th>\n",
       "      <td>19.4741606185,-99.1467497317</td>\n",
       "      <td>{\"type\": \"MultiPolygon\", \"coordinates\": [[[[-9...</td>\n",
       "      <td>56.72</td>\n",
       "      <td>2019</td>\n",
       "      <td>Azcapotzalco</td>\n",
       "      <td>67.436250</td>\n",
       "      <td>539.49</td>\n",
       "      <td>AZCAPOTZALCO</td>\n",
       "      <td>PROHOGAR</td>\n",
       "      <td>56.72</td>\n",
       "      <td>839.35</td>\n",
       "      <td>76.304545</td>\n",
       "      <td>121.57</td>\n",
       "      <td>3</td>\n",
       "      <td>243.14</td>\n",
       "      <td>57330</td>\n",
       "      <td>BAJO</td>\n",
       "    </tr>\n",
       "  </tbody>\n",
       "</table>\n",
       "</div>"
      ],
      "text/plain": [
       "                      Geo Point  \\\n",
       "0  19.4552601937,-99.1126617526   \n",
       "1  19.4552601937,-99.1126617526   \n",
       "2  19.4557195871,-99.1135822797   \n",
       "3  19.4596467168,-99.1044693641   \n",
       "4  19.4741606185,-99.1467497317   \n",
       "\n",
       "                                           Geo Shape  consumo_total_mixto  \\\n",
       "0  {\"type\": \"MultiPolygon\", \"coordinates\": [[[[-9...               159.72   \n",
       "1  {\"type\": \"MultiPolygon\", \"coordinates\": [[[[-9...                 0.00   \n",
       "2  {\"type\": \"MultiPolygon\", \"coordinates\": [[[[-9...                 0.00   \n",
       "3  {\"type\": \"MultiPolygon\", \"coordinates\": [[[[-9...                 0.00   \n",
       "4  {\"type\": \"MultiPolygon\", \"coordinates\": [[[[-9...                56.72   \n",
       "\n",
       "   anio             nomgeo  consumo_prom_dom  consumo_total_dom  \\\n",
       "0  2019  Gustavo A. Madero         42.566364             468.23   \n",
       "1  2019  Gustavo A. Madero         35.936667             107.81   \n",
       "2  2019  Gustavo A. Madero         24.586000             122.93   \n",
       "3  2019  Gustavo A. Madero          0.000000               0.00   \n",
       "4  2019       Azcapotzalco         67.436250             539.49   \n",
       "\n",
       "            alcaldia             colonia  consumo_prom_mixto  consumo_total  \\\n",
       "0  GUSTAVO A. MADERO      7 DE NOVIEMBRE               53.24         631.00   \n",
       "1  GUSTAVO A. MADERO      7 DE NOVIEMBRE                0.00         115.13   \n",
       "2  GUSTAVO A. MADERO      7 DE NOVIEMBRE                0.00         197.96   \n",
       "3  GUSTAVO A. MADERO  NUEVA TENOCHTITLAN                0.00         253.53   \n",
       "4       AZCAPOTZALCO            PROHOGAR               56.72         839.35   \n",
       "\n",
       "   consumo_prom  consumo_prom_no_dom  bimestre  consumo_total_no_dom    gid  \\\n",
       "0     42.066667                 3.05         3                  3.05  57250   \n",
       "1     28.782500                 7.32         3                  7.32  57253   \n",
       "2     32.993333                75.03         3                 75.03  57255   \n",
       "3     84.510000                84.51         3                253.53  57267   \n",
       "4     76.304545               121.57         3                243.14  57330   \n",
       "\n",
       "  indice_des  \n",
       "0       ALTO  \n",
       "1      MEDIO  \n",
       "2    POPULAR  \n",
       "3       BAJO  \n",
       "4       BAJO  "
      ]
     },
     "execution_count": 50,
     "metadata": {},
     "output_type": "execute_result"
    }
   ],
   "source": [
    "data.head()"
   ]
  },
  {
   "cell_type": "markdown",
   "metadata": {
    "ExecuteTime": {
     "end_time": "2020-09-23T00:10:41.521339Z",
     "start_time": "2020-09-23T00:10:41.247035Z"
    }
   },
   "source": [
    "### ¿Cuántas observaciones únicas tenemos por variables? \n"
   ]
  },
  {
   "cell_type": "code",
   "execution_count": 51,
   "metadata": {
    "ExecuteTime": {
     "end_time": "2020-09-26T14:48:54.740543Z",
     "start_time": "2020-09-26T14:48:54.515951Z"
    }
   },
   "outputs": [
    {
     "data": {
      "text/plain": [
       "Geo Point               22930\n",
       "Geo Shape               22922\n",
       "consumo_total_mixto     24339\n",
       "anio                        1\n",
       "nomgeo                     17\n",
       "consumo_prom_dom        52060\n",
       "consumo_total_dom       47051\n",
       "alcaldia                   16\n",
       "colonia                  1340\n",
       "consumo_prom_mixto      31911\n",
       "consumo_total           56015\n",
       "consumo_prom            62214\n",
       "consumo_prom_no_dom     37440\n",
       "bimestre                    3\n",
       "consumo_total_no_dom    27336\n",
       "gid                     71102\n",
       "indice_des                  4\n",
       "dtype: int64"
      ]
     },
     "execution_count": 51,
     "metadata": {},
     "output_type": "execute_result"
    }
   ],
   "source": [
    "data.nunique()"
   ]
  },
  {
   "cell_type": "markdown",
   "metadata": {
    "ExecuteTime": {
     "end_time": "2020-09-26T14:07:23.736161Z",
     "start_time": "2020-09-26T14:07:23.730022Z"
    }
   },
   "source": [
    "### ¿Cuántas variables numéricas tenemos? "
   ]
  },
  {
   "cell_type": "code",
   "execution_count": 52,
   "metadata": {
    "ExecuteTime": {
     "end_time": "2020-09-26T14:48:56.318064Z",
     "start_time": "2020-09-26T14:48:56.307448Z"
    }
   },
   "outputs": [
    {
     "data": {
      "text/plain": [
       "Geo Point                object\n",
       "Geo Shape                object\n",
       "consumo_total_mixto     float64\n",
       "anio                      int64\n",
       "nomgeo                   object\n",
       "consumo_prom_dom        float64\n",
       "consumo_total_dom       float64\n",
       "alcaldia                 object\n",
       "colonia                  object\n",
       "consumo_prom_mixto      float64\n",
       "consumo_total           float64\n",
       "consumo_prom            float64\n",
       "consumo_prom_no_dom     float64\n",
       "bimestre                  int64\n",
       "consumo_total_no_dom    float64\n",
       "gid                       int64\n",
       "indice_des               object\n",
       "dtype: object"
      ]
     },
     "execution_count": 52,
     "metadata": {},
     "output_type": "execute_result"
    }
   ],
   "source": [
    "#podemos ver todos los tipos de variables\n",
    "data.dtypes"
   ]
  },
  {
   "cell_type": "code",
   "execution_count": 53,
   "metadata": {
    "ExecuteTime": {
     "end_time": "2020-09-26T14:48:57.130535Z",
     "start_time": "2020-09-26T14:48:57.110401Z"
    }
   },
   "outputs": [
    {
     "name": "stdout",
     "output_type": "stream",
     "text": [
      "Tenemos 11 variables numéricas.\n"
     ]
    }
   ],
   "source": [
    "numeric = [e for e in data.dtypes.values if e == \"float64\" or e == \"int64\"]\n",
    "print(f\"Tenemos {len(numeric)} variables numéricas.\")"
   ]
  },
  {
   "cell_type": "markdown",
   "metadata": {
    "ExecuteTime": {
     "end_time": "2020-09-23T00:14:02.970915Z",
     "start_time": "2020-09-23T00:14:02.959823Z"
    }
   },
   "source": [
    "### ¿Cuántas variables de fecha tenemos? \n",
    "\n",
    "Ninguna. Se puede ver en la impresión de dtypes. La variable \"anio\" indica el año, pero eso no es suficiente para ser una fecha (no califica como date, time o datetime). "
   ]
  },
  {
   "cell_type": "markdown",
   "metadata": {},
   "source": [
    "### ¿Cuántas variables categóricas tenemos? \n",
    "\n",
    "Las siguientes pueden ser consideradas variables categóricas: nomgeo, alcaldia, colonia, e indice_des. Bimestre fue contada como numérica, pero es cierto que puede ser analizada como categórica, al igual que año (dado que solo hay cifras para 2019). Por lo tanto, tenemos entre 4 y 6 variables categóricas, dependiendo de si tomamos a bimestre y año como categórica o no.  "
   ]
  },
  {
   "cell_type": "markdown",
   "metadata": {
    "ExecuteTime": {
     "end_time": "2020-09-26T14:11:24.508617Z",
     "start_time": "2020-09-26T14:11:24.476394Z"
    }
   },
   "source": [
    "### ¿Cuántas variables de texto tenemos? \n",
    "\n",
    "Aunque nomgeo, alcaldia, colonia e indice_des son texto, no contienen como tal texto a analizar (como palabras u oraciones). Diríamos que son categóricas."
   ]
  },
  {
   "cell_type": "markdown",
   "metadata": {},
   "source": [
    "### Genera el profiling de cada variable. "
   ]
  },
  {
   "cell_type": "markdown",
   "metadata": {},
   "source": [
    "### ¿Qué conocemos ahora de este set de datos por variable?"
   ]
  },
  {
   "cell_type": "markdown",
   "metadata": {},
   "source": [
    "Geo point indica la latitud y longitud de la colonia. \n",
    "Geo shape es un diccionario con información geográfica. \n",
    "Nomgeo y alcaldía son equivalentes (e indican el nombre de la alcaldía). Hay 16 distintos. \n",
    "\n",
    "Colonia indica el nombre de la colonia.\n",
    "Anio indica el año, y solo hay datos para 2019.\n",
    "Bimestre indica el bimestre del año, y solo hay datos para el bimestre 1, 2 y 3. "
   ]
  },
  {
   "cell_type": "markdown",
   "metadata": {
    "ExecuteTime": {
     "end_time": "2020-09-26T14:14:39.398975Z",
     "start_time": "2020-09-26T14:14:39.396187Z"
    }
   },
   "source": [
    "### ¿Cuántas alcaldías tienes? ¿Cuántos nomgeo tienes? ¿Identificas algún error? "
   ]
  },
  {
   "cell_type": "code",
   "execution_count": 54,
   "metadata": {
    "ExecuteTime": {
     "end_time": "2020-09-26T14:49:01.737544Z",
     "start_time": "2020-09-26T14:49:01.709930Z"
    }
   },
   "outputs": [
    {
     "name": "stdout",
     "output_type": "stream",
     "text": [
      "16\n",
      "17\n"
     ]
    }
   ],
   "source": [
    "print(len(data.alcaldia.unique())) #alcaldías distintas\n",
    "print(len(data.nomgeo.unique()))#nomgeo distintos "
   ]
  },
  {
   "cell_type": "markdown",
   "metadata": {
    "ExecuteTime": {
     "end_time": "2020-09-23T00:21:31.057913Z",
     "start_time": "2020-09-23T00:21:31.029327Z"
    }
   },
   "source": [
    "Sí el error está en la variable nomgeo: se registró \"Talpan\" en vez de \"Tlalpan\". "
   ]
  },
  {
   "cell_type": "code",
   "execution_count": 55,
   "metadata": {
    "ExecuteTime": {
     "end_time": "2020-09-26T14:49:03.005512Z",
     "start_time": "2020-09-26T14:49:02.968747Z"
    }
   },
   "outputs": [
    {
     "data": {
      "text/plain": [
       "['Talpan', 'Tlalpan']"
      ]
     },
     "execution_count": 55,
     "metadata": {},
     "output_type": "execute_result"
    }
   ],
   "source": [
    "[e for e in data.nomgeo.unique() if e.endswith('pan')]"
   ]
  },
  {
   "cell_type": "markdown",
   "metadata": {},
   "source": [
    "### Transgormar el nombre de las columnas a formato estándar: minúsculas, sin espacios en blanco (cambiar por guiones bajos), sin signos de puntuación.  "
   ]
  },
  {
   "cell_type": "code",
   "execution_count": 56,
   "metadata": {
    "ExecuteTime": {
     "end_time": "2020-09-26T14:50:04.647754Z",
     "start_time": "2020-09-26T14:50:04.573048Z"
    }
   },
   "outputs": [
    {
     "data": {
      "text/html": [
       "<div>\n",
       "<style scoped>\n",
       "    .dataframe tbody tr th:only-of-type {\n",
       "        vertical-align: middle;\n",
       "    }\n",
       "\n",
       "    .dataframe tbody tr th {\n",
       "        vertical-align: top;\n",
       "    }\n",
       "\n",
       "    .dataframe thead th {\n",
       "        text-align: right;\n",
       "    }\n",
       "</style>\n",
       "<table border=\"1\" class=\"dataframe\">\n",
       "  <thead>\n",
       "    <tr style=\"text-align: right;\">\n",
       "      <th></th>\n",
       "      <th>geo_point</th>\n",
       "      <th>geo_shape</th>\n",
       "      <th>consumo_total_mixto</th>\n",
       "      <th>anio</th>\n",
       "      <th>nomgeo</th>\n",
       "      <th>consumo_prom_dom</th>\n",
       "      <th>consumo_total_dom</th>\n",
       "      <th>alcaldia</th>\n",
       "      <th>colonia</th>\n",
       "      <th>consumo_prom_mixto</th>\n",
       "      <th>consumo_total</th>\n",
       "      <th>consumo_prom</th>\n",
       "      <th>consumo_prom_no_dom</th>\n",
       "      <th>bimestre</th>\n",
       "      <th>consumo_total_no_dom</th>\n",
       "      <th>gid</th>\n",
       "      <th>indice_des</th>\n",
       "    </tr>\n",
       "  </thead>\n",
       "  <tbody>\n",
       "    <tr>\n",
       "      <th>0</th>\n",
       "      <td>19.4552601937,-99.1126617526</td>\n",
       "      <td>{\"type\": \"MultiPolygon\", \"coordinates\": [[[[-9...</td>\n",
       "      <td>159.72</td>\n",
       "      <td>2019</td>\n",
       "      <td>Gustavo A. Madero</td>\n",
       "      <td>42.566364</td>\n",
       "      <td>468.23</td>\n",
       "      <td>GUSTAVO A. MADERO</td>\n",
       "      <td>7 DE NOVIEMBRE</td>\n",
       "      <td>53.24</td>\n",
       "      <td>631.00</td>\n",
       "      <td>42.066667</td>\n",
       "      <td>3.05</td>\n",
       "      <td>3</td>\n",
       "      <td>3.05</td>\n",
       "      <td>57250</td>\n",
       "      <td>ALTO</td>\n",
       "    </tr>\n",
       "    <tr>\n",
       "      <th>1</th>\n",
       "      <td>19.4552601937,-99.1126617526</td>\n",
       "      <td>{\"type\": \"MultiPolygon\", \"coordinates\": [[[[-9...</td>\n",
       "      <td>0.00</td>\n",
       "      <td>2019</td>\n",
       "      <td>Gustavo A. Madero</td>\n",
       "      <td>35.936667</td>\n",
       "      <td>107.81</td>\n",
       "      <td>GUSTAVO A. MADERO</td>\n",
       "      <td>7 DE NOVIEMBRE</td>\n",
       "      <td>0.00</td>\n",
       "      <td>115.13</td>\n",
       "      <td>28.782500</td>\n",
       "      <td>7.32</td>\n",
       "      <td>3</td>\n",
       "      <td>7.32</td>\n",
       "      <td>57253</td>\n",
       "      <td>MEDIO</td>\n",
       "    </tr>\n",
       "    <tr>\n",
       "      <th>2</th>\n",
       "      <td>19.4557195871,-99.1135822797</td>\n",
       "      <td>{\"type\": \"MultiPolygon\", \"coordinates\": [[[[-9...</td>\n",
       "      <td>0.00</td>\n",
       "      <td>2019</td>\n",
       "      <td>Gustavo A. Madero</td>\n",
       "      <td>24.586000</td>\n",
       "      <td>122.93</td>\n",
       "      <td>GUSTAVO A. MADERO</td>\n",
       "      <td>7 DE NOVIEMBRE</td>\n",
       "      <td>0.00</td>\n",
       "      <td>197.96</td>\n",
       "      <td>32.993333</td>\n",
       "      <td>75.03</td>\n",
       "      <td>3</td>\n",
       "      <td>75.03</td>\n",
       "      <td>57255</td>\n",
       "      <td>POPULAR</td>\n",
       "    </tr>\n",
       "    <tr>\n",
       "      <th>3</th>\n",
       "      <td>19.4596467168,-99.1044693641</td>\n",
       "      <td>{\"type\": \"MultiPolygon\", \"coordinates\": [[[[-9...</td>\n",
       "      <td>0.00</td>\n",
       "      <td>2019</td>\n",
       "      <td>Gustavo A. Madero</td>\n",
       "      <td>0.000000</td>\n",
       "      <td>0.00</td>\n",
       "      <td>GUSTAVO A. MADERO</td>\n",
       "      <td>NUEVA TENOCHTITLAN</td>\n",
       "      <td>0.00</td>\n",
       "      <td>253.53</td>\n",
       "      <td>84.510000</td>\n",
       "      <td>84.51</td>\n",
       "      <td>3</td>\n",
       "      <td>253.53</td>\n",
       "      <td>57267</td>\n",
       "      <td>BAJO</td>\n",
       "    </tr>\n",
       "    <tr>\n",
       "      <th>4</th>\n",
       "      <td>19.4741606185,-99.1467497317</td>\n",
       "      <td>{\"type\": \"MultiPolygon\", \"coordinates\": [[[[-9...</td>\n",
       "      <td>56.72</td>\n",
       "      <td>2019</td>\n",
       "      <td>Azcapotzalco</td>\n",
       "      <td>67.436250</td>\n",
       "      <td>539.49</td>\n",
       "      <td>AZCAPOTZALCO</td>\n",
       "      <td>PROHOGAR</td>\n",
       "      <td>56.72</td>\n",
       "      <td>839.35</td>\n",
       "      <td>76.304545</td>\n",
       "      <td>121.57</td>\n",
       "      <td>3</td>\n",
       "      <td>243.14</td>\n",
       "      <td>57330</td>\n",
       "      <td>BAJO</td>\n",
       "    </tr>\n",
       "  </tbody>\n",
       "</table>\n",
       "</div>"
      ],
      "text/plain": [
       "                      geo_point  \\\n",
       "0  19.4552601937,-99.1126617526   \n",
       "1  19.4552601937,-99.1126617526   \n",
       "2  19.4557195871,-99.1135822797   \n",
       "3  19.4596467168,-99.1044693641   \n",
       "4  19.4741606185,-99.1467497317   \n",
       "\n",
       "                                           geo_shape  consumo_total_mixto  \\\n",
       "0  {\"type\": \"MultiPolygon\", \"coordinates\": [[[[-9...               159.72   \n",
       "1  {\"type\": \"MultiPolygon\", \"coordinates\": [[[[-9...                 0.00   \n",
       "2  {\"type\": \"MultiPolygon\", \"coordinates\": [[[[-9...                 0.00   \n",
       "3  {\"type\": \"MultiPolygon\", \"coordinates\": [[[[-9...                 0.00   \n",
       "4  {\"type\": \"MultiPolygon\", \"coordinates\": [[[[-9...                56.72   \n",
       "\n",
       "   anio             nomgeo  consumo_prom_dom  consumo_total_dom  \\\n",
       "0  2019  Gustavo A. Madero         42.566364             468.23   \n",
       "1  2019  Gustavo A. Madero         35.936667             107.81   \n",
       "2  2019  Gustavo A. Madero         24.586000             122.93   \n",
       "3  2019  Gustavo A. Madero          0.000000               0.00   \n",
       "4  2019       Azcapotzalco         67.436250             539.49   \n",
       "\n",
       "            alcaldia             colonia  consumo_prom_mixto  consumo_total  \\\n",
       "0  GUSTAVO A. MADERO      7 DE NOVIEMBRE               53.24         631.00   \n",
       "1  GUSTAVO A. MADERO      7 DE NOVIEMBRE                0.00         115.13   \n",
       "2  GUSTAVO A. MADERO      7 DE NOVIEMBRE                0.00         197.96   \n",
       "3  GUSTAVO A. MADERO  NUEVA TENOCHTITLAN                0.00         253.53   \n",
       "4       AZCAPOTZALCO            PROHOGAR               56.72         839.35   \n",
       "\n",
       "   consumo_prom  consumo_prom_no_dom  bimestre  consumo_total_no_dom    gid  \\\n",
       "0     42.066667                 3.05         3                  3.05  57250   \n",
       "1     28.782500                 7.32         3                  7.32  57253   \n",
       "2     32.993333                75.03         3                 75.03  57255   \n",
       "3     84.510000                84.51         3                253.53  57267   \n",
       "4     76.304545               121.57         3                243.14  57330   \n",
       "\n",
       "  indice_des  \n",
       "0       ALTO  \n",
       "1      MEDIO  \n",
       "2    POPULAR  \n",
       "3       BAJO  \n",
       "4       BAJO  "
      ]
     },
     "execution_count": 56,
     "metadata": {},
     "output_type": "execute_result"
    }
   ],
   "source": [
    "data.columns = data.columns.str.lower().str.replace(\" \", \"_\")\n",
    "data.head()"
   ]
  },
  {
   "cell_type": "markdown",
   "metadata": {},
   "source": [
    "### Agregar la variable latitud y longitud generadas a partir de geopoint. Pasar la variable latitud y longitud a numérica si no la tomó como numérica."
   ]
  },
  {
   "cell_type": "code",
   "execution_count": 41,
   "metadata": {
    "ExecuteTime": {
     "end_time": "2020-09-26T14:26:22.124185Z",
     "start_time": "2020-09-26T14:26:21.987530Z"
    }
   },
   "outputs": [
    {
     "data": {
      "text/plain": [
       "Geo Point                object\n",
       "Geo Shape                object\n",
       "consumo_total_mixto     float64\n",
       "anio                      int64\n",
       "nomgeo                   object\n",
       "consumo_prom_dom        float64\n",
       "consumo_total_dom       float64\n",
       "alcaldia                 object\n",
       "colonia                  object\n",
       "consumo_prom_mixto      float64\n",
       "consumo_total           float64\n",
       "consumo_prom            float64\n",
       "consumo_prom_no_dom     float64\n",
       "bimestre                  int64\n",
       "consumo_total_no_dom    float64\n",
       "gid                       int64\n",
       "indice_des               object\n",
       "latitud                 float64\n",
       "longitud                float64\n",
       "dtype: object"
      ]
     },
     "execution_count": 41,
     "metadata": {},
     "output_type": "execute_result"
    }
   ],
   "source": [
    "#sin lo de \"float\" lo toma como \"object\"\n",
    "latitud = [float(e.split(\",\")[0]) for e in data[\"Geo Point\"]] \n",
    "longitud = [float(e.split(\",\")[1]) for e in data[\"Geo Point\"]]\n",
    " \n",
    "data[\"latitud\"] = latitud \n",
    "data[\"longitud\"] = longitud\n",
    "\n",
    "data.dtypes"
   ]
  },
  {
   "cell_type": "markdown",
   "metadata": {},
   "source": [
    "### Eliminar la columna geo_poiny y geo_shape. "
   ]
  },
  {
   "cell_type": "code",
   "execution_count": 42,
   "metadata": {
    "ExecuteTime": {
     "end_time": "2020-09-26T14:26:57.332954Z",
     "start_time": "2020-09-26T14:26:57.273171Z"
    }
   },
   "outputs": [
    {
     "data": {
      "text/html": [
       "<div>\n",
       "<style scoped>\n",
       "    .dataframe tbody tr th:only-of-type {\n",
       "        vertical-align: middle;\n",
       "    }\n",
       "\n",
       "    .dataframe tbody tr th {\n",
       "        vertical-align: top;\n",
       "    }\n",
       "\n",
       "    .dataframe thead th {\n",
       "        text-align: right;\n",
       "    }\n",
       "</style>\n",
       "<table border=\"1\" class=\"dataframe\">\n",
       "  <thead>\n",
       "    <tr style=\"text-align: right;\">\n",
       "      <th></th>\n",
       "      <th>consumo_total_mixto</th>\n",
       "      <th>anio</th>\n",
       "      <th>nomgeo</th>\n",
       "      <th>consumo_prom_dom</th>\n",
       "      <th>consumo_total_dom</th>\n",
       "      <th>alcaldia</th>\n",
       "      <th>colonia</th>\n",
       "      <th>consumo_prom_mixto</th>\n",
       "      <th>consumo_total</th>\n",
       "      <th>consumo_prom</th>\n",
       "      <th>consumo_prom_no_dom</th>\n",
       "      <th>bimestre</th>\n",
       "      <th>consumo_total_no_dom</th>\n",
       "      <th>gid</th>\n",
       "      <th>indice_des</th>\n",
       "      <th>latitud</th>\n",
       "      <th>longitud</th>\n",
       "    </tr>\n",
       "  </thead>\n",
       "  <tbody>\n",
       "    <tr>\n",
       "      <th>0</th>\n",
       "      <td>159.72</td>\n",
       "      <td>2019</td>\n",
       "      <td>gustavo_a_madero</td>\n",
       "      <td>42.566364</td>\n",
       "      <td>468.23</td>\n",
       "      <td>gustavo_a_madero</td>\n",
       "      <td>7_de_noviembre</td>\n",
       "      <td>53.24</td>\n",
       "      <td>631.00</td>\n",
       "      <td>42.066667</td>\n",
       "      <td>3.05</td>\n",
       "      <td>3</td>\n",
       "      <td>3.05</td>\n",
       "      <td>57250</td>\n",
       "      <td>alto</td>\n",
       "      <td>19.455260</td>\n",
       "      <td>-99.112662</td>\n",
       "    </tr>\n",
       "    <tr>\n",
       "      <th>1</th>\n",
       "      <td>0.00</td>\n",
       "      <td>2019</td>\n",
       "      <td>gustavo_a_madero</td>\n",
       "      <td>35.936667</td>\n",
       "      <td>107.81</td>\n",
       "      <td>gustavo_a_madero</td>\n",
       "      <td>7_de_noviembre</td>\n",
       "      <td>0.00</td>\n",
       "      <td>115.13</td>\n",
       "      <td>28.782500</td>\n",
       "      <td>7.32</td>\n",
       "      <td>3</td>\n",
       "      <td>7.32</td>\n",
       "      <td>57253</td>\n",
       "      <td>medio</td>\n",
       "      <td>19.455260</td>\n",
       "      <td>-99.112662</td>\n",
       "    </tr>\n",
       "    <tr>\n",
       "      <th>2</th>\n",
       "      <td>0.00</td>\n",
       "      <td>2019</td>\n",
       "      <td>gustavo_a_madero</td>\n",
       "      <td>24.586000</td>\n",
       "      <td>122.93</td>\n",
       "      <td>gustavo_a_madero</td>\n",
       "      <td>7_de_noviembre</td>\n",
       "      <td>0.00</td>\n",
       "      <td>197.96</td>\n",
       "      <td>32.993333</td>\n",
       "      <td>75.03</td>\n",
       "      <td>3</td>\n",
       "      <td>75.03</td>\n",
       "      <td>57255</td>\n",
       "      <td>popular</td>\n",
       "      <td>19.455720</td>\n",
       "      <td>-99.113582</td>\n",
       "    </tr>\n",
       "    <tr>\n",
       "      <th>3</th>\n",
       "      <td>0.00</td>\n",
       "      <td>2019</td>\n",
       "      <td>gustavo_a_madero</td>\n",
       "      <td>0.000000</td>\n",
       "      <td>0.00</td>\n",
       "      <td>gustavo_a_madero</td>\n",
       "      <td>nueva_tenochtitlan</td>\n",
       "      <td>0.00</td>\n",
       "      <td>253.53</td>\n",
       "      <td>84.510000</td>\n",
       "      <td>84.51</td>\n",
       "      <td>3</td>\n",
       "      <td>253.53</td>\n",
       "      <td>57267</td>\n",
       "      <td>bajo</td>\n",
       "      <td>19.459647</td>\n",
       "      <td>-99.104469</td>\n",
       "    </tr>\n",
       "    <tr>\n",
       "      <th>4</th>\n",
       "      <td>56.72</td>\n",
       "      <td>2019</td>\n",
       "      <td>azcapotzalco</td>\n",
       "      <td>67.436250</td>\n",
       "      <td>539.49</td>\n",
       "      <td>azcapotzalco</td>\n",
       "      <td>prohogar</td>\n",
       "      <td>56.72</td>\n",
       "      <td>839.35</td>\n",
       "      <td>76.304545</td>\n",
       "      <td>121.57</td>\n",
       "      <td>3</td>\n",
       "      <td>243.14</td>\n",
       "      <td>57330</td>\n",
       "      <td>bajo</td>\n",
       "      <td>19.474161</td>\n",
       "      <td>-99.146750</td>\n",
       "    </tr>\n",
       "  </tbody>\n",
       "</table>\n",
       "</div>"
      ],
      "text/plain": [
       "   consumo_total_mixto  anio            nomgeo  consumo_prom_dom  \\\n",
       "0               159.72  2019  gustavo_a_madero         42.566364   \n",
       "1                 0.00  2019  gustavo_a_madero         35.936667   \n",
       "2                 0.00  2019  gustavo_a_madero         24.586000   \n",
       "3                 0.00  2019  gustavo_a_madero          0.000000   \n",
       "4                56.72  2019      azcapotzalco         67.436250   \n",
       "\n",
       "   consumo_total_dom          alcaldia             colonia  \\\n",
       "0             468.23  gustavo_a_madero      7_de_noviembre   \n",
       "1             107.81  gustavo_a_madero      7_de_noviembre   \n",
       "2             122.93  gustavo_a_madero      7_de_noviembre   \n",
       "3               0.00  gustavo_a_madero  nueva_tenochtitlan   \n",
       "4             539.49      azcapotzalco            prohogar   \n",
       "\n",
       "   consumo_prom_mixto  consumo_total  consumo_prom  consumo_prom_no_dom  \\\n",
       "0               53.24         631.00     42.066667                 3.05   \n",
       "1                0.00         115.13     28.782500                 7.32   \n",
       "2                0.00         197.96     32.993333                75.03   \n",
       "3                0.00         253.53     84.510000                84.51   \n",
       "4               56.72         839.35     76.304545               121.57   \n",
       "\n",
       "   bimestre  consumo_total_no_dom    gid indice_des    latitud   longitud  \n",
       "0         3                  3.05  57250       alto  19.455260 -99.112662  \n",
       "1         3                  7.32  57253      medio  19.455260 -99.112662  \n",
       "2         3                 75.03  57255    popular  19.455720 -99.113582  \n",
       "3         3                253.53  57267       bajo  19.459647 -99.104469  \n",
       "4         3                243.14  57330       bajo  19.474161 -99.146750  "
      ]
     },
     "execution_count": 42,
     "metadata": {},
     "output_type": "execute_result"
    }
   ],
   "source": [
    "data.drop(columns = [\"Geo Point\", \"Geo Shape\"], inplace = True)\n",
    "data.head()"
   ]
  },
  {
   "cell_type": "markdown",
   "metadata": {},
   "source": [
    "### Cambiar a minúsculas las columnas alcaldía, colonia e indice_des."
   ]
  },
  {
   "cell_type": "code",
   "execution_count": 58,
   "metadata": {
    "ExecuteTime": {
     "end_time": "2020-09-26T14:52:25.811640Z",
     "start_time": "2020-09-26T14:52:25.641502Z"
    }
   },
   "outputs": [],
   "source": [
    "col_text = [\"alcaldia\", \"colonia\", \"indice_des\"]\n",
    "for col in col_text:\n",
    "    data[col] = data[col].apply(lambda x: x.lower().replace(\" \", \"_\").replace(\".\", \"\"))"
   ]
  },
  {
   "cell_type": "markdown",
   "metadata": {},
   "source": [
    "### Volver a correr el proceso de identificación de variables numéricas, categóricas, de texto y fechas. \n",
    "\n",
    "Variables numéricas: consumo_total_mixto, anio (de nuevo, que puede ser contada como categórica), consumo_promo_dom, consumo_total_dom, consumo_prom_mixto, consumo_total, consumo_prom, consumo_prom_no_dom, consumo_total_no_dom, gid. Una vez más, bimestre puede ser o no contada como numérica. \n",
    "\n",
    "Variables de fecha: ninguna. \n",
    "\n",
    "Variables de texto: latitud y longitud son texto para pandas, aunque en realidad son coordenadas. No hay variables que contengan texto a analizar. \n",
    "\n",
    "Variables categóricas: nomgeo, alcaldia, colonia, indices_des y bimestre. "
   ]
  },
  {
   "cell_type": "markdown",
   "metadata": {},
   "source": [
    "### Genera el data profiling por variable. "
   ]
  },
  {
   "cell_type": "code",
   "execution_count": 43,
   "metadata": {
    "ExecuteTime": {
     "end_time": "2020-09-26T14:28:24.828976Z",
     "start_time": "2020-09-26T14:28:24.826043Z"
    }
   },
   "outputs": [],
   "source": []
  },
  {
   "cell_type": "markdown",
   "metadata": {
    "ExecuteTime": {
     "end_time": "2020-09-23T01:01:57.083168Z",
     "start_time": "2020-09-23T01:01:56.996835Z"
    }
   },
   "source": [
    "#### Nota para el equipo: La siguiente función realiza toda la preparación de los datos. "
   ]
  },
  {
   "cell_type": "code",
   "execution_count": 59,
   "metadata": {
    "ExecuteTime": {
     "end_time": "2020-09-26T14:52:39.228206Z",
     "start_time": "2020-09-26T14:52:39.215318Z"
    }
   },
   "outputs": [],
   "source": [
    "def clean_data(path):\n",
    "    \"\"\"\n",
    "    Función para realizar todas las transformaciones necesarias requeridas al \n",
    "    dataset del consumo de agua. \n",
    "    \n",
    "    Inputs:\n",
    "    -------\n",
    "    \n",
    "    path: str\n",
    "          El path en tu compu donde está el archivo csv. (\"/Users/etc/etc..\")\n",
    "    \n",
    "    Returns:\n",
    "    --------\n",
    "    \n",
    "    data: pandas dataframe\n",
    "          Un dataframe en el formato correcto\n",
    "    \n",
    "    \"\"\"\n",
    "    #1. cargar la info y arreglar nombres de columnas\n",
    "    data = pd.read_csv(path)\n",
    "    data.columns = data.columns.str.lower().str.replace(\" \", \"_\")\n",
    "    \n",
    "    #2. Transformar alcaldia, colonia e indice_des\n",
    "    col_text = [\"alcaldia\", \"colonia\", \"indice_des\"]\n",
    "    for col in col_text:\n",
    "        data[col] = data[col].apply(lambda x: x.lower().replace(\" \", \"_\").replace(\".\", \"\"))\n",
    "    \n",
    "    #3. Agregar latitud y longitud en formato numérico\n",
    "    latitud = [float(e.split(\",\")[0]) for e in data[\"Geo Point\"]] \n",
    "    longitud = [float(e.split(\",\")[1]) for e in data[\"Geo Point\"]]\n",
    "    data[\"latitud\"] = latitud \n",
    "    data[\"longitud\"] = longitud\n",
    "    \n",
    "    #4. Tirar variables irrelevantes\n",
    "    data.drop(columns = [\"Geo Point\", \"Geo Shape\"], inplace = True)\n",
    "    \n",
    "    return data"
   ]
  },
  {
   "cell_type": "code",
   "execution_count": null,
   "metadata": {},
   "outputs": [],
   "source": [
    "#por si hacemos análisis después\n",
    "#data.groupby([\"nomgeo\"]).agg({\"consumo_prom_dom\" : \"mean\"})"
   ]
  }
 ],
 "metadata": {
  "kernelspec": {
   "display_name": "itam_intro_to_ds",
   "language": "python",
   "name": "itam_intro_to_ds"
  },
  "language_info": {
   "codemirror_mode": {
    "name": "ipython",
    "version": 3
   },
   "file_extension": ".py",
   "mimetype": "text/x-python",
   "name": "python",
   "nbconvert_exporter": "python",
   "pygments_lexer": "ipython3",
   "version": "3.7.4"
  }
 },
 "nbformat": 4,
 "nbformat_minor": 4
}
